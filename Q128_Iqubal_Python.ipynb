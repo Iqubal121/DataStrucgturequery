{
  "nbformat": 4,
  "nbformat_minor": 0,
  "metadata": {
    "colab": {
      "provenance": []
    },
    "kernelspec": {
      "name": "python3",
      "display_name": "Python 3"
    },
    "language_info": {
      "name": "python"
    }
  },
  "cells": [
    {
      "cell_type": "code",
      "execution_count": 5,
      "metadata": {
        "colab": {
          "base_uri": "https://localhost:8080/"
        },
        "id": "6AAOu3VJ-X5E",
        "outputId": "8525236c-805d-4f54-e3a9-98fd500ca798"
      },
      "outputs": [
        {
          "name": "stdout",
          "output_type": "stream",
          "text": [
            "2\n",
            "20\n"
          ]
        },
        {
          "output_type": "execute_result",
          "data": {
            "text/plain": [
              "2"
            ]
          },
          "metadata": {},
          "execution_count": 5
        }
      ],
      "source": [
        "import math \n",
        "def sol(x,y):\n",
        "  count = 0\n",
        "  while (x<=y):\n",
        "    new_x = math.ceil(math.sqrt(x))\n",
        "    new_y = math.floor(math.sqrt(y))\n",
        "    if ((new_x == x) and (new_y == y)):\n",
        "      break\n",
        "    x = new_x\n",
        "    y = new_y\n",
        "    if x <= y:\n",
        "      count += 1\n",
        "  return count\n",
        "\n",
        "# driver code:\n",
        "x = int(input())\n",
        "y = int(input())\n",
        "\n",
        "sol(x,y)"
      ]
    },
    {
      "cell_type": "code",
      "source": [],
      "metadata": {
        "id": "u_HkpnBxDEDA"
      },
      "execution_count": null,
      "outputs": []
    }
  ]
}