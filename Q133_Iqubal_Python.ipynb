{
  "nbformat": 4,
  "nbformat_minor": 0,
  "metadata": {
    "colab": {
      "provenance": []
    },
    "kernelspec": {
      "name": "python3",
      "display_name": "Python 3"
    },
    "language_info": {
      "name": "python"
    }
  },
  "cells": [
    {
      "cell_type": "code",
      "execution_count": 13,
      "metadata": {
        "colab": {
          "base_uri": "https://localhost:8080/"
        },
        "id": "5riN2u11Boo9",
        "outputId": "2515644b-d35c-4575-ae57-32c5015f8498"
      },
      "outputs": [
        {
          "output_type": "execute_result",
          "data": {
            "text/plain": [
              "-60"
            ]
          },
          "metadata": {},
          "execution_count": 13
        }
      ],
      "source": []
    },
    {
      "cell_type": "code",
      "source": [
        "#133\n",
        "class Solution :\n",
        "    def  fun(self, arr,  dates) :\n",
        "        deduct_score = [0] * (12)\n",
        "\n",
        "        earn_score = [0] * (12)\n",
        "\n",
        "        count = [0] * (12)\n",
        "        # performace per months\n",
        "        for i in range(12) :\n",
        "            deduct_score[i] = 0\n",
        "            earn_score[i] = 0\n",
        "            count[i] = 0\n",
        "\n",
        "        for i in range(len(arr)):\n",
        "            date = dates[i].split(\"/\",3)\n",
        "            year = int(date[0])\n",
        "            month = int(date[1])\n",
        "            if (year == 2021) :\n",
        "                if (arr[i] < 0) :\n",
        "                    deduct_score[month - 1] -= arr[i]\n",
        "                    count[month - 1] += 1\n",
        "                else :\n",
        "                    earn_score[month - 1] += arr[i]\n",
        "        # Empty account at the beginning of the year \n",
        "        score = 0\n",
        "        i = 0\n",
        "        while (i < 12) :\n",
        "            score += earn_score[i] - deduct_score[i]\n",
        "            if (count[i] < 3 or deduct_score[i] < 100) :\n",
        "                # if <3 deduct_scores or <100 total cost\n",
        "                score -= 5\n",
        "            i += 1\n",
        "        return score\n",
        "\n",
        "# Driver code:\n",
        "arr = [150,120,100, -10,-56,78]\n",
        "dates = [\"2021/03/31\", \"2021/01/26\", \"2021/03/21\",\"2021/03/11\", \"2021/03/12\", \"2021/05/21\"]\n",
        "\n",
        "sl = Solution()\n",
        "sl.fun(arr,dates)"
      ],
      "metadata": {
        "colab": {
          "base_uri": "https://localhost:8080/"
        },
        "id": "pcCeXGO-G2lI",
        "outputId": "df73c2a5-5aa7-45af-9761-5bd2ed5998a9"
      },
      "execution_count": 6,
      "outputs": [
        {
          "output_type": "execute_result",
          "data": {
            "text/plain": [
              "322"
            ]
          },
          "metadata": {},
          "execution_count": 6
        }
      ]
    },
    {
      "cell_type": "code",
      "source": [],
      "metadata": {
        "id": "C9d8faUFJjSb"
      },
      "execution_count": null,
      "outputs": []
    },
    {
      "cell_type": "code",
      "source": [],
      "metadata": {
        "id": "mUa_84PwKP94"
      },
      "execution_count": null,
      "outputs": []
    }
  ]
}