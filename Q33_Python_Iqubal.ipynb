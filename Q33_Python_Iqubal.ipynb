{
  "nbformat": 4,
  "nbformat_minor": 0,
  "metadata": {
    "colab": {
      "provenance": []
    },
    "kernelspec": {
      "name": "python3",
      "display_name": "Python 3"
    },
    "language_info": {
      "name": "python"
    }
  },
  "cells": [
    {
      "cell_type": "code",
      "execution_count": 5,
      "metadata": {
        "colab": {
          "base_uri": "https://localhost:8080/"
        },
        "id": "GVkXbwSeIu4Q",
        "outputId": "9d1a8b7d-7b41-47a2-8b19-195448f4322b"
      },
      "outputs": [
        {
          "output_type": "execute_result",
          "data": {
            "text/plain": [
              "12"
            ]
          },
          "metadata": {},
          "execution_count": 5
        }
      ],
      "source": [
        "class Solution:\n",
        "  def maximumEarn(self,startTime,endTime,price):\n",
        "    intervals = [(startTime[i], endTime[i], price[i]) for i in range(len(startTime))]\n",
        "    intervals.sort(key=lambda x: x[1])\n",
        "    \n",
        "    dp = [[0,0]]\n",
        "    \n",
        "    for s , e ,p in intervals:\n",
        "        idx = self.bisect_left(dp, s)\n",
        "        \n",
        "        # price increase from previous price\n",
        "        if p + dp[idx][1] > dp[-1][1]:\n",
        "            dp.append([e, p+dp[idx][1]])\n",
        "\n",
        "\n",
        "    return dp[-1][1]\n",
        "    \n",
        "  def bisect_left(self, arr, target):\n",
        "      # use binary search to find largest index of 1st tuple element smaller than target \n",
        "      start, end = 0, len(arr)\n",
        "      while start < end:\n",
        "          mid = (start+end)//2\n",
        "          \n",
        "          if target < arr[mid][0]:\n",
        "              end = mid\n",
        "          else:\n",
        "              start = mid+1\n",
        "              \n",
        "      return start-1\n",
        "\n",
        "# Drive code:\n",
        "sl = Solution()\n",
        "startTime = [1,2,3,3]\n",
        "endTime = [3,4,5,6]\n",
        "price =  [5,1,4,7]\n",
        "sl.maximumEarn(startTime,endTime,price)\n",
        "\n",
        "\n",
        "\n"
      ]
    },
    {
      "cell_type": "code",
      "source": [],
      "metadata": {
        "id": "A8K5znn-Oi9Y"
      },
      "execution_count": null,
      "outputs": []
    }
  ]
}