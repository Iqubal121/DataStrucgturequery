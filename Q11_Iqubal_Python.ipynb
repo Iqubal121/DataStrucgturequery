{
  "nbformat": 4,
  "nbformat_minor": 0,
  "metadata": {
    "colab": {
      "provenance": []
    },
    "kernelspec": {
      "name": "python3",
      "display_name": "Python 3"
    },
    "language_info": {
      "name": "python"
    }
  },
  "cells": [
    {
      "cell_type": "code",
      "source": [
        "num = int(input(\"Number of Emp: \"))\n",
        "\n",
        "empDetails = {} # \n",
        "\n",
        "for _ in range(num): # _ as a variable.\n",
        "  empName , *line = input().split() # *line unpacking operatior: imran 56 78 54 34\n",
        "  scores = list(map(float, line))\n",
        "  empDetails[empName] = scores\n",
        "\n",
        "# Take the employee name from the user to get the average.\n",
        "Name_of_Emp = input(\"Name of the emp to get performance average: \")\n",
        "\n",
        "result = list(empDetails[Name_of_Emp])\n",
        "\n",
        "# find the average:\n",
        "avg = sum(result)/len(result)# [34 56 86 43]\n",
        "\n",
        "print(\"%.2f\"%avg)"
      ],
      "metadata": {
        "colab": {
          "base_uri": "https://localhost:8080/"
        },
        "id": "OR-QwT_3G6L8",
        "outputId": "f7b0307b-8481-4bea-f09e-e12f16e98b49"
      },
      "execution_count": null,
      "outputs": [
        {
          "output_type": "stream",
          "name": "stdout",
          "text": [
            "Number of Emp: 2\n",
            "imran 56 78 65 64\n",
            "sweety 67 98 64 90\n",
            "Name of the emp to get performance averagesweety\n",
            "79.75\n"
          ]
        }
      ]
    },
    {
      "cell_type": "code",
      "source": [],
      "metadata": {
        "id": "0H8B7kjCI2xo"
      },
      "execution_count": null,
      "outputs": []
    }
  ]
}