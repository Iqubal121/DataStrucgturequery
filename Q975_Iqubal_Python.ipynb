{
  "nbformat": 4,
  "nbformat_minor": 0,
  "metadata": {
    "colab": {
      "provenance": []
    },
    "kernelspec": {
      "name": "python3",
      "display_name": "Python 3"
    },
    "language_info": {
      "name": "python"
    }
  },
  "cells": [
    {
      "cell_type": "code",
      "execution_count": 10,
      "metadata": {
        "colab": {
          "base_uri": "https://localhost:8080/"
        },
        "id": "8tM-PeJdrQJG",
        "outputId": "ce4baf13-3033-4331-ab9a-2d767eb58e50"
      },
      "outputs": [
        {
          "output_type": "execute_result",
          "data": {
            "text/plain": [
              "7"
            ]
          },
          "metadata": {},
          "execution_count": 10
        }
      ],
      "source": [
        "7# 975\n",
        "class Solution :\n",
        "    # stores days for each month\n",
        "    daysPerMonth = [31, 28, 31, 30, 31, 30, 31, 31, 30, 31, 30, 31]\n",
        "    # stores months\n",
        "    months = [\"January\", \"February\", \"March\", \"April\", \"May\", \"June\", \"July\", \"August\", \"September\", \"October\", \"November\", \"December\"]\n",
        "    # stores days\n",
        "    days = [\"Monday\", \"Tuesday\", \"Wednesday\", \"Thursday\", \"Friday\", \"Saturday\", \"Sunday\"]\n",
        "\n",
        "    def  isLeapYear(self, Y) :\n",
        "        return Y % 4 == 0\n",
        "    # getting the index of the day at a given day\n",
        "    def  getDayIndex(self, day) :\n",
        "        i = 0\n",
        "        while (i < len(self.days)) :\n",
        "            if (self.days[i]==day) :\n",
        "                return i\n",
        "            i += 1\n",
        "        return -1\n",
        "\n",
        "    # getting the index of the month at a given month\n",
        "    def  getMonthIndex(self, month) :\n",
        "        i = 0\n",
        "        while (i < len(self.months)) :\n",
        "            if (self.months[i]==month) :\n",
        "                return i\n",
        "            i += 1\n",
        "        return -1\n",
        "\n",
        "    # getting the day index provided the index of the first day of january, the index of the month,\n",
        "    # and the day of that month\n",
        "\n",
        "    def  getDayOfGivenMonth(self, firstDayOfJanuary,  monthIndex,  day) :\n",
        "        firstDayIndex = self.getDayIndex(firstDayOfJanuary)\n",
        "        totalDays = 0\n",
        "        i = 0\n",
        "        while (i < monthIndex) :\n",
        "            totalDays += self.daysPerMonth[i]\n",
        "            i += 1\n",
        "        return (firstDayIndex + (totalDays - 1) % 7 + day) % 7\n",
        "\n",
        "    #    Main driver function that gives how many weeks can john have vacation\n",
        "    #    Y -> the year (always between 2001 and 2099)\n",
        "    #    A -> starting month\n",
        "    #    B -> ending month\n",
        "    #    W -> the day on the January 1 of the year\n",
        "    def  solution(self, Y,  A,  B,  W) :\n",
        "        # we check if the year is leap year or not\n",
        "        if (self.isLeapYear(Y)) :\n",
        "            self.daysPerMonth[1] = 29\n",
        "        #        Now we need to calculate the total days between a vacation\n",
        "        # getting the index of the starting month\n",
        "        startingMonthIndex = self.getMonthIndex(A)\n",
        "\n",
        "        # getting the index of the last month\n",
        "        endingMonthIndex = self.getMonthIndex(B)\n",
        "\n",
        "        # if ending month is less than starting month return -1\n",
        "        if (endingMonthIndex < startingMonthIndex) :\n",
        "            return -1\n",
        "        # else we calculate the total days within the month\n",
        "        totalDays = 0\n",
        "        i = startingMonthIndex\n",
        "        while (i <= endingMonthIndex) :\n",
        "            totalDays += self.daysPerMonth[i]\n",
        "            i += 1\n",
        "\n",
        "        # next we calculate the index first day of the starting month\n",
        "        firstDayOfTheMonth = self.getDayOfGivenMonth(W, startingMonthIndex, 1)\n",
        "\n",
        "        # next we get the first monday of the starting month\n",
        "        nextMondayIndex = firstDayOfTheMonth + (7 - firstDayOfTheMonth) % 7\n",
        "\n",
        "        # we subtract the total days between first day and first monday from the total amount of days\n",
        "        # calculated\n",
        "        totalDays -= (nextMondayIndex - 1)\n",
        "        # finally returning total number of weeks spent for vacation\n",
        "        return int(totalDays / 7)\n",
        "# Driver code:\n",
        "sl = Solution()\n",
        "sl.solution(2022,\"June\",\"July\",\"Saturday\")"
      ]
    },
    {
      "cell_type": "code",
      "source": [
        "_1st"
      ],
      "metadata": {
        "id": "Ckc5EHSjyp6k"
      },
      "execution_count": null,
      "outputs": []
    }
  ]
}