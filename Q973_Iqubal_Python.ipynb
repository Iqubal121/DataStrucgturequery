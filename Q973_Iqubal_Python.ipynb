{
  "nbformat": 4,
  "nbformat_minor": 0,
  "metadata": {
    "colab": {
      "provenance": []
    },
    "kernelspec": {
      "name": "python3",
      "display_name": "Python 3"
    },
    "language_info": {
      "name": "python"
    }
  },
  "cells": [
    {
      "cell_type": "code",
      "execution_count": 4,
      "metadata": {
        "colab": {
          "base_uri": "https://localhost:8080/"
        },
        "id": "AECcrbFTVueL",
        "outputId": "e7f95a70-8955-40a0-b2a0-186751309706"
      },
      "outputs": [
        {
          "name": "stdout",
          "output_type": "stream",
          "text": [
            "1\n",
            "100\n"
          ]
        },
        {
          "output_type": "execute_result",
          "data": {
            "text/plain": [
              "10"
            ]
          },
          "metadata": {},
          "execution_count": 4
        }
      ],
      "source": [
        "def perfectSquare(X,Y):\n",
        "  count = 0\n",
        "  for i in range(X,Y+1):\n",
        "\n",
        "    j = 1\n",
        "    for j in range(j**2,i+1):\n",
        "      if (j**2) == i:\n",
        "        count += 1\n",
        "        #print(j**2)\n",
        "        break\n",
        "  return count\n",
        "# Driver code:\n",
        "X = int(input())\n",
        "Y = int(input())\n",
        "\n",
        "# call the function:\n",
        "perfectSquare(X,Y)"
      ]
    },
    {
      "cell_type": "code",
      "source": [
        "1099"
      ],
      "metadata": {
        "id": "P72VV9ppZ2fH"
      },
      "execution_count": null,
      "outputs": []
    }
  ]
}