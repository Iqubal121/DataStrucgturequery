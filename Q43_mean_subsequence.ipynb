{
  "nbformat": 4,
  "nbformat_minor": 0,
  "metadata": {
    "colab": {
      "provenance": []
    },
    "kernelspec": {
      "name": "python3",
      "display_name": "Python 3"
    },
    "language_info": {
      "name": "python"
    }
  },
  "cells": [
    {
      "cell_type": "code",
      "execution_count": 9,
      "metadata": {
        "colab": {
          "base_uri": "https://localhost:8080/"
        },
        "id": "OX_oWs7v9PWt",
        "outputId": "2aeca378-4da6-4713-cf8c-8327b22260ae"
      },
      "outputs": [
        {
          "output_type": "stream",
          "name": "stdout",
          "text": [
            "3\n",
            "3 4 5\n",
            "4\n",
            "[[], [3], [4], [4, 3], [5], [5, 3], [5, 4], [5, 4, 3]]\n"
          ]
        },
        {
          "output_type": "execute_result",
          "data": {
            "text/plain": [
              "3"
            ]
          },
          "metadata": {},
          "execution_count": 9
        }
      ],
      "source": [
        "def meanEqual(arr,k):\n",
        "  result = 0 # for storing the number of subarry which average is equals to int k\n",
        "  li = [[]] # 2d array for storing the sub arrays\n",
        "  \n",
        "  for num in arr:\n",
        "    lis = len(li)\n",
        "    for i in range(lis):\n",
        "      sub = li[i]\n",
        "\n",
        "      # check the mean:\n",
        "      temp = [num] + sub \n",
        "      if temp != [] and sum(temp)/len(temp) == k:\n",
        "        result += 1\n",
        "      \n",
        "      # Update the li\n",
        "      li.append([num]+sub)\n",
        "  print(li)\n",
        "  return result\n",
        "\n",
        "\n",
        "# Driver code:\n",
        "n = int(input())\n",
        "arr = list(map(int,input().strip().split()))[:n]\n",
        "k = int(input())\n",
        "\n",
        "# call the function:\n",
        "meanEqual(arr,k)\n"
      ]
    },
    {
      "cell_type": "code",
      "source": [
        "4"
      ],
      "metadata": {
        "id": "H9dBkEXKSs6x"
      },
      "execution_count": 3,
      "outputs": []
    }
  ]
}