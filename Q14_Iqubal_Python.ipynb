{
  "nbformat": 4,
  "nbformat_minor": 0,
  "metadata": {
    "colab": {
      "provenance": []
    },
    "kernelspec": {
      "name": "python3",
      "display_name": "Python 3"
    },
    "language_info": {
      "name": "python"
    }
  },
  "cells": [
    {
      "cell_type": "code",
      "execution_count": 1,
      "metadata": {
        "colab": {
          "base_uri": "https://localhost:8080/"
        },
        "id": "O7lLwkiogcQx",
        "outputId": "9d6f5e93-ee6b-4186-f215-dac562511ee0"
      },
      "outputs": [
        {
          "output_type": "stream",
          "name": "stdout",
          "text": [
            "Enter the string for swapping: hEllo\n",
            "HeLLO\n"
          ]
        }
      ],
      "source": [
        "# 1st way:\n",
        "def conCase(string):\n",
        "  result = string.swapcase() # inbuilt method used to convert the case of the letter\n",
        "  return result\n",
        "\n",
        "string = input(\"Enter the string for swapping: \")\n",
        "result = conCase(string)\n",
        "print(result)"
      ]
    },
    {
      "cell_type": "code",
      "source": [
        "# 2 way (boolean):\n",
        "def conCase(string):\n",
        "  output = \"\"\n",
        "  for i in string:\n",
        "    if i.isupper() == True:\n",
        "      output += (i.lower())\n",
        "    else:\n",
        "      output += (i.upper())\n",
        "  return output\n",
        "\n",
        "  \n",
        "string = input(\"Enter the string for swapping: \")\n",
        "result = conCase(string)\n",
        "print(result) "
      ],
      "metadata": {
        "colab": {
          "base_uri": "https://localhost:8080/"
        },
        "id": "rZ3XfWzUh_zX",
        "outputId": "646f603d-0659-467f-904d-26416902aaf2"
      },
      "execution_count": 2,
      "outputs": [
        {
          "output_type": "stream",
          "name": "stdout",
          "text": [
            "Enter the string for swapping: Imran iS a gOOd MAN \n",
            "iMRAN Is A GooD man \n"
          ]
        }
      ]
    },
    {
      "cell_type": "code",
      "source": [
        "# 3rd way: (list)\n",
        "def conCase(string):\n",
        "  result = [] \n",
        "  for i in string:\n",
        "    if i == i.upper():\n",
        "      result.append(i.lower())\n",
        "    elif i == i.lower():\n",
        "      result.append(i.upper())\n",
        "    else:\n",
        "      result.append(i)\n",
        "  return \"\".join(result) # \n",
        "  \n",
        "string = input(\"Enter the string for swapping: \")\n",
        "result = conCase(string)\n",
        "print(result)"
      ],
      "metadata": {
        "colab": {
          "base_uri": "https://localhost:8080/"
        },
        "id": "DRJp8oSEi6ax",
        "outputId": "ad0e3c9a-bb9e-4a4b-90b0-722a006b4371"
      },
      "execution_count": 3,
      "outputs": [
        {
          "output_type": "stream",
          "name": "stdout",
          "text": [
            "Enter the string for swapping: Imran IS A GOOD Man\n",
            "iMRAN is a good mAN\n"
          ]
        }
      ]
    },
    {
      "cell_type": "code",
      "source": [],
      "metadata": {
        "id": "7lvjthxXj6OL"
      },
      "execution_count": null,
      "outputs": []
    }
  ]
}