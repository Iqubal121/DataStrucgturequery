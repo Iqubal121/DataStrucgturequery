{
  "nbformat": 4,
  "nbformat_minor": 0,
  "metadata": {
    "colab": {
      "provenance": []
    },
    "kernelspec": {
      "name": "python3",
      "display_name": "Python 3"
    },
    "language_info": {
      "name": "python"
    }
  },
  "cells": [
    {
      "cell_type": "code",
      "execution_count": 2,
      "metadata": {
        "colab": {
          "base_uri": "https://localhost:8080/"
        },
        "id": "TMwwEBu_jLkx",
        "outputId": "81b99288-d82d-4a6c-a538-e4f7662a2083"
      },
      "outputs": [
        {
          "name": "stdout",
          "output_type": "stream",
          "text": [
            "7\n",
            "3 4 5 7 9 8 6\n"
          ]
        },
        {
          "output_type": "execute_result",
          "data": {
            "text/plain": [
              "18"
            ]
          },
          "metadata": {},
          "execution_count": 2
        }
      ],
      "source": [
        "def sumofInt(arr):\n",
        "  ans = 0 # for storing the addtion of the element which is multiples by 3\n",
        "\n",
        "  for i in arr:\n",
        "    if i % 3 == 0:\n",
        "      ans += i\n",
        "  return ans\n",
        "\n",
        "# driver code:\n",
        "n = int(input())\n",
        "arr = list(map(int,input().strip().split()))[:n]\n",
        "\n",
        "# call the function:\n",
        "sumofInt(arr)"
      ]
    },
    {
      "cell_type": "code",
      "source": [],
      "metadata": {
        "id": "o39VpwrRmYu5"
      },
      "execution_count": null,
      "outputs": []
    }
  ]
}