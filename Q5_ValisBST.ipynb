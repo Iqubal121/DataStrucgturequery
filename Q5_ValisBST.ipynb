{
  "nbformat": 4,
  "nbformat_minor": 0,
  "metadata": {
    "colab": {
      "provenance": []
    },
    "kernelspec": {
      "name": "python3",
      "display_name": "Python 3"
    },
    "language_info": {
      "name": "python"
    }
  },
  "cells": [
    {
      "cell_type": "code",
      "execution_count": 2,
      "metadata": {
        "colab": {
          "base_uri": "https://localhost:8080/",
          "height": 70
        },
        "id": "ogcJ5OLbm5Di",
        "outputId": "a24b3e8d-f757-41be-c198-8dd2d41f6bcd"
      },
      "outputs": [
        {
          "name": "stdout",
          "output_type": "stream",
          "text": [
            "7\n",
            "6 4 2 5 8 7 9\n"
          ]
        },
        {
          "output_type": "execute_result",
          "data": {
            "text/plain": [
              "'YES'"
            ],
            "application/vnd.google.colaboratory.intrinsic+json": {
              "type": "string"
            }
          },
          "metadata": {},
          "execution_count": 2
        }
      ],
      "source": [
        "def validBst(arr):\n",
        "  stack = [] # check each node from the array\n",
        "\n",
        "  root = -1\n",
        "\n",
        "  for i in arr:\n",
        "    if i < root:\n",
        "      return \"NO\"\n",
        "    while stack and stack[-1] < i:\n",
        "      root = stack.pop()\n",
        "    stack.append(i)\n",
        "  return \"YES\"\n",
        "\n",
        "# Driver code:\n",
        "n = int(input())\n",
        "\n",
        "arr = list(map(int, input().strip().split()))[:n]\n",
        "\n",
        "# call the function:\n",
        "validBst(arr)"
      ]
    },
    {
      "cell_type": "code",
      "source": [],
      "metadata": {
        "id": "LrPFMciJq1RC"
      },
      "execution_count": null,
      "outputs": []
    }
  ]
}