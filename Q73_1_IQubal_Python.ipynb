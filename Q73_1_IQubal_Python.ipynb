{
  "nbformat": 4,
  "nbformat_minor": 0,
  "metadata": {
    "colab": {
      "provenance": []
    },
    "kernelspec": {
      "name": "python3",
      "display_name": "Python 3"
    },
    "language_info": {
      "name": "python"
    }
  },
  "cells": [
    {
      "cell_type": "code",
      "execution_count": 4,
      "metadata": {
        "colab": {
          "base_uri": "https://localhost:8080/",
          "height": 70
        },
        "id": "bv6DFfi9BMAS",
        "outputId": "f71b7116-a51a-47b4-cb13-4961eeab2eee"
      },
      "outputs": [
        {
          "name": "stdout",
          "output_type": "stream",
          "text": [
            "6\n",
            "1 2 3 1 2 3\n"
          ]
        },
        {
          "output_type": "execute_result",
          "data": {
            "text/plain": [
              "'Pass'"
            ],
            "application/vnd.google.colaboratory.intrinsic+json": {
              "type": "string"
            }
          },
          "metadata": {},
          "execution_count": 4
        }
      ],
      "source": [
        "class Solution:\n",
        "  def visit(self,arr):\n",
        "    current = arr[0]\n",
        "    #check each and every element\n",
        "    for i in range(1,len(arr)):\n",
        "      if current == 0:\n",
        "        return \"fail\"\n",
        "      \n",
        "      current -= 1\n",
        "\n",
        "      # upadte the current element\n",
        "      current = max(current,arr[i])\n",
        "    return \"Pass\"\n",
        "\n",
        "# Driver code:\n",
        "sl = Solution()\n",
        "n = int(input())\n",
        "arr = list(map(int,input().strip().split()))[:n]\n",
        "sl.visit(arr)"
      ]
    },
    {
      "cell_type": "code",
      "source": [
        "def visit(arr):\n",
        "  goal = len(arr) -1\n",
        "  for i in range(len(arr))[::-1]:\n",
        "    if i+arr[i] >= goal:\n",
        "      goal = i\n",
        "  return not goal\n",
        "# driver code:\n",
        "n = int(input())\n",
        "arr = list(map(int,input().strip().split()))[:n]\n",
        "visit(arr)"
      ],
      "metadata": {
        "colab": {
          "base_uri": "https://localhost:8080/"
        },
        "id": "rih8GM9qFBrz",
        "outputId": "c4e97121-7cbe-4e74-89f4-bca013e0efda"
      },
      "execution_count": 8,
      "outputs": [
        {
          "name": "stdout",
          "output_type": "stream",
          "text": [
            "5\n",
            "0 1 2 1 0 0\n"
          ]
        },
        {
          "output_type": "execute_result",
          "data": {
            "text/plain": [
              "False"
            ]
          },
          "metadata": {},
          "execution_count": 8
        }
      ]
    },
    {
      "cell_type": "code",
      "source": [],
      "metadata": {
        "id": "OZzuUzbCF5Sn"
      },
      "execution_count": null,
      "outputs": []
    }
  ]
}