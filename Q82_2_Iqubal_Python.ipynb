{
  "nbformat": 4,
  "nbformat_minor": 0,
  "metadata": {
    "colab": {
      "provenance": []
    },
    "kernelspec": {
      "name": "python3",
      "display_name": "Python 3"
    },
    "language_info": {
      "name": "python"
    }
  },
  "cells": [
    {
      "cell_type": "code",
      "execution_count": 4,
      "metadata": {
        "colab": {
          "base_uri": "https://localhost:8080/"
        },
        "id": "XDDMATQK5-e8",
        "outputId": "f1d88697-73a4-4c22-b59d-57a2a33b1639"
      },
      "outputs": [
        {
          "output_type": "stream",
          "name": "stdout",
          "text": [
            "['bon']\n",
            "['mon']\n",
            "['mom']\n"
          ]
        },
        {
          "output_type": "execute_result",
          "data": {
            "text/plain": [
              "4"
            ]
          },
          "metadata": {},
          "execution_count": 4
        }
      ],
      "source": [
        "class Solution(object):\n",
        "    def fun(self, beginWord, endWord, wordList):\n",
        "        wordSet = set(wordList)\n",
        "        q = [beginWord]\n",
        "        level = 1\n",
        "        while q:\n",
        "            lsize = len(q)\n",
        "            for _ in range(lsize):\n",
        "                word = q.pop(0)\n",
        "                if word == endWord:\n",
        "                    return level\n",
        "                for i in range(len(word)):\n",
        "                    for j in 'abcdefghijklmnopqrstuvwxyz':\n",
        "                        newWord = word[:i] + j + word[i+1:]\n",
        "                        if newWord in wordSet:\n",
        "                            wordSet.remove(newWord);\n",
        "                            q.append(newWord)\n",
        "            print(q)\n",
        "            level += 1\n",
        "        return 0\n",
        "\n",
        "# driver code:\n",
        "sl = Solution()\n",
        "beginWord = \"bin\"\n",
        "endWord = \"mom\"\n",
        "wordList = [\"bon\",\"cog\",\"mon\",\"cot\",\"cod\",\"mom\"]\n",
        "sl.fun(beginWord,endWord,wordList)"
      ]
    },
    {
      "cell_type": "code",
      "source": [],
      "metadata": {
        "id": "2Kw25Wu8_ehz"
      },
      "execution_count": null,
      "outputs": []
    }
  ]
}