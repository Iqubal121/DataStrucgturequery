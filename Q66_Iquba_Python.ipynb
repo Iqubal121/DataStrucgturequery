{
  "nbformat": 4,
  "nbformat_minor": 0,
  "metadata": {
    "colab": {
      "provenance": []
    },
    "kernelspec": {
      "name": "python3",
      "display_name": "Python 3"
    },
    "language_info": {
      "name": "python"
    }
  },
  "cells": [
    {
      "cell_type": "code",
      "execution_count": 3,
      "metadata": {
        "colab": {
          "base_uri": "https://localhost:8080/"
        },
        "id": "kCX7gVt0CCxU",
        "outputId": "1cff23d8-e65f-4c88-ad4e-73ca3dd1bf37"
      },
      "outputs": [
        {
          "name": "stdout",
          "output_type": "stream",
          "text": [
            "4\n",
            "2 4 6 2\n"
          ]
        },
        {
          "output_type": "execute_result",
          "data": {
            "text/plain": [
              "2"
            ]
          },
          "metadata": {},
          "execution_count": 3
        }
      ],
      "source": [
        "def  findEarliestMontth( arr) :\n",
        "  month = 0 \n",
        "  change = max(arr)\n",
        "  total_sum = sum(arr)\n",
        "  current_sum = 0\n",
        "  n = len(arr)\n",
        "\n",
        "  for i in range(n):\n",
        "      current_sum += arr[i]\n",
        "      leftavg = int(current_sum // (i + 1))\n",
        "      rightavg = int(total_sum // n)\n",
        "\n",
        "      if (abs(leftavg - rightavg) < change) :\n",
        "          change = abs(leftavg - rightavg)\n",
        "          month = i + 1\n",
        "  return month\n",
        "# Driver code:\n",
        "n = int(input())\n",
        "arr = list(map(int,input().strip().split()))[:n]\n",
        "findEarliestMontth(arr)"
      ]
    },
    {
      "cell_type": "code",
      "source": [],
      "metadata": {
        "id": "-ZyxXsjGG6Du"
      },
      "execution_count": null,
      "outputs": []
    }
  ]
}