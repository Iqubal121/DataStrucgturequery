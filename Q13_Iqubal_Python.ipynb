{
  "nbformat": 4,
  "nbformat_minor": 0,
  "metadata": {
    "colab": {
      "provenance": []
    },
    "kernelspec": {
      "name": "python3",
      "display_name": "Python 3"
    },
    "language_info": {
      "name": "python"
    }
  },
  "cells": [
    {
      "cell_type": "code",
      "execution_count": 1,
      "metadata": {
        "colab": {
          "base_uri": "https://localhost:8080/"
        },
        "id": "ALZgq4SwcDVQ",
        "outputId": "acfdd5a4-a60f-4b0f-8143-b8d8a2964d55"
      },
      "outputs": [
        {
          "output_type": "stream",
          "name": "stdout",
          "text": [
            "Number of elements: 3\n",
            "1 8 5\n",
            "2528495406793003379\n"
          ]
        }
      ],
      "source": [
        "# 1st way\n",
        "num = int(input(\"Number of elements: \"))\n",
        "elements = map(int, input().split())\n",
        "\n",
        "# chnage it into the tuple\n",
        "tup = tuple(elements)\n",
        "print(hash(tup))"
      ]
    },
    {
      "cell_type": "code",
      "source": [
        "# 2nd way\n",
        "num = int(input(\"Number of elements: \"))\n",
        "elements = map(int, input().split())\n",
        "\n",
        "\n",
        "print(hash(tuple(elements)))"
      ],
      "metadata": {
        "colab": {
          "base_uri": "https://localhost:8080/"
        },
        "id": "bYVWGLuRd_tx",
        "outputId": "6c432103-9bba-477a-b257-8ac9323f33b7"
      },
      "execution_count": 2,
      "outputs": [
        {
          "output_type": "stream",
          "name": "stdout",
          "text": [
            "Number of elements: 2\n",
            "8 9\n",
            "3713071889192090256\n"
          ]
        }
      ]
    },
    {
      "cell_type": "code",
      "source": [],
      "metadata": {
        "id": "VI8Kv-CJeWqB"
      },
      "execution_count": null,
      "outputs": []
    }
  ]
}