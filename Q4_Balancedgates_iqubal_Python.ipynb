{
  "nbformat": 4,
  "nbformat_minor": 0,
  "metadata": {
    "colab": {
      "provenance": []
    },
    "kernelspec": {
      "name": "python3",
      "display_name": "Python 3"
    },
    "language_info": {
      "name": "python"
    }
  },
  "cells": [
    {
      "cell_type": "code",
      "execution_count": 3,
      "metadata": {
        "colab": {
          "base_uri": "https://localhost:8080/",
          "height": 52
        },
        "id": "49caMfUvA8Gh",
        "outputId": "7b0bfc2c-1ba9-43d5-efad-8b24c203eab9"
      },
      "outputs": [
        {
          "name": "stdout",
          "output_type": "stream",
          "text": [
            "{][(){}[]\n"
          ]
        },
        {
          "output_type": "execute_result",
          "data": {
            "text/plain": [
              "'Unbalanced'"
            ],
            "application/vnd.google.colaboratory.intrinsic+json": {
              "type": "string"
            }
          },
          "metadata": {},
          "execution_count": 3
        }
      ],
      "source": [
        "def checkGates(gates):\n",
        "    stack = []\n",
        "    for i in range(len(gates)):\n",
        "        elem = '' # for pop the element from the stack\n",
        "        if gates[i] in '([{':\n",
        "            stack.append(gates[i])\n",
        "        elif len(stack) > 0:\n",
        "            elem = stack.pop()\n",
        "        else:\n",
        "            return 'Unbalanced'\n",
        "\n",
        "        # verify the gates\n",
        "        if (gates[i] in ')' and elem != '(') \\\n",
        "            or (gates[i] in '}' and elem != '{') \\\n",
        "            or (gates[i] in ']' and elem != '['):\n",
        "            return 'Unbalanced'\n",
        "    return 'Balanced' if len(stack) == 0 else 'Unbalanced'\\\n",
        "\n",
        "# Driver code:\n",
        "gates = input()\n",
        "checkGates(gates)"
      ]
    },
    {
      "cell_type": "code",
      "source": [],
      "metadata": {
        "id": "HcXEIR1aOfYv"
      },
      "execution_count": 2,
      "outputs": []
    }
  ]
}