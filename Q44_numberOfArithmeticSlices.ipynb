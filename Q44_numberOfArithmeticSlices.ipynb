{
  "nbformat": 4,
  "nbformat_minor": 0,
  "metadata": {
    "colab": {
      "provenance": []
    },
    "kernelspec": {
      "name": "python3",
      "display_name": "Python 3"
    },
    "language_info": {
      "name": "python"
    }
  },
  "cells": [
    {
      "cell_type": "code",
      "execution_count": 3,
      "metadata": {
        "colab": {
          "base_uri": "https://localhost:8080/"
        },
        "id": "iwPZNEMKZFIW",
        "outputId": "68ac57d1-4300-4a03-e009-809393a118d5"
      },
      "outputs": [
        {
          "name": "stdout",
          "output_type": "stream",
          "text": [
            "7\n",
            "-3 0 3 6 7 8 9\n"
          ]
        },
        {
          "output_type": "execute_result",
          "data": {
            "text/plain": [
              "6"
            ]
          },
          "metadata": {},
          "execution_count": 3
        }
      ],
      "source": [
        "class Solution:\n",
        "  def numof_Arithmetic_Subarry(self,arr):\n",
        "    ans = 0 # for storing the number of arithmetic subarray\n",
        "\n",
        "    n = 0 # for storing number of times if two consecutive element is same difference\n",
        "\n",
        "    if len(arr) > 2:\n",
        "      preDiff = arr[1] - arr[0]\n",
        "\n",
        "      for i in range(2,len(arr)):\n",
        "        currentDiff = arr[i] - arr[i-1]\n",
        "\n",
        "        # if current difference is matching with previous difference\n",
        "        if currentDiff == preDiff:\n",
        "          n += 1\n",
        "          ans += n\n",
        "        else:\n",
        "          n = 0\n",
        "        \n",
        "        # update the previous difference with the current differnce\n",
        "\n",
        "        preDiff = currentDiff\n",
        "    return ans\n",
        "\n",
        "# driver code:\n",
        "n = int(input())\n",
        "arr = list(map(int,input().strip().split()))[:n]\n",
        "\n",
        "sl = Solution()\n",
        "sl.numof_Arithmetic_Subarry(arr)\n"
      ]
    },
    {
      "cell_type": "code",
      "source": [],
      "metadata": {
        "id": "58nqSIwCecNB"
      },
      "execution_count": null,
      "outputs": []
    }
  ]
}