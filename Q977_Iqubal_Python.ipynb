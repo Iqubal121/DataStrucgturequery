{
  "nbformat": 4,
  "nbformat_minor": 0,
  "metadata": {
    "colab": {
      "provenance": []
    },
    "kernelspec": {
      "name": "python3",
      "display_name": "Python 3"
    },
    "language_info": {
      "name": "python"
    }
  },
  "cells": [
    {
      "cell_type": "code",
      "execution_count": 5,
      "metadata": {
        "colab": {
          "base_uri": "https://localhost:8080/"
        },
        "id": "80cWD71Uag2G",
        "outputId": "71e3ae5f-6060-490e-966a-54ea1137a52e"
      },
      "outputs": [
        {
          "name": "stdout",
          "output_type": "stream",
          "text": [
            "6\n",
            "4 5 -9 4 5 7 8\n"
          ]
        },
        {
          "output_type": "execute_result",
          "data": {
            "text/plain": [
              "4"
            ]
          },
          "metadata": {},
          "execution_count": 5
        }
      ],
      "source": [
        "def shortestLen(arr):\n",
        "  leftMax = arr[0]\n",
        "\n",
        "  # max Value of the minimum array\n",
        "  maximum = arr[0]\n",
        "\n",
        "  position = 1\n",
        "  n = len(arr)\n",
        "\n",
        "  for i in range(n):\n",
        "    if arr[i] <= leftMax:\n",
        "      position = i+1\n",
        "\n",
        "      # got a new lower value.\n",
        "      laftMax = maximum\n",
        "    elif(arr[i]>maximum):\n",
        "      maximum = arr[i]\n",
        "    i += 1\n",
        "  return position\n",
        "\n",
        "# driver code:\n",
        "n = int(input())\n",
        "arr = list(map(int,input().strip().split()))[:n]\n",
        "# call the function\n",
        "shortestLen(arr)\n",
        "\n",
        "\n"
      ]
    },
    {
      "cell_type": "code",
      "source": [],
      "metadata": {
        "id": "er6iXNu0eA7J"
      },
      "execution_count": null,
      "outputs": []
    }
  ]
}