{
  "nbformat": 4,
  "nbformat_minor": 0,
  "metadata": {
    "colab": {
      "provenance": []
    },
    "kernelspec": {
      "name": "python3",
      "display_name": "Python 3"
    },
    "language_info": {
      "name": "python"
    }
  },
  "cells": [
    {
      "cell_type": "code",
      "execution_count": 6,
      "metadata": {
        "colab": {
          "base_uri": "https://localhost:8080/"
        },
        "id": "GJUj4dfbrRWS",
        "outputId": "6d7f0e3a-10bf-48b1-cba8-98bd781d8637"
      },
      "outputs": [
        {
          "name": "stdout",
          "output_type": "stream",
          "text": [
            "5\n",
            "5 6 5 4 6\n"
          ]
        },
        {
          "output_type": "execute_result",
          "data": {
            "text/plain": [
              "[(5, 2), (6, 2), (4, 1)]"
            ]
          },
          "metadata": {},
          "execution_count": 6
        }
      ],
      "source": [
        "# by the help of dictionary\n",
        "def findFreq(arr):\n",
        "  di = {} # \n",
        "  for i in arr:\n",
        "    if i in di:\n",
        "      di[i] += 1\n",
        "    else:\n",
        "      di[i] = 1\n",
        "  # apply the conditions:\n",
        "  re = [] # for string the result\n",
        "  re = sorted(di.items(), key = lambda item: (-item[1],item[0]))\n",
        "  return re\n",
        "\n",
        "# driver code:\n",
        "n = int(input())\n",
        "arr = list(map(int, input().strip().split()))[:n]\n",
        "\n",
        "# call the function\n",
        "findFreq(arr)"
      ]
    },
    {
      "cell_type": "code",
      "source": [
        "# list comprehension\n",
        "def findFreq(arr):\n",
        "   return(sorted([[x,arr.count(x)]for x in set(arr)],key=lambda item:(-item[1],item[0])))\n",
        "n = int(input())\n",
        "arr = list(map(int, input().strip().split()))[:n]\n",
        "\n",
        "# call the function\n",
        "findFreq(arr)"
      ],
      "metadata": {
        "colab": {
          "base_uri": "https://localhost:8080/"
        },
        "id": "CXy3485i7mPt",
        "outputId": "c52d5ba5-6523-45d9-ef12-0e588cc3ec1f"
      },
      "execution_count": 9,
      "outputs": [
        {
          "name": "stdout",
          "output_type": "stream",
          "text": [
            "6\n",
            "6 7 5 6 4 7\n"
          ]
        },
        {
          "output_type": "execute_result",
          "data": {
            "text/plain": [
              "[[6, 2], [7, 2], [4, 1], [5, 1]]"
            ]
          },
          "metadata": {},
          "execution_count": 9
        }
      ]
    },
    {
      "cell_type": "code",
      "source": [],
      "metadata": {
        "id": "0TWvOWX3809G"
      },
      "execution_count": null,
      "outputs": []
    }
  ]
}