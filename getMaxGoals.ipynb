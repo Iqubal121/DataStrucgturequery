{
  "nbformat": 4,
  "nbformat_minor": 0,
  "metadata": {
    "colab": {
      "provenance": []
    },
    "kernelspec": {
      "name": "python3",
      "display_name": "Python 3"
    },
    "language_info": {
      "name": "python"
    }
  },
  "cells": [
    {
      "cell_type": "code",
      "execution_count": 1,
      "metadata": {
        "colab": {
          "base_uri": "https://localhost:8080/"
        },
        "id": "qSvOhvaugoMJ",
        "outputId": "2d3993ec-4393-4b9c-f391-6417c6fb704c"
      },
      "outputs": [
        {
          "name": "stdout",
          "output_type": "stream",
          "text": [
            "5\n",
            "Enter the numbers : 5 3 2 1 6\n",
            "4\n",
            "Enter the numbers : 3 2 0 1\n"
          ]
        },
        {
          "output_type": "execute_result",
          "data": {
            "text/plain": [
              "16"
            ]
          },
          "metadata": {},
          "execution_count": 1
        }
      ],
      "source": [
        "def getMaxGoal(times, goals):\n",
        "    goals.sort()\n",
        "    n = len(times)\n",
        "    for i in range(1, n):\n",
        "        times[i] += times[i - 1]\n",
        "    ans = 0\n",
        "    for i in range(len(goals) // 2):\n",
        "        ans += times[goals[len(goals) - i - 1]]\n",
        "        if goals[i] > 0:\n",
        "            ans -= times[goals[i] - 1]\n",
        "    return ans % (10 ** 9 + 7)\n",
        "\n",
        "# Driver \n",
        "n = int(input())\n",
        "times = list(map(int,input(\"Enter the numbers : \").strip().split()))[:n]\n",
        "\n",
        "m = int(input())\n",
        "goals = list(map(int,input(\"Enter the numbers : \").strip().split()))[:m]\n",
        "getMaxGoal(times,goals)\n"
      ]
    },
    {
      "cell_type": "code",
      "source": [],
      "metadata": {
        "id": "Q1G5zMckkvxh"
      },
      "execution_count": null,
      "outputs": []
    }
  ]
}