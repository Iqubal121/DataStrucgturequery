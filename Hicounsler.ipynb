{
  "nbformat": 4,
  "nbformat_minor": 0,
  "metadata": {
    "colab": {
      "provenance": [],
      "collapsed_sections": []
    },
    "kernelspec": {
      "name": "python3",
      "display_name": "Python 3"
    },
    "language_info": {
      "name": "python"
    }
  },
  "cells": [
    {
      "cell_type": "code",
      "execution_count": null,
      "metadata": {
        "id": "H_sSlk7itaDJ"
      },
      "outputs": [],
      "source": [
        "# Rearrange an array of integers so that the calculated value M is maximized. \n",
        "# Among the arrangements that satisfy that test, choose the array with minimal ordering. The value of M for an array with n elements is calculated as :\n",
        " \n",
        "#     M = arr1[1] × arr1[2] × (1 ÷ arr1[3])× arr1[4] ×...× arr1[n-1] × (1 ÷ arr1[n]) if n is odd\n",
        "#     or\n",
        "#     M = arr1[1] × arr1[2] × ( 1 ÷ arr1[3]) × arr1[4]×...× (1 ÷ arr1[n-1]) × arr1[n] if n is even\n",
        " \n",
        "# The sequence of operations is the same in either case, but the length of the array, n, determines whether the calculation ends on arr1[n] or ( 1 ÷ arr1[n]).\n",
        " \n",
        "# Arrange the elements to maximize M so the items are in the numerically smallest possible order.\n",
        " \n",
        "# Example\n",
        "# arr1 = [6,7,9,11,23]\n",
        " \n",
        "# To maximize M and minimize the order, arrange the array as [9, 11, 6, 23, 7] so M = 9 × 11 × (1÷6) × 23 × (1÷7) = 54.2. \n",
        "# The same M can be achieved using several other orders, e.g. [11, 9, 7, 23, 6] = 11 × 9 × (1÷7) × 23 × (1÷6) = 54.2, but they are not in the minimum order.\n",
        " \n",
        "# Function Description\n",
        "# Complete the function rearrange in the editor.\n",
        " \n",
        "# rearrange has the following parameter(s):\n",
        "#     int arr1[n]:  an array of integers\n",
        " \n",
        "# Returns\n",
        "#     int[n]: the elements of arr1 rearranged as described\n",
        " \n",
        "# Constraints\n",
        "# 1 ≤ n ≤ 100\n",
        "# 1 ≤ arr1[j] ≤ 120\n",
        "\n",
        "# Input Format For Custom Testing:\n",
        "\n",
        "# The first line contains an integer, n, the number of elements in arr1.\n",
        "# Each line j of the n subsequent lines (where 1 ≤ j ≤ n) contains an integer, arr1[j].\n",
        "\n",
        "# Sample Case 0\n",
        "\n",
        "# Sample Input For Custom Testing\n",
        "# STDIN    Function\n",
        "# -----    --------\n",
        "# 5    →   arr1[] size n = 5\n",
        "#     →   arr1 = [8,5,6,7,9]\n",
        "\n",
        "# Sample Output\n",
        "# [3, 4, 1, 5, 2]\n",
        "# Explanation\n",
        " \n",
        "# M = 2 × 3 × (1÷1) × 4 = 24. All other arrangements where M = 24 are numerically higher than this array, e.g. [2, 3, 1, 4] < [3, 4, 1, 2].\n",
        "\n",
        "# Sample Case 1\n",
        "# Sample Input For Custom Testing\n",
        "# STDIN    Function.\n",
        "\n",
        "# -----    --------\n",
        "\n",
        "# 2    →   arr1[] size n = 2\n",
        "#    arr1 = [8, 3]\n",
        "\n",
        "# Sample Output\n",
        "# 3\n",
        "# 8\n",
        "\n",
        "# Explanation \n",
        "# M is always 3×8 = 24, and [3, 8] < [8, 3].\n"
      ]
    },
    {
      "cell_type": "code",
      "source": [
        "def reShape(arr1):\n",
        "\n",
        "    # sort the array ascending\n",
        "\n",
        "    arr1.sort()\n",
        "\n",
        "\n",
        "    # use two pointers, multiply by lowest value in the higher\n",
        "\n",
        "    # half of the array, divide by the lowest value in the lower\n",
        "\n",
        "    # half of the array to get maximum M, minimum order\n",
        "\n",
        "    num = len(arr1)\n",
        "    high = (num-1)//2\n",
        "    lowest = 0  \n",
        "\n",
        "    # initialize with the first element in the higher half\n",
        "\n",
        "    # after this, the operations flip between arr1[num] and 1/arr1[num]\n",
        "    reset = [arr1[high]]\n",
        "    high += 1\n",
        "    for j in range(1,num):\n",
        "        if j%2:\n",
        "            reset.append(arr1[high])\n",
        "            high += 1\n",
        "        else:\n",
        "            reset.append(arr1[lowest])\n",
        "            lowest += 1\n",
        "    return reset\n"
      ],
      "metadata": {
        "id": "l4RP-EBdwWRl"
      },
      "execution_count": null,
      "outputs": []
    },
    {
      "cell_type": "code",
      "source": [
        "reShape([5,6,7,8,9])"
      ],
      "metadata": {
        "colab": {
          "base_uri": "https://localhost:8080/"
        },
        "id": "WT5M0f3YxmCe",
        "outputId": "3d876904-3e47-46ca-ed05-541686b4017f"
      },
      "execution_count": null,
      "outputs": [
        {
          "output_type": "execute_result",
          "data": {
            "text/plain": [
              "[7, 8, 5, 9, 6]"
            ]
          },
          "metadata": {},
          "execution_count": 29
        }
      ]
    },
    {
      "cell_type": "code",
      "source": [
        "reShape([1,2,3,4,5])"
      ],
      "metadata": {
        "colab": {
          "base_uri": "https://localhost:8080/"
        },
        "id": "qCD6Dp-Sv3Ha",
        "outputId": "6c017c2d-2599-4dbb-8af8-3b7f20662761"
      },
      "execution_count": null,
      "outputs": [
        {
          "output_type": "execute_result",
          "data": {
            "text/plain": [
              "[3, 4, 1, 5, 2]"
            ]
          },
          "metadata": {},
          "execution_count": 27
        }
      ]
    },
    {
      "cell_type": "code",
      "source": [
        "8 * 9 * (1/5) * 10 * (1/7) "
      ],
      "metadata": {
        "colab": {
          "base_uri": "https://localhost:8080/"
        },
        "id": "-9I7b3XxxprW",
        "outputId": "5f54927e-cd6c-4633-bfbc-8c9a6e159be0"
      },
      "execution_count": null,
      "outputs": [
        {
          "output_type": "execute_result",
          "data": {
            "text/plain": [
              "20.57142857142857"
            ]
          },
          "metadata": {},
          "execution_count": 12
        }
      ]
    },
    {
      "cell_type": "code",
      "source": [
        "# M = arr1[1] × arr1[2] × (1 ÷ arr1[3])× arr1[4] ×...× arr1[n-1] × (1 ÷ arr1[n]) if n is odd\n",
        "# or\n",
        "# M = arr1[1] × arr1[2] × ( 1 ÷ arr1[3]) × arr1[4]×...× (1 ÷ arr1[n-1]) × arr1[n] if n is even\n",
        "\n",
        "# [5,7,9,21,34]"
      ],
      "metadata": {
        "id": "Re8ZWKMkhHo7"
      },
      "execution_count": null,
      "outputs": []
    },
    {
      "cell_type": "code",
      "source": [
        "# 22. Keyboard\n",
        "# Everytime, to enter their classroom, Students of a College have to type a  numbers into a console using a 3 × 3 numeric keypad. \n",
        "# Each time, the numbers on the keypad are mixed up.\n",
        "  \n",
        "# Use the following rules to calculate the total amount of time it takes to type a string:\n",
        "\n",
        "# It takes 0 seconds to move their finger to the first key, and it takes 0 seconds to press the key where \n",
        "# their finger is located any number of times.\n",
        "# They can move their finger from one location to any adjacent key in one second.  Adjacent keys include those on a diagonal.\n",
        "# Moving to a non-adjacent key is done as a series of moves to adjacent keys.\n"
      ],
      "metadata": {
        "id": "C4J-jCL0j9q_"
      },
      "execution_count": null,
      "outputs": []
    },
    {
      "cell_type": "code",
      "source": [
        "def entryTime(s, keypad):\n",
        "    # generate a list of cell coordinates\n",
        "    cells = [(i,j) for i in range(3) for j in range(3)]\n",
        "    # create a 9x9 array to hold distances (key from/to are coordinates)\n",
        "    dis = [[0]*9for x in range(9)]\n",
        "    # convert the elements to integer\n",
        "    keypad = list(map(int, keypad))\n",
        "    \n",
        "    # calculate distances\n",
        "    for u in cells:\n",
        "        for v in cells:\n",
        "            number1 = keypad[u[0] * 3 + u[1]]\n",
        "            number2 = keypad[v[0] * 3 + v[1]]\n",
        "            dis[number1-1][number2-1] = max(abs(u[0] - v[0]), abs(u[1] - v[1]))    # distance between two cells\n",
        "    # sum the results\n",
        "    ans = 0\n",
        "    for i in range(1, len(s)):      \n",
        "        ans += dis[int(s[i])-1][int(s[i-1])-1]\n",
        "    return ans\n"
      ],
      "metadata": {
        "id": "DAoLNmM9oe-u"
      },
      "execution_count": null,
      "outputs": []
    },
    {
      "cell_type": "code",
      "source": [
        "entryTime(\"12356\", \"987612354\")"
      ],
      "metadata": {
        "colab": {
          "base_uri": "https://localhost:8080/"
        },
        "id": "8HkqJHX_gElB",
        "outputId": "c630ee99-6baa-430d-ded9-a8fd333e7834"
      },
      "execution_count": null,
      "outputs": [
        {
          "output_type": "execute_result",
          "data": {
            "text/plain": [
              "5"
            ]
          },
          "metadata": {},
          "execution_count": 17
        }
      ]
    },
    {
      "cell_type": "code",
      "source": [
        "# with the help of the dictionary\n",
        "def entryTime(s, keypad):\n",
        "    dis = {}             # dictionary to store distance between each pair of keys\n",
        "    cells = [(i,j) for i in range(3) for j in range(3)]\n",
        "    for u in cells:\n",
        "        for v in cells:\n",
        "            number1 = keypad[u[0] * 3 + u[1]]\n",
        "            number2 = keypad[v[0] * 3 + v[1]]\n",
        "            dis[(number1,number2)] = max(abs(u[0] - v[0]), abs(u[1] - v[1]))    # distance between two cells\n",
        "    ans = 0\n",
        "    for i in range(1, len(s)):      # iterating over adjacent keys\n",
        "        ans += dis[(s[i],s[i-1])]\n",
        "    return ans\n"
      ],
      "metadata": {
        "id": "EG1i9rM8gRYB"
      },
      "execution_count": null,
      "outputs": []
    },
    {
      "cell_type": "code",
      "source": [
        "entryTime(\"123112\",\"123987654\")\n",
        "\n",
        "\n",
        "\n"
      ],
      "metadata": {
        "colab": {
          "base_uri": "https://localhost:8080/"
        },
        "id": "EpVlqt3VgkRv",
        "outputId": "6670c51c-eaf2-4a38-ea89-23e25e078caf"
      },
      "execution_count": null,
      "outputs": [
        {
          "output_type": "execute_result",
          "data": {
            "text/plain": [
              "5"
            ]
          },
          "metadata": {},
          "execution_count": 24
        }
      ]
    },
    {
      "cell_type": "code",
      "source": [],
      "metadata": {
        "id": "Xk6d6G9mkUc-"
      },
      "execution_count": null,
      "outputs": []
    },
    {
      "cell_type": "code",
      "source": [
        "def originalMatrix(matrix):\n",
        "    x = len(matrix)\n",
        "    y = len(matrix[0])\n",
        "    \n",
        "    for i in range(x-1, -1, -1):\n",
        "        for j in range(y-1, -1, -1):\n",
        "            if i-1 >= 0 and j-1 >= 0:\n",
        "                matrix[i][j] = matrix[i][j] - matrix[i-1][j] - matrix[i][j-1] + matrix[i-1][j-1]\n",
        "            elif j-1 >= 0:\n",
        "                matrix[i][j] -= matrix[i][j-1]\n",
        "            elif i-1 >= 0:\n",
        "                matrix[i][j] -= matrix[i-1][j]\n",
        "                \n",
        "    return matrix"
      ],
      "metadata": {
        "id": "o1wkeGXDq0ue"
      },
      "execution_count": null,
      "outputs": []
    },
    {
      "cell_type": "code",
      "source": [
        "originalMatrix([[2,5],[7,10]])"
      ],
      "metadata": {
        "colab": {
          "base_uri": "https://localhost:8080/"
        },
        "id": "K13Rq31Jjqar",
        "outputId": "9fc048ef-b1b2-4f85-9f2f-2e1215332b23"
      },
      "execution_count": null,
      "outputs": [
        {
          "output_type": "stream",
          "name": "stdout",
          "text": [
            "2 2\n",
            "0\n"
          ]
        },
        {
          "output_type": "execute_result",
          "data": {
            "text/plain": [
              "[[2, 3], [5, 0]]"
            ]
          },
          "metadata": {},
          "execution_count": 6
        }
      ]
    },
    {
      "cell_type": "code",
      "source": [
        "def print_matrix(mat):\n",
        "    m = len(mat)\n",
        "    n = len(mat[0])\n",
        "    #print(n)\n",
        "    for i in range(m-1,-1,-1):\n",
        "     # print(i)\n",
        "      for j in range(n-1,0,-1):\n",
        "        mat[i][j] -= mat[i][j-1]\n",
        "    \n",
        "    for i in range(m-1,0,-1):\n",
        "        for j in range(n-1,-1,-1):\n",
        "            mat[i][j] -= mat[i-1][j]\n",
        "    \n",
        "    return mat"
      ],
      "metadata": {
        "id": "sJUTS6o0jzC3"
      },
      "execution_count": null,
      "outputs": []
    },
    {
      "cell_type": "code",
      "source": [
        "print_matrix([[2,5],[7,10]])"
      ],
      "metadata": {
        "id": "hp2lhDasnTIG",
        "colab": {
          "base_uri": "https://localhost:8080/"
        },
        "outputId": "21da8700-90b2-41a8-8843-3ee943e004bf"
      },
      "execution_count": null,
      "outputs": [
        {
          "output_type": "stream",
          "name": "stdout",
          "text": [
            "2\n",
            "1\n",
            "0\n"
          ]
        },
        {
          "output_type": "execute_result",
          "data": {
            "text/plain": [
              "[[2, 3], [5, 0]]"
            ]
          },
          "metadata": {},
          "execution_count": 6
        }
      ]
    },
    {
      "cell_type": "code",
      "source": [
        "# 24. Count String Permutations\n",
        "# Find the number of strings of a given length that can be formed under the following rules:\n",
        "# Each letter is a vowel, that is, it is in the set {a, e, i, o, u}.\n",
        "# The letter a may only be followed by the letter e.\n",
        "# An e may only be followed by an a or an i.\n",
        "# An i may not be next to another i.\n",
        "# The letter o may only be followed by an i or a u.\n",
        "# The letter u may only be followed by an a."
      ],
      "metadata": {
        "id": "9E5sDTsXnqME"
      },
      "execution_count": null,
      "outputs": []
    },
    {
      "cell_type": "code",
      "source": [
        "def countPerms(n):\n",
        "    vowels = \"aeiou\"\n",
        "    #Creating a dp hashmap corresponding to the total possible number of strings ending at a,e,i,o,u\n",
        "    dp={}\n",
        "    for i in vowels:\n",
        "        dp[i] = 1\n",
        "        \n",
        "    #Refactored the rules to get characters that a particular vowel can come after \n",
        "    for i in range(1,n):\n",
        "        temp={}\n",
        "        temp['a'] = dp['e'] + dp['i'] + dp['u']\n",
        "        temp['e'] = dp['a'] + dp['i']\n",
        "        temp['i'] = dp['e'] + dp['o']\n",
        "        temp['o'] = dp['i']\n",
        "        temp['u'] = dp['i'] + dp['o']\n",
        "        \n",
        "        dp=temp\n",
        "    print(dp)\n",
        "    ret = 0\n",
        "    #Taking sum of n length strings ending at each vowel\n",
        "    for i in dp:\n",
        "        ret += dp[i]\n",
        "\n",
        "\n",
        "    return ret\n"
      ],
      "metadata": {
        "id": "TNny7RVFFdyr"
      },
      "execution_count": 1,
      "outputs": []
    },
    {
      "cell_type": "code",
      "source": [
        "countPerms(3)"
      ],
      "metadata": {
        "colab": {
          "base_uri": "https://localhost:8080/"
        },
        "id": "1zym3ohaK73n",
        "outputId": "06afc52f-2106-42bd-ba08-323e1646b638"
      },
      "execution_count": 2,
      "outputs": [
        {
          "output_type": "stream",
          "name": "stdout",
          "text": [
            "{'a': 6, 'e': 5, 'i': 3, 'o': 2, 'u': 3}\n"
          ]
        },
        {
          "output_type": "execute_result",
          "data": {
            "text/plain": [
              "19"
            ]
          },
          "metadata": {},
          "execution_count": 2
        }
      ]
    },
    {
      "cell_type": "code",
      "source": [
        " def countVowelPermutation(n):\n",
        "\n",
        "        dp = [[0] * 5 for i in range(n)]\n",
        "\n",
        "        dp[0] = [1] * 5\n",
        "\n",
        "        for i in range(1, n):\n",
        "            dp[i][0] = dp[i - 1][1] + dp[i - 1][2] + dp[i - 1][4]\n",
        "            dp[i][1] = dp[i - 1][0] + dp[i - 1][2]\n",
        "            dp[i][2] = dp[i - 1][1] + dp[i - 1][3]\n",
        "            dp[i][3] = dp[i - 1][2]\n",
        "            dp[i][4] = dp[i - 1][2] + dp[i - 1][3]\n",
        "        print()\n",
        "\n",
        "        return sum(dp[-1]) % (10 ** 9 + 7)"
      ],
      "metadata": {
        "id": "e2HAsW5OLBpZ"
      },
      "execution_count": null,
      "outputs": []
    },
    {
      "cell_type": "code",
      "source": [
        "countVowelPermutation(3)"
      ],
      "metadata": {
        "colab": {
          "base_uri": "https://localhost:8080/"
        },
        "id": "jytMCfz3OA2O",
        "outputId": "e154103b-064c-4d1c-e442-3d593b2bda4a"
      },
      "execution_count": null,
      "outputs": [
        {
          "output_type": "execute_result",
          "data": {
            "text/plain": [
              "19"
            ]
          },
          "metadata": {},
          "execution_count": 23
        }
      ]
    },
    {
      "cell_type": "code",
      "source": [
        "# Python 3 program for the above approach\n",
        " \n",
        "# Function to find the number of\n",
        "# vowel permutations possible\n",
        "def countVowelPermutation(n):\n",
        "   \n",
        "    # To avoid the large output value\n",
        "    MOD =  1e9 + 7    #if problem constraints are large integers, only efficient algorithms can solve them in an allowed limited time.\n",
        " \n",
        "    # Initialize 2D dp array\n",
        "    dp = [[0 for i in range(5)] for j in range(n + 1)]\n",
        "     \n",
        "    # Initialize dp[1][i] as 1 since\n",
        "    # string of length 1 will consist\n",
        "    # of only one vowel in the string\n",
        "    for i in range(5):\n",
        "        dp[1][i] = 1\n",
        "     \n",
        "    # Directed graph using the\n",
        "    # adjacency matrix\n",
        "    relation = [[1],[0, 2], [0, 1, 3, 4], [2, 4],[0]]\n",
        " \n",
        "    # Iterate over the range [1, N]\n",
        "    for i in range(1, n, 1):\n",
        "       \n",
        "        # Traverse the directed graph\n",
        "        for u in range(5):\n",
        "            dp[i + 1][u] = 0\n",
        " \n",
        "            # Traversing the list\n",
        "            for v in relation[u]:\n",
        "               \n",
        "                # Update dp[i + 1][u]\n",
        "                dp[i + 1][u] += dp[i][v] % MOD\n",
        " \n",
        "    # Stores total count of permutations\n",
        "    ans = 0\n",
        "    for i in range(5):\n",
        "        ans = (ans + dp[n][i]) % MOD\n",
        " \n",
        "    # Return count of permutations\n",
        "    return int(ans)\n",
        " "
      ],
      "metadata": {
        "colab": {
          "base_uri": "https://localhost:8080/"
        },
        "id": "u0lStEqSOOxi",
        "outputId": "a8c1900c-2ac2-4501-d44b-52a8aaadbfa6"
      },
      "execution_count": null,
      "outputs": [
        {
          "output_type": "stream",
          "name": "stdout",
          "text": [
            "10\n"
          ]
        }
      ]
    },
    {
      "cell_type": "code",
      "source": [
        "def toString(List):\n",
        "    return ''.join(List)\n",
        " \n",
        "# Function to print permutations\n",
        "# of string\n",
        "# This function takes three parameters:\n",
        "# 1. String\n",
        "# 2. Starting index of the string\n",
        "# 3. Ending index of the string.\n",
        "def permute(a, l, r):\n",
        "    if l == r:\n",
        "        print (toString(a))\n",
        "    else:\n",
        "        for i in range(l, r + 1):\n",
        "            a[l],a[i] = a[i],a[l]\n",
        "            permute(a, l + 1, r)\n",
        "            # backtrack\n",
        "            a[l], a[i] = a[i], a[l]\n",
        " \n",
        "# Driver code\n",
        "string = \"\"\n",
        "n = len(string)\n",
        "a = list(string)\n",
        "permute(a, 0, n)\n",
        "# This code is contributed by Bhavya Jain\n"
      ],
      "metadata": {
        "id": "HeAfi_MeO86V",
        "colab": {
          "base_uri": "https://localhost:8080/"
        },
        "outputId": "675e7345-3da9-4f44-c693-273213df6886"
      },
      "execution_count": 10,
      "outputs": [
        {
          "output_type": "stream",
          "name": "stdout",
          "text": [
            "\n"
          ]
        }
      ]
    },
    {
      "cell_type": "code",
      "source": [],
      "metadata": {
        "id": "zRszayvABzGx"
      },
      "execution_count": null,
      "outputs": []
    }
  ]
}