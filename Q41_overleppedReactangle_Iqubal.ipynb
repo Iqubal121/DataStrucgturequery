{
  "nbformat": 4,
  "nbformat_minor": 0,
  "metadata": {
    "colab": {
      "provenance": []
    },
    "kernelspec": {
      "name": "python3",
      "display_name": "Python 3"
    },
    "language_info": {
      "name": "python"
    }
  },
  "cells": [
    {
      "cell_type": "code",
      "execution_count": 4,
      "metadata": {
        "colab": {
          "base_uri": "https://localhost:8080/"
        },
        "id": "jY8gxKPus48p",
        "outputId": "8814e820-ffbd-4b5f-f47d-a7900f497fd0"
      },
      "outputs": [
        {
          "output_type": "execute_result",
          "data": {
            "text/plain": [
              "8"
            ]
          },
          "metadata": {},
          "execution_count": 4
        }
      ],
      "source": [
        "class Solution:\n",
        "  def ovlpRectArea(self,A,B,C,D,E,F,G,H):\n",
        "      if E>=C or A>=G or B>=H or F>=D:\n",
        "                return 0\n",
        "      else:\n",
        "          x1=min(G,C)  # ---> 7\n",
        "          x2=max(A,E)  # ---> 5\n",
        "          y1=min(D,H)  # ---> 8\n",
        "          y2=max(B,F)  # ---> 4\n",
        "          return abs((x1-x2)*(y1-y2))\n",
        "\n",
        "# Driver code:\n",
        "sl = Solution()\n",
        "sl.ovlpRectArea(3,4,7,9,5,2,11,8)"
      ]
    },
    {
      "cell_type": "code",
      "source": [],
      "metadata": {
        "id": "_mPwbQkI0iYx"
      },
      "execution_count": null,
      "outputs": []
    }
  ]
}