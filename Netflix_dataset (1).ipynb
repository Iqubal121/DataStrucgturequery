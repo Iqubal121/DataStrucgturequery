{
 "cells": [
  {
   "cell_type": "code",
   "execution_count": 8,
   "metadata": {
    "executionInfo": {
     "elapsed": 402,
     "status": "ok",
     "timestamp": 1670685813648,
     "user": {
      "displayName": "Harshit Trivedi",
      "userId": "05510904477925688149"
     },
     "user_tz": -330
    },
    "id": "7U8qR1Rx-_aq"
   },
   "outputs": [],
   "source": [
    "#Netflix prize dataset\n",
    "#importing the necessary libraries for importing the dataset in jupyter notebook\n",
    "#100M ratings 17770 movies 480,000 users 4 datasets\n",
    "import pandas as pd\n",
    "import numpy as np\n",
    "import matplotlib.pyplot as plt"
   ]
  },
  {
   "cell_type": "code",
   "execution_count": 9,
   "metadata": {
    "colab": {
     "base_uri": "https://localhost:8080/",
     "height": 206
    },
    "executionInfo": {
     "elapsed": 21585,
     "status": "ok",
     "timestamp": 1670675680402,
     "user": {
      "displayName": "Harshit Trivedi",
      "userId": "05510904477925688149"
     },
     "user_tz": -330
    },
    "id": "tXwTEPVv-_as",
    "outputId": "ae7728f0-077e-4df6-b85c-b72ddecbd43e",
    "scrolled": true
   },
   "outputs": [
    {
     "data": {
      "text/html": [
       "<div>\n",
       "<style scoped>\n",
       "    .dataframe tbody tr th:only-of-type {\n",
       "        vertical-align: middle;\n",
       "    }\n",
       "\n",
       "    .dataframe tbody tr th {\n",
       "        vertical-align: top;\n",
       "    }\n",
       "\n",
       "    .dataframe thead th {\n",
       "        text-align: right;\n",
       "    }\n",
       "</style>\n",
       "<table border=\"1\" class=\"dataframe\">\n",
       "  <thead>\n",
       "    <tr style=\"text-align: right;\">\n",
       "      <th></th>\n",
       "      <th>Cust_Id</th>\n",
       "      <th>Rating</th>\n",
       "    </tr>\n",
       "  </thead>\n",
       "  <tbody>\n",
       "    <tr>\n",
       "      <th>0</th>\n",
       "      <td>1:</td>\n",
       "      <td>NaN</td>\n",
       "    </tr>\n",
       "    <tr>\n",
       "      <th>1</th>\n",
       "      <td>1488844</td>\n",
       "      <td>3.0</td>\n",
       "    </tr>\n",
       "    <tr>\n",
       "      <th>2</th>\n",
       "      <td>822109</td>\n",
       "      <td>5.0</td>\n",
       "    </tr>\n",
       "    <tr>\n",
       "      <th>3</th>\n",
       "      <td>885013</td>\n",
       "      <td>4.0</td>\n",
       "    </tr>\n",
       "    <tr>\n",
       "      <th>4</th>\n",
       "      <td>30878</td>\n",
       "      <td>4.0</td>\n",
       "    </tr>\n",
       "  </tbody>\n",
       "</table>\n",
       "</div>"
      ],
      "text/plain": [
       "   Cust_Id  Rating\n",
       "0       1:     NaN\n",
       "1  1488844     3.0\n",
       "2   822109     5.0\n",
       "3   885013     4.0\n",
       "4    30878     4.0"
      ]
     },
     "execution_count": 9,
     "metadata": {},
     "output_type": "execute_result"
    }
   ],
   "source": [
    "# Reading dataset file\n",
    "netflix_dataset = pd.read_csv(r'C:\\Users\\harsh\\Downloads\\combined_data_1.txt.zip',header = None, names = ['Cust_Id', 'Rating'], usecols = [0,1])\n",
    "netflix_dataset.head()"
   ]
  },
  {
   "cell_type": "code",
   "execution_count": 10,
   "metadata": {},
   "outputs": [
    {
     "data": {
      "text/plain": [
       "(24058263, 2)"
      ]
     },
     "execution_count": 10,
     "metadata": {},
     "output_type": "execute_result"
    }
   ],
   "source": [
    "netflix_dataset.shape"
   ]
  },
  {
   "cell_type": "code",
   "execution_count": 11,
   "metadata": {
    "colab": {
     "base_uri": "https://localhost:8080/",
     "height": 206
    },
    "executionInfo": {
     "elapsed": 453,
     "status": "ok",
     "timestamp": 1670675686682,
     "user": {
      "displayName": "Harshit Trivedi",
      "userId": "05510904477925688149"
     },
     "user_tz": -330
    },
    "id": "nejnJ484-_at",
    "outputId": "7f287935-16ee-4a1c-eb31-90002ab81eb0"
   },
   "outputs": [
    {
     "data": {
      "text/html": [
       "<div>\n",
       "<style scoped>\n",
       "    .dataframe tbody tr th:only-of-type {\n",
       "        vertical-align: middle;\n",
       "    }\n",
       "\n",
       "    .dataframe tbody tr th {\n",
       "        vertical-align: top;\n",
       "    }\n",
       "\n",
       "    .dataframe thead th {\n",
       "        text-align: right;\n",
       "    }\n",
       "</style>\n",
       "<table border=\"1\" class=\"dataframe\">\n",
       "  <thead>\n",
       "    <tr style=\"text-align: right;\">\n",
       "      <th></th>\n",
       "      <th>Cust_Id</th>\n",
       "      <th>Rating</th>\n",
       "    </tr>\n",
       "  </thead>\n",
       "  <tbody>\n",
       "    <tr>\n",
       "      <th>0</th>\n",
       "      <td>1:</td>\n",
       "      <td>NaN</td>\n",
       "    </tr>\n",
       "    <tr>\n",
       "      <th>1</th>\n",
       "      <td>1488844</td>\n",
       "      <td>3.0</td>\n",
       "    </tr>\n",
       "    <tr>\n",
       "      <th>2</th>\n",
       "      <td>822109</td>\n",
       "      <td>5.0</td>\n",
       "    </tr>\n",
       "    <tr>\n",
       "      <th>3</th>\n",
       "      <td>885013</td>\n",
       "      <td>4.0</td>\n",
       "    </tr>\n",
       "    <tr>\n",
       "      <th>4</th>\n",
       "      <td>30878</td>\n",
       "      <td>4.0</td>\n",
       "    </tr>\n",
       "  </tbody>\n",
       "</table>\n",
       "</div>"
      ],
      "text/plain": [
       "   Cust_Id  Rating\n",
       "0       1:     NaN\n",
       "1  1488844     3.0\n",
       "2   822109     5.0\n",
       "3   885013     4.0\n",
       "4    30878     4.0"
      ]
     },
     "execution_count": 11,
     "metadata": {},
     "output_type": "execute_result"
    }
   ],
   "source": [
    "netflix_dataset.head()"
   ]
  },
  {
   "cell_type": "code",
   "execution_count": 12,
   "metadata": {
    "colab": {
     "base_uri": "https://localhost:8080/"
    },
    "executionInfo": {
     "elapsed": 8,
     "status": "ok",
     "timestamp": 1670675691624,
     "user": {
      "displayName": "Harshit Trivedi",
      "userId": "05510904477925688149"
     },
     "user_tz": -330
    },
    "id": "un9i0h6y-_au",
    "outputId": "ee35f96b-3dd0-4b6d-9cab-4a7c5d0a226d"
   },
   "outputs": [
    {
     "data": {
      "text/plain": [
       "Cust_Id     object\n",
       "Rating     float64\n",
       "dtype: object"
      ]
     },
     "execution_count": 12,
     "metadata": {},
     "output_type": "execute_result"
    }
   ],
   "source": [
    "netflix_dataset.dtypes\n"
   ]
  },
  {
   "cell_type": "code",
   "execution_count": 13,
   "metadata": {
    "executionInfo": {
     "elapsed": 834,
     "status": "ok",
     "timestamp": 1670675695914,
     "user": {
      "displayName": "Harshit Trivedi",
      "userId": "05510904477925688149"
     },
     "user_tz": -330
    },
    "id": "MhvKyaHd-_av"
   },
   "outputs": [],
   "source": [
    "netflix_dataset['Rating']=netflix_dataset['Rating'].astype(float)"
   ]
  },
  {
   "cell_type": "code",
   "execution_count": 14,
   "metadata": {
    "colab": {
     "base_uri": "https://localhost:8080/"
    },
    "executionInfo": {
     "elapsed": 459,
     "status": "ok",
     "timestamp": 1670675698496,
     "user": {
      "displayName": "Harshit Trivedi",
      "userId": "05510904477925688149"
     },
     "user_tz": -330
    },
    "id": "ZypLGxet-_av",
    "outputId": "2a124017-edc4-4dbd-be1b-46f461972d1b"
   },
   "outputs": [
    {
     "data": {
      "text/plain": [
       "Cust_Id     object\n",
       "Rating     float64\n",
       "dtype: object"
      ]
     },
     "execution_count": 14,
     "metadata": {},
     "output_type": "execute_result"
    }
   ],
   "source": [
    "netflix_dataset.dtypes"
   ]
  },
  {
   "cell_type": "code",
   "execution_count": 15,
   "metadata": {
    "colab": {
     "base_uri": "https://localhost:8080/"
    },
    "executionInfo": {
     "elapsed": 7,
     "status": "ok",
     "timestamp": 1670675701348,
     "user": {
      "displayName": "Harshit Trivedi",
      "userId": "05510904477925688149"
     },
     "user_tz": -330
    },
    "id": "_3L_ILFt-_aw",
    "outputId": "d73a5b22-47b5-4067-803c-7974ab11bccc"
   },
   "outputs": [
    {
     "data": {
      "text/plain": [
       "(24058263, 2)"
      ]
     },
     "execution_count": 15,
     "metadata": {},
     "output_type": "execute_result"
    }
   ],
   "source": [
    "netflix_dataset.shape"
   ]
  },
  {
   "cell_type": "code",
   "execution_count": null,
   "metadata": {},
   "outputs": [],
   "source": [
    "#[]=list and index value\n",
    "#()=tuple and python defined function\n",
    "#{}=set and dict"
   ]
  },
  {
   "cell_type": "code",
   "execution_count": 17,
   "metadata": {
    "executionInfo": {
     "elapsed": 1801,
     "status": "ok",
     "timestamp": 1670675705957,
     "user": {
      "displayName": "Harshit Trivedi",
      "userId": "05510904477925688149"
     },
     "user_tz": -330
    },
    "id": "hVoJgZk0-_ax"
   },
   "outputs": [],
   "source": [
    "#To find out how many people have rated the movies as 1, 2, 3,4,5 stars ratings to the movies\n",
    "stars=netflix_dataset.groupby('Rating')['Rating'].agg(['count'])"
   ]
  },
  {
   "cell_type": "code",
   "execution_count": 18,
   "metadata": {
    "colab": {
     "base_uri": "https://localhost:8080/",
     "height": 237
    },
    "executionInfo": {
     "elapsed": 17,
     "status": "ok",
     "timestamp": 1670675706343,
     "user": {
      "displayName": "Harshit Trivedi",
      "userId": "05510904477925688149"
     },
     "user_tz": -330
    },
    "id": "PpFOHbDS-_ax",
    "outputId": "46b0e207-7a87-411b-e379-818cc1f32e8b"
   },
   "outputs": [
    {
     "data": {
      "text/html": [
       "<div>\n",
       "<style scoped>\n",
       "    .dataframe tbody tr th:only-of-type {\n",
       "        vertical-align: middle;\n",
       "    }\n",
       "\n",
       "    .dataframe tbody tr th {\n",
       "        vertical-align: top;\n",
       "    }\n",
       "\n",
       "    .dataframe thead th {\n",
       "        text-align: right;\n",
       "    }\n",
       "</style>\n",
       "<table border=\"1\" class=\"dataframe\">\n",
       "  <thead>\n",
       "    <tr style=\"text-align: right;\">\n",
       "      <th></th>\n",
       "      <th>count</th>\n",
       "    </tr>\n",
       "    <tr>\n",
       "      <th>Rating</th>\n",
       "      <th></th>\n",
       "    </tr>\n",
       "  </thead>\n",
       "  <tbody>\n",
       "    <tr>\n",
       "      <th>1.0</th>\n",
       "      <td>1118186</td>\n",
       "    </tr>\n",
       "    <tr>\n",
       "      <th>2.0</th>\n",
       "      <td>2439073</td>\n",
       "    </tr>\n",
       "    <tr>\n",
       "      <th>3.0</th>\n",
       "      <td>6904181</td>\n",
       "    </tr>\n",
       "    <tr>\n",
       "      <th>4.0</th>\n",
       "      <td>8085741</td>\n",
       "    </tr>\n",
       "    <tr>\n",
       "      <th>5.0</th>\n",
       "      <td>5506583</td>\n",
       "    </tr>\n",
       "  </tbody>\n",
       "</table>\n",
       "</div>"
      ],
      "text/plain": [
       "          count\n",
       "Rating         \n",
       "1.0     1118186\n",
       "2.0     2439073\n",
       "3.0     6904181\n",
       "4.0     8085741\n",
       "5.0     5506583"
      ]
     },
     "execution_count": 18,
     "metadata": {},
     "output_type": "execute_result"
    }
   ],
   "source": [
    "stars"
   ]
  },
  {
   "cell_type": "code",
   "execution_count": 21,
   "metadata": {
    "colab": {
     "base_uri": "https://localhost:8080/"
    },
    "executionInfo": {
     "elapsed": 2490,
     "status": "ok",
     "timestamp": 1670675714216,
     "user": {
      "displayName": "Harshit Trivedi",
      "userId": "05510904477925688149"
     },
     "user_tz": -330
    },
    "id": "kWRiMiU--_ay",
    "outputId": "43520454-efab-47b8-90b8-923844ae21c5"
   },
   "outputs": [
    {
     "data": {
      "text/plain": [
       "Cust_Id       0\n",
       "Rating     4499\n",
       "dtype: int64"
      ]
     },
     "execution_count": 21,
     "metadata": {},
     "output_type": "execute_result"
    }
   ],
   "source": [
    "#to claculate how many movies we are having null in the dataset\n",
    "movie_count=netflix_dataset.isnull().sum()\n",
    "movie_count"
   ]
  },
  {
   "cell_type": "code",
   "execution_count": 22,
   "metadata": {
    "colab": {
     "base_uri": "https://localhost:8080/"
    },
    "executionInfo": {
     "elapsed": 2293,
     "status": "ok",
     "timestamp": 1670675719334,
     "user": {
      "displayName": "Harshit Trivedi",
      "userId": "05510904477925688149"
     },
     "user_tz": -330
    },
    "id": "nehrszLW-_ay",
    "outputId": "51f0bab9-5276-4850-b3db-fc6bcd235a63"
   },
   "outputs": [
    {
     "data": {
      "text/plain": [
       "4499"
      ]
     },
     "execution_count": 22,
     "metadata": {},
     "output_type": "execute_result"
    }
   ],
   "source": [
    "movie_count=netflix_dataset.isnull().sum()[1]\n",
    "movie_count"
   ]
  },
  {
   "cell_type": "code",
   "execution_count": 23,
   "metadata": {
    "executionInfo": {
     "elapsed": 5731,
     "status": "ok",
     "timestamp": 1670675731721,
     "user": {
      "displayName": "Harshit Trivedi",
      "userId": "05510904477925688149"
     },
     "user_tz": -330
    },
    "id": "Uof2UpvZ-_ay"
   },
   "outputs": [],
   "source": [
    "#get the customer count with NaN values\n",
    "customer_count=netflix_dataset['Cust_Id'].nunique()"
   ]
  },
  {
   "cell_type": "code",
   "execution_count": 24,
   "metadata": {
    "colab": {
     "base_uri": "https://localhost:8080/"
    },
    "executionInfo": {
     "elapsed": 4,
     "status": "ok",
     "timestamp": 1670675732175,
     "user": {
      "displayName": "Harshit Trivedi",
      "userId": "05510904477925688149"
     },
     "user_tz": -330
    },
    "id": "mNBzXFly-_az",
    "outputId": "ea7c4db2-dc4a-4728-b765-cf8d9b47b274"
   },
   "outputs": [
    {
     "data": {
      "text/plain": [
       "475257"
      ]
     },
     "execution_count": 24,
     "metadata": {},
     "output_type": "execute_result"
    }
   ],
   "source": [
    "customer_count"
   ]
  },
  {
   "cell_type": "code",
   "execution_count": 25,
   "metadata": {
    "colab": {
     "base_uri": "https://localhost:8080/"
    },
    "executionInfo": {
     "elapsed": 5070,
     "status": "ok",
     "timestamp": 1670675748263,
     "user": {
      "displayName": "Harshit Trivedi",
      "userId": "05510904477925688149"
     },
     "user_tz": -330
    },
    "id": "WurjX2Y3-_az",
    "outputId": "ae3ea1f7-d205-444f-ffe4-dfdae6e5029f"
   },
   "outputs": [
    {
     "data": {
      "text/plain": [
       "470758"
      ]
     },
     "execution_count": 25,
     "metadata": {},
     "output_type": "execute_result"
    }
   ],
   "source": [
    "#without NaN values\n",
    "customer_count=netflix_dataset['Cust_Id'].nunique()-movie_count\n",
    "customer_count"
   ]
  },
  {
   "cell_type": "code",
   "execution_count": 26,
   "metadata": {
    "colab": {
     "base_uri": "https://localhost:8080/"
    },
    "executionInfo": {
     "elapsed": 769,
     "status": "ok",
     "timestamp": 1670675757786,
     "user": {
      "displayName": "Harshit Trivedi",
      "userId": "05510904477925688149"
     },
     "user_tz": -330
    },
    "id": "jThYH-kK-_az",
    "outputId": "78679f09-4f0d-423b-8666-862af790ac57"
   },
   "outputs": [
    {
     "data": {
      "text/plain": [
       "24053764"
      ]
     },
     "execution_count": 26,
     "metadata": {},
     "output_type": "execute_result"
    }
   ],
   "source": [
    "#get the total number of ratings given by the customers\n",
    "rating_count=netflix_dataset['Cust_Id'].count()-movie_count\n",
    "rating_count"
   ]
  },
  {
   "cell_type": "code",
   "execution_count": 27,
   "metadata": {
    "colab": {
     "base_uri": "https://localhost:8080/",
     "height": 626
    },
    "executionInfo": {
     "elapsed": 1074,
     "status": "ok",
     "timestamp": 1670675761879,
     "user": {
      "displayName": "Harshit Trivedi",
      "userId": "05510904477925688149"
     },
     "user_tz": -330
    },
    "id": "-o191CZK-_a0",
    "outputId": "24b2dcad-b494-47b4-a784-91ad3aa35f51"
   },
   "outputs": [
    {
     "data": {
      "image/png": "[encoded data removed]",
      "text/plain": [
       "<Figure size 1080x720 with 1 Axes>"
      ]
     },
     "metadata": {
      "needs_background": "light"
     },
     "output_type": "display_data"
    }
   ],
   "source": [
    "ax=stars.plot(kind='barh', legend=False, figsize=(15,10))\n",
    "plt.title(f'Total pool: {movie_count} Movies, {customer_count} Customers, {rating_count} ratings given', fontsize=20)\n",
    "plt.grid(True)"
   ]
  },
  {
   "cell_type": "code",
   "execution_count": 29,
   "metadata": {
    "executionInfo": {
     "elapsed": 421,
     "status": "ok",
     "timestamp": 1670675767670,
     "user": {
      "displayName": "Harshit Trivedi",
      "userId": "05510904477925688149"
     },
     "user_tz": -330
    },
    "id": "hz1ummB_-_a0"
   },
   "outputs": [],
   "source": [
    "#add another column that will have movie id\n",
    "#first of all we will be calculating how many null values I am having in the ratings column\n",
    "df_nan=pd.DataFrame(pd.isnull(netflix_dataset.Rating))"
   ]
  },
  {
   "cell_type": "code",
   "execution_count": 30,
   "metadata": {
    "colab": {
     "base_uri": "https://localhost:8080/",
     "height": 206
    },
    "executionInfo": {
     "elapsed": 17,
     "status": "ok",
     "timestamp": 1670675770049,
     "user": {
      "displayName": "Harshit Trivedi",
      "userId": "05510904477925688149"
     },
     "user_tz": -330
    },
    "id": "ZJOsW9z_-_a0",
    "outputId": "e56fffa4-08e9-433e-8bee-a30622de3123"
   },
   "outputs": [
    {
     "data": {
      "text/html": [
       "<div>\n",
       "<style scoped>\n",
       "    .dataframe tbody tr th:only-of-type {\n",
       "        vertical-align: middle;\n",
       "    }\n",
       "\n",
       "    .dataframe tbody tr th {\n",
       "        vertical-align: top;\n",
       "    }\n",
       "\n",
       "    .dataframe thead th {\n",
       "        text-align: right;\n",
       "    }\n",
       "</style>\n",
       "<table border=\"1\" class=\"dataframe\">\n",
       "  <thead>\n",
       "    <tr style=\"text-align: right;\">\n",
       "      <th></th>\n",
       "      <th>Rating</th>\n",
       "    </tr>\n",
       "  </thead>\n",
       "  <tbody>\n",
       "    <tr>\n",
       "      <th>0</th>\n",
       "      <td>True</td>\n",
       "    </tr>\n",
       "    <tr>\n",
       "      <th>1</th>\n",
       "      <td>False</td>\n",
       "    </tr>\n",
       "    <tr>\n",
       "      <th>2</th>\n",
       "      <td>False</td>\n",
       "    </tr>\n",
       "    <tr>\n",
       "      <th>3</th>\n",
       "      <td>False</td>\n",
       "    </tr>\n",
       "    <tr>\n",
       "      <th>4</th>\n",
       "      <td>False</td>\n",
       "    </tr>\n",
       "  </tbody>\n",
       "</table>\n",
       "</div>"
      ],
      "text/plain": [
       "   Rating\n",
       "0    True\n",
       "1   False\n",
       "2   False\n",
       "3   False\n",
       "4   False"
      ]
     },
     "execution_count": 30,
     "metadata": {},
     "output_type": "execute_result"
    }
   ],
   "source": [
    "df_nan.head()"
   ]
  },
  {
   "cell_type": "code",
   "execution_count": 31,
   "metadata": {
    "executionInfo": {
     "elapsed": 4,
     "status": "ok",
     "timestamp": 1670675772047,
     "user": {
      "displayName": "Harshit Trivedi",
      "userId": "05510904477925688149"
     },
     "user_tz": -330
    },
    "id": "hxpTM_Yx-_a1"
   },
   "outputs": [],
   "source": [
    "df_nan=df_nan[df_nan['Rating']==True]"
   ]
  },
  {
   "cell_type": "code",
   "execution_count": 32,
   "metadata": {
    "colab": {
     "base_uri": "https://localhost:8080/"
    },
    "executionInfo": {
     "elapsed": 6,
     "status": "ok",
     "timestamp": 1670675774117,
     "user": {
      "displayName": "Harshit Trivedi",
      "userId": "05510904477925688149"
     },
     "user_tz": -330
    },
    "id": "Oz8sHr1b-_a1",
    "outputId": "f9bfa2fe-1a4d-43ab-c4e0-989021382772"
   },
   "outputs": [
    {
     "data": {
      "text/plain": [
       "(4499, 1)"
      ]
     },
     "execution_count": 32,
     "metadata": {},
     "output_type": "execute_result"
    }
   ],
   "source": [
    "df_nan.shape"
   ]
  },
  {
   "cell_type": "code",
   "execution_count": 33,
   "metadata": {
    "colab": {
     "base_uri": "https://localhost:8080/",
     "height": 206
    },
    "executionInfo": {
     "elapsed": 16,
     "status": "ok",
     "timestamp": 1670675776489,
     "user": {
      "displayName": "Harshit Trivedi",
      "userId": "05510904477925688149"
     },
     "user_tz": -330
    },
    "id": "ZnWtAJZ7-_a1",
    "outputId": "965a2889-1aff-41ae-a1ed-e6bf489c50ef"
   },
   "outputs": [
    {
     "data": {
      "text/html": [
       "<div>\n",
       "<style scoped>\n",
       "    .dataframe tbody tr th:only-of-type {\n",
       "        vertical-align: middle;\n",
       "    }\n",
       "\n",
       "    .dataframe tbody tr th {\n",
       "        vertical-align: top;\n",
       "    }\n",
       "\n",
       "    .dataframe thead th {\n",
       "        text-align: right;\n",
       "    }\n",
       "</style>\n",
       "<table border=\"1\" class=\"dataframe\">\n",
       "  <thead>\n",
       "    <tr style=\"text-align: right;\">\n",
       "      <th></th>\n",
       "      <th>Rating</th>\n",
       "    </tr>\n",
       "  </thead>\n",
       "  <tbody>\n",
       "    <tr>\n",
       "      <th>0</th>\n",
       "      <td>True</td>\n",
       "    </tr>\n",
       "    <tr>\n",
       "      <th>548</th>\n",
       "      <td>True</td>\n",
       "    </tr>\n",
       "    <tr>\n",
       "      <th>694</th>\n",
       "      <td>True</td>\n",
       "    </tr>\n",
       "    <tr>\n",
       "      <th>2707</th>\n",
       "      <td>True</td>\n",
       "    </tr>\n",
       "    <tr>\n",
       "      <th>2850</th>\n",
       "      <td>True</td>\n",
       "    </tr>\n",
       "  </tbody>\n",
       "</table>\n",
       "</div>"
      ],
      "text/plain": [
       "      Rating\n",
       "0       True\n",
       "548     True\n",
       "694     True\n",
       "2707    True\n",
       "2850    True"
      ]
     },
     "execution_count": 33,
     "metadata": {},
     "output_type": "execute_result"
    }
   ],
   "source": [
    "df_nan.head()"
   ]
  },
  {
   "cell_type": "code",
   "execution_count": 34,
   "metadata": {
    "executionInfo": {
     "elapsed": 4,
     "status": "ok",
     "timestamp": 1670675778455,
     "user": {
      "displayName": "Harshit Trivedi",
      "userId": "05510904477925688149"
     },
     "user_tz": -330
    },
    "id": "8BY_bcJC-_a1"
   },
   "outputs": [],
   "source": [
    "#now we will reset the index as the column\n",
    "df_nan=df_nan.reset_index()"
   ]
  },
  {
   "cell_type": "code",
   "execution_count": 35,
   "metadata": {
    "colab": {
     "base_uri": "https://localhost:8080/",
     "height": 206
    },
    "executionInfo": {
     "elapsed": 18,
     "status": "ok",
     "timestamp": 1670675780640,
     "user": {
      "displayName": "Harshit Trivedi",
      "userId": "05510904477925688149"
     },
     "user_tz": -330
    },
    "id": "_NC5KPs6-_a2",
    "outputId": "6e32a768-7e8e-4f3e-9aef-eb4d931032dd"
   },
   "outputs": [
    {
     "data": {
      "text/html": [
       "<div>\n",
       "<style scoped>\n",
       "    .dataframe tbody tr th:only-of-type {\n",
       "        vertical-align: middle;\n",
       "    }\n",
       "\n",
       "    .dataframe tbody tr th {\n",
       "        vertical-align: top;\n",
       "    }\n",
       "\n",
       "    .dataframe thead th {\n",
       "        text-align: right;\n",
       "    }\n",
       "</style>\n",
       "<table border=\"1\" class=\"dataframe\">\n",
       "  <thead>\n",
       "    <tr style=\"text-align: right;\">\n",
       "      <th></th>\n",
       "      <th>index</th>\n",
       "      <th>Rating</th>\n",
       "    </tr>\n",
       "  </thead>\n",
       "  <tbody>\n",
       "    <tr>\n",
       "      <th>0</th>\n",
       "      <td>0</td>\n",
       "      <td>True</td>\n",
       "    </tr>\n",
       "    <tr>\n",
       "      <th>1</th>\n",
       "      <td>548</td>\n",
       "      <td>True</td>\n",
       "    </tr>\n",
       "    <tr>\n",
       "      <th>2</th>\n",
       "      <td>694</td>\n",
       "      <td>True</td>\n",
       "    </tr>\n",
       "    <tr>\n",
       "      <th>3</th>\n",
       "      <td>2707</td>\n",
       "      <td>True</td>\n",
       "    </tr>\n",
       "    <tr>\n",
       "      <th>4</th>\n",
       "      <td>2850</td>\n",
       "      <td>True</td>\n",
       "    </tr>\n",
       "  </tbody>\n",
       "</table>\n",
       "</div>"
      ],
      "text/plain": [
       "   index  Rating\n",
       "0      0    True\n",
       "1    548    True\n",
       "2    694    True\n",
       "3   2707    True\n",
       "4   2850    True"
      ]
     },
     "execution_count": 35,
     "metadata": {},
     "output_type": "execute_result"
    }
   ],
   "source": [
    "df_nan.head()"
   ]
  },
  {
   "cell_type": "code",
   "execution_count": 28,
   "metadata": {
    "colab": {
     "base_uri": "https://localhost:8080/"
    },
    "executionInfo": {
     "elapsed": 116478,
     "status": "ok",
     "timestamp": 1670675899391,
     "user": {
      "displayName": "Harshit Trivedi",
      "userId": "05510904477925688149"
     },
     "user_tz": -330
    },
    "id": "CQ1fBQIW-_a2",
    "outputId": "73831f18-2dc7-4f97-a3d2-1d661ec14232"
   },
   "outputs": [
    {
     "name": "stdout",
     "output_type": "stream",
     "text": [
      "Movie numpy: [1.000e+00 1.000e+00 1.000e+00 ... 4.499e+03 4.499e+03 4.499e+03]\n",
      "Length: 24053764\n"
     ]
    }
   ],
   "source": [
    "#now we will create a numpy array that will contain 1 from values 0 to 547, 2 from 548 to 693 and so on\n",
    "movie_np=[]\n",
    "movie_id=1\n",
    "for i, j in zip(df_nan['index'][1:], df_nan['index'][:-1]):\n",
    "    temp=np.full((1, i-j-1), movie_id)\n",
    "    movie_np=np.append(movie_np, temp)\n",
    "    movie_id=movie_id+1\n",
    "    \n",
    "#account for last record and corresponding length\n",
    "#numpy approach\n",
    "last_record=np.full((1, len(netflix_dataset)-df_nan.iloc[-1,0]-1), movie_id)#movie id will be 4499\n",
    "movie_np=np.append(movie_np, last_record)\n",
    "print(f'Movie numpy: {movie_np}')\n",
    "print(f'Length: {len(movie_np)}')"
   ]
  },
  {
   "cell_type": "code",
   "execution_count": 29,
   "metadata": {
    "executionInfo": {
     "elapsed": 987,
     "status": "ok",
     "timestamp": 1670675904116,
     "user": {
      "displayName": "Harshit Trivedi",
      "userId": "05510904477925688149"
     },
     "user_tz": -330
    },
    "id": "PLMPJjfN-_a2"
   },
   "outputs": [],
   "source": [
    "#working\n",
    "x=zip(df_nan['index'][1:], df_nan['index'][:-1])"
   ]
  },
  {
   "cell_type": "code",
   "execution_count": 30,
   "metadata": {
    "colab": {
     "base_uri": "https://localhost:8080/"
    },
    "executionInfo": {
     "elapsed": 6,
     "status": "ok",
     "timestamp": 1670675909346,
     "user": {
      "displayName": "Harshit Trivedi",
      "userId": "05510904477925688149"
     },
     "user_tz": -330
    },
    "id": "RRv5WgJ5-_a2",
    "outputId": "c4e325de-a2e9-47f3-ee31-70007272c5cc"
   },
   "outputs": [
    {
     "data": {
      "text/plain": [
       "((548, 0),\n",
       " (694, 548),\n",
       " (2707, 694),\n",
       " (2850, 2707),\n",
       " (3991, 2850),\n",
       " (5011, 3991),\n",
       " (5105, 5011),\n",
       " (20016, 5105),\n",
       " (20112, 20016),\n",
       " (20362, 20112),\n",
       " (20561, 20362),\n",
       " (21108, 20561),\n",
       " (21234, 21108),\n",
       " (21353, 21234),\n",
       " (21644, 21353),\n",
       " (24344, 21644),\n",
       " (31453, 24344),\n",
       " (42176, 31453),\n",
       " (42716, 42176),\n",
       " (42833, 42716),\n",
       " (43052, 42833),\n",
       " (43256, 43052),\n",
       " (43872, 43256),\n",
       " (45206, 43872),\n",
       " (46414, 45206),\n",
       " (52276, 46414),\n",
       " (52550, 52276),\n",
       " (92303, 52550),\n",
       " (92827, 92303),\n",
       " (211241, 92827),\n",
       " (211463, 211241),\n",
       " (213318, 211463),\n",
       " (220209, 213318),\n",
       " (220318, 220209),\n",
       " (221158, 220318),\n",
       " (222098, 221158),\n",
       " (222380, 222098),\n",
       " (223183, 222380),\n",
       " (223936, 223183),\n",
       " (224428, 223936),\n",
       " (224522, 224428),\n",
       " (224651, 224522),\n",
       " (224757, 224651),\n",
       " (233259, 224757),\n",
       " (235879, 233259),\n",
       " (242438, 235879),\n",
       " (244789, 242438),\n",
       " (248381, 244789),\n",
       " (248613, 248381),\n",
       " (248942, 248613),\n",
       " (249033, 248942),\n",
       " (254181, 249033),\n",
       " (254296, 254181),\n",
       " (254456, 254296),\n",
       " (256863, 254456),\n",
       " (258697, 256863),\n",
       " (262260, 258697),\n",
       " (279666, 262260),\n",
       " (279871, 279666),\n",
       " (280167, 279871),\n",
       " (280315, 280167),\n",
       " (280606, 280315),\n",
       " (280791, 280606),\n",
       " (280887, 280791),\n",
       " (281146, 280887),\n",
       " (281313, 281146),\n",
       " (281603, 281313),\n",
       " (283820, 281603),\n",
       " (283937, 283820),\n",
       " (284281, 283937),\n",
       " (285843, 284281),\n",
       " (286023, 285843),\n",
       " (286771, 286023),\n",
       " (287160, 286771),\n",
       " (287380, 287160),\n",
       " (290335, 287380),\n",
       " (303934, 290335),\n",
       " (308785, 303934),\n",
       " (312183, 308785),\n",
       " (312458, 312183),\n",
       " (313708, 312458),\n",
       " (313828, 313708),\n",
       " (332553, 313828),\n",
       " (335306, 332553),\n",
       " (335573, 335306),\n",
       " (335750, 335573),\n",
       " (335868, 335750),\n",
       " (336847, 335868),\n",
       " (337726, 336847),\n",
       " (338352, 337726),\n",
       " (338920, 338352),\n",
       " (339082, 338920),\n",
       " (339257, 339082),\n",
       " (339600, 339257),\n",
       " (340536, 339600),\n",
       " (341025, 340536),\n",
       " (352534, 341025),\n",
       " (352665, 352534),\n",
       " (352792, 352665),\n",
       " (352871, 352792),\n",
       " (353202, 352871),\n",
       " (353533, 353202),\n",
       " (353743, 353533),\n",
       " (357244, 353743),\n",
       " (357437, 357244),\n",
       " (358378, 357437),\n",
       " (359208, 358378),\n",
       " (378227, 359208),\n",
       " (378773, 378227),\n",
       " (380933, 378773),\n",
       " (411061, 380933),\n",
       " (411301, 411061),\n",
       " (412695, 411301),\n",
       " (413124, 412695),\n",
       " (413791, 413124),\n",
       " (414918, 413791),\n",
       " (415900, 414918),\n",
       " (435141, 415900),\n",
       " (435238, 435141),\n",
       " (435578, 435238),\n",
       " (435678, 435578),\n",
       " (439061, 435678),\n",
       " (439338, 439061),\n",
       " (439508, 439338),\n",
       " (441238, 439508),\n",
       " (442423, 441238),\n",
       " (445438, 442423),\n",
       " (445856, 445438),\n",
       " (446613, 445856),\n",
       " (446700, 446613),\n",
       " (447406, 446700),\n",
       " (448237, 447406),\n",
       " (450801, 448237),\n",
       " (450901, 450801),\n",
       " (451286, 450901),\n",
       " (451407, 451286),\n",
       " (451612, 451407),\n",
       " (457620, 451612),\n",
       " (457717, 457620),\n",
       " (457837, 457717),\n",
       " (457964, 457837),\n",
       " (458291, 457964),\n",
       " (496654, 458291),\n",
       " (496944, 496654),\n",
       " (497400, 496944),\n",
       " (497767, 497400),\n",
       " (497899, 497767),\n",
       " (520094, 497899),\n",
       " (520157, 520094),\n",
       " (520423, 520157),\n",
       " (520600, 520423),\n",
       " (529763, 520600),\n",
       " (530085, 529763),\n",
       " (530244, 530085),\n",
       " (531225, 530244),\n",
       " (539405, 531225),\n",
       " (540111, 539405),\n",
       " (540486, 540111),\n",
       " (540651, 540486),\n",
       " (541551, 540651),\n",
       " (542201, 541551),\n",
       " (542676, 542201),\n",
       " (542870, 542676),\n",
       " (543523, 542870),\n",
       " (548112, 543523),\n",
       " (557548, 548112),\n",
       " (566700, 557548),\n",
       " (568054, 566700),\n",
       " (568390, 568054),\n",
       " (568606, 568390),\n",
       " (574797, 568606),\n",
       " (575120, 574797),\n",
       " (577357, 575120),\n",
       " (577549, 577357),\n",
       " (668000, 577549),\n",
       " (668211, 668000),\n",
       " (668453, 668211),\n",
       " (670385, 668453),\n",
       " (670672, 670385),\n",
       " (673091, 670672),\n",
       " (676650, 673091),\n",
       " (676885, 676650),\n",
       " (677049, 676885),\n",
       " (677449, 677049),\n",
       " (679747, 677449),\n",
       " (680039, 679747),\n",
       " (700089, 680039),\n",
       " (702639, 700089),\n",
       " (716777, 702639),\n",
       " (716882, 716777),\n",
       " (815603, 716882),\n",
       " (815879, 815603),\n",
       " (816001, 815879),\n",
       " (816648, 816001),\n",
       " (816834, 816648),\n",
       " (816989, 816834),\n",
       " (898250, 816989),\n",
       " (898445, 898250),\n",
       " (933955, 898445),\n",
       " (934085, 933955),\n",
       " (936810, 934085),\n",
       " (937193, 936810),\n",
       " (937290, 937193),\n",
       " (937521, 937290),\n",
       " (938035, 937521),\n",
       " (939132, 938035),\n",
       " (939391, 939132),\n",
       " (941588, 939391),\n",
       " (945962, 941588),\n",
       " (946650, 945962),\n",
       " (947305, 946650),\n",
       " (948196, 947305),\n",
       " (951679, 948196),\n",
       " (951804, 951679),\n",
       " (957622, 951804),\n",
       " (966518, 957622),\n",
       " (966944, 966518),\n",
       " (967060, 966944),\n",
       " (967172, 967060),\n",
       " (967394, 967172),\n",
       " (967556, 967394),\n",
       " (967656, 967556),\n",
       " (991782, 967656),\n",
       " (992869, 991782),\n",
       " (1000265, 992869),\n",
       " (1000455, 1000265),\n",
       " (1001786, 1000455),\n",
       " (1001882, 1001786),\n",
       " (1002535, 1001882),\n",
       " (1002662, 1002535),\n",
       " (1003431, 1002662),\n",
       " (1008408, 1003431),\n",
       " (1008827, 1008408),\n",
       " (1008925, 1008827),\n",
       " (1009368, 1008925),\n",
       " (1009494, 1009368),\n",
       " (1009843, 1009494),\n",
       " (1012179, 1009843),\n",
       " (1014370, 1012179),\n",
       " (1019555, 1014370),\n",
       " (1062678, 1019555),\n",
       " (1065054, 1062678),\n",
       " (1065174, 1065054),\n",
       " (1065280, 1065174),\n",
       " (1065372, 1065280),\n",
       " (1065804, 1065372),\n",
       " (1066458, 1065804),\n",
       " (1072620, 1066458),\n",
       " (1072818, 1072620),\n",
       " (1073592, 1072818),\n",
       " (1074797, 1073592),\n",
       " (1099185, 1074797),\n",
       " (1104236, 1099185),\n",
       " (1104427, 1104236),\n",
       " (1109014, 1104427),\n",
       " (1121279, 1109014),\n",
       " (1148637, 1121279),\n",
       " (1148802, 1148637),\n",
       " (1149679, 1148802),\n",
       " (1149885, 1149679),\n",
       " (1150412, 1149885),\n",
       " (1154791, 1150412),\n",
       " (1155692, 1154791),\n",
       " (1155827, 1155692),\n",
       " (1156136, 1155827),\n",
       " (1156263, 1156136),\n",
       " (1157426, 1156263),\n",
       " (1162972, 1157426),\n",
       " (1184440, 1162972),\n",
       " (1220872, 1184440),\n",
       " (1221351, 1220872),\n",
       " (1221414, 1221351),\n",
       " (1253442, 1221414),\n",
       " (1254217, 1253442),\n",
       " (1264821, 1254217),\n",
       " (1264937, 1264821),\n",
       " (1265095, 1264937),\n",
       " (1265179, 1265095),\n",
       " (1265917, 1265179),\n",
       " (1266457, 1265917),\n",
       " (1269675, 1266457),\n",
       " (1270069, 1269675),\n",
       " (1276446, 1270069),\n",
       " (1276544, 1276446),\n",
       " (1290553, 1276544),\n",
       " (1290745, 1290553),\n",
       " (1290996, 1290745),\n",
       " (1292145, 1290996),\n",
       " (1296558, 1292145),\n",
       " (1344210, 1296558),\n",
       " (1344319, 1344210),\n",
       " (1344854, 1344319),\n",
       " (1345263, 1344854),\n",
       " (1345726, 1345263),\n",
       " (1374681, 1345726),\n",
       " (1374798, 1374681),\n",
       " (1376755, 1374798),\n",
       " (1377211, 1376755),\n",
       " (1454156, 1377211),\n",
       " (1454269, 1454156),\n",
       " (1454445, 1454269),\n",
       " (1455325, 1454445),\n",
       " (1455551, 1455325),\n",
       " (1458979, 1455551),\n",
       " (1471800, 1458979),\n",
       " (1471998, 1471800),\n",
       " (1472121, 1471998),\n",
       " (1472322, 1472121),\n",
       " (1472776, 1472322),\n",
       " (1473222, 1472776),\n",
       " (1498058, 1473222),\n",
       " (1563536, 1498058),\n",
       " (1663349, 1563536),\n",
       " (1663864, 1663349),\n",
       " (1663974, 1663864),\n",
       " (1666495, 1663974),\n",
       " (1666590, 1666495),\n",
       " (1666686, 1666590),\n",
       " (1666806, 1666686),\n",
       " (1666931, 1666806),\n",
       " (1667076, 1666931),\n",
       " (1667975, 1667076),\n",
       " (1668688, 1667975),\n",
       " (1669080, 1668688),\n",
       " (1670202, 1669080),\n",
       " (1670368, 1670202),\n",
       " (1670547, 1670368),\n",
       " (1670745, 1670547),\n",
       " (1737012, 1670745),\n",
       " (1764051, 1737012),\n",
       " (1811219, 1764051),\n",
       " (1811369, 1811219),\n",
       " (1811763, 1811369),\n",
       " (1851639, 1811763),\n",
       " (1851789, 1851639),\n",
       " (1851989, 1851789),\n",
       " (1854283, 1851989),\n",
       " (1855686, 1854283),\n",
       " (1856240, 1855686),\n",
       " (1856419, 1856240),\n",
       " (1858282, 1856419),\n",
       " (1859641, 1858282),\n",
       " (1859734, 1859641),\n",
       " (1862339, 1859734),\n",
       " (1866515, 1862339),\n",
       " (1867001, 1866515),\n",
       " (1867110, 1867001),\n",
       " (1879850, 1867110),\n",
       " (1880434, 1879850),\n",
       " (1881586, 1880434),\n",
       " (1881716, 1881586),\n",
       " (1881836, 1881716),\n",
       " (1902297, 1881836),\n",
       " (1902440, 1902297),\n",
       " (1902591, 1902440),\n",
       " (1904462, 1902591),\n",
       " (1981777, 1904462),\n",
       " (1984786, 1981777),\n",
       " (1989367, 1984786),\n",
       " (1991599, 1989367),\n",
       " (2027449, 1991599),\n",
       " (2031386, 2027449),\n",
       " (2033030, 2031386),\n",
       " (2033154, 2033030),\n",
       " (2033415, 2033154),\n",
       " (2033766, 2033415),\n",
       " (2046204, 2033766),\n",
       " (2047600, 2046204),\n",
       " (2048563, 2047600),\n",
       " (2049048, 2048563),\n",
       " (2051053, 2049048),\n",
       " (2051202, 2051053),\n",
       " (2051288, 2051202),\n",
       " (2051532, 2051288),\n",
       " (2053597, 2051532),\n",
       " (2053791, 2053597),\n",
       " (2053904, 2053791),\n",
       " (2062090, 2053904),\n",
       " (2062249, 2062090),\n",
       " (2062779, 2062249),\n",
       " (2069440, 2062779),\n",
       " (2069599, 2069440),\n",
       " (2069823, 2069599),\n",
       " (2071262, 2069823),\n",
       " (2080631, 2071262),\n",
       " (2082101, 2080631),\n",
       " (2082690, 2082101),\n",
       " (2082908, 2082690),\n",
       " (2083300, 2082908),\n",
       " (2088543, 2083300),\n",
       " (2089116, 2088543),\n",
       " (2089177, 2089116),\n",
       " (2101071, 2089177),\n",
       " (2102689, 2101071),\n",
       " (2104512, 2102689),\n",
       " (2104717, 2104512),\n",
       " (2105466, 2104717),\n",
       " (2109032, 2105466),\n",
       " (2109158, 2109032),\n",
       " (2112852, 2109158),\n",
       " (2116099, 2112852),\n",
       " (2116222, 2116099),\n",
       " (2116663, 2116222),\n",
       " (2117122, 2116663),\n",
       " (2124244, 2117122),\n",
       " (2172862, 2124244),\n",
       " (2173082, 2172862),\n",
       " (2175904, 2173082),\n",
       " (2176352, 2175904),\n",
       " (2177362, 2176352),\n",
       " (2177566, 2177362),\n",
       " (2177887, 2177566),\n",
       " (2207797, 2177887),\n",
       " (2209226, 2207797),\n",
       " (2209353, 2209226),\n",
       " (2220610, 2209353),\n",
       " (2222076, 2220610),\n",
       " (2224138, 2222076),\n",
       " (2224740, 2224138),\n",
       " (2229236, 2224740),\n",
       " (2230224, 2229236),\n",
       " (2235723, 2230224),\n",
       " (2236020, 2235723),\n",
       " (2250141, 2236020),\n",
       " (2254674, 2250141),\n",
       " (2258892, 2254674),\n",
       " (2261574, 2258892),\n",
       " (2261690, 2261574),\n",
       " (2262910, 2261690),\n",
       " (2264457, 2262910),\n",
       " (2267907, 2264457),\n",
       " (2270622, 2267907),\n",
       " (2280666, 2270622),\n",
       " (2280805, 2280666),\n",
       " (2281149, 2280805),\n",
       " (2284635, 2281149),\n",
       " (2284801, 2284635),\n",
       " (2288514, 2284801),\n",
       " (2289203, 2288514),\n",
       " (2289311, 2289203),\n",
       " (2289652, 2289311),\n",
       " (2314945, 2289652),\n",
       " (2351461, 2314945),\n",
       " (2351552, 2351461),\n",
       " (2359087, 2351552),\n",
       " (2359807, 2359087),\n",
       " (2359899, 2359807),\n",
       " (2360089, 2359899),\n",
       " (2360180, 2360089),\n",
       " (2360318, 2360180),\n",
       " (2361431, 2360318),\n",
       " (2363862, 2361431),\n",
       " (2364289, 2363862),\n",
       " (2366123, 2364289),\n",
       " (2366908, 2366123),\n",
       " (2369359, 2366908),\n",
       " (2486122, 2369359),\n",
       " (2486478, 2486122),\n",
       " (2493750, 2486478),\n",
       " (2494095, 2493750),\n",
       " (2494640, 2494095),\n",
       " (2495419, 2494640),\n",
       " (2497706, 2495419),\n",
       " (2497789, 2497706),\n",
       " (2497890, 2497789),\n",
       " (2498253, 2497890),\n",
       " (2499309, 2498253),\n",
       " (2559725, 2499309),\n",
       " (2559831, 2559725),\n",
       " (2560411, 2559831),\n",
       " (2564912, 2560411),\n",
       " (2565428, 2564912),\n",
       " (2589031, 2565428),\n",
       " (2592067, 2589031),\n",
       " (2593109, 2592067),\n",
       " (2595137, 2593109),\n",
       " (2597379, 2595137),\n",
       " (2597811, 2597379),\n",
       " (2599584, 2597811),\n",
       " (2599944, 2599584),\n",
       " (2600321, 2599944),\n",
       " (2656826, 2600321),\n",
       " (2746837, 2656826),\n",
       " (2747070, 2746837),\n",
       " (2748397, 2747070),\n",
       " (2752298, 2748397),\n",
       " (2752576, 2752298),\n",
       " (2755824, 2752576),\n",
       " (2760651, 2755824),\n",
       " (2761525, 2760651),\n",
       " (2761814, 2761525),\n",
       " (2763538, 2761814),\n",
       " (2763645, 2763538),\n",
       " (2791247, 2763645),\n",
       " (2791787, 2791247),\n",
       " (2792023, 2791787),\n",
       " (2792599, 2792023),\n",
       " (2792882, 2792599),\n",
       " (2798671, 2792882),\n",
       " (2799204, 2798671),\n",
       " (2814384, 2799204),\n",
       " (2815962, 2814384),\n",
       " (2816214, 2815962),\n",
       " (2818558, 2816214),\n",
       " (2820934, 2818558),\n",
       " (2821092, 2820934),\n",
       " (2822402, 2821092),\n",
       " (2822597, 2822402),\n",
       " (2822784, 2822597),\n",
       " (2822969, 2822784),\n",
       " (2824683, 2822969),\n",
       " (2824981, 2824683),\n",
       " (2825406, 2824981),\n",
       " (2826274, 2825406),\n",
       " (2826407, 2826274),\n",
       " (2846589, 2826407),\n",
       " (2853157, 2846589),\n",
       " (2855426, 2853157),\n",
       " (2855768, 2855426),\n",
       " (2855944, 2855768),\n",
       " (2856077, 2855944),\n",
       " (2856398, 2856077),\n",
       " (2856693, 2856398),\n",
       " (2862830, 2856693),\n",
       " (2862976, 2862830),\n",
       " (2863558, 2862976),\n",
       " (2863830, 2863558),\n",
       " (2892285, 2863830),\n",
       " (2892775, 2892285),\n",
       " (2892932, 2892775),\n",
       " (2893339, 2892932),\n",
       " (2894397, 2893339),\n",
       " (2900313, 2894397),\n",
       " (2905631, 2900313),\n",
       " (2911742, 2905631),\n",
       " (2912159, 2911742),\n",
       " (2912347, 2912159),\n",
       " (2912550, 2912347),\n",
       " (2912779, 2912550),\n",
       " (2912942, 2912779),\n",
       " (2913047, 2912942),\n",
       " (2913219, 2913047),\n",
       " (2914429, 2913219),\n",
       " (2914583, 2914429),\n",
       " (2914922, 2914583),\n",
       " (2915079, 2914922),\n",
       " (2915679, 2915079),\n",
       " (2923419, 2915679),\n",
       " (2923492, 2923419),\n",
       " (2957290, 2923492),\n",
       " (2972113, 2957290),\n",
       " (2972844, 2972113),\n",
       " (2973444, 2972844),\n",
       " (2979335, 2973444),\n",
       " (2980386, 2979335),\n",
       " (2981016, 2980386),\n",
       " (2981190, 2981016),\n",
       " (2981768, 2981190),\n",
       " (2981884, 2981768),\n",
       " (2983591, 2981884),\n",
       " (2986392, 2983591),\n",
       " (2986479, 2986392),\n",
       " (2997326, 2986479),\n",
       " (3008152, 2997326),\n",
       " (3008285, 3008152),\n",
       " (3008937, 3008285),\n",
       " (3009118, 3008937),\n",
       " (3009303, 3009118),\n",
       " (3013654, 3009303),\n",
       " (3013917, 3013654),\n",
       " (3168750, 3013917),\n",
       " (3169311, 3168750),\n",
       " (3169516, 3169311),\n",
       " (3169625, 3169516),\n",
       " (3171748, 3169625),\n",
       " (3172396, 3171748),\n",
       " (3174491, 3172396),\n",
       " (3174726, 3174491),\n",
       " (3176774, 3174726),\n",
       " (3185040, 3176774),\n",
       " (3185125, 3185040),\n",
       " (3187339, 3185125),\n",
       " (3187495, 3187339),\n",
       " (3188504, 3187495),\n",
       " (3190488, 3188504),\n",
       " (3192825, 3190488),\n",
       " (3193354, 3192825),\n",
       " (3195408, 3193354),\n",
       " (3196008, 3195408),\n",
       " (3196186, 3196008),\n",
       " (3196701, 3196186),\n",
       " (3196839, 3196701),\n",
       " (3196932, 3196839),\n",
       " (3197227, 3196932),\n",
       " (3198850, 3197227),\n",
       " (3200012, 3198850),\n",
       " (3200229, 3200012),\n",
       " (3200477, 3200229),\n",
       " (3210224, 3200477),\n",
       " (3213135, 3210224),\n",
       " (3213542, 3213135),\n",
       " (3214735, 3213542),\n",
       " (3215137, 3214735),\n",
       " (3215253, 3215137),\n",
       " (3215492, 3215253),\n",
       " (3216337, 3215492),\n",
       " (3316586, 3216337),\n",
       " (3316655, 3316586),\n",
       " (3317426, 3316655),\n",
       " (3317531, 3317426),\n",
       " (3317678, 3317531),\n",
       " (3317933, 3317678),\n",
       " (3318514, 3317933),\n",
       " (3318657, 3318514),\n",
       " (3332446, 3318657),\n",
       " (3332561, 3332446),\n",
       " (3333357, 3332561),\n",
       " (3333719, 3333357),\n",
       " (3333986, 3333719),\n",
       " (3334657, 3333986),\n",
       " (3343210, 3334657),\n",
       " (3343558, 3343210),\n",
       " (3343798, 3343558),\n",
       " (3344893, 3343798),\n",
       " (3345490, 3344893),\n",
       " (3345788, 3345490),\n",
       " (3345887, 3345788),\n",
       " (3346552, 3345887),\n",
       " (3358369, 3346552),\n",
       " (3358615, 3358369),\n",
       " (3366915, 3358615),\n",
       " (3367644, 3366915),\n",
       " (3368066, 3367644),\n",
       " (3369599, 3368066),\n",
       " (3369741, 3369599),\n",
       " (3383461, 3369741),\n",
       " (3384158, 3383461),\n",
       " (3388324, 3384158),\n",
       " (3388516, 3388324),\n",
       " (3388954, 3388516),\n",
       " (3390154, 3388954),\n",
       " (3391391, 3390154),\n",
       " (3394672, 3391391),\n",
       " (3394975, 3394672),\n",
       " (3403661, 3394975),\n",
       " (3407697, 3403661),\n",
       " (3408389, 3407697),\n",
       " (3408560, 3408389),\n",
       " (3408641, 3408560),\n",
       " (3409081, 3408641),\n",
       " (3409226, 3409081),\n",
       " (3414356, 3409226),\n",
       " (3414493, 3414356),\n",
       " (3414579, 3414493),\n",
       " (3415397, 3414579),\n",
       " (3415517, 3415397),\n",
       " (3417448, 3415517),\n",
       " (3461450, 3417448),\n",
       " (3464440, 3461450),\n",
       " (3485242, 3464440),\n",
       " (3488684, 3485242),\n",
       " (3500094, 3488684),\n",
       " (3500906, 3500094),\n",
       " (3501264, 3500906),\n",
       " (3501472, 3501264),\n",
       " (3501824, 3501472),\n",
       " (3502929, 3501824),\n",
       " (3509294, 3502929),\n",
       " (3509374, 3509294),\n",
       " (3516942, 3509374),\n",
       " (3517421, 3516942),\n",
       " (3521868, 3517421),\n",
       " (3523201, 3521868),\n",
       " (3530839, 3523201),\n",
       " (3531019, 3530839),\n",
       " (3533408, 3531019),\n",
       " (3539760, 3533408),\n",
       " (3540043, 3539760),\n",
       " (3540132, 3540043),\n",
       " (3542830, 3540132),\n",
       " (3546917, 3542830),\n",
       " (3551684, 3546917),\n",
       " (3551823, 3551684),\n",
       " (3551998, 3551823),\n",
       " (3553062, 3551998),\n",
       " (3567732, 3553062),\n",
       " (3567866, 3567732),\n",
       " (3568191, 3567866),\n",
       " (3576886, 3568191),\n",
       " (3577816, 3576886),\n",
       " (3578005, 3577816),\n",
       " (3610834, 3578005),\n",
       " (3613241, 3610834),\n",
       " (3614127, 3613241),\n",
       " (3614294, 3614127),\n",
       " (3621389, 3614294),\n",
       " (3621599, 3621389),\n",
       " (3621679, 3621599),\n",
       " (3622039, 3621679),\n",
       " (3626724, 3622039),\n",
       " (3627047, 3626724),\n",
       " (3627257, 3627047),\n",
       " (3627452, 3627257),\n",
       " (3627615, 3627452),\n",
       " (3666296, 3627615),\n",
       " (3666964, 3666296),\n",
       " (3669241, 3666964),\n",
       " (3741623, 3669241),\n",
       " (3741987, 3741623),\n",
       " (3742245, 3741987),\n",
       " (3757005, 3742245),\n",
       " (3757904, 3757005),\n",
       " (3758035, 3757904),\n",
       " (3758112, 3758035),\n",
       " (3758616, 3758112),\n",
       " (3758719, 3758616),\n",
       " (3760671, 3758719),\n",
       " (3762419, 3760671),\n",
       " (3763234, 3762419),\n",
       " (3789953, 3763234),\n",
       " (3790297, 3789953),\n",
       " (3796253, 3790297),\n",
       " (3810292, 3796253),\n",
       " (3811516, 3810292),\n",
       " (3816649, 3811516),\n",
       " (3816818, 3816649),\n",
       " (3816952, 3816818),\n",
       " (3817135, 3816952),\n",
       " (3817350, 3817135),\n",
       " (3821819, 3817350),\n",
       " (3823814, 3821819),\n",
       " (3826378, 3823814),\n",
       " (3829065, 3826378),\n",
       " (3835781, 3829065),\n",
       " (3835979, 3835781),\n",
       " (3836295, 3835979),\n",
       " (3836403, 3836295),\n",
       " (3836994, 3836403),\n",
       " (3837933, 3836994),\n",
       " (3838060, 3837933),\n",
       " (3838480, 3838060),\n",
       " (3838696, 3838480),\n",
       " (3839156, 3838696),\n",
       " (3839263, 3839156),\n",
       " (3839377, 3839263),\n",
       " (3863505, 3839377),\n",
       " (3863610, 3863505),\n",
       " (3867248, 3863610),\n",
       " (3870554, 3867248),\n",
       " (3872626, 3870554),\n",
       " (3882187, 3872626),\n",
       " (3890857, 3882187),\n",
       " (3891017, 3890857),\n",
       " (3893054, 3891017),\n",
       " (3894063, 3893054),\n",
       " (3894151, 3894063),\n",
       " (3894276, 3894151),\n",
       " (3998639, 3894276),\n",
       " (4015496, 3998639),\n",
       " (4024809, 4015496),\n",
       " (4026873, 4024809),\n",
       " (4029209, 4026873),\n",
       " (4041127, 4029209),\n",
       " (4041782, 4041127),\n",
       " (4042000, 4041782),\n",
       " (4042406, 4042000),\n",
       " (4042721, 4042406),\n",
       " (4043381, 4042721),\n",
       " (4043493, 4043381),\n",
       " (4043662, 4043493),\n",
       " (4044051, 4043662),\n",
       " (4044121, 4044051),\n",
       " (4044654, 4044121),\n",
       " (4047130, 4044654),\n",
       " (4047609, 4047130),\n",
       " (4048966, 4047609),\n",
       " (4049579, 4048966),\n",
       " (4049706, 4049579),\n",
       " (4050134, 4049706),\n",
       " (4050532, 4050134),\n",
       " (4051274, 4050532),\n",
       " (4051370, 4051274),\n",
       " (4052574, 4051370),\n",
       " (4052799, 4052574),\n",
       " (4053187, 4052799),\n",
       " (4053696, 4053187),\n",
       " (4053779, 4053696),\n",
       " (4112307, 4053779),\n",
       " (4143845, 4112307),\n",
       " (4144211, 4143845),\n",
       " (4144600, 4144211),\n",
       " (4144721, 4144600),\n",
       " (4144929, 4144721),\n",
       " (4145739, 4144929),\n",
       " (4145951, 4145739),\n",
       " (4146401, 4145951),\n",
       " (4146722, 4146401),\n",
       " (4228001, 4146722),\n",
       " (4229106, 4228001),\n",
       " (4229261, 4229106),\n",
       " (4229420, 4229261),\n",
       " (4229521, 4229420),\n",
       " (4229885, 4229521),\n",
       " (4230495, 4229885),\n",
       " (4230792, 4230495),\n",
       " (4231789, 4230792),\n",
       " (4234851, 4231789),\n",
       " (4238565, 4234851),\n",
       " (4242454, 4238565),\n",
       " (4242560, 4242454),\n",
       " (4254109, 4242560),\n",
       " (4254232, 4254109),\n",
       " (4254375, 4254232),\n",
       " (4254805, 4254375),\n",
       " (4255045, 4254805),\n",
       " (4255147, 4255045),\n",
       " (4259998, 4255147),\n",
       " (4274383, 4259998),\n",
       " (4290170, 4274383),\n",
       " (4290216, 4290170),\n",
       " (4290336, 4290216),\n",
       " (4294149, 4290336),\n",
       " (4294427, 4294149),\n",
       " (4295366, 4294427),\n",
       " (4301239, 4295366),\n",
       " (4301412, 4301239),\n",
       " (4301580, 4301412),\n",
       " (4301798, 4301580),\n",
       " (4310891, 4301798),\n",
       " (4311025, 4310891),\n",
       " (4330589, 4311025),\n",
       " (4334084, 4330589),\n",
       " (4342463, 4334084),\n",
       " (4342836, 4342463),\n",
       " (4343474, 4342836),\n",
       " (4344266, 4343474),\n",
       " (4345511, 4344266),\n",
       " (4346110, 4345511),\n",
       " (4347028, 4346110),\n",
       " (4350585, 4347028),\n",
       " (4350736, 4350585),\n",
       " (4351316, 4350736),\n",
       " (4362718, 4351316),\n",
       " (4362899, 4362718),\n",
       " (4363136, 4362899),\n",
       " (4366735, 4363136),\n",
       " (4366981, 4366735),\n",
       " (4367351, 4366981),\n",
       " (4368879, 4367351),\n",
       " (4370975, 4368879),\n",
       " (4396076, 4370975),\n",
       " (4396646, 4396076),\n",
       " (4397112, 4396646),\n",
       " (4397270, 4397112),\n",
       " (4397728, 4397270),\n",
       " (4398114, 4397728),\n",
       " (4399602, 4398114),\n",
       " (4400155, 4399602),\n",
       " (4411232, 4400155),\n",
       " (4411362, 4411232),\n",
       " (4411936, 4411362),\n",
       " (4431288, 4411936),\n",
       " (4431584, 4431288),\n",
       " (4431798, 4431584),\n",
       " (4432054, 4431798),\n",
       " (4432880, 4432054),\n",
       " (4433016, 4432880),\n",
       " (4433653, 4433016),\n",
       " (4433767, 4433653),\n",
       " (4433905, 4433767),\n",
       " (4435326, 4433905),\n",
       " (4467018, 4435326),\n",
       " (4468250, 4467018),\n",
       " (4468353, 4468250),\n",
       " (4468550, 4468353),\n",
       " (4468737, 4468550),\n",
       " (4469177, 4468737),\n",
       " (4469270, 4469177),\n",
       " (4469729, 4469270),\n",
       " (4471401, 4469729),\n",
       " (4472534, 4471401),\n",
       " (4472617, 4472534),\n",
       " (4477154, 4472617),\n",
       " (4477250, 4477154),\n",
       " (4477713, 4477250),\n",
       " (4586320, 4477713),\n",
       " (4586562, 4586320),\n",
       " (4586672, 4586562),\n",
       " (4589587, 4586672),\n",
       " (4589946, 4589587),\n",
       " (4590234, 4589946),\n",
       " (4590877, 4590234),\n",
       " (4591658, 4590877),\n",
       " (4596503, 4591658),\n",
       " (4598971, 4596503),\n",
       " (4629565, 4598971),\n",
       " (4641922, 4629565),\n",
       " (4643149, 4641922),\n",
       " (4643339, 4643149),\n",
       " (4654517, 4643339),\n",
       " (4655109, 4654517),\n",
       " (4655710, 4655109),\n",
       " (4655819, 4655710),\n",
       " (4656018, 4655819),\n",
       " (4656165, 4656018),\n",
       " (4657022, 4656165),\n",
       " (4661923, 4657022),\n",
       " (4672962, 4661923),\n",
       " (4673301, 4672962),\n",
       " (4673438, 4673301),\n",
       " (4673978, 4673438),\n",
       " (4674301, 4673978),\n",
       " (4674470, 4674301),\n",
       " (4674593, 4674470),\n",
       " (4674637, 4674593),\n",
       " (4675080, 4674637),\n",
       " (4675193, 4675080),\n",
       " (4682768, 4675193),\n",
       " (4693603, 4682768),\n",
       " (4693717, 4693603),\n",
       " (4694503, 4693717),\n",
       " (4694707, 4694503),\n",
       " (4694821, 4694707),\n",
       " (4694915, 4694821),\n",
       " (4695645, 4694915),\n",
       " (4695755, 4695645),\n",
       " (4695973, 4695755),\n",
       " (4696317, 4695973),\n",
       " (4697226, 4696317),\n",
       " (4697865, 4697226),\n",
       " (4699675, 4697865),\n",
       " (4699829, 4699675),\n",
       " (4700093, 4699829),\n",
       " (4701460, 4700093),\n",
       " (4702187, 4701460),\n",
       " (4702357, 4702187),\n",
       " (4726049, 4702357),\n",
       " (4726230, 4726049),\n",
       " (4726392, 4726230),\n",
       " (4744857, 4726392),\n",
       " (4745019, 4744857),\n",
       " (4748274, 4745019),\n",
       " (4750028, 4748274),\n",
       " (4750118, 4750028),\n",
       " (4750232, 4750118),\n",
       " (4750374, 4750232),\n",
       " (4751401, 4750374),\n",
       " (4751538, 4751401),\n",
       " (4753215, 4751538),\n",
       " (4753307, 4753215),\n",
       " (4753640, 4753307),\n",
       " (4756051, 4753640),\n",
       " (4763052, 4756051),\n",
       " (4771142, 4763052),\n",
       " (4771407, 4771142),\n",
       " (4774445, 4771407),\n",
       " (4775061, 4774445),\n",
       " (4775326, 4775061),\n",
       " (4775521, 4775326),\n",
       " (4776594, 4775521),\n",
       " (4778965, 4776594),\n",
       " (4800250, 4778965),\n",
       " (4837561, 4800250),\n",
       " (4840438, 4837561),\n",
       " (4840763, 4840438),\n",
       " (4840960, 4840763),\n",
       " (4841827, 4840960),\n",
       " (4841935, 4841827),\n",
       " (4842068, 4841935),\n",
       " (4842272, 4842068),\n",
       " (4845410, 4842272),\n",
       " (4845639, 4845410),\n",
       " (4845865, 4845639),\n",
       " (4846492, 4845865),\n",
       " (4846623, 4846492),\n",
       " (4846790, 4846623),\n",
       " (4848867, 4846790),\n",
       " (4851123, 4848867),\n",
       " (4851252, 4851123),\n",
       " (4852480, 4851252),\n",
       " (4852795, 4852480),\n",
       " (4854359, 4852795),\n",
       " (4854857, 4854359),\n",
       " (4856571, 4854857),\n",
       " (4946571, 4856571),\n",
       " (4950210, 4946571),\n",
       " (4950306, 4950210),\n",
       " (4952146, 4950306),\n",
       " (4970445, 4952146),\n",
       " (4973404, 4970445),\n",
       " (4973764, 4973404),\n",
       " (4979975, 4973764),\n",
       " (4983313, 4979975),\n",
       " (4996567, 4983313),\n",
       " (4996672, 4996567),\n",
       " (5008531, 4996672),\n",
       " (5008834, 5008531),\n",
       " (5009281, 5008834),\n",
       " (5010438, 5009281),\n",
       " (5011199, 5010438),\n",
       " ...)"
      ]
     },
     "execution_count": 30,
     "metadata": {},
     "output_type": "execute_result"
    }
   ],
   "source": [
    "tuple(x)"
   ]
  },
  {
   "cell_type": "code",
   "execution_count": 31,
   "metadata": {
    "executionInfo": {
     "elapsed": 4,
     "status": "ok",
     "timestamp": 1670675915534,
     "user": {
      "displayName": "Harshit Trivedi",
      "userId": "05510904477925688149"
     },
     "user_tz": -330
    },
    "id": "ivxxohl_-_a3"
   },
   "outputs": [],
   "source": [
    "temp=np.full((1,547), 1)"
   ]
  },
  {
   "cell_type": "code",
   "execution_count": 32,
   "metadata": {
    "colab": {
     "base_uri": "https://localhost:8080/"
    },
    "executionInfo": {
     "elapsed": 669,
     "status": "ok",
     "timestamp": 1670675918662,
     "user": {
      "displayName": "Harshit Trivedi",
      "userId": "05510904477925688149"
     },
     "user_tz": -330
    },
    "id": "SwTS2-BD-_a3",
    "outputId": "60694148-a23d-402c-a1f6-a9117d3ca00d"
   },
   "outputs": [
    {
     "name": "stdout",
     "output_type": "stream",
     "text": [
      "[[1 1 1 1 1 1 1 1 1 1 1 1 1 1 1 1 1 1 1 1 1 1 1 1 1 1 1 1 1 1 1 1 1 1 1 1\n",
      "  1 1 1 1 1 1 1 1 1 1 1 1 1 1 1 1 1 1 1 1 1 1 1 1 1 1 1 1 1 1 1 1 1 1 1 1\n",
      "  1 1 1 1 1 1 1 1 1 1 1 1 1 1 1 1 1 1 1 1 1 1 1 1 1 1 1 1 1 1 1 1 1 1 1 1\n",
      "  1 1 1 1 1 1 1 1 1 1 1 1 1 1 1 1 1 1 1 1 1 1 1 1 1 1 1 1 1 1 1 1 1 1 1 1\n",
      "  1 1 1 1 1 1 1 1 1 1 1 1 1 1 1 1 1 1 1 1 1 1 1 1 1 1 1 1 1 1 1 1 1 1 1 1\n",
      "  1 1 1 1 1 1 1 1 1 1 1 1 1 1 1 1 1 1 1 1 1 1 1 1 1 1 1 1 1 1 1 1 1 1 1 1\n",
      "  1 1 1 1 1 1 1 1 1 1 1 1 1 1 1 1 1 1 1 1 1 1 1 1 1 1 1 1 1 1 1 1 1 1 1 1\n",
      "  1 1 1 1 1 1 1 1 1 1 1 1 1 1 1 1 1 1 1 1 1 1 1 1 1 1 1 1 1 1 1 1 1 1 1 1\n",
      "  1 1 1 1 1 1 1 1 1 1 1 1 1 1 1 1 1 1 1 1 1 1 1 1 1 1 1 1 1 1 1 1 1 1 1 1\n",
      "  1 1 1 1 1 1 1 1 1 1 1 1 1 1 1 1 1 1 1 1 1 1 1 1 1 1 1 1 1 1 1 1 1 1 1 1\n",
      "  1 1 1 1 1 1 1 1 1 1 1 1 1 1 1 1 1 1 1 1 1 1 1 1 1 1 1 1 1 1 1 1 1 1 1 1\n",
      "  1 1 1 1 1 1 1 1 1 1 1 1 1 1 1 1 1 1 1 1 1 1 1 1 1 1 1 1 1 1 1 1 1 1 1 1\n",
      "  1 1 1 1 1 1 1 1 1 1 1 1 1 1 1 1 1 1 1 1 1 1 1 1 1 1 1 1 1 1 1 1 1 1 1 1\n",
      "  1 1 1 1 1 1 1 1 1 1 1 1 1 1 1 1 1 1 1 1 1 1 1 1 1 1 1 1 1 1 1 1 1 1 1 1\n",
      "  1 1 1 1 1 1 1 1 1 1 1 1 1 1 1 1 1 1 1 1 1 1 1 1 1 1 1 1 1 1 1 1 1 1 1 1\n",
      "  1 1 1 1 1 1 1]]\n"
     ]
    }
   ],
   "source": [
    "print(temp)"
   ]
  },
  {
   "cell_type": "code",
   "execution_count": 33,
   "metadata": {
    "colab": {
     "base_uri": "https://localhost:8080/",
     "height": 328
    },
    "executionInfo": {
     "elapsed": 4483,
     "status": "ok",
     "timestamp": 1670675925141,
     "user": {
      "displayName": "Harshit Trivedi",
      "userId": "05510904477925688149"
     },
     "user_tz": -330
    },
    "id": "LB5x40Uc-_a3",
    "outputId": "d98fd149-ac10-4f2b-bdef-4bd3f07bddea"
   },
   "outputs": [
    {
     "name": "stderr",
     "output_type": "stream",
     "text": [
      "<ipython-input-33-cdbbe0cd23c4>:2: SettingWithCopyWarning: \n",
      "A value is trying to be set on a copy of a slice from a DataFrame.\n",
      "Try using .loc[row_indexer,col_indexer] = value instead\n",
      "\n",
      "See the caveats in the documentation: https://pandas.pydata.org/pandas-docs/stable/user_guide/indexing.html#returning-a-view-versus-a-copy\n",
      "  netflix_dataset['Movie_Id']=movie_np.astype(int)\n"
     ]
    },
    {
     "name": "stdout",
     "output_type": "stream",
     "text": [
      "Now the dataset will look like: \n"
     ]
    },
    {
     "data": {
      "text/html": [
       "\n",
       "  <div id=\"df-e300a333-ec68-4925-978d-7f9585146c0e\">\n",
       "    <div class=\"colab-df-container\">\n",
       "      <div>\n",
       "<style scoped>\n",
       "    .dataframe tbody tr th:only-of-type {\n",
       "        vertical-align: middle;\n",
       "    }\n",
       "\n",
       "    .dataframe tbody tr th {\n",
       "        vertical-align: top;\n",
       "    }\n",
       "\n",
       "    .dataframe thead th {\n",
       "        text-align: right;\n",
       "    }\n",
       "</style>\n",
       "<table border=\"1\" class=\"dataframe\">\n",
       "  <thead>\n",
       "    <tr style=\"text-align: right;\">\n",
       "      <th></th>\n",
       "      <th>Cust_Id</th>\n",
       "      <th>Rating</th>\n",
       "      <th>Movie_Id</th>\n",
       "    </tr>\n",
       "  </thead>\n",
       "  <tbody>\n",
       "    <tr>\n",
       "      <th>1</th>\n",
       "      <td>1488844</td>\n",
       "      <td>3.0</td>\n",
       "      <td>1</td>\n",
       "    </tr>\n",
       "    <tr>\n",
       "      <th>2</th>\n",
       "      <td>822109</td>\n",
       "      <td>5.0</td>\n",
       "      <td>1</td>\n",
       "    </tr>\n",
       "    <tr>\n",
       "      <th>3</th>\n",
       "      <td>885013</td>\n",
       "      <td>4.0</td>\n",
       "      <td>1</td>\n",
       "    </tr>\n",
       "    <tr>\n",
       "      <th>4</th>\n",
       "      <td>30878</td>\n",
       "      <td>4.0</td>\n",
       "      <td>1</td>\n",
       "    </tr>\n",
       "    <tr>\n",
       "      <th>5</th>\n",
       "      <td>823519</td>\n",
       "      <td>3.0</td>\n",
       "      <td>1</td>\n",
       "    </tr>\n",
       "  </tbody>\n",
       "</table>\n",
       "</div>\n",
       "      <button class=\"colab-df-convert\" onclick=\"convertToInteractive('df-e300a333-ec68-4925-978d-7f9585146c0e')\"\n",
       "              title=\"Convert this dataframe to an interactive table.\"\n",
       "              style=\"display:none;\">\n",
       "        \n",
       "  <svg xmlns=\"http://www.w3.org/2000/svg\" height=\"24px\"viewBox=\"0 0 24 24\"\n",
       "       width=\"24px\">\n",
       "    <path d=\"M0 0h24v24H0V0z\" fill=\"none\"/>\n",
       "    <path d=\"M18.56 5.44l.94 2.06.94-2.06 2.06-.94-2.06-.94-.94-2.06-.94 2.06-2.06.94zm-11 1L8.5 8.5l.94-2.06 2.06-.94-2.06-.94L8.5 2.5l-.94 2.06-2.06.94zm10 10l.94 2.06.94-2.06 2.06-.94-2.06-.94-.94-2.06-.94 2.06-2.06.94z\"/><path d=\"M17.41 7.96l-1.37-1.37c-.4-.4-.92-.59-1.43-.59-.52 0-1.04.2-1.43.59L10.3 9.45l-7.72 7.72c-.78.78-.78 2.05 0 2.83L4 21.41c.39.39.9.59 1.41.59.51 0 1.02-.2 1.41-.59l7.78-7.78 2.81-2.81c.8-.78.8-2.07 0-2.86zM5.41 20L4 18.59l7.72-7.72 1.47 1.35L5.41 20z\"/>\n",
       "  </svg>\n",
       "      </button>\n",
       "      \n",
       "  <style>\n",
       "    .colab-df-container {\n",
       "      display:flex;\n",
       "      flex-wrap:wrap;\n",
       "      gap: 12px;\n",
       "    }\n",
       "\n",
       "    .colab-df-convert {\n",
       "      background-color: #E8F0FE;\n",
       "      border: none;\n",
       "      border-radius: 50%;\n",
       "      cursor: pointer;\n",
       "      display: none;\n",
       "      fill: #1967D2;\n",
       "      height: 32px;\n",
       "      padding: 0 0 0 0;\n",
       "      width: 32px;\n",
       "    }\n",
       "\n",
       "    .colab-df-convert:hover {\n",
       "      background-color: #E2EBFA;\n",
       "      box-shadow: 0px 1px 2px rgba(60, 64, 67, 0.3), 0px 1px 3px 1px rgba(60, 64, 67, 0.15);\n",
       "      fill: #174EA6;\n",
       "    }\n",
       "\n",
       "    [theme=dark] .colab-df-convert {\n",
       "      background-color: #3B4455;\n",
       "      fill: #D2E3FC;\n",
       "    }\n",
       "\n",
       "    [theme=dark] .colab-df-convert:hover {\n",
       "      background-color: #434B5C;\n",
       "      box-shadow: 0px 1px 3px 1px rgba(0, 0, 0, 0.15);\n",
       "      filter: drop-shadow(0px 1px 2px rgba(0, 0, 0, 0.3));\n",
       "      fill: #FFFFFF;\n",
       "    }\n",
       "  </style>\n",
       "\n",
       "      <script>\n",
       "        const buttonEl =\n",
       "          document.querySelector('#df-e300a333-ec68-4925-978d-7f9585146c0e button.colab-df-convert');\n",
       "        buttonEl.style.display =\n",
       "          google.colab.kernel.accessAllowed ? 'block' : 'none';\n",
       "\n",
       "        async function convertToInteractive(key) {\n",
       "          const element = document.querySelector('#df-e300a333-ec68-4925-978d-7f9585146c0e');\n",
       "          const dataTable =\n",
       "            await google.colab.kernel.invokeFunction('convertToInteractive',\n",
       "                                                     [key], {});\n",
       "          if (!dataTable) return;\n",
       "\n",
       "          const docLinkHtml = 'Like what you see? Visit the ' +\n",
       "            '<a target=\"_blank\" href=https://colab.research.google.com/notebooks/data_table.ipynb>data table notebook</a>'\n",
       "            + ' to learn more about interactive tables.';\n",
       "          element.innerHTML = '';\n",
       "          dataTable['output_type'] = 'display_data';\n",
       "          await google.colab.output.renderOutput(dataTable, element);\n",
       "          const docLink = document.createElement('div');\n",
       "          docLink.innerHTML = docLinkHtml;\n",
       "          element.appendChild(docLink);\n",
       "        }\n",
       "      </script>\n",
       "    </div>\n",
       "  </div>\n",
       "  "
      ],
      "text/plain": [
       "   Cust_Id  Rating  Movie_Id\n",
       "1  1488844     3.0         1\n",
       "2   822109     5.0         1\n",
       "3   885013     4.0         1\n",
       "4    30878     4.0         1\n",
       "5   823519     3.0         1"
      ]
     },
     "execution_count": 33,
     "metadata": {},
     "output_type": "execute_result"
    }
   ],
   "source": [
    "netflix_dataset=netflix_dataset[pd.notnull(netflix_dataset['Rating'])]\n",
    "netflix_dataset['Movie_Id']=movie_np.astype(int)\n",
    "netflix_dataset['Cust_Id']=netflix_dataset['Cust_Id'].astype(int)\n",
    "print(\"Now the dataset will look like: \")\n",
    "netflix_dataset.head()"
   ]
  },
  {
   "cell_type": "code",
   "execution_count": 34,
   "metadata": {
    "executionInfo": {
     "elapsed": 491,
     "status": "ok",
     "timestamp": 1670675929564,
     "user": {
      "displayName": "Harshit Trivedi",
      "userId": "05510904477925688149"
     },
     "user_tz": -330
    },
    "id": "aoHe9DDn-_a3"
   },
   "outputs": [],
   "source": [
    "#now we will remove all the users that have rated less movies and \n",
    "#also all those movies that has been rated less in numbers\n",
    "f=['count','mean']"
   ]
  },
  {
   "cell_type": "code",
   "execution_count": 35,
   "metadata": {
    "executionInfo": {
     "elapsed": 2219,
     "status": "ok",
     "timestamp": 1670675932171,
     "user": {
      "displayName": "Harshit Trivedi",
      "userId": "05510904477925688149"
     },
     "user_tz": -330
    },
    "id": "hhoe4czD-_a3"
   },
   "outputs": [],
   "source": [
    "dataset_movie_summary=netflix_dataset.groupby('Movie_Id').agg(f)"
   ]
  },
  {
   "cell_type": "code",
   "execution_count": 36,
   "metadata": {
    "colab": {
     "base_uri": "https://localhost:8080/",
     "height": 486
    },
    "executionInfo": {
     "elapsed": 60,
     "status": "ok",
     "timestamp": 1670675932172,
     "user": {
      "displayName": "Harshit Trivedi",
      "userId": "05510904477925688149"
     },
     "user_tz": -330
    },
    "id": "vjWWZSZe-_a4",
    "outputId": "11498a5f-a689-43f5-b5be-cf58b24b55ec"
   },
   "outputs": [
    {
     "data": {
      "text/html": [
       "\n",
       "  <div id=\"df-452579e5-936d-4a3a-afb0-a13e7fc86cd3\">\n",
       "    <div class=\"colab-df-container\">\n",
       "      <div>\n",
       "<style scoped>\n",
       "    .dataframe tbody tr th:only-of-type {\n",
       "        vertical-align: middle;\n",
       "    }\n",
       "\n",
       "    .dataframe tbody tr th {\n",
       "        vertical-align: top;\n",
       "    }\n",
       "\n",
       "    .dataframe thead tr th {\n",
       "        text-align: left;\n",
       "    }\n",
       "\n",
       "    .dataframe thead tr:last-of-type th {\n",
       "        text-align: right;\n",
       "    }\n",
       "</style>\n",
       "<table border=\"1\" class=\"dataframe\">\n",
       "  <thead>\n",
       "    <tr>\n",
       "      <th></th>\n",
       "      <th colspan=\"2\" halign=\"left\">Cust_Id</th>\n",
       "      <th colspan=\"2\" halign=\"left\">Rating</th>\n",
       "    </tr>\n",
       "    <tr>\n",
       "      <th></th>\n",
       "      <th>count</th>\n",
       "      <th>mean</th>\n",
       "      <th>count</th>\n",
       "      <th>mean</th>\n",
       "    </tr>\n",
       "    <tr>\n",
       "      <th>Movie_Id</th>\n",
       "      <th></th>\n",
       "      <th></th>\n",
       "      <th></th>\n",
       "      <th></th>\n",
       "    </tr>\n",
       "  </thead>\n",
       "  <tbody>\n",
       "    <tr>\n",
       "      <th>1</th>\n",
       "      <td>547</td>\n",
       "      <td>1.249876e+06</td>\n",
       "      <td>547</td>\n",
       "      <td>3.749543</td>\n",
       "    </tr>\n",
       "    <tr>\n",
       "      <th>2</th>\n",
       "      <td>145</td>\n",
       "      <td>1.341926e+06</td>\n",
       "      <td>145</td>\n",
       "      <td>3.558621</td>\n",
       "    </tr>\n",
       "    <tr>\n",
       "      <th>3</th>\n",
       "      <td>2012</td>\n",
       "      <td>1.324290e+06</td>\n",
       "      <td>2012</td>\n",
       "      <td>3.641153</td>\n",
       "    </tr>\n",
       "    <tr>\n",
       "      <th>4</th>\n",
       "      <td>142</td>\n",
       "      <td>1.402854e+06</td>\n",
       "      <td>142</td>\n",
       "      <td>2.739437</td>\n",
       "    </tr>\n",
       "    <tr>\n",
       "      <th>5</th>\n",
       "      <td>1140</td>\n",
       "      <td>1.302384e+06</td>\n",
       "      <td>1140</td>\n",
       "      <td>3.919298</td>\n",
       "    </tr>\n",
       "    <tr>\n",
       "      <th>...</th>\n",
       "      <td>...</td>\n",
       "      <td>...</td>\n",
       "      <td>...</td>\n",
       "      <td>...</td>\n",
       "    </tr>\n",
       "    <tr>\n",
       "      <th>4495</th>\n",
       "      <td>614</td>\n",
       "      <td>1.321093e+06</td>\n",
       "      <td>614</td>\n",
       "      <td>3.478827</td>\n",
       "    </tr>\n",
       "    <tr>\n",
       "      <th>4496</th>\n",
       "      <td>9519</td>\n",
       "      <td>1.332006e+06</td>\n",
       "      <td>9519</td>\n",
       "      <td>3.763000</td>\n",
       "    </tr>\n",
       "    <tr>\n",
       "      <th>4497</th>\n",
       "      <td>714</td>\n",
       "      <td>1.330543e+06</td>\n",
       "      <td>714</td>\n",
       "      <td>2.715686</td>\n",
       "    </tr>\n",
       "    <tr>\n",
       "      <th>4498</th>\n",
       "      <td>269</td>\n",
       "      <td>1.262035e+06</td>\n",
       "      <td>269</td>\n",
       "      <td>2.464684</td>\n",
       "    </tr>\n",
       "    <tr>\n",
       "      <th>4499</th>\n",
       "      <td>428</td>\n",
       "      <td>1.270551e+06</td>\n",
       "      <td>428</td>\n",
       "      <td>2.614486</td>\n",
       "    </tr>\n",
       "  </tbody>\n",
       "</table>\n",
       "<p>4499 rows × 4 columns</p>\n",
       "</div>\n",
       "      <button class=\"colab-df-convert\" onclick=\"convertToInteractive('df-452579e5-936d-4a3a-afb0-a13e7fc86cd3')\"\n",
       "              title=\"Convert this dataframe to an interactive table.\"\n",
       "              style=\"display:none;\">\n",
       "        \n",
       "  <svg xmlns=\"http://www.w3.org/2000/svg\" height=\"24px\"viewBox=\"0 0 24 24\"\n",
       "       width=\"24px\">\n",
       "    <path d=\"M0 0h24v24H0V0z\" fill=\"none\"/>\n",
       "    <path d=\"M18.56 5.44l.94 2.06.94-2.06 2.06-.94-2.06-.94-.94-2.06-.94 2.06-2.06.94zm-11 1L8.5 8.5l.94-2.06 2.06-.94-2.06-.94L8.5 2.5l-.94 2.06-2.06.94zm10 10l.94 2.06.94-2.06 2.06-.94-2.06-.94-.94-2.06-.94 2.06-2.06.94z\"/><path d=\"M17.41 7.96l-1.37-1.37c-.4-.4-.92-.59-1.43-.59-.52 0-1.04.2-1.43.59L10.3 9.45l-7.72 7.72c-.78.78-.78 2.05 0 2.83L4 21.41c.39.39.9.59 1.41.59.51 0 1.02-.2 1.41-.59l7.78-7.78 2.81-2.81c.8-.78.8-2.07 0-2.86zM5.41 20L4 18.59l7.72-7.72 1.47 1.35L5.41 20z\"/>\n",
       "  </svg>\n",
       "      </button>\n",
       "      \n",
       "  <style>\n",
       "    .colab-df-container {\n",
       "      display:flex;\n",
       "      flex-wrap:wrap;\n",
       "      gap: 12px;\n",
       "    }\n",
       "\n",
       "    .colab-df-convert {\n",
       "      background-color: #E8F0FE;\n",
       "      border: none;\n",
       "      border-radius: 50%;\n",
       "      cursor: pointer;\n",
       "      display: none;\n",
       "      fill: #1967D2;\n",
       "      height: 32px;\n",
       "      padding: 0 0 0 0;\n",
       "      width: 32px;\n",
       "    }\n",
       "\n",
       "    .colab-df-convert:hover {\n",
       "      background-color: #E2EBFA;\n",
       "      box-shadow: 0px 1px 2px rgba(60, 64, 67, 0.3), 0px 1px 3px 1px rgba(60, 64, 67, 0.15);\n",
       "      fill: #174EA6;\n",
       "    }\n",
       "\n",
       "    [theme=dark] .colab-df-convert {\n",
       "      background-color: #3B4455;\n",
       "      fill: #D2E3FC;\n",
       "    }\n",
       "\n",
       "    [theme=dark] .colab-df-convert:hover {\n",
       "      background-color: #434B5C;\n",
       "      box-shadow: 0px 1px 3px 1px rgba(0, 0, 0, 0.15);\n",
       "      filter: drop-shadow(0px 1px 2px rgba(0, 0, 0, 0.3));\n",
       "      fill: #FFFFFF;\n",
       "    }\n",
       "  </style>\n",
       "\n",
       "      <script>\n",
       "        const buttonEl =\n",
       "          document.querySelector('#df-452579e5-936d-4a3a-afb0-a13e7fc86cd3 button.colab-df-convert');\n",
       "        buttonEl.style.display =\n",
       "          google.colab.kernel.accessAllowed ? 'block' : 'none';\n",
       "\n",
       "        async function convertToInteractive(key) {\n",
       "          const element = document.querySelector('#df-452579e5-936d-4a3a-afb0-a13e7fc86cd3');\n",
       "          const dataTable =\n",
       "            await google.colab.kernel.invokeFunction('convertToInteractive',\n",
       "                                                     [key], {});\n",
       "          if (!dataTable) return;\n",
       "\n",
       "          const docLinkHtml = 'Like what you see? Visit the ' +\n",
       "            '<a target=\"_blank\" href=https://colab.research.google.com/notebooks/data_table.ipynb>data table notebook</a>'\n",
       "            + ' to learn more about interactive tables.';\n",
       "          element.innerHTML = '';\n",
       "          dataTable['output_type'] = 'display_data';\n",
       "          await google.colab.output.renderOutput(dataTable, element);\n",
       "          const docLink = document.createElement('div');\n",
       "          docLink.innerHTML = docLinkHtml;\n",
       "          element.appendChild(docLink);\n",
       "        }\n",
       "      </script>\n",
       "    </div>\n",
       "  </div>\n",
       "  "
      ],
      "text/plain": [
       "         Cust_Id               Rating          \n",
       "           count          mean  count      mean\n",
       "Movie_Id                                       \n",
       "1            547  1.249876e+06    547  3.749543\n",
       "2            145  1.341926e+06    145  3.558621\n",
       "3           2012  1.324290e+06   2012  3.641153\n",
       "4            142  1.402854e+06    142  2.739437\n",
       "5           1140  1.302384e+06   1140  3.919298\n",
       "...          ...           ...    ...       ...\n",
       "4495         614  1.321093e+06    614  3.478827\n",
       "4496        9519  1.332006e+06   9519  3.763000\n",
       "4497         714  1.330543e+06    714  2.715686\n",
       "4498         269  1.262035e+06    269  2.464684\n",
       "4499         428  1.270551e+06    428  2.614486\n",
       "\n",
       "[4499 rows x 4 columns]"
      ]
     },
     "execution_count": 36,
     "metadata": {},
     "output_type": "execute_result"
    }
   ],
   "source": [
    "dataset_movie_summary"
   ]
  },
  {
   "cell_type": "code",
   "execution_count": 37,
   "metadata": {
    "executionInfo": {
     "elapsed": 708,
     "status": "ok",
     "timestamp": 1670675936414,
     "user": {
      "displayName": "Harshit Trivedi",
      "userId": "05510904477925688149"
     },
     "user_tz": -330
    },
    "id": "9IZrnDVM-_a4"
   },
   "outputs": [],
   "source": [
    "dataset_movie_summary=netflix_dataset.groupby('Movie_Id')['Rating'].agg(f)"
   ]
  },
  {
   "cell_type": "code",
   "execution_count": 38,
   "metadata": {
    "colab": {
     "base_uri": "https://localhost:8080/",
     "height": 455
    },
    "executionInfo": {
     "elapsed": 14,
     "status": "ok",
     "timestamp": 1670675941008,
     "user": {
      "displayName": "Harshit Trivedi",
      "userId": "05510904477925688149"
     },
     "user_tz": -330
    },
    "id": "h2lKrdo_-_a4",
    "outputId": "7c70328a-758f-4a04-8bec-cab1909a9b9b"
   },
   "outputs": [
    {
     "data": {
      "text/html": [
       "\n",
       "  <div id=\"df-a194aeab-d29a-4c56-bf04-d42d171ffde9\">\n",
       "    <div class=\"colab-df-container\">\n",
       "      <div>\n",
       "<style scoped>\n",
       "    .dataframe tbody tr th:only-of-type {\n",
       "        vertical-align: middle;\n",
       "    }\n",
       "\n",
       "    .dataframe tbody tr th {\n",
       "        vertical-align: top;\n",
       "    }\n",
       "\n",
       "    .dataframe thead th {\n",
       "        text-align: right;\n",
       "    }\n",
       "</style>\n",
       "<table border=\"1\" class=\"dataframe\">\n",
       "  <thead>\n",
       "    <tr style=\"text-align: right;\">\n",
       "      <th></th>\n",
       "      <th>count</th>\n",
       "      <th>mean</th>\n",
       "    </tr>\n",
       "    <tr>\n",
       "      <th>Movie_Id</th>\n",
       "      <th></th>\n",
       "      <th></th>\n",
       "    </tr>\n",
       "  </thead>\n",
       "  <tbody>\n",
       "    <tr>\n",
       "      <th>1</th>\n",
       "      <td>547</td>\n",
       "      <td>3.749543</td>\n",
       "    </tr>\n",
       "    <tr>\n",
       "      <th>2</th>\n",
       "      <td>145</td>\n",
       "      <td>3.558621</td>\n",
       "    </tr>\n",
       "    <tr>\n",
       "      <th>3</th>\n",
       "      <td>2012</td>\n",
       "      <td>3.641153</td>\n",
       "    </tr>\n",
       "    <tr>\n",
       "      <th>4</th>\n",
       "      <td>142</td>\n",
       "      <td>2.739437</td>\n",
       "    </tr>\n",
       "    <tr>\n",
       "      <th>5</th>\n",
       "      <td>1140</td>\n",
       "      <td>3.919298</td>\n",
       "    </tr>\n",
       "    <tr>\n",
       "      <th>...</th>\n",
       "      <td>...</td>\n",
       "      <td>...</td>\n",
       "    </tr>\n",
       "    <tr>\n",
       "      <th>4495</th>\n",
       "      <td>614</td>\n",
       "      <td>3.478827</td>\n",
       "    </tr>\n",
       "    <tr>\n",
       "      <th>4496</th>\n",
       "      <td>9519</td>\n",
       "      <td>3.763000</td>\n",
       "    </tr>\n",
       "    <tr>\n",
       "      <th>4497</th>\n",
       "      <td>714</td>\n",
       "      <td>2.715686</td>\n",
       "    </tr>\n",
       "    <tr>\n",
       "      <th>4498</th>\n",
       "      <td>269</td>\n",
       "      <td>2.464684</td>\n",
       "    </tr>\n",
       "    <tr>\n",
       "      <th>4499</th>\n",
       "      <td>428</td>\n",
       "      <td>2.614486</td>\n",
       "    </tr>\n",
       "  </tbody>\n",
       "</table>\n",
       "<p>4499 rows × 2 columns</p>\n",
       "</div>\n",
       "      <button class=\"colab-df-convert\" onclick=\"convertToInteractive('df-a194aeab-d29a-4c56-bf04-d42d171ffde9')\"\n",
       "              title=\"Convert this dataframe to an interactive table.\"\n",
       "              style=\"display:none;\">\n",
       "        \n",
       "  <svg xmlns=\"http://www.w3.org/2000/svg\" height=\"24px\"viewBox=\"0 0 24 24\"\n",
       "       width=\"24px\">\n",
       "    <path d=\"M0 0h24v24H0V0z\" fill=\"none\"/>\n",
       "    <path d=\"M18.56 5.44l.94 2.06.94-2.06 2.06-.94-2.06-.94-.94-2.06-.94 2.06-2.06.94zm-11 1L8.5 8.5l.94-2.06 2.06-.94-2.06-.94L8.5 2.5l-.94 2.06-2.06.94zm10 10l.94 2.06.94-2.06 2.06-.94-2.06-.94-.94-2.06-.94 2.06-2.06.94z\"/><path d=\"M17.41 7.96l-1.37-1.37c-.4-.4-.92-.59-1.43-.59-.52 0-1.04.2-1.43.59L10.3 9.45l-7.72 7.72c-.78.78-.78 2.05 0 2.83L4 21.41c.39.39.9.59 1.41.59.51 0 1.02-.2 1.41-.59l7.78-7.78 2.81-2.81c.8-.78.8-2.07 0-2.86zM5.41 20L4 18.59l7.72-7.72 1.47 1.35L5.41 20z\"/>\n",
       "  </svg>\n",
       "      </button>\n",
       "      \n",
       "  <style>\n",
       "    .colab-df-container {\n",
       "      display:flex;\n",
       "      flex-wrap:wrap;\n",
       "      gap: 12px;\n",
       "    }\n",
       "\n",
       "    .colab-df-convert {\n",
       "      background-color: #E8F0FE;\n",
       "      border: none;\n",
       "      border-radius: 50%;\n",
       "      cursor: pointer;\n",
       "      display: none;\n",
       "      fill: #1967D2;\n",
       "      height: 32px;\n",
       "      padding: 0 0 0 0;\n",
       "      width: 32px;\n",
       "    }\n",
       "\n",
       "    .colab-df-convert:hover {\n",
       "      background-color: #E2EBFA;\n",
       "      box-shadow: 0px 1px 2px rgba(60, 64, 67, 0.3), 0px 1px 3px 1px rgba(60, 64, 67, 0.15);\n",
       "      fill: #174EA6;\n",
       "    }\n",
       "\n",
       "    [theme=dark] .colab-df-convert {\n",
       "      background-color: #3B4455;\n",
       "      fill: #D2E3FC;\n",
       "    }\n",
       "\n",
       "    [theme=dark] .colab-df-convert:hover {\n",
       "      background-color: #434B5C;\n",
       "      box-shadow: 0px 1px 3px 1px rgba(0, 0, 0, 0.15);\n",
       "      filter: drop-shadow(0px 1px 2px rgba(0, 0, 0, 0.3));\n",
       "      fill: #FFFFFF;\n",
       "    }\n",
       "  </style>\n",
       "\n",
       "      <script>\n",
       "        const buttonEl =\n",
       "          document.querySelector('#df-a194aeab-d29a-4c56-bf04-d42d171ffde9 button.colab-df-convert');\n",
       "        buttonEl.style.display =\n",
       "          google.colab.kernel.accessAllowed ? 'block' : 'none';\n",
       "\n",
       "        async function convertToInteractive(key) {\n",
       "          const element = document.querySelector('#df-a194aeab-d29a-4c56-bf04-d42d171ffde9');\n",
       "          const dataTable =\n",
       "            await google.colab.kernel.invokeFunction('convertToInteractive',\n",
       "                                                     [key], {});\n",
       "          if (!dataTable) return;\n",
       "\n",
       "          const docLinkHtml = 'Like what you see? Visit the ' +\n",
       "            '<a target=\"_blank\" href=https://colab.research.google.com/notebooks/data_table.ipynb>data table notebook</a>'\n",
       "            + ' to learn more about interactive tables.';\n",
       "          element.innerHTML = '';\n",
       "          dataTable['output_type'] = 'display_data';\n",
       "          await google.colab.output.renderOutput(dataTable, element);\n",
       "          const docLink = document.createElement('div');\n",
       "          docLink.innerHTML = docLinkHtml;\n",
       "          element.appendChild(docLink);\n",
       "        }\n",
       "      </script>\n",
       "    </div>\n",
       "  </div>\n",
       "  "
      ],
      "text/plain": [
       "          count      mean\n",
       "Movie_Id                 \n",
       "1           547  3.749543\n",
       "2           145  3.558621\n",
       "3          2012  3.641153\n",
       "4           142  2.739437\n",
       "5          1140  3.919298\n",
       "...         ...       ...\n",
       "4495        614  3.478827\n",
       "4496       9519  3.763000\n",
       "4497        714  2.715686\n",
       "4498        269  2.464684\n",
       "4499        428  2.614486\n",
       "\n",
       "[4499 rows x 2 columns]"
      ]
     },
     "execution_count": 38,
     "metadata": {},
     "output_type": "execute_result"
    }
   ],
   "source": [
    "dataset_movie_summary"
   ]
  },
  {
   "cell_type": "code",
   "execution_count": 39,
   "metadata": {
    "executionInfo": {
     "elapsed": 3,
     "status": "ok",
     "timestamp": 1670675944970,
     "user": {
      "displayName": "Harshit Trivedi",
      "userId": "05510904477925688149"
     },
     "user_tz": -330
    },
    "id": "PRD54-6Q-_a4"
   },
   "outputs": [],
   "source": [
    "#now we will store all the movie_id indexes in a variable dataset_movie_summary.index and convert the datatype to int\n",
    "dataset_movie_summary.index=dataset_movie_summary.index.map(int)"
   ]
  },
  {
   "cell_type": "code",
   "execution_count": 40,
   "metadata": {
    "colab": {
     "base_uri": "https://localhost:8080/"
    },
    "executionInfo": {
     "elapsed": 14,
     "status": "ok",
     "timestamp": 1670675949556,
     "user": {
      "displayName": "Harshit Trivedi",
      "userId": "05510904477925688149"
     },
     "user_tz": -330
    },
    "id": "sEsJBCeW-_a4",
    "outputId": "03ce717e-fcba-40cd-e346-ed3888bf8003"
   },
   "outputs": [
    {
     "data": {
      "text/plain": [
       "1799.0"
      ]
     },
     "execution_count": 40,
     "metadata": {},
     "output_type": "execute_result"
    }
   ],
   "source": [
    "#now we will create a benchmark \n",
    "movie_benchmark=round(dataset_movie_summary['count'].quantile(0.7),0)\n",
    "movie_benchmark"
   ]
  },
  {
   "cell_type": "code",
   "execution_count": 41,
   "metadata": {
    "colab": {
     "base_uri": "https://localhost:8080/"
    },
    "executionInfo": {
     "elapsed": 509,
     "status": "ok",
     "timestamp": 1670675958350,
     "user": {
      "displayName": "Harshit Trivedi",
      "userId": "05510904477925688149"
     },
     "user_tz": -330
    },
    "id": "GWY3fabl-_a4",
    "outputId": "3f85e70c-6bcb-49e9-8648-ac92d1148eec"
   },
   "outputs": [
    {
     "data": {
      "text/plain": [
       "Movie_Id\n",
       "1        547\n",
       "2        145\n",
       "3       2012\n",
       "4        142\n",
       "5       1140\n",
       "        ... \n",
       "4495     614\n",
       "4496    9519\n",
       "4497     714\n",
       "4498     269\n",
       "4499     428\n",
       "Name: count, Length: 4499, dtype: int64"
      ]
     },
     "execution_count": 41,
     "metadata": {},
     "output_type": "execute_result"
    }
   ],
   "source": [
    "dataset_movie_summary['count']"
   ]
  },
  {
   "cell_type": "code",
   "execution_count": 42,
   "metadata": {
    "colab": {
     "base_uri": "https://localhost:8080/"
    },
    "executionInfo": {
     "elapsed": 6,
     "status": "ok",
     "timestamp": 1670675960697,
     "user": {
      "displayName": "Harshit Trivedi",
      "userId": "05510904477925688149"
     },
     "user_tz": -330
    },
    "id": "5-JVSZ2--_a5",
    "outputId": "e98134d5-572e-4f9c-de86-e43387e4afd0"
   },
   "outputs": [
    {
     "data": {
      "text/plain": [
       "Int64Index([   1,    2,    4,    5,    6,    7,    9,   10,   11,   12,\n",
       "            ...\n",
       "            4484, 4486, 4487, 4489, 4491, 4494, 4495, 4497, 4498, 4499],\n",
       "           dtype='int64', name='Movie_Id', length=3149)"
      ]
     },
     "execution_count": 42,
     "metadata": {},
     "output_type": "execute_result"
    }
   ],
   "source": [
    "drop_movie_list=dataset_movie_summary[dataset_movie_summary['count']<movie_benchmark].index\n",
    "drop_movie_list"
   ]
  },
  {
   "cell_type": "code",
   "execution_count": 43,
   "metadata": {
    "colab": {
     "base_uri": "https://localhost:8080/",
     "height": 455
    },
    "executionInfo": {
     "elapsed": 2375,
     "status": "ok",
     "timestamp": 1670675965620,
     "user": {
      "displayName": "Harshit Trivedi",
      "userId": "05510904477925688149"
     },
     "user_tz": -330
    },
    "id": "sW-acIHg-_a5",
    "outputId": "dd64d3f1-c01a-4f56-8775-63aaca28ae9f"
   },
   "outputs": [
    {
     "data": {
      "text/html": [
       "\n",
       "  <div id=\"df-ac7f6b4f-32ab-48f1-8473-242f5cc09a6d\">\n",
       "    <div class=\"colab-df-container\">\n",
       "      <div>\n",
       "<style scoped>\n",
       "    .dataframe tbody tr th:only-of-type {\n",
       "        vertical-align: middle;\n",
       "    }\n",
       "\n",
       "    .dataframe tbody tr th {\n",
       "        vertical-align: top;\n",
       "    }\n",
       "\n",
       "    .dataframe thead th {\n",
       "        text-align: right;\n",
       "    }\n",
       "</style>\n",
       "<table border=\"1\" class=\"dataframe\">\n",
       "  <thead>\n",
       "    <tr style=\"text-align: right;\">\n",
       "      <th></th>\n",
       "      <th>count</th>\n",
       "      <th>mean</th>\n",
       "    </tr>\n",
       "    <tr>\n",
       "      <th>Cust_Id</th>\n",
       "      <th></th>\n",
       "      <th></th>\n",
       "    </tr>\n",
       "  </thead>\n",
       "  <tbody>\n",
       "    <tr>\n",
       "      <th>6</th>\n",
       "      <td>153</td>\n",
       "      <td>3.333333</td>\n",
       "    </tr>\n",
       "    <tr>\n",
       "      <th>7</th>\n",
       "      <td>195</td>\n",
       "      <td>4.066667</td>\n",
       "    </tr>\n",
       "    <tr>\n",
       "      <th>8</th>\n",
       "      <td>21</td>\n",
       "      <td>4.000000</td>\n",
       "    </tr>\n",
       "    <tr>\n",
       "      <th>10</th>\n",
       "      <td>49</td>\n",
       "      <td>3.346939</td>\n",
       "    </tr>\n",
       "    <tr>\n",
       "      <th>25</th>\n",
       "      <td>4</td>\n",
       "      <td>3.500000</td>\n",
       "    </tr>\n",
       "    <tr>\n",
       "      <th>...</th>\n",
       "      <td>...</td>\n",
       "      <td>...</td>\n",
       "    </tr>\n",
       "    <tr>\n",
       "      <th>2649404</th>\n",
       "      <td>12</td>\n",
       "      <td>4.083333</td>\n",
       "    </tr>\n",
       "    <tr>\n",
       "      <th>2649409</th>\n",
       "      <td>10</td>\n",
       "      <td>4.000000</td>\n",
       "    </tr>\n",
       "    <tr>\n",
       "      <th>2649421</th>\n",
       "      <td>3</td>\n",
       "      <td>5.000000</td>\n",
       "    </tr>\n",
       "    <tr>\n",
       "      <th>2649426</th>\n",
       "      <td>74</td>\n",
       "      <td>4.067568</td>\n",
       "    </tr>\n",
       "    <tr>\n",
       "      <th>2649429</th>\n",
       "      <td>62</td>\n",
       "      <td>4.161290</td>\n",
       "    </tr>\n",
       "  </tbody>\n",
       "</table>\n",
       "<p>470758 rows × 2 columns</p>\n",
       "</div>\n",
       "      <button class=\"colab-df-convert\" onclick=\"convertToInteractive('df-ac7f6b4f-32ab-48f1-8473-242f5cc09a6d')\"\n",
       "              title=\"Convert this dataframe to an interactive table.\"\n",
       "              style=\"display:none;\">\n",
       "        \n",
       "  <svg xmlns=\"http://www.w3.org/2000/svg\" height=\"24px\"viewBox=\"0 0 24 24\"\n",
       "       width=\"24px\">\n",
       "    <path d=\"M0 0h24v24H0V0z\" fill=\"none\"/>\n",
       "    <path d=\"M18.56 5.44l.94 2.06.94-2.06 2.06-.94-2.06-.94-.94-2.06-.94 2.06-2.06.94zm-11 1L8.5 8.5l.94-2.06 2.06-.94-2.06-.94L8.5 2.5l-.94 2.06-2.06.94zm10 10l.94 2.06.94-2.06 2.06-.94-2.06-.94-.94-2.06-.94 2.06-2.06.94z\"/><path d=\"M17.41 7.96l-1.37-1.37c-.4-.4-.92-.59-1.43-.59-.52 0-1.04.2-1.43.59L10.3 9.45l-7.72 7.72c-.78.78-.78 2.05 0 2.83L4 21.41c.39.39.9.59 1.41.59.51 0 1.02-.2 1.41-.59l7.78-7.78 2.81-2.81c.8-.78.8-2.07 0-2.86zM5.41 20L4 18.59l7.72-7.72 1.47 1.35L5.41 20z\"/>\n",
       "  </svg>\n",
       "      </button>\n",
       "      \n",
       "  <style>\n",
       "    .colab-df-container {\n",
       "      display:flex;\n",
       "      flex-wrap:wrap;\n",
       "      gap: 12px;\n",
       "    }\n",
       "\n",
       "    .colab-df-convert {\n",
       "      background-color: #E8F0FE;\n",
       "      border: none;\n",
       "      border-radius: 50%;\n",
       "      cursor: pointer;\n",
       "      display: none;\n",
       "      fill: #1967D2;\n",
       "      height: 32px;\n",
       "      padding: 0 0 0 0;\n",
       "      width: 32px;\n",
       "    }\n",
       "\n",
       "    .colab-df-convert:hover {\n",
       "      background-color: #E2EBFA;\n",
       "      box-shadow: 0px 1px 2px rgba(60, 64, 67, 0.3), 0px 1px 3px 1px rgba(60, 64, 67, 0.15);\n",
       "      fill: #174EA6;\n",
       "    }\n",
       "\n",
       "    [theme=dark] .colab-df-convert {\n",
       "      background-color: #3B4455;\n",
       "      fill: #D2E3FC;\n",
       "    }\n",
       "\n",
       "    [theme=dark] .colab-df-convert:hover {\n",
       "      background-color: #434B5C;\n",
       "      box-shadow: 0px 1px 3px 1px rgba(0, 0, 0, 0.15);\n",
       "      filter: drop-shadow(0px 1px 2px rgba(0, 0, 0, 0.3));\n",
       "      fill: #FFFFFF;\n",
       "    }\n",
       "  </style>\n",
       "\n",
       "      <script>\n",
       "        const buttonEl =\n",
       "          document.querySelector('#df-ac7f6b4f-32ab-48f1-8473-242f5cc09a6d button.colab-df-convert');\n",
       "        buttonEl.style.display =\n",
       "          google.colab.kernel.accessAllowed ? 'block' : 'none';\n",
       "\n",
       "        async function convertToInteractive(key) {\n",
       "          const element = document.querySelector('#df-ac7f6b4f-32ab-48f1-8473-242f5cc09a6d');\n",
       "          const dataTable =\n",
       "            await google.colab.kernel.invokeFunction('convertToInteractive',\n",
       "                                                     [key], {});\n",
       "          if (!dataTable) return;\n",
       "\n",
       "          const docLinkHtml = 'Like what you see? Visit the ' +\n",
       "            '<a target=\"_blank\" href=https://colab.research.google.com/notebooks/data_table.ipynb>data table notebook</a>'\n",
       "            + ' to learn more about interactive tables.';\n",
       "          element.innerHTML = '';\n",
       "          dataTable['output_type'] = 'display_data';\n",
       "          await google.colab.output.renderOutput(dataTable, element);\n",
       "          const docLink = document.createElement('div');\n",
       "          docLink.innerHTML = docLinkHtml;\n",
       "          element.appendChild(docLink);\n",
       "        }\n",
       "      </script>\n",
       "    </div>\n",
       "  </div>\n",
       "  "
      ],
      "text/plain": [
       "         count      mean\n",
       "Cust_Id                 \n",
       "6          153  3.333333\n",
       "7          195  4.066667\n",
       "8           21  4.000000\n",
       "10          49  3.346939\n",
       "25           4  3.500000\n",
       "...        ...       ...\n",
       "2649404     12  4.083333\n",
       "2649409     10  4.000000\n",
       "2649421      3  5.000000\n",
       "2649426     74  4.067568\n",
       "2649429     62  4.161290\n",
       "\n",
       "[470758 rows x 2 columns]"
      ]
     },
     "execution_count": 43,
     "metadata": {},
     "output_type": "execute_result"
    }
   ],
   "source": [
    "#now we will remove all the users that are in-active\n",
    "dataset_cust_summary=netflix_dataset.groupby('Cust_Id')['Rating'].agg(f)\n",
    "dataset_cust_summary"
   ]
  },
  {
   "cell_type": "code",
   "execution_count": 44,
   "metadata": {
    "executionInfo": {
     "elapsed": 4,
     "status": "ok",
     "timestamp": 1670675967839,
     "user": {
      "displayName": "Harshit Trivedi",
      "userId": "05510904477925688149"
     },
     "user_tz": -330
    },
    "id": "09kONRsW-_a5"
   },
   "outputs": [],
   "source": [
    "dataset_cust_summary.index=dataset_cust_summary.index.map(int)"
   ]
  },
  {
   "cell_type": "code",
   "execution_count": 45,
   "metadata": {
    "colab": {
     "base_uri": "https://localhost:8080/"
    },
    "executionInfo": {
     "elapsed": 5,
     "status": "ok",
     "timestamp": 1670675969614,
     "user": {
      "displayName": "Harshit Trivedi",
      "userId": "05510904477925688149"
     },
     "user_tz": -330
    },
    "id": "4rLVS6U7-_a5",
    "outputId": "798f41c8-6d2a-4052-8b2e-02f940ff7528"
   },
   "outputs": [
    {
     "data": {
      "text/plain": [
       "52.0"
      ]
     },
     "execution_count": 45,
     "metadata": {},
     "output_type": "execute_result"
    }
   ],
   "source": [
    "cust_benchmark=round(dataset_cust_summary['count'].quantile(0.7),0)\n",
    "cust_benchmark"
   ]
  },
  {
   "cell_type": "code",
   "execution_count": 46,
   "metadata": {
    "colab": {
     "base_uri": "https://localhost:8080/"
    },
    "executionInfo": {
     "elapsed": 46,
     "status": "ok",
     "timestamp": 1670675971689,
     "user": {
      "displayName": "Harshit Trivedi",
      "userId": "05510904477925688149"
     },
     "user_tz": -330
    },
    "id": "yRcTHqRt-_a6",
    "outputId": "c765cbf9-b10b-4f83-8855-0d6ab74f0e40"
   },
   "outputs": [
    {
     "data": {
      "text/plain": [
       "Int64Index([      8,      10,      25,      33,      42,      59,      83,\n",
       "                 87,      94,     116,\n",
       "            ...\n",
       "            2649343, 2649351, 2649375, 2649376, 2649379, 2649384, 2649401,\n",
       "            2649404, 2649409, 2649421],\n",
       "           dtype='int64', name='Cust_Id', length=327300)"
      ]
     },
     "execution_count": 46,
     "metadata": {},
     "output_type": "execute_result"
    }
   ],
   "source": [
    "drop_cust_list=dataset_cust_summary[dataset_cust_summary['count']<cust_benchmark].index\n",
    "drop_cust_list"
   ]
  },
  {
   "cell_type": "code",
   "execution_count": 47,
   "metadata": {
    "colab": {
     "base_uri": "https://localhost:8080/"
    },
    "executionInfo": {
     "elapsed": 47,
     "status": "ok",
     "timestamp": 1670675972304,
     "user": {
      "displayName": "Harshit Trivedi",
      "userId": "05510904477925688149"
     },
     "user_tz": -330
    },
    "id": "SH5_FCry-_a6",
    "outputId": "400d9f68-40f5-4d4c-b174-b7c16eca6f86"
   },
   "outputs": [
    {
     "name": "stdout",
     "output_type": "stream",
     "text": [
      "The original dataframe has:  (24053764, 3) shape\n"
     ]
    }
   ],
   "source": [
    "#we will remove all the customers and movies that are below the benchmark \n",
    "print('The original dataframe has: ', netflix_dataset.shape, 'shape')"
   ]
  },
  {
   "cell_type": "code",
   "execution_count": 48,
   "metadata": {
    "colab": {
     "base_uri": "https://localhost:8080/"
    },
    "executionInfo": {
     "elapsed": 2109,
     "status": "ok",
     "timestamp": 1670675975078,
     "user": {
      "displayName": "Harshit Trivedi",
      "userId": "05510904477925688149"
     },
     "user_tz": -330
    },
    "id": "3fYXMoX0-_a6",
    "outputId": "e1e6e627-2ea2-40db-e5a4-de2e55a517d6"
   },
   "outputs": [
    {
     "name": "stdout",
     "output_type": "stream",
     "text": [
      "After the triming, the shape is: (17337458, 3)\n"
     ]
    }
   ],
   "source": [
    "netflix_dataset=netflix_dataset[~netflix_dataset['Movie_Id'].isin(drop_movie_list)]\n",
    "netflix_dataset=netflix_dataset[~netflix_dataset['Cust_Id'].isin(drop_cust_list)]\n",
    "print('After the triming, the shape is: {}'.format(netflix_dataset.shape))"
   ]
  },
  {
   "cell_type": "code",
   "execution_count": 49,
   "metadata": {
    "colab": {
     "base_uri": "https://localhost:8080/",
     "height": 206
    },
    "executionInfo": {
     "elapsed": 69,
     "status": "ok",
     "timestamp": 1670675975079,
     "user": {
      "displayName": "Harshit Trivedi",
      "userId": "05510904477925688149"
     },
     "user_tz": -330
    },
    "id": "i76_Akf5-_a6",
    "outputId": "472480c0-b70f-458c-f376-aee30f00dd30"
   },
   "outputs": [
    {
     "data": {
      "text/html": [
       "\n",
       "  <div id=\"df-6c9bea18-9a16-400b-b7f4-6bad7bc6a553\">\n",
       "    <div class=\"colab-df-container\">\n",
       "      <div>\n",
       "<style scoped>\n",
       "    .dataframe tbody tr th:only-of-type {\n",
       "        vertical-align: middle;\n",
       "    }\n",
       "\n",
       "    .dataframe tbody tr th {\n",
       "        vertical-align: top;\n",
       "    }\n",
       "\n",
       "    .dataframe thead th {\n",
       "        text-align: right;\n",
       "    }\n",
       "</style>\n",
       "<table border=\"1\" class=\"dataframe\">\n",
       "  <thead>\n",
       "    <tr style=\"text-align: right;\">\n",
       "      <th></th>\n",
       "      <th>Cust_Id</th>\n",
       "      <th>Rating</th>\n",
       "      <th>Movie_Id</th>\n",
       "    </tr>\n",
       "  </thead>\n",
       "  <tbody>\n",
       "    <tr>\n",
       "      <th>696</th>\n",
       "      <td>712664</td>\n",
       "      <td>5.0</td>\n",
       "      <td>3</td>\n",
       "    </tr>\n",
       "    <tr>\n",
       "      <th>697</th>\n",
       "      <td>1331154</td>\n",
       "      <td>4.0</td>\n",
       "      <td>3</td>\n",
       "    </tr>\n",
       "    <tr>\n",
       "      <th>698</th>\n",
       "      <td>2632461</td>\n",
       "      <td>3.0</td>\n",
       "      <td>3</td>\n",
       "    </tr>\n",
       "    <tr>\n",
       "      <th>699</th>\n",
       "      <td>44937</td>\n",
       "      <td>5.0</td>\n",
       "      <td>3</td>\n",
       "    </tr>\n",
       "    <tr>\n",
       "      <th>700</th>\n",
       "      <td>656399</td>\n",
       "      <td>4.0</td>\n",
       "      <td>3</td>\n",
       "    </tr>\n",
       "  </tbody>\n",
       "</table>\n",
       "</div>\n",
       "      <button class=\"colab-df-convert\" onclick=\"convertToInteractive('df-6c9bea18-9a16-400b-b7f4-6bad7bc6a553')\"\n",
       "              title=\"Convert this dataframe to an interactive table.\"\n",
       "              style=\"display:none;\">\n",
       "        \n",
       "  <svg xmlns=\"http://www.w3.org/2000/svg\" height=\"24px\"viewBox=\"0 0 24 24\"\n",
       "       width=\"24px\">\n",
       "    <path d=\"M0 0h24v24H0V0z\" fill=\"none\"/>\n",
       "    <path d=\"M18.56 5.44l.94 2.06.94-2.06 2.06-.94-2.06-.94-.94-2.06-.94 2.06-2.06.94zm-11 1L8.5 8.5l.94-2.06 2.06-.94-2.06-.94L8.5 2.5l-.94 2.06-2.06.94zm10 10l.94 2.06.94-2.06 2.06-.94-2.06-.94-.94-2.06-.94 2.06-2.06.94z\"/><path d=\"M17.41 7.96l-1.37-1.37c-.4-.4-.92-.59-1.43-.59-.52 0-1.04.2-1.43.59L10.3 9.45l-7.72 7.72c-.78.78-.78 2.05 0 2.83L4 21.41c.39.39.9.59 1.41.59.51 0 1.02-.2 1.41-.59l7.78-7.78 2.81-2.81c.8-.78.8-2.07 0-2.86zM5.41 20L4 18.59l7.72-7.72 1.47 1.35L5.41 20z\"/>\n",
       "  </svg>\n",
       "      </button>\n",
       "      \n",
       "  <style>\n",
       "    .colab-df-container {\n",
       "      display:flex;\n",
       "      flex-wrap:wrap;\n",
       "      gap: 12px;\n",
       "    }\n",
       "\n",
       "    .colab-df-convert {\n",
       "      background-color: #E8F0FE;\n",
       "      border: none;\n",
       "      border-radius: 50%;\n",
       "      cursor: pointer;\n",
       "      display: none;\n",
       "      fill: #1967D2;\n",
       "      height: 32px;\n",
       "      padding: 0 0 0 0;\n",
       "      width: 32px;\n",
       "    }\n",
       "\n",
       "    .colab-df-convert:hover {\n",
       "      background-color: #E2EBFA;\n",
       "      box-shadow: 0px 1px 2px rgba(60, 64, 67, 0.3), 0px 1px 3px 1px rgba(60, 64, 67, 0.15);\n",
       "      fill: #174EA6;\n",
       "    }\n",
       "\n",
       "    [theme=dark] .colab-df-convert {\n",
       "      background-color: #3B4455;\n",
       "      fill: #D2E3FC;\n",
       "    }\n",
       "\n",
       "    [theme=dark] .colab-df-convert:hover {\n",
       "      background-color: #434B5C;\n",
       "      box-shadow: 0px 1px 3px 1px rgba(0, 0, 0, 0.15);\n",
       "      filter: drop-shadow(0px 1px 2px rgba(0, 0, 0, 0.3));\n",
       "      fill: #FFFFFF;\n",
       "    }\n",
       "  </style>\n",
       "\n",
       "      <script>\n",
       "        const buttonEl =\n",
       "          document.querySelector('#df-6c9bea18-9a16-400b-b7f4-6bad7bc6a553 button.colab-df-convert');\n",
       "        buttonEl.style.display =\n",
       "          google.colab.kernel.accessAllowed ? 'block' : 'none';\n",
       "\n",
       "        async function convertToInteractive(key) {\n",
       "          const element = document.querySelector('#df-6c9bea18-9a16-400b-b7f4-6bad7bc6a553');\n",
       "          const dataTable =\n",
       "            await google.colab.kernel.invokeFunction('convertToInteractive',\n",
       "                                                     [key], {});\n",
       "          if (!dataTable) return;\n",
       "\n",
       "          const docLinkHtml = 'Like what you see? Visit the ' +\n",
       "            '<a target=\"_blank\" href=https://colab.research.google.com/notebooks/data_table.ipynb>data table notebook</a>'\n",
       "            + ' to learn more about interactive tables.';\n",
       "          element.innerHTML = '';\n",
       "          dataTable['output_type'] = 'display_data';\n",
       "          await google.colab.output.renderOutput(dataTable, element);\n",
       "          const docLink = document.createElement('div');\n",
       "          docLink.innerHTML = docLinkHtml;\n",
       "          element.appendChild(docLink);\n",
       "        }\n",
       "      </script>\n",
       "    </div>\n",
       "  </div>\n",
       "  "
      ],
      "text/plain": [
       "     Cust_Id  Rating  Movie_Id\n",
       "696   712664     5.0         3\n",
       "697  1331154     4.0         3\n",
       "698  2632461     3.0         3\n",
       "699    44937     5.0         3\n",
       "700   656399     4.0         3"
      ]
     },
     "execution_count": 49,
     "metadata": {},
     "output_type": "execute_result"
    }
   ],
   "source": [
    "netflix_dataset.head()"
   ]
  },
  {
   "cell_type": "code",
   "execution_count": 50,
   "metadata": {
    "colab": {
     "base_uri": "https://localhost:8080/"
    },
    "executionInfo": {
     "elapsed": 39327,
     "status": "ok",
     "timestamp": 1670676014339,
     "user": {
      "displayName": "Harshit Trivedi",
      "userId": "05510904477925688149"
     },
     "user_tz": -330
    },
    "id": "u36dZhgd-_a6",
    "outputId": "03f759de-8cb6-4b74-b511-1cfb3a96547a"
   },
   "outputs": [
    {
     "name": "stdout",
     "output_type": "stream",
     "text": [
      "(143458, 1350)\n"
     ]
    }
   ],
   "source": [
    "#now we will prepare the dataset for SVD and it takes the matrix as the input\n",
    "# so for input, we will convert the dataset into sparse matrix\n",
    "#4499 movies\n",
    "df_p = pd.pivot_table(netflix_dataset, values='Rating', index='Cust_Id', columns='Movie_Id')\n",
    "print(df_p.shape)"
   ]
  },
  {
   "cell_type": "code",
   "execution_count": 51,
   "metadata": {
    "colab": {
     "base_uri": "https://localhost:8080/",
     "height": 267
    },
    "executionInfo": {
     "elapsed": 84,
     "status": "ok",
     "timestamp": 1670676014340,
     "user": {
      "displayName": "Harshit Trivedi",
      "userId": "05510904477925688149"
     },
     "user_tz": -330
    },
    "id": "ScVss_Xd-_a7",
    "outputId": "45e65911-0b5b-4030-9b03-5a6c4bb7ea34"
   },
   "outputs": [
    {
     "data": {
      "text/html": [
       "\n",
       "  <div id=\"df-44a71f02-b823-4ec2-816f-9511f0306e2c\">\n",
       "    <div class=\"colab-df-container\">\n",
       "      <div>\n",
       "<style scoped>\n",
       "    .dataframe tbody tr th:only-of-type {\n",
       "        vertical-align: middle;\n",
       "    }\n",
       "\n",
       "    .dataframe tbody tr th {\n",
       "        vertical-align: top;\n",
       "    }\n",
       "\n",
       "    .dataframe thead th {\n",
       "        text-align: right;\n",
       "    }\n",
       "</style>\n",
       "<table border=\"1\" class=\"dataframe\">\n",
       "  <thead>\n",
       "    <tr style=\"text-align: right;\">\n",
       "      <th>Movie_Id</th>\n",
       "      <th>3</th>\n",
       "      <th>8</th>\n",
       "      <th>16</th>\n",
       "      <th>17</th>\n",
       "      <th>18</th>\n",
       "      <th>26</th>\n",
       "      <th>28</th>\n",
       "      <th>30</th>\n",
       "      <th>32</th>\n",
       "      <th>33</th>\n",
       "      <th>...</th>\n",
       "      <th>4472</th>\n",
       "      <th>4474</th>\n",
       "      <th>4478</th>\n",
       "      <th>4479</th>\n",
       "      <th>4485</th>\n",
       "      <th>4488</th>\n",
       "      <th>4490</th>\n",
       "      <th>4492</th>\n",
       "      <th>4493</th>\n",
       "      <th>4496</th>\n",
       "    </tr>\n",
       "    <tr>\n",
       "      <th>Cust_Id</th>\n",
       "      <th></th>\n",
       "      <th></th>\n",
       "      <th></th>\n",
       "      <th></th>\n",
       "      <th></th>\n",
       "      <th></th>\n",
       "      <th></th>\n",
       "      <th></th>\n",
       "      <th></th>\n",
       "      <th></th>\n",
       "      <th></th>\n",
       "      <th></th>\n",
       "      <th></th>\n",
       "      <th></th>\n",
       "      <th></th>\n",
       "      <th></th>\n",
       "      <th></th>\n",
       "      <th></th>\n",
       "      <th></th>\n",
       "      <th></th>\n",
       "      <th></th>\n",
       "    </tr>\n",
       "  </thead>\n",
       "  <tbody>\n",
       "    <tr>\n",
       "      <th>6</th>\n",
       "      <td>NaN</td>\n",
       "      <td>NaN</td>\n",
       "      <td>NaN</td>\n",
       "      <td>NaN</td>\n",
       "      <td>NaN</td>\n",
       "      <td>NaN</td>\n",
       "      <td>NaN</td>\n",
       "      <td>3.0</td>\n",
       "      <td>NaN</td>\n",
       "      <td>NaN</td>\n",
       "      <td>...</td>\n",
       "      <td>3.0</td>\n",
       "      <td>NaN</td>\n",
       "      <td>NaN</td>\n",
       "      <td>NaN</td>\n",
       "      <td>NaN</td>\n",
       "      <td>NaN</td>\n",
       "      <td>NaN</td>\n",
       "      <td>NaN</td>\n",
       "      <td>NaN</td>\n",
       "      <td>NaN</td>\n",
       "    </tr>\n",
       "    <tr>\n",
       "      <th>7</th>\n",
       "      <td>NaN</td>\n",
       "      <td>5.0</td>\n",
       "      <td>NaN</td>\n",
       "      <td>NaN</td>\n",
       "      <td>NaN</td>\n",
       "      <td>NaN</td>\n",
       "      <td>4.0</td>\n",
       "      <td>5.0</td>\n",
       "      <td>NaN</td>\n",
       "      <td>NaN</td>\n",
       "      <td>...</td>\n",
       "      <td>3.0</td>\n",
       "      <td>NaN</td>\n",
       "      <td>NaN</td>\n",
       "      <td>5.0</td>\n",
       "      <td>NaN</td>\n",
       "      <td>NaN</td>\n",
       "      <td>NaN</td>\n",
       "      <td>NaN</td>\n",
       "      <td>NaN</td>\n",
       "      <td>NaN</td>\n",
       "    </tr>\n",
       "    <tr>\n",
       "      <th>79</th>\n",
       "      <td>NaN</td>\n",
       "      <td>NaN</td>\n",
       "      <td>NaN</td>\n",
       "      <td>NaN</td>\n",
       "      <td>NaN</td>\n",
       "      <td>NaN</td>\n",
       "      <td>NaN</td>\n",
       "      <td>3.0</td>\n",
       "      <td>NaN</td>\n",
       "      <td>NaN</td>\n",
       "      <td>...</td>\n",
       "      <td>4.0</td>\n",
       "      <td>NaN</td>\n",
       "      <td>NaN</td>\n",
       "      <td>NaN</td>\n",
       "      <td>NaN</td>\n",
       "      <td>NaN</td>\n",
       "      <td>4.0</td>\n",
       "      <td>NaN</td>\n",
       "      <td>NaN</td>\n",
       "      <td>NaN</td>\n",
       "    </tr>\n",
       "    <tr>\n",
       "      <th>97</th>\n",
       "      <td>NaN</td>\n",
       "      <td>NaN</td>\n",
       "      <td>NaN</td>\n",
       "      <td>NaN</td>\n",
       "      <td>NaN</td>\n",
       "      <td>NaN</td>\n",
       "      <td>NaN</td>\n",
       "      <td>NaN</td>\n",
       "      <td>NaN</td>\n",
       "      <td>NaN</td>\n",
       "      <td>...</td>\n",
       "      <td>NaN</td>\n",
       "      <td>NaN</td>\n",
       "      <td>NaN</td>\n",
       "      <td>NaN</td>\n",
       "      <td>NaN</td>\n",
       "      <td>NaN</td>\n",
       "      <td>NaN</td>\n",
       "      <td>NaN</td>\n",
       "      <td>NaN</td>\n",
       "      <td>NaN</td>\n",
       "    </tr>\n",
       "    <tr>\n",
       "      <th>134</th>\n",
       "      <td>NaN</td>\n",
       "      <td>NaN</td>\n",
       "      <td>NaN</td>\n",
       "      <td>NaN</td>\n",
       "      <td>NaN</td>\n",
       "      <td>NaN</td>\n",
       "      <td>5.0</td>\n",
       "      <td>NaN</td>\n",
       "      <td>NaN</td>\n",
       "      <td>NaN</td>\n",
       "      <td>...</td>\n",
       "      <td>NaN</td>\n",
       "      <td>NaN</td>\n",
       "      <td>NaN</td>\n",
       "      <td>NaN</td>\n",
       "      <td>NaN</td>\n",
       "      <td>NaN</td>\n",
       "      <td>NaN</td>\n",
       "      <td>NaN</td>\n",
       "      <td>NaN</td>\n",
       "      <td>NaN</td>\n",
       "    </tr>\n",
       "  </tbody>\n",
       "</table>\n",
       "<p>5 rows × 1350 columns</p>\n",
       "</div>\n",
       "      <button class=\"colab-df-convert\" onclick=\"convertToInteractive('df-44a71f02-b823-4ec2-816f-9511f0306e2c')\"\n",
       "              title=\"Convert this dataframe to an interactive table.\"\n",
       "              style=\"display:none;\">\n",
       "        \n",
       "  <svg xmlns=\"http://www.w3.org/2000/svg\" height=\"24px\"viewBox=\"0 0 24 24\"\n",
       "       width=\"24px\">\n",
       "    <path d=\"M0 0h24v24H0V0z\" fill=\"none\"/>\n",
       "    <path d=\"M18.56 5.44l.94 2.06.94-2.06 2.06-.94-2.06-.94-.94-2.06-.94 2.06-2.06.94zm-11 1L8.5 8.5l.94-2.06 2.06-.94-2.06-.94L8.5 2.5l-.94 2.06-2.06.94zm10 10l.94 2.06.94-2.06 2.06-.94-2.06-.94-.94-2.06-.94 2.06-2.06.94z\"/><path d=\"M17.41 7.96l-1.37-1.37c-.4-.4-.92-.59-1.43-.59-.52 0-1.04.2-1.43.59L10.3 9.45l-7.72 7.72c-.78.78-.78 2.05 0 2.83L4 21.41c.39.39.9.59 1.41.59.51 0 1.02-.2 1.41-.59l7.78-7.78 2.81-2.81c.8-.78.8-2.07 0-2.86zM5.41 20L4 18.59l7.72-7.72 1.47 1.35L5.41 20z\"/>\n",
       "  </svg>\n",
       "      </button>\n",
       "      \n",
       "  <style>\n",
       "    .colab-df-container {\n",
       "      display:flex;\n",
       "      flex-wrap:wrap;\n",
       "      gap: 12px;\n",
       "    }\n",
       "\n",
       "    .colab-df-convert {\n",
       "      background-color: #E8F0FE;\n",
       "      border: none;\n",
       "      border-radius: 50%;\n",
       "      cursor: pointer;\n",
       "      display: none;\n",
       "      fill: #1967D2;\n",
       "      height: 32px;\n",
       "      padding: 0 0 0 0;\n",
       "      width: 32px;\n",
       "    }\n",
       "\n",
       "    .colab-df-convert:hover {\n",
       "      background-color: #E2EBFA;\n",
       "      box-shadow: 0px 1px 2px rgba(60, 64, 67, 0.3), 0px 1px 3px 1px rgba(60, 64, 67, 0.15);\n",
       "      fill: #174EA6;\n",
       "    }\n",
       "\n",
       "    [theme=dark] .colab-df-convert {\n",
       "      background-color: #3B4455;\n",
       "      fill: #D2E3FC;\n",
       "    }\n",
       "\n",
       "    [theme=dark] .colab-df-convert:hover {\n",
       "      background-color: #434B5C;\n",
       "      box-shadow: 0px 1px 3px 1px rgba(0, 0, 0, 0.15);\n",
       "      filter: drop-shadow(0px 1px 2px rgba(0, 0, 0, 0.3));\n",
       "      fill: #FFFFFF;\n",
       "    }\n",
       "  </style>\n",
       "\n",
       "      <script>\n",
       "        const buttonEl =\n",
       "          document.querySelector('#df-44a71f02-b823-4ec2-816f-9511f0306e2c button.colab-df-convert');\n",
       "        buttonEl.style.display =\n",
       "          google.colab.kernel.accessAllowed ? 'block' : 'none';\n",
       "\n",
       "        async function convertToInteractive(key) {\n",
       "          const element = document.querySelector('#df-44a71f02-b823-4ec2-816f-9511f0306e2c');\n",
       "          const dataTable =\n",
       "            await google.colab.kernel.invokeFunction('convertToInteractive',\n",
       "                                                     [key], {});\n",
       "          if (!dataTable) return;\n",
       "\n",
       "          const docLinkHtml = 'Like what you see? Visit the ' +\n",
       "            '<a target=\"_blank\" href=https://colab.research.google.com/notebooks/data_table.ipynb>data table notebook</a>'\n",
       "            + ' to learn more about interactive tables.';\n",
       "          element.innerHTML = '';\n",
       "          dataTable['output_type'] = 'display_data';\n",
       "          await google.colab.output.renderOutput(dataTable, element);\n",
       "          const docLink = document.createElement('div');\n",
       "          docLink.innerHTML = docLinkHtml;\n",
       "          element.appendChild(docLink);\n",
       "        }\n",
       "      </script>\n",
       "    </div>\n",
       "  </div>\n",
       "  "
      ],
      "text/plain": [
       "Movie_Id  3     8     16    17    18    26    28    30    32    33    ...  \\\n",
       "Cust_Id                                                               ...   \n",
       "6          NaN   NaN   NaN   NaN   NaN   NaN   NaN   3.0   NaN   NaN  ...   \n",
       "7          NaN   5.0   NaN   NaN   NaN   NaN   4.0   5.0   NaN   NaN  ...   \n",
       "79         NaN   NaN   NaN   NaN   NaN   NaN   NaN   3.0   NaN   NaN  ...   \n",
       "97         NaN   NaN   NaN   NaN   NaN   NaN   NaN   NaN   NaN   NaN  ...   \n",
       "134        NaN   NaN   NaN   NaN   NaN   NaN   5.0   NaN   NaN   NaN  ...   \n",
       "\n",
       "Movie_Id  4472  4474  4478  4479  4485  4488  4490  4492  4493  4496  \n",
       "Cust_Id                                                               \n",
       "6          3.0   NaN   NaN   NaN   NaN   NaN   NaN   NaN   NaN   NaN  \n",
       "7          3.0   NaN   NaN   5.0   NaN   NaN   NaN   NaN   NaN   NaN  \n",
       "79         4.0   NaN   NaN   NaN   NaN   NaN   4.0   NaN   NaN   NaN  \n",
       "97         NaN   NaN   NaN   NaN   NaN   NaN   NaN   NaN   NaN   NaN  \n",
       "134        NaN   NaN   NaN   NaN   NaN   NaN   NaN   NaN   NaN   NaN  \n",
       "\n",
       "[5 rows x 1350 columns]"
      ]
     },
     "execution_count": 51,
     "metadata": {},
     "output_type": "execute_result"
    }
   ],
   "source": [
    "df_p.head()"
   ]
  },
  {
   "cell_type": "code",
   "execution_count": 53,
   "metadata": {
    "executionInfo": {
     "elapsed": 416,
     "status": "ok",
     "timestamp": 1670676021424,
     "user": {
      "displayName": "Harshit Trivedi",
      "userId": "05510904477925688149"
     },
     "user_tz": -330
    },
    "id": "9h_AVCr--_a7"
   },
   "outputs": [],
   "source": [
    "df_title=pd.read_csv('/content/drive/MyDrive/Untitled folder/SVD/movie_titles.csv', encoding='ISO-8859-1', header=None, names=['Movie_Id','Year','Name' ])\n",
    "df_title.set_index('Movie_Id', inplace=True)"
   ]
  },
  {
   "cell_type": "code",
   "execution_count": 54,
   "metadata": {
    "colab": {
     "base_uri": "https://localhost:8080/",
     "height": 394
    },
    "executionInfo": {
     "elapsed": 16,
     "status": "ok",
     "timestamp": 1670676025514,
     "user": {
      "displayName": "Harshit Trivedi",
      "userId": "05510904477925688149"
     },
     "user_tz": -330
    },
    "id": "7ofp3CHA-_a7",
    "outputId": "fa3b1ccf-187a-4eb3-d880-f78efc31756d"
   },
   "outputs": [
    {
     "data": {
      "text/html": [
       "\n",
       "  <div id=\"df-d37e1a69-f5e6-402b-9836-b5d73b29889c\">\n",
       "    <div class=\"colab-df-container\">\n",
       "      <div>\n",
       "<style scoped>\n",
       "    .dataframe tbody tr th:only-of-type {\n",
       "        vertical-align: middle;\n",
       "    }\n",
       "\n",
       "    .dataframe tbody tr th {\n",
       "        vertical-align: top;\n",
       "    }\n",
       "\n",
       "    .dataframe thead th {\n",
       "        text-align: right;\n",
       "    }\n",
       "</style>\n",
       "<table border=\"1\" class=\"dataframe\">\n",
       "  <thead>\n",
       "    <tr style=\"text-align: right;\">\n",
       "      <th></th>\n",
       "      <th>Year</th>\n",
       "      <th>Name</th>\n",
       "    </tr>\n",
       "    <tr>\n",
       "      <th>Movie_Id</th>\n",
       "      <th></th>\n",
       "      <th></th>\n",
       "    </tr>\n",
       "  </thead>\n",
       "  <tbody>\n",
       "    <tr>\n",
       "      <th>1</th>\n",
       "      <td>2003.0</td>\n",
       "      <td>Dinosaur Planet</td>\n",
       "    </tr>\n",
       "    <tr>\n",
       "      <th>2</th>\n",
       "      <td>2004.0</td>\n",
       "      <td>Isle of Man TT 2004 Review</td>\n",
       "    </tr>\n",
       "    <tr>\n",
       "      <th>3</th>\n",
       "      <td>1997.0</td>\n",
       "      <td>Character</td>\n",
       "    </tr>\n",
       "    <tr>\n",
       "      <th>4</th>\n",
       "      <td>1994.0</td>\n",
       "      <td>Paula Abdul's Get Up &amp; Dance</td>\n",
       "    </tr>\n",
       "    <tr>\n",
       "      <th>5</th>\n",
       "      <td>2004.0</td>\n",
       "      <td>The Rise and Fall of ECW</td>\n",
       "    </tr>\n",
       "    <tr>\n",
       "      <th>6</th>\n",
       "      <td>1997.0</td>\n",
       "      <td>Sick</td>\n",
       "    </tr>\n",
       "    <tr>\n",
       "      <th>7</th>\n",
       "      <td>1992.0</td>\n",
       "      <td>8 Man</td>\n",
       "    </tr>\n",
       "    <tr>\n",
       "      <th>8</th>\n",
       "      <td>2004.0</td>\n",
       "      <td>What the #$*! Do We Know!?</td>\n",
       "    </tr>\n",
       "    <tr>\n",
       "      <th>9</th>\n",
       "      <td>1991.0</td>\n",
       "      <td>Class of Nuke 'Em High 2</td>\n",
       "    </tr>\n",
       "    <tr>\n",
       "      <th>10</th>\n",
       "      <td>2001.0</td>\n",
       "      <td>Fighter</td>\n",
       "    </tr>\n",
       "  </tbody>\n",
       "</table>\n",
       "</div>\n",
       "      <button class=\"colab-df-convert\" onclick=\"convertToInteractive('df-d37e1a69-f5e6-402b-9836-b5d73b29889c')\"\n",
       "              title=\"Convert this dataframe to an interactive table.\"\n",
       "              style=\"display:none;\">\n",
       "        \n",
       "  <svg xmlns=\"http://www.w3.org/2000/svg\" height=\"24px\"viewBox=\"0 0 24 24\"\n",
       "       width=\"24px\">\n",
       "    <path d=\"M0 0h24v24H0V0z\" fill=\"none\"/>\n",
       "    <path d=\"M18.56 5.44l.94 2.06.94-2.06 2.06-.94-2.06-.94-.94-2.06-.94 2.06-2.06.94zm-11 1L8.5 8.5l.94-2.06 2.06-.94-2.06-.94L8.5 2.5l-.94 2.06-2.06.94zm10 10l.94 2.06.94-2.06 2.06-.94-2.06-.94-.94-2.06-.94 2.06-2.06.94z\"/><path d=\"M17.41 7.96l-1.37-1.37c-.4-.4-.92-.59-1.43-.59-.52 0-1.04.2-1.43.59L10.3 9.45l-7.72 7.72c-.78.78-.78 2.05 0 2.83L4 21.41c.39.39.9.59 1.41.59.51 0 1.02-.2 1.41-.59l7.78-7.78 2.81-2.81c.8-.78.8-2.07 0-2.86zM5.41 20L4 18.59l7.72-7.72 1.47 1.35L5.41 20z\"/>\n",
       "  </svg>\n",
       "      </button>\n",
       "      \n",
       "  <style>\n",
       "    .colab-df-container {\n",
       "      display:flex;\n",
       "      flex-wrap:wrap;\n",
       "      gap: 12px;\n",
       "    }\n",
       "\n",
       "    .colab-df-convert {\n",
       "      background-color: #E8F0FE;\n",
       "      border: none;\n",
       "      border-radius: 50%;\n",
       "      cursor: pointer;\n",
       "      display: none;\n",
       "      fill: #1967D2;\n",
       "      height: 32px;\n",
       "      padding: 0 0 0 0;\n",
       "      width: 32px;\n",
       "    }\n",
       "\n",
       "    .colab-df-convert:hover {\n",
       "      background-color: #E2EBFA;\n",
       "      box-shadow: 0px 1px 2px rgba(60, 64, 67, 0.3), 0px 1px 3px 1px rgba(60, 64, 67, 0.15);\n",
       "      fill: #174EA6;\n",
       "    }\n",
       "\n",
       "    [theme=dark] .colab-df-convert {\n",
       "      background-color: #3B4455;\n",
       "      fill: #D2E3FC;\n",
       "    }\n",
       "\n",
       "    [theme=dark] .colab-df-convert:hover {\n",
       "      background-color: #434B5C;\n",
       "      box-shadow: 0px 1px 3px 1px rgba(0, 0, 0, 0.15);\n",
       "      filter: drop-shadow(0px 1px 2px rgba(0, 0, 0, 0.3));\n",
       "      fill: #FFFFFF;\n",
       "    }\n",
       "  </style>\n",
       "\n",
       "      <script>\n",
       "        const buttonEl =\n",
       "          document.querySelector('#df-d37e1a69-f5e6-402b-9836-b5d73b29889c button.colab-df-convert');\n",
       "        buttonEl.style.display =\n",
       "          google.colab.kernel.accessAllowed ? 'block' : 'none';\n",
       "\n",
       "        async function convertToInteractive(key) {\n",
       "          const element = document.querySelector('#df-d37e1a69-f5e6-402b-9836-b5d73b29889c');\n",
       "          const dataTable =\n",
       "            await google.colab.kernel.invokeFunction('convertToInteractive',\n",
       "                                                     [key], {});\n",
       "          if (!dataTable) return;\n",
       "\n",
       "          const docLinkHtml = 'Like what you see? Visit the ' +\n",
       "            '<a target=\"_blank\" href=https://colab.research.google.com/notebooks/data_table.ipynb>data table notebook</a>'\n",
       "            + ' to learn more about interactive tables.';\n",
       "          element.innerHTML = '';\n",
       "          dataTable['output_type'] = 'display_data';\n",
       "          await google.colab.output.renderOutput(dataTable, element);\n",
       "          const docLink = document.createElement('div');\n",
       "          docLink.innerHTML = docLinkHtml;\n",
       "          element.appendChild(docLink);\n",
       "        }\n",
       "      </script>\n",
       "    </div>\n",
       "  </div>\n",
       "  "
      ],
      "text/plain": [
       "            Year                          Name\n",
       "Movie_Id                                      \n",
       "1         2003.0               Dinosaur Planet\n",
       "2         2004.0    Isle of Man TT 2004 Review\n",
       "3         1997.0                     Character\n",
       "4         1994.0  Paula Abdul's Get Up & Dance\n",
       "5         2004.0      The Rise and Fall of ECW\n",
       "6         1997.0                          Sick\n",
       "7         1992.0                         8 Man\n",
       "8         2004.0    What the #$*! Do We Know!?\n",
       "9         1991.0      Class of Nuke 'Em High 2\n",
       "10        2001.0                       Fighter"
      ]
     },
     "execution_count": 54,
     "metadata": {},
     "output_type": "execute_result"
    }
   ],
   "source": [
    "df_title.head(10)"
   ]
  },
  {
   "cell_type": "code",
   "execution_count": 55,
   "metadata": {
    "colab": {
     "base_uri": "https://localhost:8080/"
    },
    "executionInfo": {
     "elapsed": 46718,
     "status": "ok",
     "timestamp": 1670676074483,
     "user": {
      "displayName": "Harshit Trivedi",
      "userId": "05510904477925688149"
     },
     "user_tz": -330
    },
    "id": "iL0RnWR8-_a7",
    "outputId": "c8369f9c-7a90-4e15-d41a-e2347eae8ed0"
   },
   "outputs": [
    {
     "name": "stdout",
     "output_type": "stream",
     "text": [
      "Looking in indexes: https://pypi.org/simple, https://us-python.pkg.dev/colab-wheels/public/simple/\n",
      "Collecting scikit-surprise\n",
      "  Downloading scikit-surprise-1.1.3.tar.gz (771 kB)\n",
      "\u001b[K     |████████████████████████████████| 771 kB 5.3 MB/s \n",
      "\u001b[?25hRequirement already satisfied: joblib>=1.0.0 in /usr/local/lib/python3.8/dist-packages (from scikit-surprise) (1.2.0)\n",
      "Requirement already satisfied: numpy>=1.17.3 in /usr/local/lib/python3.8/dist-packages (from scikit-surprise) (1.21.6)\n",
      "Requirement already satisfied: scipy>=1.3.2 in /usr/local/lib/python3.8/dist-packages (from scikit-surprise) (1.7.3)\n",
      "Building wheels for collected packages: scikit-surprise\n",
      "  Building wheel for scikit-surprise (setup.py) ... \u001b[?25l\u001b[?25hdone\n",
      "  Created wheel for scikit-surprise: filename=scikit_surprise-1.1.3-cp38-cp38-linux_x86_64.whl size=2626483 sha256=f438f4a6aea0d6ac1ab549ca8b041acdfb1c89009dc2ced4760c299495f40365\n",
      "  Stored in directory: /root/.cache/pip/wheels/af/db/86/2c18183a80ba05da35bf0fb7417aac5cddbd93bcb1b92fd3ea\n",
      "Successfully built scikit-surprise\n",
      "Installing collected packages: scikit-surprise\n",
      "Successfully installed scikit-surprise-1.1.3\n"
     ]
    }
   ],
   "source": [
    "#model building\n",
    "!pip install scikit-surprise\n",
    "import math\n",
    "import re\n",
    "from scipy.sparse import csr_matrix\n",
    "import seaborn as sns\n",
    "from surprise import Reader, Dataset, SVD\n",
    "from surprise.model_selection import cross_validate"
   ]
  },
  {
   "cell_type": "code",
   "execution_count": 56,
   "metadata": {
    "executionInfo": {
     "elapsed": 13,
     "status": "ok",
     "timestamp": 1670676074485,
     "user": {
      "displayName": "Harshit Trivedi",
      "userId": "05510904477925688149"
     },
     "user_tz": -330
    },
    "id": "OpjUcFU8-_a8"
   },
   "outputs": [],
   "source": [
    "#help us to read the dataset for svd algo\n",
    "reader=Reader()"
   ]
  },
  {
   "cell_type": "code",
   "execution_count": 57,
   "metadata": {
    "executionInfo": {
     "elapsed": 11,
     "status": "ok",
     "timestamp": 1670676074485,
     "user": {
      "displayName": "Harshit Trivedi",
      "userId": "05510904477925688149"
     },
     "user_tz": -330
    },
    "id": "NNeCQDO3-_a8"
   },
   "outputs": [],
   "source": [
    "#we only work with top 100K rows for quick runtime\n",
    "data=Dataset.load_from_df(netflix_dataset[['Cust_Id','Movie_Id','Rating']][:100000], reader)"
   ]
  },
  {
   "cell_type": "code",
   "execution_count": 58,
   "metadata": {
    "colab": {
     "base_uri": "https://localhost:8080/"
    },
    "executionInfo": {
     "elapsed": 15282,
     "status": "ok",
     "timestamp": 1670676103376,
     "user": {
      "displayName": "Harshit Trivedi",
      "userId": "05510904477925688149"
     },
     "user_tz": -330
    },
    "id": "6-KslE4J-_a8",
    "outputId": "35a90c6c-d6f4-4048-ee1a-55732da9bee9"
   },
   "outputs": [
    {
     "name": "stdout",
     "output_type": "stream",
     "text": [
      "Evaluating RMSE, MAE of algorithm SVD on 3 split(s).\n",
      "\n",
      "                  Fold 1  Fold 2  Fold 3  Mean    Std     \n",
      "RMSE (testset)    0.9997  0.9927  0.9999  0.9974  0.0034  \n",
      "MAE (testset)     0.8080  0.7986  0.8042  0.8036  0.0039  \n",
      "Fit time          2.64    4.74    3.39    3.59    0.87    \n",
      "Test time         0.62    1.30    0.44    0.79    0.37    \n"
     ]
    },
    {
     "data": {
      "text/plain": [
       "{'test_rmse': array([0.99968668, 0.99265879, 0.99990112]),\n",
       " 'test_mae': array([0.80797721, 0.79857907, 0.80423667]),\n",
       " 'fit_time': (2.643242359161377, 4.739904165267944, 3.3919217586517334),\n",
       " 'test_time': (0.6192078590393066, 1.2980692386627197, 0.4407694339752197)}"
      ]
     },
     "execution_count": 58,
     "metadata": {},
     "output_type": "execute_result"
    }
   ],
   "source": [
    "svd=SVD()\n",
    "cross_validate(svd, data, measures=['RMSE','MAE'], cv=3, verbose=True)\n",
    "#for 1st fold- 1,2,3,4,5"
   ]
  },
  {
   "cell_type": "code",
   "execution_count": 59,
   "metadata": {
    "colab": {
     "base_uri": "https://localhost:8080/",
     "height": 206
    },
    "executionInfo": {
     "elapsed": 94,
     "status": "ok",
     "timestamp": 1670676103378,
     "user": {
      "displayName": "Harshit Trivedi",
      "userId": "05510904477925688149"
     },
     "user_tz": -330
    },
    "id": "NVpTPH3V-_a8",
    "outputId": "f1aa2b73-13b0-4eb0-e547-a95db08b6909"
   },
   "outputs": [
    {
     "data": {
      "text/html": [
       "\n",
       "  <div id=\"df-8cd69a83-5ad6-4b72-9bc9-56d5ed9ab9d2\">\n",
       "    <div class=\"colab-df-container\">\n",
       "      <div>\n",
       "<style scoped>\n",
       "    .dataframe tbody tr th:only-of-type {\n",
       "        vertical-align: middle;\n",
       "    }\n",
       "\n",
       "    .dataframe tbody tr th {\n",
       "        vertical-align: top;\n",
       "    }\n",
       "\n",
       "    .dataframe thead th {\n",
       "        text-align: right;\n",
       "    }\n",
       "</style>\n",
       "<table border=\"1\" class=\"dataframe\">\n",
       "  <thead>\n",
       "    <tr style=\"text-align: right;\">\n",
       "      <th></th>\n",
       "      <th>Cust_Id</th>\n",
       "      <th>Rating</th>\n",
       "      <th>Movie_Id</th>\n",
       "    </tr>\n",
       "  </thead>\n",
       "  <tbody>\n",
       "    <tr>\n",
       "      <th>696</th>\n",
       "      <td>712664</td>\n",
       "      <td>5.0</td>\n",
       "      <td>3</td>\n",
       "    </tr>\n",
       "    <tr>\n",
       "      <th>697</th>\n",
       "      <td>1331154</td>\n",
       "      <td>4.0</td>\n",
       "      <td>3</td>\n",
       "    </tr>\n",
       "    <tr>\n",
       "      <th>698</th>\n",
       "      <td>2632461</td>\n",
       "      <td>3.0</td>\n",
       "      <td>3</td>\n",
       "    </tr>\n",
       "    <tr>\n",
       "      <th>699</th>\n",
       "      <td>44937</td>\n",
       "      <td>5.0</td>\n",
       "      <td>3</td>\n",
       "    </tr>\n",
       "    <tr>\n",
       "      <th>700</th>\n",
       "      <td>656399</td>\n",
       "      <td>4.0</td>\n",
       "      <td>3</td>\n",
       "    </tr>\n",
       "  </tbody>\n",
       "</table>\n",
       "</div>\n",
       "      <button class=\"colab-df-convert\" onclick=\"convertToInteractive('df-8cd69a83-5ad6-4b72-9bc9-56d5ed9ab9d2')\"\n",
       "              title=\"Convert this dataframe to an interactive table.\"\n",
       "              style=\"display:none;\">\n",
       "        \n",
       "  <svg xmlns=\"http://www.w3.org/2000/svg\" height=\"24px\"viewBox=\"0 0 24 24\"\n",
       "       width=\"24px\">\n",
       "    <path d=\"M0 0h24v24H0V0z\" fill=\"none\"/>\n",
       "    <path d=\"M18.56 5.44l.94 2.06.94-2.06 2.06-.94-2.06-.94-.94-2.06-.94 2.06-2.06.94zm-11 1L8.5 8.5l.94-2.06 2.06-.94-2.06-.94L8.5 2.5l-.94 2.06-2.06.94zm10 10l.94 2.06.94-2.06 2.06-.94-2.06-.94-.94-2.06-.94 2.06-2.06.94z\"/><path d=\"M17.41 7.96l-1.37-1.37c-.4-.4-.92-.59-1.43-.59-.52 0-1.04.2-1.43.59L10.3 9.45l-7.72 7.72c-.78.78-.78 2.05 0 2.83L4 21.41c.39.39.9.59 1.41.59.51 0 1.02-.2 1.41-.59l7.78-7.78 2.81-2.81c.8-.78.8-2.07 0-2.86zM5.41 20L4 18.59l7.72-7.72 1.47 1.35L5.41 20z\"/>\n",
       "  </svg>\n",
       "      </button>\n",
       "      \n",
       "  <style>\n",
       "    .colab-df-container {\n",
       "      display:flex;\n",
       "      flex-wrap:wrap;\n",
       "      gap: 12px;\n",
       "    }\n",
       "\n",
       "    .colab-df-convert {\n",
       "      background-color: #E8F0FE;\n",
       "      border: none;\n",
       "      border-radius: 50%;\n",
       "      cursor: pointer;\n",
       "      display: none;\n",
       "      fill: #1967D2;\n",
       "      height: 32px;\n",
       "      padding: 0 0 0 0;\n",
       "      width: 32px;\n",
       "    }\n",
       "\n",
       "    .colab-df-convert:hover {\n",
       "      background-color: #E2EBFA;\n",
       "      box-shadow: 0px 1px 2px rgba(60, 64, 67, 0.3), 0px 1px 3px 1px rgba(60, 64, 67, 0.15);\n",
       "      fill: #174EA6;\n",
       "    }\n",
       "\n",
       "    [theme=dark] .colab-df-convert {\n",
       "      background-color: #3B4455;\n",
       "      fill: #D2E3FC;\n",
       "    }\n",
       "\n",
       "    [theme=dark] .colab-df-convert:hover {\n",
       "      background-color: #434B5C;\n",
       "      box-shadow: 0px 1px 3px 1px rgba(0, 0, 0, 0.15);\n",
       "      filter: drop-shadow(0px 1px 2px rgba(0, 0, 0, 0.3));\n",
       "      fill: #FFFFFF;\n",
       "    }\n",
       "  </style>\n",
       "\n",
       "      <script>\n",
       "        const buttonEl =\n",
       "          document.querySelector('#df-8cd69a83-5ad6-4b72-9bc9-56d5ed9ab9d2 button.colab-df-convert');\n",
       "        buttonEl.style.display =\n",
       "          google.colab.kernel.accessAllowed ? 'block' : 'none';\n",
       "\n",
       "        async function convertToInteractive(key) {\n",
       "          const element = document.querySelector('#df-8cd69a83-5ad6-4b72-9bc9-56d5ed9ab9d2');\n",
       "          const dataTable =\n",
       "            await google.colab.kernel.invokeFunction('convertToInteractive',\n",
       "                                                     [key], {});\n",
       "          if (!dataTable) return;\n",
       "\n",
       "          const docLinkHtml = 'Like what you see? Visit the ' +\n",
       "            '<a target=\"_blank\" href=https://colab.research.google.com/notebooks/data_table.ipynb>data table notebook</a>'\n",
       "            + ' to learn more about interactive tables.';\n",
       "          element.innerHTML = '';\n",
       "          dataTable['output_type'] = 'display_data';\n",
       "          await google.colab.output.renderOutput(dataTable, element);\n",
       "          const docLink = document.createElement('div');\n",
       "          docLink.innerHTML = docLinkHtml;\n",
       "          element.appendChild(docLink);\n",
       "        }\n",
       "      </script>\n",
       "    </div>\n",
       "  </div>\n",
       "  "
      ],
      "text/plain": [
       "     Cust_Id  Rating  Movie_Id\n",
       "696   712664     5.0         3\n",
       "697  1331154     4.0         3\n",
       "698  2632461     3.0         3\n",
       "699    44937     5.0         3\n",
       "700   656399     4.0         3"
      ]
     },
     "execution_count": 59,
     "metadata": {},
     "output_type": "execute_result"
    }
   ],
   "source": [
    "netflix_dataset.head()"
   ]
  },
  {
   "cell_type": "code",
   "execution_count": 60,
   "metadata": {
    "colab": {
     "base_uri": "https://localhost:8080/"
    },
    "executionInfo": {
     "elapsed": 92,
     "status": "ok",
     "timestamp": 1670676103379,
     "user": {
      "displayName": "Harshit Trivedi",
      "userId": "05510904477925688149"
     },
     "user_tz": -330
    },
    "id": "oKHYSwvM-_a9",
    "outputId": "bdb3e915-6b7a-494c-888f-34985fb40c89"
   },
   "outputs": [
    {
     "data": {
      "text/plain": [
       "Movie_Id\n",
       "3                       Character\n",
       "79                    The Killing\n",
       "175                Reservoir Dogs\n",
       "199               The Deer Hunter\n",
       "241            North by Northwest\n",
       "                  ...            \n",
       "3887    Aguirre: The Wrath of God\n",
       "4109              American Psycho\n",
       "4266    The Passion of the Christ\n",
       "4384             Dawn of the Dead\n",
       "4392             Army of Darkness\n",
       "Name: Name, Length: 84, dtype: object"
      ]
     },
     "execution_count": 60,
     "metadata": {},
     "output_type": "execute_result"
    }
   ],
   "source": [
    "#so first we take user 712664 and we try to recommend some movies based on the past data\n",
    "dataset_712664=netflix_dataset[(netflix_dataset['Cust_Id'] ==712664)& (netflix_dataset['Rating']==5)]\n",
    "dataset_712664=dataset_712664.set_index('Movie_Id')\n",
    "dataset_712664=dataset_712664.join(df_title)['Name']\n",
    "dataset_712664"
   ]
  },
  {
   "cell_type": "code",
   "execution_count": 61,
   "metadata": {
    "colab": {
     "base_uri": "https://localhost:8080/",
     "height": 455
    },
    "executionInfo": {
     "elapsed": 85,
     "status": "ok",
     "timestamp": 1670676103380,
     "user": {
      "displayName": "Harshit Trivedi",
      "userId": "05510904477925688149"
     },
     "user_tz": -330
    },
    "id": "FzZGhSfj-_a9",
    "outputId": "6790ff99-7be8-4fbc-9c42-c6e5e7ce8082"
   },
   "outputs": [
    {
     "data": {
      "text/html": [
       "\n",
       "  <div id=\"df-6e5358a9-b67d-45fe-8957-af8374461b63\">\n",
       "    <div class=\"colab-df-container\">\n",
       "      <div>\n",
       "<style scoped>\n",
       "    .dataframe tbody tr th:only-of-type {\n",
       "        vertical-align: middle;\n",
       "    }\n",
       "\n",
       "    .dataframe tbody tr th {\n",
       "        vertical-align: top;\n",
       "    }\n",
       "\n",
       "    .dataframe thead th {\n",
       "        text-align: right;\n",
       "    }\n",
       "</style>\n",
       "<table border=\"1\" class=\"dataframe\">\n",
       "  <thead>\n",
       "    <tr style=\"text-align: right;\">\n",
       "      <th></th>\n",
       "      <th>Year</th>\n",
       "      <th>Name</th>\n",
       "    </tr>\n",
       "    <tr>\n",
       "      <th>Movie_Id</th>\n",
       "      <th></th>\n",
       "      <th></th>\n",
       "    </tr>\n",
       "  </thead>\n",
       "  <tbody>\n",
       "    <tr>\n",
       "      <th>1</th>\n",
       "      <td>2003.0</td>\n",
       "      <td>Dinosaur Planet</td>\n",
       "    </tr>\n",
       "    <tr>\n",
       "      <th>2</th>\n",
       "      <td>2004.0</td>\n",
       "      <td>Isle of Man TT 2004 Review</td>\n",
       "    </tr>\n",
       "    <tr>\n",
       "      <th>3</th>\n",
       "      <td>1997.0</td>\n",
       "      <td>Character</td>\n",
       "    </tr>\n",
       "    <tr>\n",
       "      <th>4</th>\n",
       "      <td>1994.0</td>\n",
       "      <td>Paula Abdul's Get Up &amp; Dance</td>\n",
       "    </tr>\n",
       "    <tr>\n",
       "      <th>5</th>\n",
       "      <td>2004.0</td>\n",
       "      <td>The Rise and Fall of ECW</td>\n",
       "    </tr>\n",
       "    <tr>\n",
       "      <th>...</th>\n",
       "      <td>...</td>\n",
       "      <td>...</td>\n",
       "    </tr>\n",
       "    <tr>\n",
       "      <th>17766</th>\n",
       "      <td>2002.0</td>\n",
       "      <td>Where the Wild Things Are and Other Maurice Se...</td>\n",
       "    </tr>\n",
       "    <tr>\n",
       "      <th>17767</th>\n",
       "      <td>2004.0</td>\n",
       "      <td>Fidel Castro: American Experience</td>\n",
       "    </tr>\n",
       "    <tr>\n",
       "      <th>17768</th>\n",
       "      <td>2000.0</td>\n",
       "      <td>Epoch</td>\n",
       "    </tr>\n",
       "    <tr>\n",
       "      <th>17769</th>\n",
       "      <td>2003.0</td>\n",
       "      <td>The Company</td>\n",
       "    </tr>\n",
       "    <tr>\n",
       "      <th>17770</th>\n",
       "      <td>2003.0</td>\n",
       "      <td>Alien Hunter</td>\n",
       "    </tr>\n",
       "  </tbody>\n",
       "</table>\n",
       "<p>17770 rows × 2 columns</p>\n",
       "</div>\n",
       "      <button class=\"colab-df-convert\" onclick=\"convertToInteractive('df-6e5358a9-b67d-45fe-8957-af8374461b63')\"\n",
       "              title=\"Convert this dataframe to an interactive table.\"\n",
       "              style=\"display:none;\">\n",
       "        \n",
       "  <svg xmlns=\"http://www.w3.org/2000/svg\" height=\"24px\"viewBox=\"0 0 24 24\"\n",
       "       width=\"24px\">\n",
       "    <path d=\"M0 0h24v24H0V0z\" fill=\"none\"/>\n",
       "    <path d=\"M18.56 5.44l.94 2.06.94-2.06 2.06-.94-2.06-.94-.94-2.06-.94 2.06-2.06.94zm-11 1L8.5 8.5l.94-2.06 2.06-.94-2.06-.94L8.5 2.5l-.94 2.06-2.06.94zm10 10l.94 2.06.94-2.06 2.06-.94-2.06-.94-.94-2.06-.94 2.06-2.06.94z\"/><path d=\"M17.41 7.96l-1.37-1.37c-.4-.4-.92-.59-1.43-.59-.52 0-1.04.2-1.43.59L10.3 9.45l-7.72 7.72c-.78.78-.78 2.05 0 2.83L4 21.41c.39.39.9.59 1.41.59.51 0 1.02-.2 1.41-.59l7.78-7.78 2.81-2.81c.8-.78.8-2.07 0-2.86zM5.41 20L4 18.59l7.72-7.72 1.47 1.35L5.41 20z\"/>\n",
       "  </svg>\n",
       "      </button>\n",
       "      \n",
       "  <style>\n",
       "    .colab-df-container {\n",
       "      display:flex;\n",
       "      flex-wrap:wrap;\n",
       "      gap: 12px;\n",
       "    }\n",
       "\n",
       "    .colab-df-convert {\n",
       "      background-color: #E8F0FE;\n",
       "      border: none;\n",
       "      border-radius: 50%;\n",
       "      cursor: pointer;\n",
       "      display: none;\n",
       "      fill: #1967D2;\n",
       "      height: 32px;\n",
       "      padding: 0 0 0 0;\n",
       "      width: 32px;\n",
       "    }\n",
       "\n",
       "    .colab-df-convert:hover {\n",
       "      background-color: #E2EBFA;\n",
       "      box-shadow: 0px 1px 2px rgba(60, 64, 67, 0.3), 0px 1px 3px 1px rgba(60, 64, 67, 0.15);\n",
       "      fill: #174EA6;\n",
       "    }\n",
       "\n",
       "    [theme=dark] .colab-df-convert {\n",
       "      background-color: #3B4455;\n",
       "      fill: #D2E3FC;\n",
       "    }\n",
       "\n",
       "    [theme=dark] .colab-df-convert:hover {\n",
       "      background-color: #434B5C;\n",
       "      box-shadow: 0px 1px 3px 1px rgba(0, 0, 0, 0.15);\n",
       "      filter: drop-shadow(0px 1px 2px rgba(0, 0, 0, 0.3));\n",
       "      fill: #FFFFFF;\n",
       "    }\n",
       "  </style>\n",
       "\n",
       "      <script>\n",
       "        const buttonEl =\n",
       "          document.querySelector('#df-6e5358a9-b67d-45fe-8957-af8374461b63 button.colab-df-convert');\n",
       "        buttonEl.style.display =\n",
       "          google.colab.kernel.accessAllowed ? 'block' : 'none';\n",
       "\n",
       "        async function convertToInteractive(key) {\n",
       "          const element = document.querySelector('#df-6e5358a9-b67d-45fe-8957-af8374461b63');\n",
       "          const dataTable =\n",
       "            await google.colab.kernel.invokeFunction('convertToInteractive',\n",
       "                                                     [key], {});\n",
       "          if (!dataTable) return;\n",
       "\n",
       "          const docLinkHtml = 'Like what you see? Visit the ' +\n",
       "            '<a target=\"_blank\" href=https://colab.research.google.com/notebooks/data_table.ipynb>data table notebook</a>'\n",
       "            + ' to learn more about interactive tables.';\n",
       "          element.innerHTML = '';\n",
       "          dataTable['output_type'] = 'display_data';\n",
       "          await google.colab.output.renderOutput(dataTable, element);\n",
       "          const docLink = document.createElement('div');\n",
       "          docLink.innerHTML = docLinkHtml;\n",
       "          element.appendChild(docLink);\n",
       "        }\n",
       "      </script>\n",
       "    </div>\n",
       "  </div>\n",
       "  "
      ],
      "text/plain": [
       "            Year                                               Name\n",
       "Movie_Id                                                           \n",
       "1         2003.0                                    Dinosaur Planet\n",
       "2         2004.0                         Isle of Man TT 2004 Review\n",
       "3         1997.0                                          Character\n",
       "4         1994.0                       Paula Abdul's Get Up & Dance\n",
       "5         2004.0                           The Rise and Fall of ECW\n",
       "...          ...                                                ...\n",
       "17766     2002.0  Where the Wild Things Are and Other Maurice Se...\n",
       "17767     2004.0                  Fidel Castro: American Experience\n",
       "17768     2000.0                                              Epoch\n",
       "17769     2003.0                                        The Company\n",
       "17770     2003.0                                       Alien Hunter\n",
       "\n",
       "[17770 rows x 2 columns]"
      ]
     },
     "execution_count": 61,
     "metadata": {},
     "output_type": "execute_result"
    }
   ],
   "source": [
    "#now we will build the recommendation algorithm\n",
    "#first we will make a shallow copy of the movie_titles.csv file so that we can change the values in the copied dataset, not in the actual dataset\n",
    "\n",
    "user_712664=df_title.copy()\n",
    "user_712664"
   ]
  },
  {
   "cell_type": "code",
   "execution_count": 62,
   "metadata": {
    "colab": {
     "base_uri": "https://localhost:8080/",
     "height": 424
    },
    "executionInfo": {
     "elapsed": 84,
     "status": "ok",
     "timestamp": 1670676103381,
     "user": {
      "displayName": "Harshit Trivedi",
      "userId": "05510904477925688149"
     },
     "user_tz": -330
    },
    "id": "OheANb_1-_a9",
    "outputId": "1de25a8f-3f37-4819-d4dd-c242f2315a90"
   },
   "outputs": [
    {
     "data": {
      "text/html": [
       "\n",
       "  <div id=\"df-a2caf072-61ac-453f-9e66-5ee491762df4\">\n",
       "    <div class=\"colab-df-container\">\n",
       "      <div>\n",
       "<style scoped>\n",
       "    .dataframe tbody tr th:only-of-type {\n",
       "        vertical-align: middle;\n",
       "    }\n",
       "\n",
       "    .dataframe tbody tr th {\n",
       "        vertical-align: top;\n",
       "    }\n",
       "\n",
       "    .dataframe thead th {\n",
       "        text-align: right;\n",
       "    }\n",
       "</style>\n",
       "<table border=\"1\" class=\"dataframe\">\n",
       "  <thead>\n",
       "    <tr style=\"text-align: right;\">\n",
       "      <th></th>\n",
       "      <th>Movie_Id</th>\n",
       "      <th>Year</th>\n",
       "      <th>Name</th>\n",
       "    </tr>\n",
       "  </thead>\n",
       "  <tbody>\n",
       "    <tr>\n",
       "      <th>0</th>\n",
       "      <td>1</td>\n",
       "      <td>2003.0</td>\n",
       "      <td>Dinosaur Planet</td>\n",
       "    </tr>\n",
       "    <tr>\n",
       "      <th>1</th>\n",
       "      <td>2</td>\n",
       "      <td>2004.0</td>\n",
       "      <td>Isle of Man TT 2004 Review</td>\n",
       "    </tr>\n",
       "    <tr>\n",
       "      <th>2</th>\n",
       "      <td>3</td>\n",
       "      <td>1997.0</td>\n",
       "      <td>Character</td>\n",
       "    </tr>\n",
       "    <tr>\n",
       "      <th>3</th>\n",
       "      <td>4</td>\n",
       "      <td>1994.0</td>\n",
       "      <td>Paula Abdul's Get Up &amp; Dance</td>\n",
       "    </tr>\n",
       "    <tr>\n",
       "      <th>4</th>\n",
       "      <td>5</td>\n",
       "      <td>2004.0</td>\n",
       "      <td>The Rise and Fall of ECW</td>\n",
       "    </tr>\n",
       "    <tr>\n",
       "      <th>...</th>\n",
       "      <td>...</td>\n",
       "      <td>...</td>\n",
       "      <td>...</td>\n",
       "    </tr>\n",
       "    <tr>\n",
       "      <th>17765</th>\n",
       "      <td>17766</td>\n",
       "      <td>2002.0</td>\n",
       "      <td>Where the Wild Things Are and Other Maurice Se...</td>\n",
       "    </tr>\n",
       "    <tr>\n",
       "      <th>17766</th>\n",
       "      <td>17767</td>\n",
       "      <td>2004.0</td>\n",
       "      <td>Fidel Castro: American Experience</td>\n",
       "    </tr>\n",
       "    <tr>\n",
       "      <th>17767</th>\n",
       "      <td>17768</td>\n",
       "      <td>2000.0</td>\n",
       "      <td>Epoch</td>\n",
       "    </tr>\n",
       "    <tr>\n",
       "      <th>17768</th>\n",
       "      <td>17769</td>\n",
       "      <td>2003.0</td>\n",
       "      <td>The Company</td>\n",
       "    </tr>\n",
       "    <tr>\n",
       "      <th>17769</th>\n",
       "      <td>17770</td>\n",
       "      <td>2003.0</td>\n",
       "      <td>Alien Hunter</td>\n",
       "    </tr>\n",
       "  </tbody>\n",
       "</table>\n",
       "<p>17770 rows × 3 columns</p>\n",
       "</div>\n",
       "      <button class=\"colab-df-convert\" onclick=\"convertToInteractive('df-a2caf072-61ac-453f-9e66-5ee491762df4')\"\n",
       "              title=\"Convert this dataframe to an interactive table.\"\n",
       "              style=\"display:none;\">\n",
       "        \n",
       "  <svg xmlns=\"http://www.w3.org/2000/svg\" height=\"24px\"viewBox=\"0 0 24 24\"\n",
       "       width=\"24px\">\n",
       "    <path d=\"M0 0h24v24H0V0z\" fill=\"none\"/>\n",
       "    <path d=\"M18.56 5.44l.94 2.06.94-2.06 2.06-.94-2.06-.94-.94-2.06-.94 2.06-2.06.94zm-11 1L8.5 8.5l.94-2.06 2.06-.94-2.06-.94L8.5 2.5l-.94 2.06-2.06.94zm10 10l.94 2.06.94-2.06 2.06-.94-2.06-.94-.94-2.06-.94 2.06-2.06.94z\"/><path d=\"M17.41 7.96l-1.37-1.37c-.4-.4-.92-.59-1.43-.59-.52 0-1.04.2-1.43.59L10.3 9.45l-7.72 7.72c-.78.78-.78 2.05 0 2.83L4 21.41c.39.39.9.59 1.41.59.51 0 1.02-.2 1.41-.59l7.78-7.78 2.81-2.81c.8-.78.8-2.07 0-2.86zM5.41 20L4 18.59l7.72-7.72 1.47 1.35L5.41 20z\"/>\n",
       "  </svg>\n",
       "      </button>\n",
       "      \n",
       "  <style>\n",
       "    .colab-df-container {\n",
       "      display:flex;\n",
       "      flex-wrap:wrap;\n",
       "      gap: 12px;\n",
       "    }\n",
       "\n",
       "    .colab-df-convert {\n",
       "      background-color: #E8F0FE;\n",
       "      border: none;\n",
       "      border-radius: 50%;\n",
       "      cursor: pointer;\n",
       "      display: none;\n",
       "      fill: #1967D2;\n",
       "      height: 32px;\n",
       "      padding: 0 0 0 0;\n",
       "      width: 32px;\n",
       "    }\n",
       "\n",
       "    .colab-df-convert:hover {\n",
       "      background-color: #E2EBFA;\n",
       "      box-shadow: 0px 1px 2px rgba(60, 64, 67, 0.3), 0px 1px 3px 1px rgba(60, 64, 67, 0.15);\n",
       "      fill: #174EA6;\n",
       "    }\n",
       "\n",
       "    [theme=dark] .colab-df-convert {\n",
       "      background-color: #3B4455;\n",
       "      fill: #D2E3FC;\n",
       "    }\n",
       "\n",
       "    [theme=dark] .colab-df-convert:hover {\n",
       "      background-color: #434B5C;\n",
       "      box-shadow: 0px 1px 3px 1px rgba(0, 0, 0, 0.15);\n",
       "      filter: drop-shadow(0px 1px 2px rgba(0, 0, 0, 0.3));\n",
       "      fill: #FFFFFF;\n",
       "    }\n",
       "  </style>\n",
       "\n",
       "      <script>\n",
       "        const buttonEl =\n",
       "          document.querySelector('#df-a2caf072-61ac-453f-9e66-5ee491762df4 button.colab-df-convert');\n",
       "        buttonEl.style.display =\n",
       "          google.colab.kernel.accessAllowed ? 'block' : 'none';\n",
       "\n",
       "        async function convertToInteractive(key) {\n",
       "          const element = document.querySelector('#df-a2caf072-61ac-453f-9e66-5ee491762df4');\n",
       "          const dataTable =\n",
       "            await google.colab.kernel.invokeFunction('convertToInteractive',\n",
       "                                                     [key], {});\n",
       "          if (!dataTable) return;\n",
       "\n",
       "          const docLinkHtml = 'Like what you see? Visit the ' +\n",
       "            '<a target=\"_blank\" href=https://colab.research.google.com/notebooks/data_table.ipynb>data table notebook</a>'\n",
       "            + ' to learn more about interactive tables.';\n",
       "          element.innerHTML = '';\n",
       "          dataTable['output_type'] = 'display_data';\n",
       "          await google.colab.output.renderOutput(dataTable, element);\n",
       "          const docLink = document.createElement('div');\n",
       "          docLink.innerHTML = docLinkHtml;\n",
       "          element.appendChild(docLink);\n",
       "        }\n",
       "      </script>\n",
       "    </div>\n",
       "  </div>\n",
       "  "
      ],
      "text/plain": [
       "       Movie_Id    Year                                               Name\n",
       "0             1  2003.0                                    Dinosaur Planet\n",
       "1             2  2004.0                         Isle of Man TT 2004 Review\n",
       "2             3  1997.0                                          Character\n",
       "3             4  1994.0                       Paula Abdul's Get Up & Dance\n",
       "4             5  2004.0                           The Rise and Fall of ECW\n",
       "...         ...     ...                                                ...\n",
       "17765     17766  2002.0  Where the Wild Things Are and Other Maurice Se...\n",
       "17766     17767  2004.0                  Fidel Castro: American Experience\n",
       "17767     17768  2000.0                                              Epoch\n",
       "17768     17769  2003.0                                        The Company\n",
       "17769     17770  2003.0                                       Alien Hunter\n",
       "\n",
       "[17770 rows x 3 columns]"
      ]
     },
     "execution_count": 62,
     "metadata": {},
     "output_type": "execute_result"
    }
   ],
   "source": [
    "user_712664=user_712664.reset_index()\n",
    "user_712664"
   ]
  },
  {
   "cell_type": "code",
   "execution_count": 63,
   "metadata": {
    "colab": {
     "base_uri": "https://localhost:8080/",
     "height": 424
    },
    "executionInfo": {
     "elapsed": 83,
     "status": "ok",
     "timestamp": 1670676103382,
     "user": {
      "displayName": "Harshit Trivedi",
      "userId": "05510904477925688149"
     },
     "user_tz": -330
    },
    "id": "NwD1NFaq-_a9",
    "outputId": "697b4f87-c70c-4466-c34e-ab693546f9cc"
   },
   "outputs": [
    {
     "data": {
      "text/html": [
       "\n",
       "  <div id=\"df-897ff417-f8e9-49d6-8ccd-3491e2e0dae8\">\n",
       "    <div class=\"colab-df-container\">\n",
       "      <div>\n",
       "<style scoped>\n",
       "    .dataframe tbody tr th:only-of-type {\n",
       "        vertical-align: middle;\n",
       "    }\n",
       "\n",
       "    .dataframe tbody tr th {\n",
       "        vertical-align: top;\n",
       "    }\n",
       "\n",
       "    .dataframe thead th {\n",
       "        text-align: right;\n",
       "    }\n",
       "</style>\n",
       "<table border=\"1\" class=\"dataframe\">\n",
       "  <thead>\n",
       "    <tr style=\"text-align: right;\">\n",
       "      <th></th>\n",
       "      <th>Movie_Id</th>\n",
       "      <th>Year</th>\n",
       "      <th>Name</th>\n",
       "    </tr>\n",
       "  </thead>\n",
       "  <tbody>\n",
       "    <tr>\n",
       "      <th>2</th>\n",
       "      <td>3</td>\n",
       "      <td>1997.0</td>\n",
       "      <td>Character</td>\n",
       "    </tr>\n",
       "    <tr>\n",
       "      <th>7</th>\n",
       "      <td>8</td>\n",
       "      <td>2004.0</td>\n",
       "      <td>What the #$*! Do We Know!?</td>\n",
       "    </tr>\n",
       "    <tr>\n",
       "      <th>15</th>\n",
       "      <td>16</td>\n",
       "      <td>1996.0</td>\n",
       "      <td>Screamers</td>\n",
       "    </tr>\n",
       "    <tr>\n",
       "      <th>16</th>\n",
       "      <td>17</td>\n",
       "      <td>2005.0</td>\n",
       "      <td>7 Seconds</td>\n",
       "    </tr>\n",
       "    <tr>\n",
       "      <th>17</th>\n",
       "      <td>18</td>\n",
       "      <td>1994.0</td>\n",
       "      <td>Immortal Beloved</td>\n",
       "    </tr>\n",
       "    <tr>\n",
       "      <th>...</th>\n",
       "      <td>...</td>\n",
       "      <td>...</td>\n",
       "      <td>...</td>\n",
       "    </tr>\n",
       "    <tr>\n",
       "      <th>17765</th>\n",
       "      <td>17766</td>\n",
       "      <td>2002.0</td>\n",
       "      <td>Where the Wild Things Are and Other Maurice Se...</td>\n",
       "    </tr>\n",
       "    <tr>\n",
       "      <th>17766</th>\n",
       "      <td>17767</td>\n",
       "      <td>2004.0</td>\n",
       "      <td>Fidel Castro: American Experience</td>\n",
       "    </tr>\n",
       "    <tr>\n",
       "      <th>17767</th>\n",
       "      <td>17768</td>\n",
       "      <td>2000.0</td>\n",
       "      <td>Epoch</td>\n",
       "    </tr>\n",
       "    <tr>\n",
       "      <th>17768</th>\n",
       "      <td>17769</td>\n",
       "      <td>2003.0</td>\n",
       "      <td>The Company</td>\n",
       "    </tr>\n",
       "    <tr>\n",
       "      <th>17769</th>\n",
       "      <td>17770</td>\n",
       "      <td>2003.0</td>\n",
       "      <td>Alien Hunter</td>\n",
       "    </tr>\n",
       "  </tbody>\n",
       "</table>\n",
       "<p>14621 rows × 3 columns</p>\n",
       "</div>\n",
       "      <button class=\"colab-df-convert\" onclick=\"convertToInteractive('df-897ff417-f8e9-49d6-8ccd-3491e2e0dae8')\"\n",
       "              title=\"Convert this dataframe to an interactive table.\"\n",
       "              style=\"display:none;\">\n",
       "        \n",
       "  <svg xmlns=\"http://www.w3.org/2000/svg\" height=\"24px\"viewBox=\"0 0 24 24\"\n",
       "       width=\"24px\">\n",
       "    <path d=\"M0 0h24v24H0V0z\" fill=\"none\"/>\n",
       "    <path d=\"M18.56 5.44l.94 2.06.94-2.06 2.06-.94-2.06-.94-.94-2.06-.94 2.06-2.06.94zm-11 1L8.5 8.5l.94-2.06 2.06-.94-2.06-.94L8.5 2.5l-.94 2.06-2.06.94zm10 10l.94 2.06.94-2.06 2.06-.94-2.06-.94-.94-2.06-.94 2.06-2.06.94z\"/><path d=\"M17.41 7.96l-1.37-1.37c-.4-.4-.92-.59-1.43-.59-.52 0-1.04.2-1.43.59L10.3 9.45l-7.72 7.72c-.78.78-.78 2.05 0 2.83L4 21.41c.39.39.9.59 1.41.59.51 0 1.02-.2 1.41-.59l7.78-7.78 2.81-2.81c.8-.78.8-2.07 0-2.86zM5.41 20L4 18.59l7.72-7.72 1.47 1.35L5.41 20z\"/>\n",
       "  </svg>\n",
       "      </button>\n",
       "      \n",
       "  <style>\n",
       "    .colab-df-container {\n",
       "      display:flex;\n",
       "      flex-wrap:wrap;\n",
       "      gap: 12px;\n",
       "    }\n",
       "\n",
       "    .colab-df-convert {\n",
       "      background-color: #E8F0FE;\n",
       "      border: none;\n",
       "      border-radius: 50%;\n",
       "      cursor: pointer;\n",
       "      display: none;\n",
       "      fill: #1967D2;\n",
       "      height: 32px;\n",
       "      padding: 0 0 0 0;\n",
       "      width: 32px;\n",
       "    }\n",
       "\n",
       "    .colab-df-convert:hover {\n",
       "      background-color: #E2EBFA;\n",
       "      box-shadow: 0px 1px 2px rgba(60, 64, 67, 0.3), 0px 1px 3px 1px rgba(60, 64, 67, 0.15);\n",
       "      fill: #174EA6;\n",
       "    }\n",
       "\n",
       "    [theme=dark] .colab-df-convert {\n",
       "      background-color: #3B4455;\n",
       "      fill: #D2E3FC;\n",
       "    }\n",
       "\n",
       "    [theme=dark] .colab-df-convert:hover {\n",
       "      background-color: #434B5C;\n",
       "      box-shadow: 0px 1px 3px 1px rgba(0, 0, 0, 0.15);\n",
       "      filter: drop-shadow(0px 1px 2px rgba(0, 0, 0, 0.3));\n",
       "      fill: #FFFFFF;\n",
       "    }\n",
       "  </style>\n",
       "\n",
       "      <script>\n",
       "        const buttonEl =\n",
       "          document.querySelector('#df-897ff417-f8e9-49d6-8ccd-3491e2e0dae8 button.colab-df-convert');\n",
       "        buttonEl.style.display =\n",
       "          google.colab.kernel.accessAllowed ? 'block' : 'none';\n",
       "\n",
       "        async function convertToInteractive(key) {\n",
       "          const element = document.querySelector('#df-897ff417-f8e9-49d6-8ccd-3491e2e0dae8');\n",
       "          const dataTable =\n",
       "            await google.colab.kernel.invokeFunction('convertToInteractive',\n",
       "                                                     [key], {});\n",
       "          if (!dataTable) return;\n",
       "\n",
       "          const docLinkHtml = 'Like what you see? Visit the ' +\n",
       "            '<a target=\"_blank\" href=https://colab.research.google.com/notebooks/data_table.ipynb>data table notebook</a>'\n",
       "            + ' to learn more about interactive tables.';\n",
       "          element.innerHTML = '';\n",
       "          dataTable['output_type'] = 'display_data';\n",
       "          await google.colab.output.renderOutput(dataTable, element);\n",
       "          const docLink = document.createElement('div');\n",
       "          docLink.innerHTML = docLinkHtml;\n",
       "          element.appendChild(docLink);\n",
       "        }\n",
       "      </script>\n",
       "    </div>\n",
       "  </div>\n",
       "  "
      ],
      "text/plain": [
       "       Movie_Id    Year                                               Name\n",
       "2             3  1997.0                                          Character\n",
       "7             8  2004.0                         What the #$*! Do We Know!?\n",
       "15           16  1996.0                                          Screamers\n",
       "16           17  2005.0                                          7 Seconds\n",
       "17           18  1994.0                                   Immortal Beloved\n",
       "...         ...     ...                                                ...\n",
       "17765     17766  2002.0  Where the Wild Things Are and Other Maurice Se...\n",
       "17766     17767  2004.0                  Fidel Castro: American Experience\n",
       "17767     17768  2000.0                                              Epoch\n",
       "17768     17769  2003.0                                        The Company\n",
       "17769     17770  2003.0                                       Alien Hunter\n",
       "\n",
       "[14621 rows x 3 columns]"
      ]
     },
     "execution_count": 63,
     "metadata": {},
     "output_type": "execute_result"
    }
   ],
   "source": [
    "user_712664=user_712664[~user_712664['Movie_Id'].isin(drop_movie_list)]\n",
    "user_712664"
   ]
  },
  {
   "cell_type": "code",
   "execution_count": 64,
   "metadata": {
    "executionInfo": {
     "elapsed": 22629,
     "status": "ok",
     "timestamp": 1670676125930,
     "user": {
      "displayName": "Harshit Trivedi",
      "userId": "05510904477925688149"
     },
     "user_tz": -330
    },
    "id": "01dMJoFV-_a9"
   },
   "outputs": [],
   "source": [
    "#now we will train our algorithm with the whole dataset\n",
    "data=Dataset.load_from_df(netflix_dataset[['Cust_Id','Movie_Id','Rating']], reader)"
   ]
  },
  {
   "cell_type": "code",
   "execution_count": 65,
   "metadata": {
    "colab": {
     "base_uri": "https://localhost:8080/"
    },
    "executionInfo": {
     "elapsed": 373869,
     "status": "ok",
     "timestamp": 1670676499771,
     "user": {
      "displayName": "Harshit Trivedi",
      "userId": "05510904477925688149"
     },
     "user_tz": -330
    },
    "id": "806v12Z5-_a9",
    "outputId": "9c032ea1-1152-4e0e-ff47-ecdfd2d14022"
   },
   "outputs": [
    {
     "data": {
      "text/plain": [
       "<surprise.prediction_algorithms.matrix_factorization.SVD at 0x7f3a3407d970>"
      ]
     },
     "execution_count": 65,
     "metadata": {},
     "output_type": "execute_result"
    }
   ],
   "source": [
    "#building the trainset using surprise package\n",
    "trainset=data.build_full_trainset()\n",
    "svd.fit(trainset)"
   ]
  },
  {
   "cell_type": "code",
   "execution_count": 66,
   "metadata": {
    "colab": {
     "base_uri": "https://localhost:8080/"
    },
    "executionInfo": {
     "elapsed": 17,
     "status": "ok",
     "timestamp": 1670676499772,
     "user": {
      "displayName": "Harshit Trivedi",
      "userId": "05510904477925688149"
     },
     "user_tz": -330
    },
    "id": "gPiOl200-_a-",
    "outputId": "3f26d21f-bf88-4dbf-d9c9-48f3f7a6b138"
   },
   "outputs": [
    {
     "name": "stderr",
     "output_type": "stream",
     "text": [
      "<ipython-input-66-42d8450a9196>:1: SettingWithCopyWarning: \n",
      "A value is trying to be set on a copy of a slice from a DataFrame.\n",
      "Try using .loc[row_indexer,col_indexer] = value instead\n",
      "\n",
      "See the caveats in the documentation: https://pandas.pydata.org/pandas-docs/stable/user_guide/indexing.html#returning-a-view-versus-a-copy\n",
      "  user_712664['Estimate_Score']=user_712664['Movie_Id'].apply(lambda x: svd.predict(712664, x).est)\n"
     ]
    }
   ],
   "source": [
    "user_712664['Estimate_Score']=user_712664['Movie_Id'].apply(lambda x: svd.predict(712664, x).est)\n",
    "user_712664=user_712664.drop('Movie_Id', axis=1)"
   ]
  },
  {
   "cell_type": "code",
   "execution_count": 67,
   "metadata": {
    "colab": {
     "base_uri": "https://localhost:8080/"
    },
    "executionInfo": {
     "elapsed": 14,
     "status": "ok",
     "timestamp": 1670676499772,
     "user": {
      "displayName": "Harshit Trivedi",
      "userId": "05510904477925688149"
     },
     "user_tz": -330
    },
    "id": "zSKBQdDm-_a-",
    "outputId": "3fc17929-7423-472c-9605-da7b2e9c166b"
   },
   "outputs": [
    {
     "name": "stdout",
     "output_type": "stream",
     "text": [
      "        Year                                Name  Estimate_Score\n",
      "2399  1992.0      Home Alone 2: Lost in New York        1.102138\n",
      "361   2000.0  The Flintstones in Viva Rock Vegas        1.130868\n",
      "1288  1990.0              Look Who's Talking Too        1.202777\n",
      "2275  1998.0                         Spice World        1.225587\n",
      "1601  2000.0                  Dungeons & Dragons        1.278302\n",
      "4126  1994.0                     The Flintstones        1.290527\n",
      "3572  1993.0                      Cop and a Half        1.316435\n",
      "3417  1993.0     Sister Act 2: Back in the Habit        1.419491\n",
      "2481  1994.0                           My Girl 2        1.431358\n",
      "1150  2001.0                           Valentine        1.440471\n"
     ]
    }
   ],
   "source": [
    "user_712664=user_712664.sort_values('Estimate_Score')\n",
    "print(user_712664.head(10))"
   ]
  },
  {
   "cell_type": "code",
   "execution_count": 68,
   "metadata": {
    "colab": {
     "base_uri": "https://localhost:8080/"
    },
    "executionInfo": {
     "elapsed": 11,
     "status": "ok",
     "timestamp": 1670676499773,
     "user": {
      "displayName": "Harshit Trivedi",
      "userId": "05510904477925688149"
     },
     "user_tz": -330
    },
    "id": "0jodA78c-_a-",
    "outputId": "f7e8caec-bf12-4e63-9d37-de035c647b9f"
   },
   "outputs": [
    {
     "name": "stdout",
     "output_type": "stream",
     "text": [
      "        Year                                      Name  Estimate_Score\n",
      "1624  1986.0               Aliens: Collector's Edition        5.000000\n",
      "1031  1992.0                               Hard Boiled        5.000000\n",
      "174   1992.0                            Reservoir Dogs        5.000000\n",
      "2429  1979.0                Alien: Collector's Edition        5.000000\n",
      "871   1954.0                             Seven Samurai        5.000000\n",
      "2101  1994.0                    The Simpsons: Season 6        5.000000\n",
      "78    1956.0                               The Killing        5.000000\n",
      "995   1961.0                                   Yojimbo        4.997312\n",
      "3522  1992.0  Star Trek: The Next Generation: Season 6        4.969192\n",
      "3289  1974.0                             The Godfather        4.965852\n"
     ]
    }
   ],
   "source": [
    "user_712664=user_712664.sort_values('Estimate_Score', ascending=False)\n",
    "print(user_712664.head(10))"
   ]
  },
  {
   "cell_type": "code",
   "execution_count": 68,
   "metadata": {
    "executionInfo": {
     "elapsed": 7,
     "status": "ok",
     "timestamp": 1670676499773,
     "user": {
      "displayName": "Harshit Trivedi",
      "userId": "05510904477925688149"
     },
     "user_tz": -330
    },
    "id": "prI4xK1z-_a-"
   },
   "outputs": [],
   "source": []
  }
 ],
 "metadata": {
  "colab": {
   "provenance": []
  },
  "kernelspec": {
   "display_name": "Python 3",
   "language": "python",
   "name": "python3"
  },
  "language_info": {
   "codemirror_mode": {
    "name": "ipython",
    "version": 3
   },
   "file_extension": ".py",
   "mimetype": "text/x-python",
   "name": "python",
   "nbconvert_exporter": "python",
   "pygments_lexer": "ipython3",
   "version": "3.8.3"
  }
 },
 "nbformat": 4,
 "nbformat_minor": 1
}
