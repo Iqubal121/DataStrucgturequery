{
  "nbformat": 4,
  "nbformat_minor": 0,
  "metadata": {
    "colab": {
      "provenance": []
    },
    "kernelspec": {
      "name": "python3",
      "display_name": "Python 3"
    },
    "language_info": {
      "name": "python"
    }
  },
  "cells": [
    {
      "cell_type": "code",
      "execution_count": 3,
      "metadata": {
        "colab": {
          "base_uri": "https://localhost:8080/"
        },
        "id": "s_jOuGs7Pv0X",
        "outputId": "344a5ed5-5fbe-42b0-881d-d786723a75fd"
      },
      "outputs": [
        {
          "output_type": "stream",
          "name": "stdout",
          "text": [
            "1 \n",
            "555\n",
            "1\n",
            "8\n",
            "27\n",
            "64\n",
            "125\n",
            "216\n",
            "343\n",
            "512\n"
          ]
        },
        {
          "output_type": "execute_result",
          "data": {
            "text/plain": [
              "8"
            ]
          },
          "metadata": {},
          "execution_count": 3
        }
      ],
      "source": [
        "def perfectCube(X,Y):\n",
        "  ans = 0\n",
        "  for i in range(X,Y+1):\n",
        "    j = 1 # check i is a perfect cube.\n",
        "    for j in range(j**3,i+1):\n",
        "      if (j**3) == i:\n",
        "        ans += 1\n",
        "        print(j**3)\n",
        "        break \n",
        "  return ans\n",
        "\n",
        "# driver code:\n",
        "X = int(input())\n",
        "Y = int(input())\n",
        "perfectCube(X,Y)\n"
      ]
    },
    {
      "cell_type": "code",
      "source": [
        "555"
      ],
      "metadata": {
        "id": "k2ntgbzTTOdF"
      },
      "execution_count": null,
      "outputs": []
    }
  ]
}