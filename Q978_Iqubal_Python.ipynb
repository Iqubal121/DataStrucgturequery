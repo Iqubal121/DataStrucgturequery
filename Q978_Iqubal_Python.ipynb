{
  "nbformat": 4,
  "nbformat_minor": 0,
  "metadata": {
    "colab": {
      "provenance": []
    },
    "kernelspec": {
      "name": "python3",
      "display_name": "Python 3"
    },
    "language_info": {
      "name": "python"
    }
  },
  "cells": [
    {
      "cell_type": "code",
      "execution_count": 6,
      "metadata": {
        "colab": {
          "base_uri": "https://localhost:8080/"
        },
        "id": "lsUOelerfg1k",
        "outputId": "6e41838a-8ead-4acb-bdff-bb3dfcd63d1b"
      },
      "outputs": [
        {
          "name": "stdout",
          "output_type": "stream",
          "text": [
            "56556\n"
          ]
        },
        {
          "output_type": "execute_result",
          "data": {
            "text/plain": [
              "11"
            ]
          },
          "metadata": {},
          "execution_count": 6
        }
      ],
      "source": [
        "def subStringPalindrome(string):\n",
        "  result = 0 # for storing the result.\n",
        "  n = len(string)\n",
        "\n",
        "  for i in range(n):\n",
        "\n",
        "        #  To store the frequency of each character.\n",
        "        dic = {}\n",
        "\n",
        "        for j in range(i, n):\n",
        "\n",
        "            # Increase frequency.\n",
        "            if string[j] not in dic:\n",
        "                dic[string[j]] = 0\n",
        "\n",
        "            dic[string[j]] += 1\n",
        "\n",
        "            # check count\n",
        "            count = 0\n",
        "            for char in dic:\n",
        "\n",
        "                # Check number of count frequencies.\n",
        "                if dic[char] % 2:\n",
        "                    count += 1\n",
        "\n",
        "            if count <= 1:\n",
        "                result += 1\n",
        "  return result\n",
        "# driver code:\n",
        "string = input()\n",
        "subStringPalindrome(string)\n",
        "\n",
        "\n"
      ]
    },
    {
      "cell_type": "code",
      "source": [],
      "metadata": {
        "id": "-eA5bqXpi_Ca"
      },
      "execution_count": null,
      "outputs": []
    }
  ]
}