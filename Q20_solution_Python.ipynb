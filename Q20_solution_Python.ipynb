{
  "nbformat": 4,
  "nbformat_minor": 0,
  "metadata": {
    "colab": {
      "provenance": []
    },
    "kernelspec": {
      "name": "python3",
      "display_name": "Python 3"
    },
    "language_info": {
      "name": "python"
    }
  },
  "cells": [
    {
      "cell_type": "code",
      "execution_count": 9,
      "metadata": {
        "id": "mHRPFdduqy3e"
      },
      "outputs": [],
      "source": [
        "def fun(arr1):\n",
        "  arr1.sort()\n",
        "\n",
        "  # length of the array: # 1,2,3,4,5\n",
        "  num = len(arr1)\n",
        "  high = (num-1)//2\n",
        "\n",
        "  low = 0\n",
        "\n",
        "  li = [arr1[high]]\n",
        "  high += 1 # high = high+1\n",
        "\n",
        "  for j in range(1,num):\n",
        "    if j%2:\n",
        "      li.append(arr1[high])\n",
        "      high +=1\n",
        "    else:\n",
        "      li.append(arr1[low])\n",
        "      low +=1\n",
        "  return li\n",
        "\n"
      ]
    },
    {
      "cell_type": "code",
      "source": [
        "fun([1,2,3,4,5]) # 3,4,1,5,2 "
      ],
      "metadata": {
        "colab": {
          "base_uri": "https://localhost:8080/"
        },
        "id": "unlZR6uG9Rj_",
        "outputId": "55842a24-4a61-4900-9df1-7e8cf80c20a0"
      },
      "execution_count": 10,
      "outputs": [
        {
          "output_type": "execute_result",
          "data": {
            "text/plain": [
              "[3, 4, 1, 5, 2]"
            ]
          },
          "metadata": {},
          "execution_count": 10
        }
      ]
    },
    {
      "cell_type": "code",
      "source": [],
      "metadata": {
        "id": "ZXH9aODy9gRs"
      },
      "execution_count": 8,
      "outputs": []
    }
  ]
}