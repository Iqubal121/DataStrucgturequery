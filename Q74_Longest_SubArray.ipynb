{
  "nbformat": 4,
  "nbformat_minor": 0,
  "metadata": {
    "colab": {
      "provenance": []
    },
    "kernelspec": {
      "name": "python3",
      "display_name": "Python 3"
    },
    "language_info": {
      "name": "python"
    }
  },
  "cells": [
    {
      "cell_type": "code",
      "execution_count": 9,
      "metadata": {
        "colab": {
          "base_uri": "https://localhost:8080/"
        },
        "id": "LpCBMhqhrmQ_",
        "outputId": "ff785d2a-e0ab-492c-de31-167a242d2617"
      },
      "outputs": [
        {
          "name": "stdout",
          "output_type": "stream",
          "text": [
            "8\n",
            "9\n",
            "6\n",
            "6 8 7 9 9 9 \n"
          ]
        },
        {
          "output_type": "execute_result",
          "data": {
            "text/plain": [
              "3"
            ]
          },
          "metadata": {},
          "execution_count": 9
        }
      ],
      "source": [
        "def solution(A,B,arr):\n",
        "  n = len(arr)\n",
        "\n",
        "  result = -1\n",
        "\n",
        "  newA = 0 # to repetence of the a and \n",
        "  newB = 0\n",
        "  \n",
        "  for i in range(n):\n",
        "    if A == B:\n",
        "      if arr[i] == A:\n",
        "        newA += 1\n",
        "      if newA % 2 == 0:\n",
        "        result = i\n",
        "    else:\n",
        "      if arr[i] == A:\n",
        "        newA += 1\n",
        "      elif arr[i] == B:\n",
        "        newB += 1\n",
        "      if newA == newB:\n",
        "        result = i\n",
        "  return result\n",
        "\n",
        "# Driver code:\n",
        "a = int(input())\n",
        "b = int(input())\n",
        "\n",
        "n = int(input())\n",
        "arr = list(map(int,input().strip().split()))[:n]\n",
        "\n",
        "# call the function:\n",
        "solution(a,b,arr)\n",
        "      "
      ]
    },
    {
      "cell_type": "code",
      "source": [
        "9"
      ],
      "metadata": {
        "colab": {
          "base_uri": "https://localhost:8080/"
        },
        "id": "D8fHdrlQwjDh",
        "outputId": "13bc6a1e-107c-49d2-faf3-95f762cbb19e"
      },
      "execution_count": 10,
      "outputs": [
        {
          "output_type": "execute_result",
          "data": {
            "text/plain": [
              "9"
            ]
          },
          "metadata": {},
          "execution_count": 10
        }
      ]
    },
    {
      "cell_type": "code",
      "source": [],
      "metadata": {
        "id": "1_mFMryc2-ho"
      },
      "execution_count": null,
      "outputs": []
    }
  ]
}