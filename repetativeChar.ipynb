{
 "cells": [
  {
   "cell_type": "code",
   "execution_count": 1,
   "metadata": {},
   "outputs": [
    {
     "data": {
      "text/plain": [
       "'Hello'"
      ]
     },
     "execution_count": 1,
     "metadata": {},
     "output_type": "execute_result"
    }
   ],
   "source": [
    "\"Hello\""
   ]
  },
  {
   "cell_type": "code",
   "execution_count": 3,
   "metadata": {},
   "outputs": [
    {
     "name": "stdout",
     "output_type": "stream",
     "text": [
      "{'I': 1, 'm': 2, 'r': 1, 'a': 1}\n"
     ]
    }
   ],
   "source": [
    "str1 = input(\"Enter the String: \")\n",
    "\n",
    "count = dict()\n",
    "\n",
    "for i in str1:\n",
    "    if i in count.keys():\n",
    "        count[i] += 1\n",
    "    \n",
    "    else:\n",
    "        count[i] = 1\n",
    "print(count)\n"
   ]
  },
  {
   "cell_type": "code",
   "execution_count": 1,
   "metadata": {},
   "outputs": [
    {
     "name": "stdout",
     "output_type": "stream",
     "text": [
      "['CAR', 'CYCLE']\n"
     ]
    }
   ],
   "source": [
    "nl = [\"car\",\"bus\",\"truck\",\"cycle\",\"train\"]\n",
    "output = [item.upper() for item in nl if item.startswith(\"c\")]\n",
    "print(output)"
   ]
  },
  {
   "cell_type": "code",
   "execution_count": 3,
   "metadata": {},
   "outputs": [
    {
     "name": "stdout",
     "output_type": "stream",
     "text": [
      "['CAR', 'bus', 'truck', 'CYCLE', 'train']\n"
     ]
    }
   ],
   "source": [
    "nl = [\"car\",\"bus\",\"truck\",\"cycle\",\"train\"]\n",
    "output = [item.upper() if item.startswith(\"c\") else item for item in nl]\n",
    "print(output)"
   ]
  },
  {
   "cell_type": "code",
   "execution_count": 6,
   "metadata": {},
   "outputs": [
    {
     "name": "stdout",
     "output_type": "stream",
     "text": [
      "Tip amount: 1797.60\n"
     ]
    }
   ],
   "source": [
    "# Get the value of the bill from the user\n",
    "bill = float(input(\"What was the value of the bill? \"))\n",
    "\n",
    "# Find out how the service was\n",
    "service = input(\"How was the service? (good/bad) \").lower()\n",
    "\n",
    "# Calculate the tip based on the service quality\n",
    "if service == \"good\":\n",
    "    percentage = 0.20\n",
    "else:\n",
    "    percentage = 0.15\n",
    "\n",
    "tip = bill * percentage\n",
    "\n",
    "# Display the tip\n",
    "print(\"Tip amount: %.2f\" % tip)\n"
   ]
  },
  {
   "cell_type": "code",
   "execution_count": 13,
   "metadata": {},
   "outputs": [
    {
     "name": "stdout",
     "output_type": "stream",
     "text": [
      "[1, 2, 3, 4, 5, 6, 7, 8, 9, 10, 11, 12, 13, 14, 15, 16, 17, 18, 19, 20]\n",
      "[2, 4, 6, 8, 10, 12, 14, 16, 18, 20]\n"
     ]
    }
   ],
   "source": [
    "# Filter function\n",
    "items = list(range(1,20+1))\n",
    "print(items)\n",
    "li = filter(lambda x: x%2==0, items)\n",
    "print(list(li))"
   ]
  },
  {
   "cell_type": "code",
   "execution_count": 36,
   "metadata": {},
   "outputs": [
    {
     "name": "stdout",
     "output_type": "stream",
     "text": [
      "['PHP', 'java', 'PYTHON', 'C++', 'C', 'C#']\n"
     ]
    }
   ],
   "source": [
    "def myMapFunc(n):\n",
    "    if n.startswith('c') or n.startswith('p'):\n",
    "        return n.upper()\n",
    "    else:\n",
    "        return n\n",
    "\n",
    "my_tuple = ('php','java','python','c++','c',\"c#\")\n",
    "\n",
    "updated_list = list(map(myMapFunc, my_tuple))\n",
    "print(updated_list)"
   ]
  },
  {
   "cell_type": "code",
   "execution_count": 39,
   "metadata": {},
   "outputs": [
    {
     "name": "stdout",
     "output_type": "stream",
     "text": [
      "Printing a dictionary with name wrt age\n",
      "{'Imran': 20, 'Aman': 30, 'Sakhsi': 40, 'Akshay': 50, 'Vicky': 60, 'Avi': 70}\n"
     ]
    }
   ],
   "source": [
    "name = [\"Imran\",\"Aman\",\"Sakhsi\",\"Akshay\",\"Vicky\",\"Avi\"]\n",
    "age = [20,30,40,50,60,70]\n",
    "\n",
    "file = zip(name, age)\n",
    "print(\"Printing a dictionary with name wrt age\")\n",
    "print(dict(file))"
   ]
  },
  {
   "cell_type": "code",
   "execution_count": 51,
   "metadata": {},
   "outputs": [
    {
     "name": "stdout",
     "output_type": "stream",
     "text": [
      "[]\n",
      "[0]\n",
      "[1]\n",
      "[0]\n",
      "[1]\n",
      "[0, 2]\n",
      "[1, 3]\n",
      "[0, 2]\n",
      "[1, 3]\n",
      "[0, 2, 4]\n",
      "[1, 3, 5]\n",
      "[0, 2, 4]\n",
      "[1, 3, 5]\n",
      "[0, 2, 4, 6]\n",
      "[1, 3, 5, 7]\n",
      "[0, 2, 4, 6]\n",
      "[1, 3, 5, 7]\n",
      "[0, 2, 4, 6, 8]\n",
      "[1, 3, 5, 7, 9]\n",
      "[0, 2, 4, 6, 8]\n",
      "[1, 3, 5, 7, 9]\n",
      "[0, 2, 4, 6, 8, 10]\n",
      "[1, 3, 5, 7, 9, 11]\n",
      "[0, 2, 4, 6, 8, 10]\n",
      "[1, 3, 5, 7, 9, 11]\n",
      "[0, 2, 4, 6, 8, 10, 12]\n",
      "[]\n"
     ]
    }
   ],
   "source": [
    "def method(li):\n",
    "    even = []\n",
    "    odd = []\n",
    "    for i in range(li):\n",
    "        if i % 2 != 0:\n",
    "            even.append(i)\n",
    "        else:\n",
    "            odd.append(i)\n",
    "            \n",
    "li = [1,2,3,4,5,6,7,8,9,10,11,12,13]\n",
    "fil = filter(method, li)  \n",
    "print(list(fil))      "
   ]
  },
  {
   "cell_type": "code",
   "execution_count": 52,
   "metadata": {},
   "outputs": [
    {
     "name": "stdout",
     "output_type": "stream",
     "text": [
      "[1, 4, 9, 16, 25, 36, 49, 64, 81]\n"
     ]
    }
   ],
   "source": [
    "li = [1,2,3,4,5,6,7,8,9]\n",
    "mp = list(map(lambda x:x**2,li))\n",
    "print(mp)\n",
    "          "
   ]
  },
  {
   "cell_type": "code",
   "execution_count": 57,
   "metadata": {},
   "outputs": [
    {
     "name": "stdout",
     "output_type": "stream",
     "text": [
      "{1: 10, 2: 9, 3: 8, 4: 7, 5: 6, 6: 5, 7: 4, 8: 3, 9: 2, 10: 1}\n"
     ]
    }
   ],
   "source": [
    "l1 = list(range(1,11))\n",
    "l2 = list(range(10,0,-1))\n",
    "l3 = dict(zip(l1,l2))\n",
    "print(l3)\n"
   ]
  },
  {
   "cell_type": "code",
   "execution_count": 59,
   "metadata": {},
   "outputs": [
    {
     "data": {
      "text/plain": [
       "'.12345'"
      ]
     },
     "execution_count": 59,
     "metadata": {},
     "output_type": "execute_result"
    }
   ],
   "source": [
    "# Question number 7:\n",
    "def function(string):\n",
    "    return string[1:]\n",
    "\n",
    "function(\"3.12345\")"
   ]
  },
  {
   "cell_type": "code",
   "execution_count": 61,
   "metadata": {},
   "outputs": [
    {
     "data": {
      "text/plain": [
       "'azhgza'"
      ]
     },
     "execution_count": 61,
     "metadata": {},
     "output_type": "execute_result"
    }
   ],
   "source": [
    "# Question number 8:\n",
    "def cypher(string):\n",
    "    for i in string:\n",
    "        if i == \"x\":\n",
    "            string = string.replace(\"x\", \"a\")\n",
    "        elif i == \"b\":\n",
    "            string = string.replace(\"b\", \"z\")\n",
    "        else:\n",
    "            pass\n",
    "    return string\n",
    "\n",
    "cypher(\"xbhgba\")        "
   ]
  },
  {
   "cell_type": "code",
   "execution_count": 1,
   "metadata": {},
   "outputs": [
    {
     "name": "stdout",
     "output_type": "stream",
     "text": [
      "Hey Learners\n",
      "2\n"
     ]
    }
   ],
   "source": [
    "# number of words in string:\n",
    "def words(string):\n",
    "    count = len(string.split())\n",
    "    print(string)\n",
    "    return count\n",
    "\n",
    "string = input(\"Please enter the string:   \")\n",
    "print(words(string))"
   ]
  },
  {
   "cell_type": "code",
   "execution_count": 8,
   "metadata": {},
   "outputs": [
    {
     "data": {
      "text/plain": [
       "'q*erty!!!'"
      ]
     },
     "execution_count": 8,
     "metadata": {},
     "output_type": "execute_result"
    }
   ],
   "source": [
    "# Change 2nd character and add new character\n",
    "def ChangeCharacter(string):\n",
    "    new_string = string[:1] + \"*\" + string[2:] + \"!\"*3\n",
    "    return new_string\n",
    "ChangeCharacter(\"qwerty\")\n",
    "\n"
   ]
  },
  {
   "cell_type": "code",
   "execution_count": 9,
   "metadata": {},
   "outputs": [
    {
     "data": {
      "text/plain": [
       "'how to remove all the commas and special characters from a string'"
      ]
     },
     "execution_count": 9,
     "metadata": {},
     "output_type": "execute_result"
    }
   ],
   "source": [
    "\"\"\"how to remove all the commas and special characters from a string\"\"\""
   ]
  },
  {
   "cell_type": "code",
   "execution_count": 10,
   "metadata": {},
   "outputs": [
    {
     "data": {
      "text/plain": [
       "'hey i love you so much '"
      ]
     },
     "execution_count": 10,
     "metadata": {},
     "output_type": "execute_result"
    }
   ],
   "source": [
    "import re \n",
    "def  remove_character(string):\n",
    "    return re.sub(r'[^\\w\\s]', '', string).lower()\n",
    "\n",
    "\n",
    "string = input('string: ')\n",
    "remove_character(string)"
   ]
  },
  {
   "cell_type": "code",
   "execution_count": 12,
   "metadata": {},
   "outputs": [
    {
     "name": "stdout",
     "output_type": "stream",
     "text": [
      "There were some professor addresses entered\n",
      "['imran@prof.college.edu']\n"
     ]
    }
   ],
   "source": [
    "def is_student(email):\n",
    "    return email.endswith(\"@student.college.edu\")\n",
    "\n",
    "def is_professor(email):\n",
    "    return email.endswith(\"@prof.college.edu\")\n",
    "\n",
    "def classify_emails(emails):\n",
    "    student_emails = [email for email in emails if is_student(email)]\n",
    "    professor_emails = [email for email in emails if is_professor(email)]\n",
    "    if len(student_emails) == len(emails):\n",
    "        print(\"All email addresses are student addresses\")\n",
    "        print(student_emails)\n",
    "    elif len(professor_emails) > 0:\n",
    "        print(\"There were some professor addresses entered\")\n",
    "        print(professor_emails)\n",
    "\n",
    "n = int(input(\"How many email addresses will you be entering: \"))\n",
    "emails = []\n",
    "for i in range(n):\n",
    "    email = input(\"Enter email address {}: \".format(i + 1))\n",
    "    emails.append(email)\n",
    "\n",
    "classify_emails(emails)\n"
   ]
  },
  {
   "cell_type": "code",
   "execution_count": 24,
   "metadata": {},
   "outputs": [
    {
     "data": {
      "text/plain": [
       "'In tHe fOlLoWiNg eXaMpLe oUtPuT '"
      ]
     },
     "execution_count": 24,
     "metadata": {},
     "output_type": "execute_result"
    }
   ],
   "source": [
    "def test(string):\n",
    "    output = \"\"\n",
    "    for i,char in enumerate(string):\n",
    "        if i % 2 == 0:\n",
    "            output += char.upper()\n",
    "        else:\n",
    "            output += char.lower()\n",
    "    return output\n",
    "\n",
    "test(\"in the following example output \")"
   ]
  },
  {
   "cell_type": "code",
   "execution_count": 19,
   "metadata": {},
   "outputs": [
    {
     "data": {
      "text/plain": [
       "5"
      ]
     },
     "execution_count": 19,
     "metadata": {},
     "output_type": "execute_result"
    }
   ],
   "source": [
    "x = lambda x,y,z : x if x>y and x>z else y if y>x and y>z else z\n",
    "x(3,5,1)"
   ]
  },
  {
   "cell_type": "code",
   "execution_count": 17,
   "metadata": {},
   "outputs": [
    {
     "data": {
      "text/plain": [
       "8"
      ]
     },
     "execution_count": 17,
     "metadata": {},
     "output_type": "execute_result"
    }
   ],
   "source": [
    "x(8,5,3)"
   ]
  },
  {
   "cell_type": "code",
   "execution_count": 30,
   "metadata": {},
   "outputs": [
    {
     "name": "stdout",
     "output_type": "stream",
     "text": [
      "Strings are the same length\n",
      "AaBbCcDdEe\n"
     ]
    }
   ],
   "source": [
    "# len of the string:\n",
    "\n",
    "str1 = input(\"Enter the 1st string: \")\n",
    "str2 = input(\"Enter the 2nd string: \")\n",
    "\n",
    "result = \"\"\n",
    "if len(str1) == len(str2):\n",
    "    print(\"Strings are the same length\")\n",
    "    for char1, char2 in zip(str1, str2):\n",
    "        result += char1.upper() + char2.lower()\n",
    "    print(result)\n",
    "else:\n",
    "    print(\"Strings are not the same length\")"
   ]
  },
  {
   "cell_type": "code",
   "execution_count": 38,
   "metadata": {},
   "outputs": [
    {
     "name": "stdout",
     "output_type": "stream",
     "text": [
      "string does not contain  k\n"
     ]
    }
   ],
   "source": [
    "# Without using the in operator, write a program that asks the user for a string and a letter and\n",
    "# prints out whether or not the letter appears in the string.\n",
    "def ops(string, letter):\n",
    "    for i in string:\n",
    "        if i == letter:\n",
    "            print(\"String contains \", letter)\n",
    "            break\n",
    "    else:\n",
    "        print(\"string does not contain \", letter)\n",
    "        \n",
    "string = input(\"Enter a string: \")\n",
    "letter = input(\"Enter a letter: \")\n",
    "ops(string, letter)"
   ]
  },
  {
   "cell_type": "code",
   "execution_count": 47,
   "metadata": {},
   "outputs": [
    {
     "name": "stdout",
     "output_type": "stream",
     "text": [
      "k occurrences  in Imran is 0\n"
     ]
    }
   ],
   "source": [
    "# Without using the count method, write a program that asks the user for a string and a letter\n",
    "# and counts how many occurrences there are of the letter in the string. \n",
    "\n",
    "def count(string, letter):\n",
    "    count = 0\n",
    "    for i in string:\n",
    "        if i == letter:\n",
    "            count += 1\n",
    "            break\n",
    "                    \n",
    "    print(letter + \" occurrences  in \" + string + \" is\" , count)\n",
    "\n",
    "string = input(\"Enter a string: \")\n",
    "letter = input(\"Enter a letter: \")\n",
    "count(string,letter)\n"
   ]
  },
  {
   "cell_type": "code",
   "execution_count": 48,
   "metadata": {},
   "outputs": [
    {
     "name": "stdout",
     "output_type": "stream",
     "text": [
      "The first occurrence of a in the string is at index 3\n"
     ]
    }
   ],
   "source": [
    "string = input(\"Enter a string: \")\n",
    "letter = input(\"Enter a letter: \")\n",
    "\n",
    "if letter in string:\n",
    "    print(\"The first occurrence of\", letter, \"in the string is at index\", string.find(letter))\n",
    "else:\n",
    "    print(\"The letter is not in the string.\")\n"
   ]
  },
  {
   "cell_type": "code",
   "execution_count": 50,
   "metadata": {},
   "outputs": [
    {
     "data": {
      "text/plain": [
       "'msaeesg'"
      ]
     },
     "execution_count": 50,
     "metadata": {},
     "output_type": "execute_result"
    }
   ],
   "source": [
    "# Encrypt the message:\n",
    "def encrypt(message):\n",
    "    odd = \"\"\n",
    "    even = \"\"\n",
    "    for i in range(len(message)):\n",
    "        if i % 2 == 0:\n",
    "            even += message[i]\n",
    "        else:\n",
    "            odd += message[i]\n",
    "    return even + odd\n",
    "\n",
    "message = input(\"Enter the encryption key\")\n",
    "encrypt(message)"
   ]
  },
  {
   "cell_type": "code",
   "execution_count": 58,
   "metadata": {},
   "outputs": [
    {
     "name": "stdout",
     "output_type": "stream",
     "text": [
      "[17, 10, 4, 5, 6]\n",
      "[17, 10, 4, 25, 5, 6, 17, 10, 4, 5, 6]\n"
     ]
    }
   ],
   "source": [
    "# List operations:\n",
    "li = [8,9,10]\n",
    "# chnage the value:\n",
    "li[1] = 17\n",
    "li.extend([4,5,6])\n",
    "li.pop(0)\n",
    "l2 = li * 2\n",
    "l2.insert(3,25)\n",
    "\n",
    "print(li)\n",
    "print(l2)"
   ]
  },
  {
   "cell_type": "code",
   "execution_count": 65,
   "metadata": {},
   "outputs": [
    {
     "name": "stdout",
     "output_type": "stream",
     "text": [
      "[[5], [6], [7]]\n"
     ]
    }
   ],
   "source": [
    "# add two list:\n",
    "l1 = [1, 2, 3]\n",
    "l2 = [4, 5, 6]\n",
    "n = []\n",
    "\n",
    "for i in range(len(l1)):\n",
    "    for j in range(len(l2)):\n",
    "        m = [l1[i]+l2[j]]\n",
    "        n.append(m)\n",
    "        break\n",
    "print(n)"
   ]
  },
  {
   "cell_type": "code",
   "execution_count": 4,
   "metadata": {},
   "outputs": [
    {
     "name": "stdout",
     "output_type": "stream",
     "text": [
      "0\n",
      "[]\n"
     ]
    }
   ],
   "source": [
    "# find palindrome:\n",
    "\n",
    "num = list(range(1,1000+1))\n",
    "number = str(num)\n",
    "palindrome = []\n",
    "count = 0\n",
    "for i in range(len(number)):\n",
    "    if number == number[::-1]:\n",
    "        palindrome.append(number[i])\n",
    "        count += 1\n",
    "        break\n",
    "print(count)\n",
    "print(palindrome)\n",
    "        \n",
    "\n"
   ]
  },
  {
   "cell_type": "code",
   "execution_count": 14,
   "metadata": {},
   "outputs": [
    {
     "name": "stdout",
     "output_type": "stream",
     "text": [
      "[1, 2, 3, 4, 5, 6, 7, 8, 9, 11, 22, 33, 44, 55, 66, 77, 88, 99, 101, 111, 121, 131, 141, 151, 161, 171, 181, 191, 202, 212, 222, 232, 242, 252, 262, 272, 282, 292, 303, 313, 323, 333, 343, 353, 363, 373, 383, 393, 404, 414, 424, 434, 444, 454, 464, 474, 484, 494, 505, 515, 525, 535, 545, 555, 565, 575, 585, 595, 606, 616, 626, 636, 646, 656, 666, 676, 686, 696, 707, 717, 727, 737, 747, 757, 767, 777, 787, 797, 808, 818, 828, 838, 848, 858, 868, 878, 888, 898, 909, 919, 929, 939, 949, 959, 969, 979, 989, 999]\n"
     ]
    }
   ],
   "source": [
    "def palindrome():\n",
    "    p = []\n",
    "    for i in range(1,1000):\n",
    "        if str(i) == str(i)[::-1]:\n",
    "            p.append(i)\n",
    "    print(p)\n",
    "\n",
    "palindrome()\n",
    "        "
   ]
  },
  {
   "cell_type": "code",
   "execution_count": 17,
   "metadata": {},
   "outputs": [
    {
     "name": "stdout",
     "output_type": "stream",
     "text": [
      "If you were born on January 1, 1991, you are 23 years old in 2010.\n"
     ]
    }
   ],
   "source": [
    "import datetime\n",
    "\n",
    "birthday = datetime.datetime(1999, 5, 13)\n",
    "today = datetime.datetime(2023, 2 , 7)\n",
    "\n",
    "age = today - birthday\n",
    "\n",
    "print(\"If you were born on January 1, 1991, you are\", age.days // 365, \"years old in 2010.\")\n"
   ]
  },
  {
   "cell_type": "code",
   "execution_count": 20,
   "metadata": {},
   "outputs": [
    {
     "name": "stdout",
     "output_type": "stream",
     "text": [
      "56\n",
      "126\n",
      "196\n",
      "266\n",
      "336\n",
      "406\n",
      "476\n",
      "546\n",
      "616\n",
      "686\n",
      "756\n",
      "826\n",
      "896\n",
      "966\n"
     ]
    }
   ],
   "source": [
    "def div(num):\n",
    "    for i in range(num):\n",
    "        if i % 7 == 0 and str(i).endswith(\"6\"):\n",
    "            print(i)\n",
    "\n",
    "div(1000)"
   ]
  },
  {
   "cell_type": "code",
   "execution_count": null,
   "metadata": {},
   "outputs": [],
   "source": []
  }
 ],
 "metadata": {
  "kernelspec": {
   "display_name": "Python 3",
   "language": "python",
   "name": "python3"
  },
  "language_info": {
   "codemirror_mode": {
    "name": "ipython",
    "version": 3
   },
   "file_extension": ".py",
   "mimetype": "text/x-python",
   "name": "python",
   "nbconvert_exporter": "python",
   "pygments_lexer": "ipython3",
   "version": "3.9.13"
  },
  "orig_nbformat": 4,
  "vscode": {
   "interpreter": {
    "hash": "d08dbbb029d5dd0bb39b4515d924710a3b2c10addaa5bef4e1f7da9218f228a6"
   }
  }
 },
 "nbformat": 4,
 "nbformat_minor": 2
}
