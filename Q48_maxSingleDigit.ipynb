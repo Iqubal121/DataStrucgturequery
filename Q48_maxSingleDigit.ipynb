{
  "nbformat": 4,
  "nbformat_minor": 0,
  "metadata": {
    "colab": {
      "provenance": []
    },
    "kernelspec": {
      "name": "python3",
      "display_name": "Python 3"
    },
    "language_info": {
      "name": "python"
    }
  },
  "cells": [
    {
      "cell_type": "code",
      "execution_count": 9,
      "metadata": {
        "colab": {
          "base_uri": "https://localhost:8080/"
        },
        "id": "TMwwEBu_jLkx",
        "outputId": "60b738ab-4819-46d0-8dd2-7db1bc99fbc5"
      },
      "outputs": [
        {
          "output_type": "stream",
          "name": "stdout",
          "text": [
            "7\n",
            "87 6 54 -9 88\n",
            "[6]\n"
          ]
        },
        {
          "output_type": "execute_result",
          "data": {
            "text/plain": [
              "6"
            ]
          },
          "metadata": {},
          "execution_count": 9
        }
      ],
      "source": [
        "def max_of_SingleDigit(arr):\n",
        "  singleDigit = [] # single digitarray\n",
        "  for i in arr:\n",
        "    if 0 <= i and i<=9: #single digit\n",
        "      singleDigit.append(i)\n",
        "  s_max = max(singleDigit)\n",
        "  print(singleDigit)\n",
        "  return s_max\n",
        "\n",
        "# Driver code:\n",
        "n = int(input())\n",
        "arr = list(map(int,input().strip().split()))\n",
        "\n",
        "# class the function\n",
        "\n",
        "max_of_SingleDigit(arr)"
      ]
    },
    {
      "cell_type": "code",
      "source": [],
      "metadata": {
        "id": "o39VpwrRmYu5"
      },
      "execution_count": null,
      "outputs": []
    }
  ]
}