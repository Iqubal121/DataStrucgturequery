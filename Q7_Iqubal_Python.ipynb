{
  "nbformat": 4,
  "nbformat_minor": 0,
  "metadata": {
    "colab": {
      "provenance": []
    },
    "kernelspec": {
      "name": "python3",
      "display_name": "Python 3"
    },
    "language_info": {
      "name": "python"
    }
  },
  "cells": [
    {
      "cell_type": "code",
      "execution_count": 3,
      "metadata": {
        "colab": {
          "base_uri": "https://localhost:8080/"
        },
        "id": "E_iG1qUpqqMt",
        "outputId": "7e6440c3-fb8f-4635-81e4-91350f3dce88"
      },
      "outputs": [
        {
          "output_type": "stream",
          "name": "stdout",
          "text": [
            "10\n",
            "[0, 1, 1, 2, 3, 5, 8, 13, 21, 34]\n",
            "88\n"
          ]
        }
      ],
      "source": [
        "def sumFib(n_terms):\n",
        "  _1st, _2nd = 0,1\n",
        "  count = 0\n",
        "  li = [] # store the fibonacci in the list\n",
        "\n",
        "  # check for positive integer:\n",
        "  if n_terms <= 0:\n",
        "    print(\"Invalid Input, Please enter the positive integer\")\n",
        "  elif n_terms == 1:\n",
        "    print(\"Fibonacci series upto \",n_terms,\":\")\n",
        "    li.append(_1st)\n",
        "  else:\n",
        "    while count < n_terms:\n",
        "      li.append(_1st)\n",
        "\n",
        "      next = _1st + _2nd\n",
        "\n",
        "      # update the 1st and 2nd term\n",
        "      _1st = _2nd\n",
        "      _2nd = next\n",
        "\n",
        "      count += 1\n",
        "  print(li)\n",
        "  # Sum of the series\n",
        "  sum = 0\n",
        "  for i in range(0,len(li)):\n",
        "    sum += li[i]\n",
        "  return sum \n",
        "\n",
        "# Driver code:\n",
        "n_terms = int(input())\n",
        "result = sumFib(n_terms)\n",
        "print(result)\n",
        "\n",
        "  "
      ]
    },
    {
      "cell_type": "code",
      "source": [],
      "metadata": {
        "id": "4xbkz-7GuTHg"
      },
      "execution_count": null,
      "outputs": []
    }
  ]
}