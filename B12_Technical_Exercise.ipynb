{
  "nbformat": 4,
  "nbformat_minor": 0,
  "metadata": {
    "colab": {
      "provenance": []
    },
    "kernelspec": {
      "name": "python3",
      "display_name": "Python 3"
    },
    "language_info": {
      "name": "python"
    }
  },
  "cells": [
    {
      "cell_type": "code",
      "execution_count": 5,
      "metadata": {
        "colab": {
          "base_uri": "https://localhost:8080/"
        },
        "id": "vYGSogBnZ0KB",
        "outputId": "1365c908-4469-4644-9828-c0cced0d4aa0"
      },
      "outputs": [
        {
          "output_type": "stream",
          "name": "stdout",
          "text": [
            "\n"
          ]
        }
      ],
      "source": [
        "import sys\n",
        "\n",
        "#define the main function.\n",
        "def main():\n",
        "  inputString = sys.argv[1]\n",
        "  key = sys.argv[2]\n",
        "  # define QWERTY keyboard\n",
        "  keyboard = [['1','2','3','4','5','6','7','8','9','0'],\n",
        "                ['Q','W','E','R','T','Y','U','I','O','P'],\n",
        "                ['A','S','D','F','G','H','J','K','L',';'],\n",
        "                ['Z','X','C','V','B','N','M',',','.','/']]\n",
        "  for i in range(len(key)):\n",
        "    if key[i] == \"S\":\n",
        "      if key[i+1] == \"-\":\n",
        "        shift_keyboard(keyboard,int(key[i+2])*-1)\n",
        "      else:\n",
        "        shift_keyboard(keyboard,int(key[i+1]))\n",
        "    elif key[i] == \"H\":\n",
        "      horizontally_flipped(keyboard)\n",
        "    elif key[i] == \"V\":\n",
        "      vertically_flipped(keyboard)\n",
        "  print(get_key(inputString, keyboard))\n",
        "\n",
        "  # Define the shift keyborad:\n",
        "def shift_keyboard(keyboard, shift):\n",
        "  for i in range(len(keyboard)):\n",
        "    keyboard[i] = keyboard[i][shift:] + keyboard[i][:shift]\n",
        "\n",
        "# #define horizontally flipped function.\n",
        "def horizontally_flipped(keyboard):\n",
        "  for i in range(len(keyboard)):\n",
        "    keyboard[i] = keyboard[i][::-1]\n",
        "\n",
        "# define virtical keybiard\n",
        "def vertically_flipped(keyboard):\n",
        "  keyboard[:] = keyboard[::-1]\n",
        "\n",
        "# define function for getting the message:\n",
        "def get_key(inputString, keyboard):\n",
        "  output = \"\" # Store the output\n",
        "  for i in inputString:\n",
        "    for j in range(len(keyboard)):\n",
        "      if i in keyboard[j]:\n",
        "        output += keyboard[j][keyboard[j].index(i)]\n",
        "  return output\n",
        "\n",
        "# Call the main function:\n",
        "if __name__ == \"__main__\":\n",
        "  main()"
      ]
    },
    {
      "cell_type": "code",
      "source": [],
      "metadata": {
        "id": "fRsFBQyKgJ-a"
      },
      "execution_count": null,
      "outputs": []
    }
  ]
}