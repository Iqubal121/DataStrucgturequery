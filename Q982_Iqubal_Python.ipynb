{
  "nbformat": 4,
  "nbformat_minor": 0,
  "metadata": {
    "colab": {
      "provenance": []
    },
    "kernelspec": {
      "name": "python3",
      "display_name": "Python 3"
    },
    "language_info": {
      "name": "python"
    }
  },
  "cells": [
    {
      "cell_type": "code",
      "execution_count": 3,
      "metadata": {
        "colab": {
          "base_uri": "https://localhost:8080/"
        },
        "id": "y1eDWJqnlh3L",
        "outputId": "4cec3422-4573-4c0d-e292-4883060530c0"
      },
      "outputs": [
        {
          "name": "stdout",
          "output_type": "stream",
          "text": [
            "7\n",
            "6 5 REMOVE COPY ADD 5 SUB\n"
          ]
        },
        {
          "output_type": "execute_result",
          "data": {
            "text/plain": [
              "[-7]"
            ]
          },
          "metadata": {},
          "execution_count": 3
        }
      ],
      "source": [
        "def perfromOps(opsList):\n",
        "  result = []\n",
        "  n = len(opsList)\n",
        "  for i in opsList:\n",
        "    if i.isnumeric() == True:\n",
        "      result.append(int(i))\n",
        "    elif n >= 1 and i == \"REMOVE\":\n",
        "      result.pop()\n",
        "    elif n >= 2 and i == \"ADD\":\n",
        "      a = result.pop()\n",
        "      b = result.pop()\n",
        "      result.append(a+b)\n",
        "    elif n>=2 and i ==\"SUB\":\n",
        "      a = result.pop()\n",
        "      b = result.pop()\n",
        "      result.append(a-b)\n",
        "    elif n>=1 and i == \"COPY\":\n",
        "      l = result.pop()\n",
        "      result.append(l)\n",
        "      result.append(l)\n",
        "    elif i == \"LEN\":\n",
        "      print(n)\n",
        "    else:\n",
        "      return -1\n",
        "  return result\n",
        "\n",
        "# Driver code\n",
        "n = int(input())\n",
        "opsList = list(map(str,input().strip().split()))[:n]\n",
        "# call the function\n",
        "perfromOps(opsList)\n",
        "    "
      ]
    },
    {
      "cell_type": "code",
      "source": [],
      "metadata": {
        "id": "BViOw5ifGGzO"
      },
      "execution_count": null,
      "outputs": []
    },
    {
      "cell_type": "code",
      "source": [],
      "metadata": {
        "id": "KUJP2JMSGmBe"
      },
      "execution_count": null,
      "outputs": []
    }
  ]
}