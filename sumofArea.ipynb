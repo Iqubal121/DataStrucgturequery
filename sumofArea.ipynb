{
  "nbformat": 4,
  "nbformat_minor": 0,
  "metadata": {
    "colab": {
      "provenance": []
    },
    "kernelspec": {
      "name": "python3",
      "display_name": "Python 3"
    },
    "language_info": {
      "name": "python"
    }
  },
  "cells": [
    {
      "cell_type": "code",
      "execution_count": 6,
      "metadata": {
        "colab": {
          "base_uri": "https://localhost:8080/"
        },
        "id": "Sh0wRm3x2xhJ",
        "outputId": "6de60a0d-27fc-4ec5-c14d-9c765aa73d28"
      },
      "outputs": [
        {
          "output_type": "stream",
          "name": "stdout",
          "text": [
            "30 28 4\n"
          ]
        },
        {
          "output_type": "execute_result",
          "data": {
            "text/plain": [
              "54"
            ]
          },
          "metadata": {},
          "execution_count": 6
        }
      ],
      "source": [
        "class Solution:\n",
        "  def sumOfovrRect(self,A,B,C,D,E,F,G,H):\n",
        "    area1 = abs((C-A)*(D-B))\n",
        "    area2 = ((G-E)*(H-F))\n",
        "    if E>=C or A>=G or B>=H or F>=D:\n",
        "      return area1+area2\n",
        "\n",
        "    else:\n",
        "        x1=min(G,C)\n",
        "        x2=max(A,E)\n",
        "        y1=min(D,H)\n",
        "        y2=max(B,F)\n",
        "\n",
        "        ovr = abs((x1-x2)*(y1-y2))\n",
        "\n",
        "        print(area1,area2,ovr)\n",
        "        \n",
        "        return area1+area2-ovr\n",
        "\n",
        "# Driver code:\n",
        "sl = Solution()\n",
        "sl.sumOfovrRect(-3,1,2,7,0,-4,4,3)\n"
      ]
    },
    {
      "cell_type": "code",
      "source": [],
      "metadata": {
        "id": "TUpg6UJe6p9b"
      },
      "execution_count": null,
      "outputs": []
    }
  ]
}