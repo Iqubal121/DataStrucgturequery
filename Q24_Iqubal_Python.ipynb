{
  "nbformat": 4,
  "nbformat_minor": 0,
  "metadata": {
    "colab": {
      "provenance": []
    },
    "kernelspec": {
      "name": "python3",
      "display_name": "Python 3"
    },
    "language_info": {
      "name": "python"
    }
  },
  "cells": [
    {
      "cell_type": "code",
      "execution_count": 50,
      "metadata": {
        "id": "jRwZnyzf-wBF"
      },
      "outputs": [],
      "source": [
        "def vowelPremutation(count): \n",
        "\n",
        "  # declare the string of the vowels.\n",
        "  vowels = \"aeiou\"\n",
        "\n",
        "  # create a hashmap for strong the count of each sting from the vowels.\n",
        "  hmap = {}\n",
        "\n",
        "  # initilize the value into the hashmap \n",
        "  for i in vowels:\n",
        "    hmap[i] = 1\n",
        "  \n",
        "  # satisfy the condition with the help of the for loop.\n",
        "  for j in range(1,count):\n",
        "    temp = {} # temp for storing\n",
        "    temp[\"a\"] = hmap[\"e\"] + hmap[\"i\"] + hmap[\"u\"]\n",
        "    temp[\"e\"] = hmap[\"a\"] + hmap[\"i\"] \n",
        "    temp[\"i\"] = hmap[\"e\"] + hmap[\"o\"]\n",
        "    temp[\"o\"] = hmap[\"i\"]\n",
        "    temp[\"u\"] = hmap[\"i\"] + hmap[\"u\"]\n",
        "\n",
        "    # assign the temp value into hmap\n",
        "    hmap = temp\n",
        "    print(hmap)\n",
        "\n",
        "  # count the string of the premutation.\n",
        "  sum = 0\n",
        "\n",
        "  for k in hmap:\n",
        "    sum += hmap[i]\n",
        "  return sum\n",
        "    "
      ]
    },
    {
      "cell_type": "code",
      "source": [
        "vowelPremutation(2)"
      ],
      "metadata": {
        "id": "GKympRUuBBQm",
        "colab": {
          "base_uri": "https://localhost:8080/"
        },
        "outputId": "1c509a7d-4cb9-4ac9-f1fc-fdecd4b7c9e6"
      },
      "execution_count": 53,
      "outputs": [
        {
          "output_type": "stream",
          "name": "stdout",
          "text": [
            "{'a': 3, 'e': 2, 'i': 2, 'o': 1, 'u': 2}\n"
          ]
        },
        {
          "output_type": "execute_result",
          "data": {
            "text/plain": [
              "10"
            ]
          },
          "metadata": {},
          "execution_count": 53
        }
      ]
    },
    {
      "cell_type": "code",
      "source": [],
      "metadata": {
        "id": "XzfqooT5C6Wt"
      },
      "execution_count": null,
      "outputs": []
    }
  ]
}