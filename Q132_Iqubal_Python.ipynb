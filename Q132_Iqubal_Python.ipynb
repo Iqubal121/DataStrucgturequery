{
  "nbformat": 4,
  "nbformat_minor": 0,
  "metadata": {
    "colab": {
      "provenance": []
    },
    "kernelspec": {
      "name": "python3",
      "display_name": "Python 3"
    },
    "language_info": {
      "name": "python"
    }
  },
  "cells": [
    {
      "cell_type": "code",
      "execution_count": null,
      "metadata": {
        "colab": {
          "base_uri": "https://localhost:8080/",
          "height": 36
        },
        "id": "dG1SuRT0s3KA",
        "outputId": "85bbed06-abab-4511-b568-c42643fefb50"
      },
      "outputs": [
        {
          "output_type": "execute_result",
          "data": {
            "text/plain": [
              "'acbabaca'"
            ],
            "application/vnd.google.colaboratory.intrinsic+json": {
              "type": "string"
            }
          },
          "metadata": {},
          "execution_count": 19
        }
      ],
      "source": [
        "def solution(string):\n",
        "\t\n",
        "\t# Store the given String\n",
        "\tN = len(string)\n",
        "\tnew_string = [' '] * (len(string))\n",
        "\t\n",
        "\tfor i in range(len(string)):\n",
        "\t\tnew_string[i] = string[i]\n",
        "\n",
        "  # check the first element  \n",
        "\tif (new_string[0] == '*'):\n",
        "\t\tnew_string[0] = 'a'\n",
        "\t\t\n",
        "\t\tif (new_string[0] == new_string[1]):\n",
        "\t\t\tnew_string[0] = chr(ord(new_string[0]) + 1)\n",
        "\n",
        "\t# Iterate all the element\n",
        "\tfor i in range(1, N - 1):\n",
        "\t\n",
        "\t\tif (new_string[i] == '*'):\n",
        "\t\t\tnew_string[i] = 'a'\n",
        "\n",
        "      # compare the previous element\n",
        "\t\t\tif (new_string[i] == new_string[i - 1]):\n",
        "\t\t\t\tnew_string[i] = chr(ord(new_string[i]) + 1)\n",
        "\n",
        "\t\t\t# compare the next element\n",
        "\t\t\tif (new_string[i] == new_string[i + 1]):\n",
        "\t\t\t\tnew_string[i] = chr(ord(new_string[i]) + 1)\n",
        "\n",
        "\t\t\t# compare the previous element\n",
        "\t\t\tif (new_string[i] == new_string[i - 1]):\n",
        "\t\t\t\tnew_string[i] = chr(ord(new_string[i]) + 1)\n",
        "\n",
        "\t# check the last element\n",
        "\tif (new_string[N - 1] == '*'):\n",
        "\t\tnew_string[N - 1] = 'a'\n",
        "\t\t\n",
        "\t\t# Check with previous\n",
        "\t\tif (new_string[N - 1] == new_string[N - 2]):\n",
        "\t\t\tnew_string[N - 1] += 1\n",
        "\n",
        "\tans = \"\"\n",
        "\tfor i in range(len(new_string)):\n",
        "\t\tans += new_string[i]\n",
        "\t\t\n",
        "\t# Return the result\n",
        "\treturn ans\n",
        "\n",
        "# driver code:\n",
        "string = \"a*b*b*c*\"\n",
        "solution(string)"
      ]
    },
    {
      "cell_type": "code",
      "source": [],
      "metadata": {
        "id": "IFP9_bxex3Zb"
      },
      "execution_count": null,
      "outputs": []
    }
  ]
}