{
  "nbformat": 4,
  "nbformat_minor": 0,
  "metadata": {
    "colab": {
      "provenance": []
    },
    "kernelspec": {
      "name": "python3",
      "display_name": "Python 3"
    },
    "language_info": {
      "name": "python"
    }
  },
  "cells": [
    {
      "cell_type": "code",
      "execution_count": 2,
      "metadata": {
        "colab": {
          "base_uri": "https://localhost:8080/"
        },
        "id": "U5LZJ4hpxn53",
        "outputId": "3defd4ff-3532-486d-eb7d-21d8291eee48"
      },
      "outputs": [
        {
          "output_type": "stream",
          "name": "stdout",
          "text": [
            "Enter the player name: David \n",
            "Enter the score: 89\n",
            "Hi David , Your score is 89, Congratulations, You are the best scorer\n",
            "None\n"
          ]
        }
      ],
      "source": [
        "def playerScore(playerName,score):\n",
        "  print(\"Hi \" + playerName + \", Your score is \"+ score + \", Congratulations! You are the best scorer\")\n",
        "\n",
        "# Take the user input value/ driver code.\n",
        "playerName = input(\"Enter the player name: \")\n",
        "score = input(\"Enter the score: \")\n",
        "result = playerScore(playerName,score)\n",
        "print(result)"
      ]
    },
    {
      "cell_type": "code",
      "source": [],
      "metadata": {
        "id": "iViegNbU0PGI"
      },
      "execution_count": null,
      "outputs": []
    }
  ]
}