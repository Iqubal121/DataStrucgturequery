{
  "nbformat": 4,
  "nbformat_minor": 0,
  "metadata": {
    "colab": {
      "provenance": []
    },
    "kernelspec": {
      "name": "python3",
      "display_name": "Python 3"
    },
    "language_info": {
      "name": "python"
    }
  },
  "cells": [
    {
      "cell_type": "code",
      "execution_count": 5,
      "metadata": {
        "colab": {
          "base_uri": "https://localhost:8080/",
          "height": 156
        },
        "id": "0YRx4n9EQT_s",
        "outputId": "180f0823-c885-4f98-a5ab-d792939cebcc"
      },
      "outputs": [
        {
          "output_type": "stream",
          "name": "stdout",
          "text": [
            "2\n",
            "10\n",
            "11\n",
            "3\n",
            "visited gates are:  {(0, 0): 0, (1, 0): 1, (1, 1): 2}\n",
            "not visited gates are [(1, 1)]\n",
            "the count is  2\n"
          ]
        },
        {
          "output_type": "execute_result",
          "data": {
            "text/plain": [
              "'Successfully! Exit within time'"
            ],
            "application/vnd.google.colaboratory.intrinsic+json": {
              "type": "string"
            }
          },
          "metadata": {},
          "execution_count": 5
        }
      ],
      "source": [
        "def maxTime(gates, m):\n",
        "  # declare the exit gate\n",
        "  exitGate = (len(gates)-1, len(gates[-1])-1)\n",
        "\n",
        "  # initilize some varaiables\n",
        "  count = 0 # count the number of steps\n",
        "  visitedgate = {(0,0): 0}\n",
        "  notVisitedgate = [(0,0)]\n",
        "\n",
        "  # apply BFS algorithm:\n",
        "  while count < m and len(notVisitedgate) > 0 and exitGate not in visitedgate:\n",
        "    count += 1\n",
        "    temp = [] # temporary for not visited gate.\n",
        "    for (x,y) in notVisitedgate:\n",
        "      # check it's adjacent gates\n",
        "       for (dx, dy) in [(-1, 0), (1, 0), (0, -1), (0, 1)]:\n",
        "              (nx, ny) = (x + dx, y + dy)\n",
        "              if 0 <= nx < len(gates) \\\n",
        "                      and 0 <= ny < len(gates[nx]) \\\n",
        "                      and gates[nx][ny] == '1' \\\n",
        "                      and (nx, ny) not in visitedgate:\n",
        "                  visitedgate[(nx, ny)] = count\n",
        "                  temp.append((nx, ny))\n",
        "    notVisitedgate = temp # assign it into the not visisted gate the \n",
        "\n",
        "  print(\"visited gates are: \",visitedgate)\n",
        "  print(\"not visited gates are\",notVisitedgate)\n",
        "  print(\"the count is \",count)\n",
        "  if exitGate in visitedgate:\n",
        "      return \"Successfully! Exit within time\"\n",
        "  else:\n",
        "      return \"Oh! Sorry\"        \n",
        "\n",
        "\n",
        "# Driver code.\n",
        "num = int(input())\n",
        "gates = []\n",
        "for _ in range(num):\n",
        "        gates.append(list(map(str, input().rstrip())))\n",
        "\n",
        "\n",
        "m = int(input())\n",
        "maxTime(gates, m)\n"
      ]
    },
    {
      "cell_type": "code",
      "source": [
        "2"
      ],
      "metadata": {
        "id": "ChVxYgJkWDyH"
      },
      "execution_count": null,
      "outputs": []
    }
  ]
}