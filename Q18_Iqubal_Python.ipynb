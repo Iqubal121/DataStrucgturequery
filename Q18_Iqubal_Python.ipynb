{
  "nbformat": 4,
  "nbformat_minor": 0,
  "metadata": {
    "colab": {
      "provenance": []
    },
    "kernelspec": {
      "name": "python3",
      "display_name": "Python 3"
    },
    "language_info": {
      "name": "python"
    }
  },
  "cells": [
    {
      "cell_type": "code",
      "execution_count": 1,
      "metadata": {
        "colab": {
          "base_uri": "https://localhost:8080/",
          "height": 36
        },
        "id": "hK7TahxQ2tPW",
        "outputId": "3160ab3a-5edf-4cde-b6aa-3f93ac91fc0c"
      },
      "outputs": [
        {
          "output_type": "execute_result",
          "data": {
            "text/plain": [
              "'r'"
            ],
            "application/vnd.google.colaboratory.intrinsic+json": {
              "type": "string"
            }
          },
          "metadata": {},
          "execution_count": 1
        }
      ],
      "source": [
        "a = \"imran\"  #\n",
        "a[2]"
      ]
    },
    {
      "cell_type": "code",
      "source": [
        "a[2] = \"h\""
      ],
      "metadata": {
        "colab": {
          "base_uri": "https://localhost:8080/",
          "height": 165
        },
        "id": "_l1G8Tdn3PFC",
        "outputId": "fadb2bc9-4149-4ab4-c21c-39334f970644"
      },
      "execution_count": 2,
      "outputs": [
        {
          "output_type": "error",
          "ename": "TypeError",
          "evalue": "ignored",
          "traceback": [
            "\u001b[0;31m---------------------------------------------------------------------------\u001b[0m",
            "\u001b[0;31mTypeError\u001b[0m                                 Traceback (most recent call last)",
            "\u001b[0;32m<ipython-input-2-c1fbe5eed990>\u001b[0m in \u001b[0;36m<module>\u001b[0;34m\u001b[0m\n\u001b[0;32m----> 1\u001b[0;31m \u001b[0ma\u001b[0m\u001b[0;34m[\u001b[0m\u001b[0;36m2\u001b[0m\u001b[0;34m]\u001b[0m \u001b[0;34m=\u001b[0m \u001b[0;34m\"h\"\u001b[0m\u001b[0;34m\u001b[0m\u001b[0;34m\u001b[0m\u001b[0m\n\u001b[0m",
            "\u001b[0;31mTypeError\u001b[0m: 'str' object does not support item assignment"
          ]
        }
      ]
    },
    {
      "cell_type": "code",
      "source": [
        "# 1st way by converting string into the list\n",
        "def updateString(string, index, character):\n",
        "  l_string = list(string) #\"12345678\" [1,2,3,4,5,6,7,8]\n",
        "\n",
        "  l_string[index] = character # l_string[3] = 8\n",
        "\n",
        "  string = \"\".join(l_string)\n",
        "  return string # \"12385678\"\n",
        "\n",
        "# take the input from the user.\n",
        "string = input(\"Enter the string: \")\n",
        "index, character = input().split() # it'll seperated by the space.\n",
        "result = updateString(string, int(index), character)\n",
        "print(result) "
      ],
      "metadata": {
        "colab": {
          "base_uri": "https://localhost:8080/"
        },
        "id": "xqW9Mj1O3WI7",
        "outputId": "51dcfa63-eeb9-48fb-a6d0-3d98cc81a257"
      },
      "execution_count": 3,
      "outputs": [
        {
          "output_type": "stream",
          "name": "stdout",
          "text": [
            "Enter the string: PythonProgramming\n",
            "6 p\n",
            "Pythonprogramming\n"
          ]
        }
      ]
    },
    {
      "cell_type": "code",
      "source": [
        "# 2nd way slicing:\n",
        "def updateStr(string, index, character):\n",
        "  p = index+1 #\n",
        "  output = string[:index] + character + string[p:]\n",
        "  return output\n",
        "\n",
        "string = input(\"Enter the string: \")\n",
        "index, character = input().split() # it'll seperated by the space.\n",
        "result = updateString(string, int(index), character)\n",
        "print(result) \n",
        "\n"
      ],
      "metadata": {
        "colab": {
          "base_uri": "https://localhost:8080/"
        },
        "id": "y784gAF65t7G",
        "outputId": "bc31df3a-2eac-43c0-e343-bbbd98fcddea"
      },
      "execution_count": 6,
      "outputs": [
        {
          "output_type": "stream",
          "name": "stdout",
          "text": [
            "Enter the string: JavaandPython\n",
            "4 A\n",
            "JavaAndPython\n"
          ]
        }
      ]
    },
    {
      "cell_type": "code",
      "source": [
        "a = \" imran\"\n",
        "# imr + v + n "
      ],
      "metadata": {
        "id": "-qUMiHwb6Rku"
      },
      "execution_count": 5,
      "outputs": []
    },
    {
      "cell_type": "code",
      "source": [],
      "metadata": {
        "id": "cwW5j8nl6YGF"
      },
      "execution_count": null,
      "outputs": []
    }
  ]
}