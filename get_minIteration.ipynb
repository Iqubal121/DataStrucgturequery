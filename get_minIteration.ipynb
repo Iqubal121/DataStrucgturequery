{
  "nbformat": 4,
  "nbformat_minor": 0,
  "metadata": {
    "colab": {
      "provenance": []
    },
    "kernelspec": {
      "name": "python3",
      "display_name": "Python 3"
    },
    "language_info": {
      "name": "python"
    }
  },
  "cells": [
    {
      "cell_type": "code",
      "execution_count": 2,
      "metadata": {
        "colab": {
          "base_uri": "https://localhost:8080/"
        },
        "id": "IwWvmT6XbAGc",
        "outputId": "26cd07c8-ccd7-4cbc-b760-19cad09c64b7"
      },
      "outputs": [
        {
          "name": "stdout",
          "output_type": "stream",
          "text": [
            "5\n",
            "5 4 1 2\n"
          ]
        },
        {
          "output_type": "execute_result",
          "data": {
            "text/plain": [
              "1"
            ]
          },
          "metadata": {},
          "execution_count": 2
        }
      ],
      "source": [
        "from bisect import bisect_right\n",
        "\n",
        "def getIteration(arr):\n",
        "  n = len(arr) # length of the arry\n",
        "  lis = [] # for storing the sorted element\n",
        "\n",
        "  for i in range(n):\n",
        "    iter = bisect_right(lis, arr[i])\n",
        "    if iter == len(lis):\n",
        "      lis.append(arr[i])\n",
        "    else:\n",
        "      lis[iter] = arr[i]\n",
        "  return (n-len(lis)+1) // 2\n",
        "\n",
        "# Driver code:\n",
        "n = int(input())\n",
        "arr = list(map(int, input().strip().split()))[:n]\n",
        "# Call the function:\n",
        "getIteration(arr) "
      ]
    },
    {
      "cell_type": "code",
      "source": [],
      "metadata": {
        "id": "N6msdBwZeiH_"
      },
      "execution_count": null,
      "outputs": []
    }
  ]
}