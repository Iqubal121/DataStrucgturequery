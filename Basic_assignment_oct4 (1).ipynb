{
 "cells": [
  {
   "cell_type": "markdown",
   "id": "ef171111",
   "metadata": {},
   "source": [
    "# Assignment1"
   ]
  },
  {
   "cell_type": "markdown",
   "id": "f1d673aa",
   "metadata": {},
   "source": [
    "1. Create a list containing squares of numbers from 1 to 10 (HINT: use List Comprehension)."
   ]
  },
  {
   "cell_type": "code",
   "execution_count": 1,
   "id": "83b0dfcc",
   "metadata": {},
   "outputs": [
    {
     "data": {
      "text/plain": [
       "range(0, 5)"
      ]
     },
     "execution_count": 1,
     "metadata": {},
     "output_type": "execute_result"
    }
   ],
   "source": [
    "range(0,5)"
   ]
  },
  {
   "cell_type": "code",
   "execution_count": 2,
   "id": "1f7f73f4",
   "metadata": {},
   "outputs": [
    {
     "data": {
      "text/plain": [
       "range(1, 11)"
      ]
     },
     "execution_count": 2,
     "metadata": {},
     "output_type": "execute_result"
    }
   ],
   "source": [
    "range(1,11)"
   ]
  },
  {
   "cell_type": "code",
   "execution_count": 4,
   "id": "ee7a36fe",
   "metadata": {},
   "outputs": [
    {
     "name": "stdout",
     "output_type": "stream",
     "text": [
      "1\n",
      "4\n",
      "9\n",
      "16\n",
      "25\n",
      "36\n",
      "49\n",
      "64\n",
      "81\n",
      "100\n"
     ]
    }
   ],
   "source": [
    "for x in range(1,11):\n",
    "    print(x*x)"
   ]
  },
  {
   "cell_type": "code",
   "execution_count": 5,
   "id": "7bf8f524",
   "metadata": {},
   "outputs": [
    {
     "data": {
      "text/plain": [
       "[1, 4, 9, 16, 25, 36, 49, 64, 81, 100]"
      ]
     },
     "execution_count": 5,
     "metadata": {},
     "output_type": "execute_result"
    }
   ],
   "source": [
    "[x*x for x in range(1,11)]"
   ]
  },
  {
   "cell_type": "markdown",
   "id": "9370fc28",
   "metadata": {},
   "source": [
    "2. Write a Function to check if year number is a leap year."
   ]
  },
  {
   "cell_type": "code",
   "execution_count": null,
   "id": "561c65d3",
   "metadata": {},
   "outputs": [],
   "source": [
    "#1 century year (ends with 00)-->year divided by 400 and year divided by 100 ---->leap year---->1900\n",
    "#2 year divided by 4 and same year not divided  by 100---->leap year--->2022\n",
    "#3 else not a leap year"
   ]
  },
  {
   "cell_type": "code",
   "execution_count": 7,
   "id": "770744d8",
   "metadata": {},
   "outputs": [
    {
     "name": "stdout",
     "output_type": "stream",
     "text": [
      "enter a year:1998\n",
      "1998 is not a leap year\n"
     ]
    }
   ],
   "source": [
    "year=int(input(\"enter a year:\"))\n",
    "if (year%400==0) and (year%100==0):\n",
    "    print(year,\"is a leap year\")\n",
    "elif (year%4==0) and (year%100!=0):\n",
    "    print(year,\"is leap year\")\n",
    "else:\n",
    "    print(year,\"is not a leap year\")"
   ]
  },
  {
   "cell_type": "markdown",
   "id": "3961b576",
   "metadata": {},
   "source": [
    "3. Write a Function to take an array and return another array that contains the members of first array that are even."
   ]
  },
  {
   "cell_type": "code",
   "execution_count": 8,
   "id": "c1efbb32",
   "metadata": {},
   "outputs": [],
   "source": [
    "def geteven(a):\n",
    "    b=[]\n",
    "    for i in a:\n",
    "        if i%2==0:\n",
    "            b.append(i)\n",
    "    return b\n",
    "a=[1,2,3,4,5,6,7,8,9]\n"
   ]
  },
  {
   "cell_type": "code",
   "execution_count": 9,
   "id": "f37cf121",
   "metadata": {},
   "outputs": [
    {
     "data": {
      "text/plain": [
       "[2, 4, 6, 8]"
      ]
     },
     "execution_count": 9,
     "metadata": {},
     "output_type": "execute_result"
    }
   ],
   "source": [
    "geteven(a)"
   ]
  },
  {
   "cell_type": "markdown",
   "id": "b1ce50f8",
   "metadata": {},
   "source": [
    "4. Write a Function that takes 2 arrays and prints the members of first array that are present of second array. (HINT: use Membership Comprehension)"
   ]
  },
  {
   "cell_type": "code",
   "execution_count": 10,
   "id": "23f697c4",
   "metadata": {},
   "outputs": [],
   "source": [
    "a=[2,9,0,5,6]\n",
    "b=[5,9,6,7,1]"
   ]
  },
  {
   "cell_type": "code",
   "execution_count": 11,
   "id": "851ea978",
   "metadata": {},
   "outputs": [],
   "source": [
    "def arr(a,b):\n",
    "    for i in a:\n",
    "        if i in b:\n",
    "            print(i)"
   ]
  },
  {
   "cell_type": "code",
   "execution_count": 12,
   "id": "104bc583",
   "metadata": {},
   "outputs": [
    {
     "name": "stdout",
     "output_type": "stream",
     "text": [
      "9\n",
      "5\n",
      "6\n"
     ]
    }
   ],
   "source": [
    "arr(a,b)"
   ]
  },
  {
   "cell_type": "code",
   "execution_count": null,
   "id": "a0a461b5",
   "metadata": {},
   "outputs": [],
   "source": [
    "[output for loop condition stat]"
   ]
  },
  {
   "cell_type": "code",
   "execution_count": 13,
   "id": "846c0a62",
   "metadata": {},
   "outputs": [],
   "source": [
    "def arr(a,b):\n",
    "    c=[i for i in a if i in b]\n",
    "    return c"
   ]
  },
  {
   "cell_type": "code",
   "execution_count": 14,
   "id": "367b8b66",
   "metadata": {},
   "outputs": [
    {
     "data": {
      "text/plain": [
       "[9, 5, 6]"
      ]
     },
     "execution_count": 14,
     "metadata": {},
     "output_type": "execute_result"
    }
   ],
   "source": [
    "arr(a,b)"
   ]
  },
  {
   "cell_type": "markdown",
   "id": "f91aa139",
   "metadata": {},
   "source": [
    "# Assignment2"
   ]
  },
  {
   "cell_type": "raw",
   "id": "f4c974d5",
   "metadata": {},
   "source": [
    "1. Create 1st tuple with values -> (10,20,30), 2nd tuple with values -> (40,50,60).\n",
    "a. Concatenate the two tuples and store it in “t_combine”\n",
    "b. Repeat the elements of “t_combine” 3 times\n",
    "c. Access the 3rd element from “t_combine”\n",
    "d. Access the first three elements from “t_combine”\n",
    "e. Access the last three elements from “t_combine”"
   ]
  },
  {
   "cell_type": "code",
   "execution_count": 15,
   "id": "3e5afa9e",
   "metadata": {},
   "outputs": [],
   "source": [
    "t1=(10,20,30)\n",
    "t2=(40,50,60)"
   ]
  },
  {
   "cell_type": "code",
   "execution_count": 29,
   "id": "601643e3",
   "metadata": {},
   "outputs": [
    {
     "data": {
      "text/plain": [
       "tuple"
      ]
     },
     "execution_count": 29,
     "metadata": {},
     "output_type": "execute_result"
    }
   ],
   "source": [
    "type(t1)"
   ]
  },
  {
   "cell_type": "code",
   "execution_count": 17,
   "id": "c31d0f21",
   "metadata": {},
   "outputs": [],
   "source": [
    "#a\n",
    "t_combine=t1+t2"
   ]
  },
  {
   "cell_type": "code",
   "execution_count": 18,
   "id": "412ee757",
   "metadata": {},
   "outputs": [
    {
     "name": "stdout",
     "output_type": "stream",
     "text": [
      "(10, 20, 30, 40, 50, 60)\n"
     ]
    }
   ],
   "source": [
    "print(t_combine)"
   ]
  },
  {
   "cell_type": "code",
   "execution_count": 19,
   "id": "0b6052c5",
   "metadata": {},
   "outputs": [
    {
     "data": {
      "text/plain": [
       "(10, 20, 30, 40, 50, 60, 10, 20, 30, 40, 50, 60, 10, 20, 30, 40, 50, 60)"
      ]
     },
     "execution_count": 19,
     "metadata": {},
     "output_type": "execute_result"
    }
   ],
   "source": [
    "#b\n",
    "t_combine*3"
   ]
  },
  {
   "cell_type": "code",
   "execution_count": 20,
   "id": "39fe3357",
   "metadata": {},
   "outputs": [
    {
     "data": {
      "text/plain": [
       "(10, 20, 30, 40, 50, 60)"
      ]
     },
     "execution_count": 20,
     "metadata": {},
     "output_type": "execute_result"
    }
   ],
   "source": [
    "#c\n",
    "t_combine"
   ]
  },
  {
   "cell_type": "code",
   "execution_count": 21,
   "id": "94ad17a8",
   "metadata": {},
   "outputs": [
    {
     "data": {
      "text/plain": [
       "30"
      ]
     },
     "execution_count": 21,
     "metadata": {},
     "output_type": "execute_result"
    }
   ],
   "source": [
    "t_combine[2]  #indexing"
   ]
  },
  {
   "cell_type": "code",
   "execution_count": 23,
   "id": "e424e227",
   "metadata": {},
   "outputs": [
    {
     "data": {
      "text/plain": [
       "(10, 20, 30)"
      ]
     },
     "execution_count": 23,
     "metadata": {},
     "output_type": "execute_result"
    }
   ],
   "source": [
    "#d\n",
    "t_combine[0:3]"
   ]
  },
  {
   "cell_type": "code",
   "execution_count": 24,
   "id": "f425f4e5",
   "metadata": {},
   "outputs": [
    {
     "data": {
      "text/plain": [
       "(10, 20, 30)"
      ]
     },
     "execution_count": 24,
     "metadata": {},
     "output_type": "execute_result"
    }
   ],
   "source": [
    "t_combine[:3]"
   ]
  },
  {
   "cell_type": "code",
   "execution_count": 25,
   "id": "41134983",
   "metadata": {},
   "outputs": [
    {
     "data": {
      "text/plain": [
       "(40, 50, 60)"
      ]
     },
     "execution_count": 25,
     "metadata": {},
     "output_type": "execute_result"
    }
   ],
   "source": [
    "#e\n",
    "t_combine[3:]"
   ]
  },
  {
   "cell_type": "raw",
   "id": "aaf5a33c",
   "metadata": {},
   "source": [
    "2. Create a list ‘my_list’ with these elements:\n",
    "a. First element is a tuple with values 1,2,3\n",
    "b. Second element is a tuple with values “a”,”b”,”c”\n",
    "c. Third element is a tuple with values True,False"
   ]
  },
  {
   "cell_type": "code",
   "execution_count": 1,
   "id": "bf9f9a30",
   "metadata": {},
   "outputs": [],
   "source": [
    "my_list=[(1,2,3),('a','b','c'),(True,False)]"
   ]
  },
  {
   "cell_type": "code",
   "execution_count": 2,
   "id": "3dd29e06",
   "metadata": {},
   "outputs": [
    {
     "data": {
      "text/plain": [
       "[(1, 2, 3), ('a', 'b', 'c'), (True, False)]"
      ]
     },
     "execution_count": 2,
     "metadata": {},
     "output_type": "execute_result"
    }
   ],
   "source": [
    "my_list"
   ]
  },
  {
   "cell_type": "code",
   "execution_count": 3,
   "id": "cb391907",
   "metadata": {},
   "outputs": [
    {
     "data": {
      "text/plain": [
       "list"
      ]
     },
     "execution_count": 3,
     "metadata": {},
     "output_type": "execute_result"
    }
   ],
   "source": [
    "type(my_list)"
   ]
  },
  {
   "cell_type": "raw",
   "id": "4cda66ed",
   "metadata": {},
   "source": [
    "3. Append a new tuple – (1,’a’,True) to ‘my_list’\n",
    "a. Append a new list – *“sparta”,123+ to my_list"
   ]
  },
  {
   "cell_type": "code",
   "execution_count": 4,
   "id": "7eb50969",
   "metadata": {},
   "outputs": [],
   "source": [
    "new_t=(1,'a',True)"
   ]
  },
  {
   "cell_type": "code",
   "execution_count": 5,
   "id": "66514c7c",
   "metadata": {},
   "outputs": [],
   "source": [
    "my_list.append(new_t)"
   ]
  },
  {
   "cell_type": "code",
   "execution_count": 6,
   "id": "0feb8a70",
   "metadata": {},
   "outputs": [
    {
     "data": {
      "text/plain": [
       "[(1, 2, 3), ('a', 'b', 'c'), (True, False), (1, 'a', True)]"
      ]
     },
     "execution_count": 6,
     "metadata": {},
     "output_type": "execute_result"
    }
   ],
   "source": [
    "my_list"
   ]
  },
  {
   "cell_type": "code",
   "execution_count": 7,
   "id": "3ea34be1",
   "metadata": {},
   "outputs": [],
   "source": [
    "new_l=[*\"sparta\",123]"
   ]
  },
  {
   "cell_type": "code",
   "execution_count": 8,
   "id": "71771181",
   "metadata": {},
   "outputs": [],
   "source": [
    "my_list.append(new_l)"
   ]
  },
  {
   "cell_type": "code",
   "execution_count": 9,
   "id": "c8fe04a3",
   "metadata": {},
   "outputs": [
    {
     "data": {
      "text/plain": [
       "[(1, 2, 3),\n",
       " ('a', 'b', 'c'),\n",
       " (True, False),\n",
       " (1, 'a', True),\n",
       " ['s', 'p', 'a', 'r', 't', 'a', 123]]"
      ]
     },
     "execution_count": 9,
     "metadata": {},
     "output_type": "execute_result"
    }
   ],
   "source": [
    "my_list"
   ]
  },
  {
   "cell_type": "raw",
   "id": "a971e053",
   "metadata": {},
   "source": [
    "4. Create a dictionary ‘fruit’ where:\n",
    "a. The first key is ‘Fruit’ and the values are (“Apple”,”Banana”,”Mango”,”Guava”)\n",
    "b. The second key is ‘Cost’ and the values are (85,54,120,70)\n",
    "c. Extract all the keys from ‘fruit’\n",
    "d. Extract all the values from ‘fruit’"
   ]
  },
  {
   "cell_type": "code",
   "execution_count": 10,
   "id": "27b19b5a",
   "metadata": {},
   "outputs": [],
   "source": [
    "fruit={'Fruit':('apple','banana','mango','guava'),\n",
    "      'Cost':(85,54,120,70)}"
   ]
  },
  {
   "cell_type": "code",
   "execution_count": 11,
   "id": "98ea4854",
   "metadata": {},
   "outputs": [
    {
     "data": {
      "text/plain": [
       "dict_keys(['Fruit', 'Cost'])"
      ]
     },
     "execution_count": 11,
     "metadata": {},
     "output_type": "execute_result"
    }
   ],
   "source": [
    "fruit.keys()"
   ]
  },
  {
   "cell_type": "code",
   "execution_count": 12,
   "id": "bd6a5bb2",
   "metadata": {},
   "outputs": [
    {
     "data": {
      "text/plain": [
       "dict_values([('apple', 'banana', 'mango', 'guava'), (85, 54, 120, 70)])"
      ]
     },
     "execution_count": 12,
     "metadata": {},
     "output_type": "execute_result"
    }
   ],
   "source": [
    "fruit.values()"
   ]
  },
  {
   "cell_type": "markdown",
   "id": "e02b489b",
   "metadata": {},
   "source": [
    "5. Crete a set named ‘my_set’ with values (1,1,”a”,”a”,True,True) and print the result"
   ]
  },
  {
   "cell_type": "code",
   "execution_count": 17,
   "id": "cfed4bc1",
   "metadata": {},
   "outputs": [],
   "source": [
    "my_set={1,1,'a','a',True,True}"
   ]
  },
  {
   "cell_type": "code",
   "execution_count": 18,
   "id": "c05b9a84",
   "metadata": {},
   "outputs": [
    {
     "data": {
      "text/plain": [
       "{1, 'a'}"
      ]
     },
     "execution_count": 18,
     "metadata": {},
     "output_type": "execute_result"
    }
   ],
   "source": [
    "my_set"
   ]
  },
  {
   "cell_type": "code",
   "execution_count": null,
   "id": "51d0e916",
   "metadata": {},
   "outputs": [],
   "source": [
    "True=1\n",
    "False=0"
   ]
  },
  {
   "cell_type": "raw",
   "id": "15436725",
   "metadata": {},
   "source": [
    "Assignment 1\n",
    "Input the values of a and b as 10 and 20 respectively. Now check if a is greater or b is greater using if condition. Think about all the edge cases, and print the statements accordingly."
   ]
  },
  {
   "cell_type": "code",
   "execution_count": 1,
   "id": "7e4637b8",
   "metadata": {},
   "outputs": [
    {
     "name": "stdout",
     "output_type": "stream",
     "text": [
      "b is greater than a\n"
     ]
    }
   ],
   "source": [
    "a=10\n",
    "b=20\n",
    "if(a>b):\n",
    "    print(\"a is greater than b\")\n",
    "if(a<b): \n",
    "    print('b is greater than a')"
   ]
  },
  {
   "cell_type": "raw",
   "id": "d07c9b01",
   "metadata": {},
   "source": [
    "Assignment 2\n",
    "Take three user inputs and print the greatest number from those inputs using if-else condition. Edge cases if any, should also be handled."
   ]
  },
  {
   "cell_type": "code",
   "execution_count": 2,
   "id": "d1afa2a3",
   "metadata": {},
   "outputs": [
    {
     "name": "stdout",
     "output_type": "stream",
     "text": [
      "Enter a: 2\n",
      "Enter b: 3\n",
      "Enter c: 1\n",
      "b is greater than a & c\n"
     ]
    }
   ],
   "source": [
    "a=int(input(\"Enter a: \"))\n",
    "b=int(input(\"Enter b: \"))\n",
    "c=int(input(\"Enter c: \"))\n",
    "if(a>b and a>c): \n",
    "    print('a is greater than b & c')\n",
    "elif(b>a and b>c):\n",
    "    print('b is greater than a & c')\n",
    "elif(c>a and c>b):\n",
    "    print('c is greater than a & b')\n",
    "elif(a==b and a==c):\n",
    "    print('All 3 inputs are same!!.')\n",
    "else:\n",
    "    print(\"Enter valid number\") "
   ]
  },
  {
   "cell_type": "code",
   "execution_count": null,
   "id": "e7bf56eb",
   "metadata": {},
   "outputs": [],
   "source": []
  }
 ],
 "metadata": {
  "kernelspec": {
   "display_name": "Python 3 (ipykernel)",
   "language": "python",
   "name": "python3"
  },
  "language_info": {
   "codemirror_mode": {
    "name": "ipython",
    "version": 3
   },
   "file_extension": ".py",
   "mimetype": "text/x-python",
   "name": "python",
   "nbconvert_exporter": "python",
   "pygments_lexer": "ipython3",
   "version": "3.9.12"
  }
 },
 "nbformat": 4,
 "nbformat_minor": 5
}
