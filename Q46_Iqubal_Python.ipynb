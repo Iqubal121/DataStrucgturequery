{
  "nbformat": 4,
  "nbformat_minor": 0,
  "metadata": {
    "colab": {
      "provenance": []
    },
    "kernelspec": {
      "name": "python3",
      "display_name": "Python 3"
    },
    "language_info": {
      "name": "python"
    }
  },
  "cells": [
    {
      "cell_type": "code",
      "execution_count": 2,
      "metadata": {
        "colab": {
          "base_uri": "https://localhost:8080/"
        },
        "id": "jwurH3_0n3vb",
        "outputId": "45d0de43-b258-43e2-aa39-a73223fe298d"
      },
      "outputs": [
        {
          "name": "stdout",
          "output_type": "stream",
          "text": [
            "6\n",
            "3 2 1 5 6 4\n"
          ]
        },
        {
          "output_type": "execute_result",
          "data": {
            "text/plain": [
              "[3, 1, 1, 1, 0, 1]"
            ]
          },
          "metadata": {},
          "execution_count": 2
        }
      ],
      "source": [
        "def dis_closet_element(arr):\n",
        "  \n",
        "  arrLen = len(arr)\n",
        "  distance = [0] * arrLen # Create an arry for storing the distance\n",
        "  for i in range(arrLen):   # Start with 0th index\n",
        "    for dis in range(1,arrLen):  # for finding the difference start with 1th index\n",
        "      if (i-dis >= 0) and (arr[i-dis] > arr[i]): # compare the element to it's left side.\n",
        "        distance[i] = dis\n",
        "        break\n",
        "      if (i + dis < arrLen) and (arr[i+dis] > arr[i]): # Compare the element to it's right side.\n",
        "        distance[i] = dis\n",
        "        #print(distance[i])\n",
        "        break\n",
        "  return distance\n",
        "\n",
        "# Driver code:\n",
        "n = int(input())\n",
        "arr = list(map(int,input().strip().split()))[:n]\n",
        "\n",
        "# call the function(\n",
        "dis_closet_element(arr)"
      ]
    },
    {
      "cell_type": "code",
      "source": [],
      "metadata": {
        "id": "0mb3ADIKszrB"
      },
      "execution_count": null,
      "outputs": []
    }
  ]
}