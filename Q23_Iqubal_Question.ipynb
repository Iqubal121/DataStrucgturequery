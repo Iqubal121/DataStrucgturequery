{
  "nbformat": 4,
  "nbformat_minor": 0,
  "metadata": {
    "colab": {
      "provenance": [],
      "collapsed_sections": []
    },
    "kernelspec": {
      "name": "python3",
      "display_name": "Python 3"
    },
    "language_info": {
      "name": "python"
    }
  },
  "cells": [
    {
      "cell_type": "code",
      "source": [
        "def transformMatrix(matrix):\n",
        "\n",
        "  # define rows and colums.\n",
        "  x = len(matrix) # rows # 5 --- 0,1,2,3,4 \n",
        "  y = len(matrix[0]) # columns\n",
        "\n",
        "  for i in range(x-1, -1 , -1): # for the last element of the row\n",
        "    for j in range(y-1, -1, -1): # select each element form the columns.\n",
        "      if i-1 >= 0 and j-1 >= 0:\n",
        "        matrix[i][j] = matrix[i][j] - matrix[i-1][j] - matrix[i][j-1] + matrix[i-1][j-1]\n",
        "      elif j-1 >= 0:\n",
        "        matrix[i][j] -= matrix[i][j-1]\n",
        "      elif i-1 >= 0:\n",
        "        matrix[i][j] -= matrix[i-1][j]\n",
        "  return matrix\n",
        "\n"
      ],
      "metadata": {
        "id": "yiM_KNpEXA-J"
      },
      "execution_count": 24,
      "outputs": []
    },
    {
      "cell_type": "code",
      "source": [
        "transformMatrix([[2,5],[7,10]])"
      ],
      "metadata": {
        "colab": {
          "base_uri": "https://localhost:8080/"
        },
        "id": "_sov0hMskUtp",
        "outputId": "deb63d54-eff2-408c-82b9-3be82e1be8de"
      },
      "execution_count": 25,
      "outputs": [
        {
          "output_type": "execute_result",
          "data": {
            "text/plain": [
              "[[2, 3], [5, 0]]"
            ]
          },
          "metadata": {},
          "execution_count": 25
        }
      ]
    },
    {
      "cell_type": "code",
      "source": [],
      "metadata": {
        "id": "iQRjY-MUk2w-"
      },
      "execution_count": null,
      "outputs": []
    }
  ]
}