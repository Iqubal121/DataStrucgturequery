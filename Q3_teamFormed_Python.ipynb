{
  "nbformat": 4,
  "nbformat_minor": 0,
  "metadata": {
    "colab": {
      "provenance": []
    },
    "kernelspec": {
      "name": "python3",
      "display_name": "Python 3"
    },
    "language_info": {
      "name": "python"
    }
  },
  "cells": [
    {
      "cell_type": "code",
      "execution_count": 5,
      "metadata": {
        "colab": {
          "base_uri": "https://localhost:8080/"
        },
        "id": "9j7jjhiO33Mu",
        "outputId": "fbca1833-9a21-4168-f790-4ca78e47ffcc"
      },
      "outputs": [
        {
          "output_type": "stream",
          "name": "stdout",
          "text": [
            "5\n",
            "6 5 4 3 6 \n",
            "12\n",
            "[True, False, False, True, True, True, True, True, True, True, True, True, True]\n"
          ]
        },
        {
          "output_type": "execute_result",
          "data": {
            "text/plain": [
              "12"
            ]
          },
          "metadata": {},
          "execution_count": 5
        }
      ],
      "source": [
        "def newTeam(teams,maxEmp):\n",
        "  dp = [False] * (maxEmp+1)\n",
        "  dp[0] = True\n",
        "\n",
        "  result = 0\n",
        "  for emp in teams:\n",
        "    for i in range(maxEmp,emp-1,-1):\n",
        "      if dp[i-emp]:\n",
        "        dp[i] = True\n",
        "        result = max(result,i)\n",
        "  print(dp)\n",
        "  return result\n",
        "\n",
        "# Driver code:\n",
        "n = int(input())\n",
        "teams = list(map(int, input().split()))[:n]\n",
        "m = int(input())\n",
        "\n",
        "# call the function:\n",
        "newTeam(teams,m)"
      ]
    },
    {
      "cell_type": "code",
      "source": [],
      "metadata": {
        "id": "k4ga7IG490VF"
      },
      "execution_count": null,
      "outputs": []
    }
  ]
}