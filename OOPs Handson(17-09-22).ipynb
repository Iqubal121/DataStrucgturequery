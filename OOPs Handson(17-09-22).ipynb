{
 "cells": [
  {
   "cell_type": "markdown",
   "id": "e9735ad1",
   "metadata": {},
   "source": [
    "1. Create a function named ‘factor’ that can only accept 1 argument. The function should\n",
    "return the factorial of that number."
   ]
  },
  {
   "cell_type": "code",
   "execution_count": 16,
   "id": "b37fa284",
   "metadata": {},
   "outputs": [
    {
     "name": "stdout",
     "output_type": "stream",
     "text": [
      "The factorial of 3 is 6\n"
     ]
    }
   ],
   "source": [
    "# 5 --> 5*4*3*2*1\n",
    "def factor(num):\n",
    "    fact = 1  \n",
    "    if num<0:\n",
    "        print('The factorial does not exist for negative numbers')\n",
    "    elif num==0:\n",
    "        print('The factorial of zero is 1')\n",
    "    else:\n",
    "        for i in range(1,num+1):\n",
    "            fact = fact*i  # 1*1,1*1*2,1*1*2*3,\n",
    "        print('The factorial of', num, 'is', fact)\n",
    "\n",
    "factor(3)"
   ]
  },
  {
   "cell_type": "code",
   "execution_count": 18,
   "id": "b8e86a0d",
   "metadata": {},
   "outputs": [],
   "source": [
    "def factor(num):\n",
    "    fact=1\n",
    "    if num<0:\n",
    "        print(\"Factorial has to be a positive number\")\n",
    "    elif num==0:\n",
    "        print(\"Factorial of 0 is 1\")\n",
    "    else:\n",
    "        for i in range(1,num+1):\n",
    "            fact=fact*i\n",
    "        print(\"Factor of \",num,\" is\",fact)\n"
   ]
  },
  {
   "cell_type": "code",
   "execution_count": 27,
   "id": "2a276fcd",
   "metadata": {},
   "outputs": [
    {
     "name": "stdout",
     "output_type": "stream",
     "text": [
      "3\n",
      "The factorial of 3 is 6\n"
     ]
    }
   ],
   "source": [
    "def factor(num):\n",
    "    fact = 1\n",
    "    if num<0:\n",
    "        print('The factorial does not exist for negative numbers')\n",
    "    elif num==0:\n",
    "        print('The factorial of zero is 1')\n",
    "    else:\n",
    "        for i in range(1,num+1):  # range(1,n) -->  1 to n-1\n",
    "            fact = fact*i\n",
    "        print('The factorial of', num, 'is', fact)\n",
    "factor(int(input()))\n"
   ]
  },
  {
   "cell_type": "markdown",
   "id": "412017ee",
   "metadata": {},
   "source": [
    "2. Create a function named ‘check_string’, the function should accept a string data from the\n",
    "user and the function should check if the user input contains the letter ‘s’ in it. If it contains\n",
    "the letter ‘s’ then print- ‘The string is containing the letter ‘s’’, if not then print- ‘The string\n",
    "doesn’t contain the letter ‘s’’."
   ]
  },
  {
   "cell_type": "code",
   "execution_count": 44,
   "id": "b710c6a3",
   "metadata": {},
   "outputs": [],
   "source": [
    "def check_string():\n",
    "    s = input('Enter a string value: ')\n",
    "    c = 0\n",
    "    for i in s:\n",
    "        if i=='s':  # i= p, s==s\n",
    "            print('The string contains s')\n",
    "            c = c+1\n",
    "            print(c)\n",
    "        else:\n",
    "            print('The string doesnot contain the letter s')"
   ]
  },
  {
   "cell_type": "code",
   "execution_count": 45,
   "id": "8a8c7bcb",
   "metadata": {},
   "outputs": [
    {
     "name": "stdout",
     "output_type": "stream",
     "text": [
      "Enter a string value: sushma eat's sushi in shop and sushi was super tasty\n",
      "The string contains s\n",
      "1\n",
      "The string doesnot contain the letter s\n",
      "The string contains s\n",
      "2\n",
      "The string doesnot contain the letter s\n",
      "The string doesnot contain the letter s\n",
      "The string doesnot contain the letter s\n",
      "The string doesnot contain the letter s\n",
      "The string doesnot contain the letter s\n",
      "The string doesnot contain the letter s\n",
      "The string doesnot contain the letter s\n",
      "The string doesnot contain the letter s\n",
      "The string contains s\n",
      "3\n",
      "The string doesnot contain the letter s\n",
      "The string contains s\n",
      "4\n",
      "The string doesnot contain the letter s\n",
      "The string contains s\n",
      "5\n",
      "The string doesnot contain the letter s\n",
      "The string doesnot contain the letter s\n",
      "The string doesnot contain the letter s\n",
      "The string doesnot contain the letter s\n",
      "The string doesnot contain the letter s\n",
      "The string doesnot contain the letter s\n",
      "The string contains s\n",
      "6\n",
      "The string doesnot contain the letter s\n",
      "The string doesnot contain the letter s\n",
      "The string doesnot contain the letter s\n",
      "The string doesnot contain the letter s\n",
      "The string doesnot contain the letter s\n",
      "The string doesnot contain the letter s\n",
      "The string doesnot contain the letter s\n",
      "The string doesnot contain the letter s\n",
      "The string contains s\n",
      "7\n",
      "The string doesnot contain the letter s\n",
      "The string contains s\n",
      "8\n",
      "The string doesnot contain the letter s\n",
      "The string doesnot contain the letter s\n",
      "The string doesnot contain the letter s\n",
      "The string doesnot contain the letter s\n",
      "The string doesnot contain the letter s\n",
      "The string contains s\n",
      "9\n",
      "The string doesnot contain the letter s\n",
      "The string contains s\n",
      "10\n",
      "The string doesnot contain the letter s\n",
      "The string doesnot contain the letter s\n",
      "The string doesnot contain the letter s\n",
      "The string doesnot contain the letter s\n",
      "The string doesnot contain the letter s\n",
      "The string doesnot contain the letter s\n",
      "The string doesnot contain the letter s\n",
      "The string contains s\n",
      "11\n",
      "The string doesnot contain the letter s\n",
      "The string doesnot contain the letter s\n"
     ]
    }
   ],
   "source": [
    "check_string()"
   ]
  },
  {
   "cell_type": "markdown",
   "id": "a01f2305",
   "metadata": {},
   "source": [
    "3. Create a class named ‘student’ and inside the class, create a function named ‘fun1’- this\n",
    "method should accept the user defined input and return that value.\n",
    "a. Create another method named- message() and that method should print the user\n",
    "defined input that we have defined in ‘fun1’."
   ]
  },
  {
   "cell_type": "code",
   "execution_count": 50,
   "id": "74dff5b3",
   "metadata": {},
   "outputs": [
    {
     "name": "stdout",
     "output_type": "stream",
     "text": [
      "Shilpa\n"
     ]
    },
    {
     "data": {
      "text/plain": [
       "'Shilpa'"
      ]
     },
     "execution_count": 50,
     "metadata": {},
     "output_type": "execute_result"
    }
   ],
   "source": [
    "class student:\n",
    "    def __init__(self):\n",
    "        self.n = input()\n",
    "    def fun1(self):\n",
    "        #n = int(input('Enter a value: '))\n",
    "        return self.n\n",
    "    def message(self):\n",
    "        #k = self.fun1()\n",
    "        return self.n\n",
    "ob = student()\n",
    "ob.message()"
   ]
  },
  {
   "cell_type": "code",
   "execution_count": 49,
   "id": "89d4471c",
   "metadata": {},
   "outputs": [
    {
     "name": "stdout",
     "output_type": "stream",
     "text": [
      "name of studentSumana\n"
     ]
    },
    {
     "data": {
      "text/plain": [
       "'Sumana'"
      ]
     },
     "execution_count": 49,
     "metadata": {},
     "output_type": "execute_result"
    }
   ],
   "source": [
    "class student:\n",
    "    def __init__(self):\n",
    "        self.name=input(\"name of student\")\n",
    "    def disp (self): \n",
    "        return(self.name)\n",
    "o = student()\n",
    "o.disp()\n"
   ]
  },
  {
   "cell_type": "code",
   "execution_count": 52,
   "id": "e39c7e24",
   "metadata": {},
   "outputs": [
    {
     "name": "stdout",
     "output_type": "stream",
     "text": [
      "please enter the input:5\n"
     ]
    },
    {
     "data": {
      "text/plain": [
       "5"
      ]
     },
     "execution_count": 52,
     "metadata": {},
     "output_type": "execute_result"
    }
   ],
   "source": [
    "class student:\n",
    "        def fun1(self):\n",
    "            x= int(input('please enter the input:'))\n",
    "            return x\n",
    "        def message(self):\n",
    "            k = self.fun1()\n",
    "            return k\n",
    "        \n",
    "obj = student()\n",
    "obj.message()\n"
   ]
  },
  {
   "cell_type": "markdown",
   "id": "d91fd002",
   "metadata": {},
   "source": [
    "4. Create a lambda function that should double or multiply the number (that we will be passing\n",
    "in the lambda function) by 2. Store the lambda function in a variable named ‘double_num’."
   ]
  },
  {
   "cell_type": "code",
   "execution_count": 53,
   "id": "deca3b8c",
   "metadata": {},
   "outputs": [
    {
     "data": {
      "text/plain": [
       "10"
      ]
     },
     "execution_count": 53,
     "metadata": {},
     "output_type": "execute_result"
    }
   ],
   "source": [
    "double_num = lambda n:n*2\n",
    "double_num(5)"
   ]
  },
  {
   "cell_type": "code",
   "execution_count": 54,
   "id": "9de133f4",
   "metadata": {},
   "outputs": [
    {
     "name": "stdout",
     "output_type": "stream",
     "text": [
      "12\n"
     ]
    },
    {
     "data": {
      "text/plain": [
       "24"
      ]
     },
     "execution_count": 54,
     "metadata": {},
     "output_type": "execute_result"
    }
   ],
   "source": [
    "double_num(int(input()))"
   ]
  },
  {
   "cell_type": "code",
   "execution_count": 55,
   "id": "605cdc43",
   "metadata": {},
   "outputs": [],
   "source": [
    "# palindrome --> Naman --> naman"
   ]
  },
  {
   "cell_type": "markdown",
   "id": "642096c7",
   "metadata": {},
   "source": [
    "5. Take the user input string and check whether that string is palindrome or not."
   ]
  },
  {
   "cell_type": "code",
   "execution_count": 59,
   "id": "04fb069a",
   "metadata": {},
   "outputs": [
    {
     "name": "stdout",
     "output_type": "stream",
     "text": [
      "Enter a string: Madam\n",
      "s is palindrome\n"
     ]
    }
   ],
   "source": [
    "s = input('Enter a string: ')\n",
    "s = s.lower()\n",
    "if s==s[::-1]:\n",
    "    print('s is palindrome')\n",
    "else:\n",
    "    print('s is not a palindrome')"
   ]
  },
  {
   "cell_type": "markdown",
   "id": "ecf16592",
   "metadata": {},
   "source": [
    "6. Create a class named ‘Super’ and inside that class define a user-defined function named\n",
    "fun1.\n",
    "a. Inside the ‘fun1’ function, pass the message “This is function 1 in the Super class.”\n",
    "in the print statement."
   ]
  },
  {
   "cell_type": "code",
   "execution_count": 61,
   "id": "0c457674",
   "metadata": {},
   "outputs": [
    {
     "name": "stdout",
     "output_type": "stream",
     "text": [
      "This is function1 in the super class\n"
     ]
    }
   ],
   "source": [
    "class Super:\n",
    "    def fun1(self):\n",
    "        print('This is function1 in the super class')\n",
    "o = Super()\n",
    "o.fun1()"
   ]
  },
  {
   "cell_type": "markdown",
   "id": "3ca04046",
   "metadata": {},
   "source": [
    "7. Create another class named ‘Modified_Super’ and inherit this class from the Super class.\n",
    "\n",
    "a. Inside the Modified_Super class, create a function named ‘fun1’ and pass the\n",
    "following message inside the print statement: ‘This is function 1 in the Modified\n",
    "Super class.’\n",
    "\n",
    "b. Create another user-defined function named ‘fun2’ and pass the message: ‘This is\n",
    "the 2nd function from the Modified Super class’ in the print statement.\n",
    "\n",
    "c. After that, now create an object for the Modified_Super class and call the fun1().\n"
   ]
  },
  {
   "cell_type": "code",
   "execution_count": 67,
   "id": "d9bf4713",
   "metadata": {},
   "outputs": [
    {
     "name": "stdout",
     "output_type": "stream",
     "text": [
      "This is function1 in modified super class\n",
      "This is function1 in the super class\n",
      "This is function2 from modified super class\n"
     ]
    }
   ],
   "source": [
    "class Modified_Super(Super):\n",
    "    def fun1(self):\n",
    "        print('This is function1 in modified super class')\n",
    "        Super.fun1(self)\n",
    "    def fun2(self):\n",
    "        print('This is function2 from modified super class')\n",
    "ob = Modified_Super()\n",
    "ob.fun1()\n",
    "ob.fun2()"
   ]
  },
  {
   "cell_type": "code",
   "execution_count": 69,
   "id": "765d461d",
   "metadata": {},
   "outputs": [
    {
     "data": {
      "text/plain": [
       "'This is funtion 1 in the Modified Super Class'"
      ]
     },
     "execution_count": 69,
     "metadata": {},
     "output_type": "execute_result"
    }
   ],
   "source": [
    "class Super:\n",
    "    def __init__(self,name1,name2): \n",
    "        self.name1=\"This is funtion 1 in the Modified Super Class\"\n",
    "        self.name2=\"This is funtion 2 in the Modified Super Class\" \n",
    "        \n",
    "class Modified_Super(Super):\n",
    "    \n",
    "        def func1(self):\n",
    "            return self.name1                \n",
    "                \n",
    "                 \n",
    "        def func2(self):\n",
    "            return self.name2\n",
    "        \n",
    "obj=Modified_Super('a','b')\n",
    "obj.func1()\n"
   ]
  },
  {
   "cell_type": "markdown",
   "id": "05977a51",
   "metadata": {},
   "source": [
    "8. Create 2 methods named ‘Hello’. In the 1st Hello method, pass only one argument and pass\n",
    "this message: ‘This function only has 1 argument’. And in the 2nd Hello method, pass\n",
    "two arguments and pass this message: ‘This function has 2 arguments’.\n",
    "\n",
    "a. Try to call both the methods and analyze the output of both the methods."
   ]
  },
  {
   "cell_type": "code",
   "execution_count": 70,
   "id": "0c5f4cf3",
   "metadata": {},
   "outputs": [],
   "source": [
    "def Hello(a):\n",
    "    print('This function only has one argument.')\n",
    "def Hello(a,b):\n",
    "    print('This function has two arguments.')"
   ]
  },
  {
   "cell_type": "code",
   "execution_count": 72,
   "id": "3b2f2762",
   "metadata": {},
   "outputs": [
    {
     "name": "stdout",
     "output_type": "stream",
     "text": [
      "This function has two arguments.\n"
     ]
    }
   ],
   "source": [
    "Hello(5,4)"
   ]
  },
  {
   "cell_type": "markdown",
   "id": "3908fad5",
   "metadata": {},
   "source": [
    "9. Create a method named ‘Sum’ that can accept multiple user inputs. \n",
    "\n",
    "Now add those userdefined\n",
    "input values using for loop and the function should return the addition of the numbers."
   ]
  },
  {
   "cell_type": "code",
   "execution_count": 77,
   "id": "bafdcf30",
   "metadata": {},
   "outputs": [],
   "source": [
    "def sum(*num):   # 4,5,6\n",
    "    total = 0\n",
    "    for i in range(0, len(num)):  # len(num)=5, range(0,5)\n",
    "        total = total + num[i]  # total = 0 + 2, 0 + 2 + 3,.......\n",
    "    print(type(num))\n",
    "    return total\n",
    "    "
   ]
  },
  {
   "cell_type": "code",
   "execution_count": 78,
   "id": "31db2bcf",
   "metadata": {},
   "outputs": [
    {
     "name": "stdout",
     "output_type": "stream",
     "text": [
      "<class 'tuple'>\n"
     ]
    },
    {
     "data": {
      "text/plain": [
       "20"
      ]
     },
     "execution_count": 78,
     "metadata": {},
     "output_type": "execute_result"
    }
   ],
   "source": [
    "sum(2,3,4,5,6)"
   ]
  },
  {
   "cell_type": "markdown",
   "id": "9f4c6845",
   "metadata": {},
   "source": [
    "10. Create a class named ‘Encapsulation’:\n",
    "\n",
    "a. Inside the class, first create a constructor. Inside the constructor, initialize\n",
    "originalValue variable as 10.\n",
    "\n",
    "b. After creating the constructor, define a function named ‘Value’ and this function\n",
    "should return the variable that we have initialized in the constructor.\n",
    "\n",
    "c. Now create 2nd function named setValue, and pass an argument named\n",
    "‘newValue’. The task of this function will be to replace the value of the\n",
    "originalValue variable by the value of the newValue variable."
   ]
  },
  {
   "cell_type": "code",
   "execution_count": 33,
   "id": "40b071f4",
   "metadata": {},
   "outputs": [],
   "source": [
    "class Encapsulation:\n",
    "    def __init__(self):\n",
    "        self.originalValue = 10\n",
    "    def Value(self):\n",
    "        return self.originalValue\n",
    "    def setValue(self, newValue):\n",
    "        self.originalValue = newValue\n",
    "        return self.originalValue"
   ]
  },
  {
   "cell_type": "code",
   "execution_count": 34,
   "id": "883366db",
   "metadata": {},
   "outputs": [],
   "source": [
    "obj = Encapsulation()"
   ]
  },
  {
   "cell_type": "code",
   "execution_count": 36,
   "id": "4104a95b",
   "metadata": {},
   "outputs": [
    {
     "name": "stdout",
     "output_type": "stream",
     "text": [
      "7\n"
     ]
    },
    {
     "data": {
      "text/plain": [
       "7"
      ]
     },
     "execution_count": 36,
     "metadata": {},
     "output_type": "execute_result"
    }
   ],
   "source": [
    "obj.setValue(int(input()))"
   ]
  },
  {
   "cell_type": "code",
   "execution_count": 37,
   "id": "c373b0b5",
   "metadata": {},
   "outputs": [
    {
     "data": {
      "text/plain": [
       "7"
      ]
     },
     "execution_count": 37,
     "metadata": {},
     "output_type": "execute_result"
    }
   ],
   "source": [
    "obj.Value()"
   ]
  },
  {
   "cell_type": "code",
   "execution_count": 13,
   "id": "c8986489",
   "metadata": {},
   "outputs": [],
   "source": [
    "ob2 = Encapsulation()"
   ]
  },
  {
   "cell_type": "code",
   "execution_count": 28,
   "id": "956f7bec",
   "metadata": {},
   "outputs": [
    {
     "data": {
      "text/plain": [
       "10"
      ]
     },
     "execution_count": 28,
     "metadata": {},
     "output_type": "execute_result"
    }
   ],
   "source": [
    "ob2.Value()"
   ]
  },
  {
   "cell_type": "code",
   "execution_count": 19,
   "id": "340d0c0a",
   "metadata": {},
   "outputs": [
    {
     "data": {
      "text/plain": [
       "5"
      ]
     },
     "execution_count": 19,
     "metadata": {},
     "output_type": "execute_result"
    }
   ],
   "source": [
    "class Encapsulation:\n",
    "    \n",
    "    def __init__(self):\n",
    "        originalValue = 10\n",
    "        \n",
    "    def value(self):\n",
    "        return self.originalValue\n",
    "    \n",
    "    def setValue(self, newValue):\n",
    "        self.originalValue = newValue\n",
    "        return self.originalValue\n",
    "    \n",
    "    \n",
    "obj = Encapsulation()\n",
    "# obj.value()\n",
    "obj.setValue(5)\n",
    "obj.value()\n"
   ]
  },
  {
   "cell_type": "code",
   "execution_count": null,
   "id": "291a4673",
   "metadata": {},
   "outputs": [],
   "source": []
  }
 ],
 "metadata": {
  "kernelspec": {
   "display_name": "Python 3 (ipykernel)",
   "language": "python",
   "name": "python3"
  },
  "language_info": {
   "codemirror_mode": {
    "name": "ipython",
    "version": 3
   },
   "file_extension": ".py",
   "mimetype": "text/x-python",
   "name": "python",
   "nbconvert_exporter": "python",
   "pygments_lexer": "ipython3",
   "version": "3.9.12"
  }
 },
 "nbformat": 4,
 "nbformat_minor": 5
}
