{
  "nbformat": 4,
  "nbformat_minor": 0,
  "metadata": {
    "colab": {
      "provenance": []
    },
    "kernelspec": {
      "name": "python3",
      "display_name": "Python 3"
    },
    "language_info": {
      "name": "python"
    }
  },
  "cells": [
    {
      "cell_type": "code",
      "execution_count": 5,
      "metadata": {
        "id": "ydstVj606mxx",
        "colab": {
          "base_uri": "https://localhost:8080/"
        },
        "outputId": "b5866ce1-4ad2-476b-b0a0-02acffe63384"
      },
      "outputs": [
        {
          "name": "stdout",
          "output_type": "stream",
          "text": [
            "3\n",
            "3 -1 8\n"
          ]
        },
        {
          "output_type": "execute_result",
          "data": {
            "text/plain": [
              "10"
            ]
          },
          "metadata": {},
          "execution_count": 5
        }
      ],
      "source": [
        "def wheatherForecasting(temp):\n",
        "    n = len(temp)\n",
        "    maximum = 0\n",
        "    for i in range(n):\n",
        "        earlier = sum(temp[:i+1])\n",
        "        coming = sum(temp[i:])\n",
        "        m = max(earlier,coming)\n",
        "\n",
        "        if m > maximum:\n",
        "            maximum = m\n",
        "    return maximum\n",
        "\n",
        "# Driver Code:\n",
        "n = int(input())\n",
        "temp = list(map(int,input().strip().split()))[:n]     \n",
        "wheatherForecasting(temp)"
      ]
    },
    {
      "cell_type": "code",
      "source": [],
      "metadata": {
        "id": "LmD1vrrt_voG"
      },
      "execution_count": null,
      "outputs": []
    }
  ]
}