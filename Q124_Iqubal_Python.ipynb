{
  "nbformat": 4,
  "nbformat_minor": 0,
  "metadata": {
    "colab": {
      "provenance": []
    },
    "kernelspec": {
      "name": "python3",
      "display_name": "Python 3"
    },
    "language_info": {
      "name": "python"
    }
  },
  "cells": [
    {
      "cell_type": "code",
      "execution_count": 9,
      "metadata": {
        "colab": {
          "base_uri": "https://localhost:8080/"
        },
        "id": "3JnFFZX-0MRD",
        "outputId": "b7d1fa7b-06c7-4f6f-cf74-9cec5e46c1fc"
      },
      "outputs": [
        {
          "output_type": "execute_result",
          "data": {
            "text/plain": [
              "2"
            ]
          },
          "metadata": {},
          "execution_count": 9
        }
      ],
      "source": [
        " #124\n",
        "# Breadth-First Search is a recursive algorithm to search all the vertices of a graph or a tree.\n",
        "# arr Deque, also known as a Double-ended queue, has the attribute of inserting and deleting data elements from either end. \n",
        "# The deque module is a segment of the library known as collections.\n",
        "\n",
        "import collections\n",
        "\n",
        "def bfs(arr, i, j, k, count):\n",
        "    directions = ((0,1),(1,0),(0,-1),(-1,0))\n",
        "    queue = collections.deque([(i,j,k)])\n",
        "    show = set()\n",
        "    \n",
        "    while len(queue) != 0:\n",
        "        for _ in range(len(queue)):\n",
        "            i, j, k = queue.popleft()\n",
        "            \n",
        "            if (i,j) not in show:\n",
        "                show.add((i,j))\n",
        "                count[i][j] += 1\n",
        "            \n",
        "            for dir in directions:\n",
        "                new_i, new_j, new_k = i + dir[0], j + dir[1], k-1\n",
        "                \n",
        "                if 0 <= new_i < len(arr) and 0 <= new_j < len(arr[0]) and new_k >= 0 and (new_i, new_j) not in show:\n",
        "                    queue.append((new_i,new_j,k-1))\n",
        "\n",
        "def solution(K, arr):\n",
        "\n",
        "    row, col = len(arr), len(arr[0])\n",
        "    count = [[0 for _ in range(col)] for _ in range(row)]\n",
        "    house_count = 0\n",
        "    house_coordinates = set()\n",
        "    result = 0\n",
        "    \n",
        "    for i in range(row):\n",
        "        for j in range(col):\n",
        "            if arr[i][j] == 1:\n",
        "                bfs(arr, i, j, K, count)\n",
        "                house_count += 1\n",
        "                house_coordinates.add((i,j))\n",
        "    \n",
        "    for i in range(row):\n",
        "        for j in range(col):\n",
        "            if count[i][j] == house_count and (i,j) not in house_coordinates:\n",
        "                    result =+= 1\n",
        "    \n",
        "    return result\n",
        "\n",
        "# driver code:\n",
        "k = 1\n",
        "arr = [[1,0,0],\n",
        "       [0,1,0],\n",
        "       [0,0,0]]\n",
        "solution(k,arr)"
      ]
    },
    {
      "cell_type": "code",
      "source": [],
      "metadata": {
        "id": "vdX7rfqB7Iiw"
      },
      "execution_count": null,
      "outputs": []
    }
  ]
}