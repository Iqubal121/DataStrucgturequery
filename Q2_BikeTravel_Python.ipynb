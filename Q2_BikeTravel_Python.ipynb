{
  "nbformat": 4,
  "nbformat_minor": 0,
  "metadata": {
    "colab": {
      "provenance": []
    },
    "kernelspec": {
      "name": "python3",
      "display_name": "Python 3"
    },
    "language_info": {
      "name": "python"
    }
  },
  "cells": [
    {
      "cell_type": "code",
      "execution_count": 4,
      "metadata": {
        "colab": {
          "base_uri": "https://localhost:8080/"
        },
        "id": "TSbPPrRSft-E",
        "outputId": "a77ed084-923c-4ba2-e3d6-ab0c80550072"
      },
      "outputs": [
        {
          "output_type": "stream",
          "name": "stdout",
          "text": [
            "4\n",
            "5\n",
            "3\n",
            "2\n",
            "4\n",
            "4\n",
            "3\n",
            "5\n",
            "2\n",
            "1\n",
            "The remaining fuel is:  3\n"
          ]
        },
        {
          "output_type": "execute_result",
          "data": {
            "text/plain": [
              "0"
            ]
          },
          "metadata": {},
          "execution_count": 4
        }
      ],
      "source": [
        "def bikeTravel(fuel, dist):\n",
        "  if (sum(fuel) < sum(dist)):\n",
        "    return -1\n",
        "  \n",
        "  n = len(fuel)\n",
        "  totalFuel = 0\n",
        "  start = 0\n",
        "\n",
        "  for i in range(n):\n",
        "    if totalFuel < 0:\n",
        "      start = i\n",
        "      totalFuel = 0\n",
        "    totalFuel += (fuel[i] - dist[i])\n",
        "  print(\"The remaining fuel is: \", totalFuel)\n",
        "  return start # get to know from where the boy will start his journey\n",
        "\n",
        "# driver code:\n",
        "fuel = []\n",
        "\n",
        "n = int(input())\n",
        "\n",
        "for i in range(n):\n",
        "  ele = int(input())\n",
        "  fuel.append(ele)\n",
        "\n",
        "dist = []\n",
        "\n",
        "m = int(input())\n",
        "\n",
        "for i in range(m):\n",
        "  ele = int(input())\n",
        "  dist.append(ele)\n",
        "bikeTravel(fuel,dist)\n"
      ]
    },
    {
      "cell_type": "code",
      "source": [],
      "metadata": {
        "id": "E_UOdJMSjUnb"
      },
      "execution_count": null,
      "outputs": []
    }
  ]
}