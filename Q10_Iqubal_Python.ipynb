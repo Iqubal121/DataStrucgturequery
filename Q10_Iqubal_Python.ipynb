{
  "nbformat": 4,
  "nbformat_minor": 0,
  "metadata": {
    "colab": {
      "provenance": []
    },
    "kernelspec": {
      "name": "python3",
      "display_name": "Python 3"
    },
    "language_info": {
      "name": "python"
    }
  },
  "cells": [
    {
      "cell_type": "code",
      "execution_count": null,
      "metadata": {
        "id": "CbdVswX1wfho",
        "colab": {
          "base_uri": "https://localhost:8080/"
        },
        "outputId": "87e54223-2dda-4622-b958-9c8fa8aabec7"
      },
      "outputs": [
        {
          "output_type": "stream",
          "name": "stdout",
          "text": [
            "3\n",
            "imran\n",
            "34\n",
            "ian\n",
            "56\n",
            "umar\n",
            "23\n",
            "imran\n"
          ]
        }
      ],
      "source": [
        "# Create the list;\n",
        "result = [] \n",
        "scoreList = [] \n",
        "\n",
        "for _ in range(int(input())): # _ as a variable for the iteration.\n",
        "  pname = input()\n",
        "  score = float(input())\n",
        "  result += [[pname, score]]\n",
        "  scoreList +=[score]\n",
        "\n",
        "# sort the array and find the lowest score.\n",
        "low = sorted(list(set(scoreList)))[1]\n",
        "\n",
        "for i,j in sorted(result):\n",
        "  if j == low:\n",
        "    print(i)\n",
        "\n",
        "\n",
        "\n"
      ]
    },
    {
      "cell_type": "code",
      "source": [],
      "metadata": {
        "id": "F8Genyz91gOs"
      },
      "execution_count": null,
      "outputs": []
    }
  ]
}