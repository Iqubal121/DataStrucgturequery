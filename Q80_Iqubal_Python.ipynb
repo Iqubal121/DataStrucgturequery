{
  "nbformat": 4,
  "nbformat_minor": 0,
  "metadata": {
    "colab": {
      "provenance": []
    },
    "kernelspec": {
      "name": "python3",
      "display_name": "Python 3"
    },
    "language_info": {
      "name": "python"
    }
  },
  "cells": [
    {
      "cell_type": "code",
      "execution_count": 4,
      "metadata": {
        "colab": {
          "base_uri": "https://localhost:8080/",
          "height": 70
        },
        "id": "k2Ssxys6Lckb",
        "outputId": "e36052ba-2811-4c49-bde7-33a109e5bcd1"
      },
      "outputs": [
        {
          "name": "stdout",
          "output_type": "stream",
          "text": [
            "abcbbca\n",
            "2\n"
          ]
        },
        {
          "output_type": "execute_result",
          "data": {
            "text/plain": [
              "'aba'"
            ],
            "application/vnd.google.colaboratory.intrinsic+json": {
              "type": "string"
            }
          },
          "metadata": {},
          "execution_count": 4
        }
      ],
      "source": [
        "def solution(string,D):\n",
        "  stack = [] \n",
        "     \n",
        "  for char in string:        #stack[-1][0] means first element of the last item in s                    \n",
        "      if stack and stack[-1][0] == char: # check if stack is not empty\n",
        "          stack[-1][1]+=1\n",
        "          if stack[-1][1] == D:\n",
        "              stack.pop()\n",
        "      else:\n",
        "          stack.append([char, 1])            \n",
        "  return ''.join(char * count for char, count in stack) \n",
        "\n",
        "# Driver code:\n",
        "string = input()\n",
        "D = int(input())\n",
        "\n",
        "solution(string,D)\n"
      ]
    },
    {
      "cell_type": "code",
      "source": [],
      "metadata": {
        "id": "lY1HGiWzOdV9"
      },
      "execution_count": 2,
      "outputs": []
    }
  ]
}