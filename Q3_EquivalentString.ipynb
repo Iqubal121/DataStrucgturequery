{
  "nbformat": 4,
  "nbformat_minor": 0,
  "metadata": {
    "colab": {
      "provenance": []
    },
    "kernelspec": {
      "name": "python3",
      "display_name": "Python 3"
    },
    "language_info": {
      "name": "python"
    }
  },
  "cells": [
    {
      "cell_type": "code",
      "execution_count": 6,
      "metadata": {
        "id": "S7XGQeg8_eFH"
      },
      "outputs": [],
      "source": [
        "def checkEquivalent(a, b):\n",
        "    # 97 is the ascii value of 'a'\n",
        "    n = len(a)\n",
        "    result = []\n",
        "    for i in range(n):\n",
        "        freq1 = [0] * 26  # there are 26 letters in the alphabet.\n",
        "        freq2 = [0] * 26  # there are 26 letters in the alphabet.\n",
        "\n",
        "        # The ord() function returns the number representing the unicode code of a specified character.\n",
        "        \n",
        "        for j in range(len(a[i])):\n",
        "            freq1[ord(a[i][j]) - 97] = freq1[ord(a[i][j]) - 97] + 1\n",
        "        for j in range(len(b[i])):\n",
        "            freq2[ord(b[i][j]) - 97] = freq2[ord(b[i][j]) - 97] + 1\n",
        "        fine = True\n",
        "        \n",
        "        for j in range(26):\n",
        "            fine = fine & (abs(freq1[j] - freq2[j]) <= 3)\n",
        "        if(fine):\n",
        "            result.append(\"equivalent\")\n",
        "            \n",
        "        else:\n",
        "            result.append(\"not equivalent\")\n",
        "    return  result\n"
      ]
    },
    {
      "cell_type": "code",
      "source": [
        "A = [\"ssbbss\",\"asa\"]\n",
        "B = [\"bbbsss\",\"aaabsssss\"]\n",
        "checkEquivalent(A,B)"
      ],
      "metadata": {
        "colab": {
          "base_uri": "https://localhost:8080/"
        },
        "id": "ERH3XwFGEo_1",
        "outputId": "718899d1-4a60-4e43-fc14-add706237034"
      },
      "execution_count": 7,
      "outputs": [
        {
          "output_type": "execute_result",
          "data": {
            "text/plain": [
              "['equivalent', 'not equivalent']"
            ]
          },
          "metadata": {},
          "execution_count": 7
        }
      ]
    },
    {
      "cell_type": "code",
      "source": [],
      "metadata": {
        "id": "kukqB-LmEzRI"
      },
      "execution_count": null,
      "outputs": []
    }
  ]
}