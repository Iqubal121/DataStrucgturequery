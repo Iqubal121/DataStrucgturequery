{
  "nbformat": 4,
  "nbformat_minor": 0,
  "metadata": {
    "colab": {
      "provenance": []
    },
    "kernelspec": {
      "name": "python3",
      "display_name": "Python 3"
    },
    "language_info": {
      "name": "python"
    }
  },
  "cells": [
    {
      "cell_type": "code",
      "execution_count": 7,
      "metadata": {
        "colab": {
          "base_uri": "https://localhost:8080/"
        },
        "id": "Z1fsAHFwQIhJ",
        "outputId": "92d95885-93b1-4a46-bfd4-f0d0aebb888d"
      },
      "outputs": [
        {
          "output_type": "stream",
          "name": "stdout",
          "text": [
            "Number of operatios: 10\n",
            "insert 0 78\n",
            "append 3\n",
            "print\n",
            "[78, 3]\n",
            "append 7\n",
            "remove 3\n",
            "print\n",
            "[78, 7]\n",
            "pop\n",
            "append 67\n",
            "sort\n",
            "print\n",
            "[67, 78]\n"
          ]
        }
      ],
      "source": [
        "# Number of operations.\n",
        "num = int(input(\"Number of operatios: \"))\n",
        "\n",
        "li = [] #empty list for getting the user input value.\n",
        "\n",
        "for i in range(0,num):\n",
        "  ops = input().split()\n",
        "\n",
        "  # check the condition for the operations.\n",
        "  if ops[0] == \"insert\":  # insert:[ops[o]] 1:position ops[2]: value\n",
        "    li.insert(int(ops[1]),int(ops[2]))\n",
        "\n",
        "  elif ops[0] == \"print\": \n",
        "    print(li)\n",
        "  elif ops[0] == \"append\":\n",
        "    li.append(int(ops[1]))\n",
        "  elif ops[0] == \"remove\":\n",
        "    li.remove(int(ops[1]))\n",
        "  elif ops[0] == \"sort\":\n",
        "    li.sort()\n",
        "  elif ops[0] == \"pop\":  \n",
        "    li.pop()\n",
        "  elif ops[0] == \"reverse\":\n",
        "    li.reverse()\n",
        "  else:\n",
        "    print(li)\n"
      ]
    },
    {
      "cell_type": "code",
      "source": [],
      "metadata": {
        "id": "9mS-ccx5UBR5"
      },
      "execution_count": null,
      "outputs": []
    }
  ]
}