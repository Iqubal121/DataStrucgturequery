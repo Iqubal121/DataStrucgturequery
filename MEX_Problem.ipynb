{
  "nbformat": 4,
  "nbformat_minor": 0,
  "metadata": {
    "colab": {
      "provenance": []
    },
    "kernelspec": {
      "name": "python3",
      "display_name": "Python 3"
    },
    "language_info": {
      "name": "python"
    }
  },
  "cells": [
    {
      "cell_type": "code",
      "execution_count": 10,
      "metadata": {
        "id": "um9tG-bNPZD4",
        "colab": {
          "base_uri": "https://localhost:8080/"
        },
        "outputId": "0580047a-aa86-4a3c-f554-c282888491df"
      },
      "outputs": [
        {
          "output_type": "stream",
          "name": "stdout",
          "text": [
            "5\n",
            "1 2 3 2 1\n",
            "[0, 1, 2, 3, 3]\n"
          ]
        },
        {
          "output_type": "execute_result",
          "data": {
            "text/plain": [
              "4"
            ]
          },
          "metadata": {},
          "execution_count": 10
        }
      ],
      "source": [
        "# Greedy Algorith:\n",
        "def findMex(arr):\n",
        "  arr.sort()\n",
        "  ans = 0 # for getting the max pssible mex\n",
        "\n",
        "  li = []\n",
        "\n",
        "  for i in arr:\n",
        "    li.append(ans)\n",
        "    ans += (ans <= i)\n",
        "  print(li)\n",
        "  return ans\n",
        "\n",
        "# Driver code:\n",
        "n = int(input())\n",
        "arr = list(map(int,input().strip().split()))[:n]\n",
        "# Call function:\n",
        "findMex(arr)"
      ]
    },
    {
      "cell_type": "code",
      "source": [
        "6ans = 0\n",
        "ans += (ans <= 2)\n",
        "print(ans)"
      ],
      "metadata": {
        "colab": {
          "base_uri": "https://localhost:8080/"
        },
        "id": "Rm_KkH-pXmPW",
        "outputId": "bbe1fd1d-cff8-4efe-9723-dabd8f982a67"
      },
      "execution_count": 8,
      "outputs": [
        {
          "output_type": "stream",
          "name": "stdout",
          "text": [
            "1\n"
          ]
        }
      ]
    },
    {
      "cell_type": "code",
      "source": [],
      "metadata": {
        "id": "HEBnNFKDYbBK"
      },
      "execution_count": null,
      "outputs": []
    }
  ]
}