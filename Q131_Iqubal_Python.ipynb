{
  "nbformat": 4,
  "nbformat_minor": 0,
  "metadata": {
    "colab": {
      "provenance": []
    },
    "kernelspec": {
      "name": "python3",
      "display_name": "Python 3"
    },
    "language_info": {
      "name": "python"
    }
  },
  "cells": [
    {
      "cell_type": "code",
      "execution_count": null,
      "metadata": {
        "colab": {
          "base_uri": "https://localhost:8080/"
        },
        "id": "e3_icmROTFfG",
        "outputId": "52645a8e-dee6-4ede-d4c0-19c9b766840b"
      },
      "outputs": [
        {
          "output_type": "stream",
          "name": "stdout",
          "text": [
            "8\n",
            "two\n",
            "The addition is:  10\n",
            "The subtraction is:  6\n",
            "The multplication is:  16\n",
            "The division is:  4.0\n"
          ]
        }
      ],
      "source": [
        "def sol(num, words):\n",
        "  st_dict = {\"one\":1, \"two\":2 , \"three\": 3, \"four\":4, \"five\": 5, \"six\": 6 , \"seven\": 7, \"eight\": 8, \"nine\": 9, \"ten\": 10 }\n",
        "\n",
        "  # The isinstance() function checks if the object (first argument) is an instance or subclass of classinfo class (second argument).\n",
        "  if isinstance(num, int) and isinstance(words,str):\n",
        "    if words in st_dict.keys():\n",
        "      if(num > 1 and num < 100):\n",
        "        print(\"The addition is: \",num + st_dict[words])\n",
        "        print(\"The subtraction is: \",num - st_dict[words])\n",
        "        print(\"The multplication is: \",num * st_dict[words])\n",
        "        print(\"The division is: \",num / st_dict[words])\n",
        "\n",
        "# driver code:\n",
        "num = int(input())\n",
        "words = input()\n",
        "\n",
        "# call the function.\n",
        "sol(num, words)\n"
      ]
    },
    {
      "cell_type": "code",
      "source": [],
      "metadata": {
        "colab": {
          "base_uri": "https://localhost:8080/"
        },
        "id": "b9E8E3_1XPzJ",
        "outputId": "d2bf5195-eced-4b51-8b77-b07463d5f959"
      },
      "execution_count": null,
      "outputs": [
        {
          "output_type": "stream",
          "name": "stdout",
          "text": [
            "The addition is:  13\n"
          ]
        }
      ]
    },
    {
      "cell_type": "code",
      "source": [],
      "metadata": {
        "id": "2qI5BVqOXRSf"
      },
      "execution_count": null,
      "outputs": []
    }
  ]
}