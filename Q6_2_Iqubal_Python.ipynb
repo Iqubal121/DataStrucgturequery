{
  "nbformat": 4,
  "nbformat_minor": 0,
  "metadata": {
    "colab": {
      "provenance": []
    },
    "kernelspec": {
      "name": "python3",
      "display_name": "Python 3"
    },
    "language_info": {
      "name": "python"
    }
  },
  "cells": [
    {
      "cell_type": "code",
      "execution_count": 2,
      "metadata": {
        "id": "klS0UdCfN8sQ",
        "colab": {
          "base_uri": "https://localhost:8080/"
        },
        "outputId": "9ccc49e6-4f8f-464a-88e9-fbd3348b4cb0"
      },
      "outputs": [
        {
          "output_type": "stream",
          "name": "stdout",
          "text": [
            "{'Iqbal': [154, 2], 'Sara': [100, 2], 'Jatin': [35, 1], 'Luna': [65, 1]}\n",
            "77\n"
          ]
        }
      ],
      "source": [
        "def maxAvg(prList):\n",
        "\n",
        "  # for stroing the highest value of the average.\n",
        "  maxValue = 0\n",
        "\n",
        "  # if list is empty\n",
        "  if not prList:\n",
        "    return maxValue\n",
        "\n",
        "  # declare a dictionary for storing the name and their respective scpre\n",
        "  perDict = {}\n",
        "\n",
        "  for name, score in prList:\n",
        "    if name not in perDict:\n",
        "      perDict[name] = [0,0]\n",
        "    perDict[name][0] += int(score)\n",
        "    perDict[name][1] += 1\n",
        "\n",
        "  for val in perDict.values():\n",
        "    maxValue = max(maxValue,val[0]//val[1])\n",
        "  \n",
        "  print(perDict)\n",
        "  return maxValue\n",
        "\n",
        "\n",
        "# driver code:\n",
        "prList = [(\"Iqbal\",\"87\"), (\"Sara\", \"45\"),(\"Iqbal\", \"67\"), (\"Jatin\",\"35\"), (\"Sara\", \"55\"), (\"Luna\", \"65\")]\n",
        "result = maxAvg(prList)\n",
        "print(result)\n",
        "\n",
        "    \n"
      ]
    },
    {
      "cell_type": "code",
      "source": [],
      "metadata": {
        "id": "ItqoXtPvTEu-"
      },
      "execution_count": null,
      "outputs": []
    },
    {
      "cell_type": "code",
      "source": [],
      "metadata": {
        "colab": {
          "base_uri": "https://localhost:8080/"
        },
        "id": "hxwBBr1kPimq",
        "outputId": "b874b253-9966-4462-adaa-bcf3fab0f802"
      },
      "execution_count": null,
      "outputs": [
        {
          "output_type": "execute_result",
          "data": {
            "text/plain": [
              "33"
            ]
          },
          "metadata": {},
          "execution_count": 6
        }
      ]
    },
    {
      "cell_type": "code",
      "source": [],
      "metadata": {
        "colab": {
          "base_uri": "https://localhost:8080/"
        },
        "id": "vLVSmv_GPlJy",
        "outputId": "57b6d65e-e915-4710-880a-a81619d3e1a1"
      },
      "execution_count": null,
      "outputs": [
        {
          "output_type": "execute_result",
          "data": {
            "text/plain": [
              "69"
            ]
          },
          "metadata": {},
          "execution_count": 7
        }
      ]
    },
    {
      "cell_type": "code",
      "source": [],
      "metadata": {
        "id": "zTiIst7MQMtA"
      },
      "execution_count": null,
      "outputs": []
    }
  ]
}