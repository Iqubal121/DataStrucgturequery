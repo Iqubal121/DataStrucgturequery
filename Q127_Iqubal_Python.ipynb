{
  "nbformat": 4,
  "nbformat_minor": 0,
  "metadata": {
    "colab": {
      "provenance": []
    },
    "kernelspec": {
      "name": "python3",
      "display_name": "Python 3"
    },
    "language_info": {
      "name": "python"
    }
  },
  "cells": [
    {
      "cell_type": "code",
      "execution_count": 5,
      "metadata": {
        "colab": {
          "base_uri": "https://localhost:8080/",
          "height": 70
        },
        "id": "N8cVjiEeI90o",
        "outputId": "b7422457-1533-4500-966e-ac785553081f"
      },
      "outputs": [
        {
          "name": "stdout",
          "output_type": "stream",
          "text": [
            "abh\n",
            "2\n"
          ]
        },
        {
          "output_type": "execute_result",
          "data": {
            "text/plain": [
              "'cdj'"
            ],
            "application/vnd.google.colaboratory.intrinsic+json": {
              "type": "string"
            }
          },
          "metadata": {},
          "execution_count": 5
        }
      ],
      "source": [
        "def decode(message,key):\n",
        "  result = \"\" # empty string \n",
        "\n",
        "  # read each and every character of the message.\n",
        "  for i in range(len(message)):\n",
        "    ch = message[i]\n",
        "\n",
        "    # decode the upper case character.\n",
        "    if(ch.isupper()):\n",
        "      result += chr((ord(ch) + key-65) % 26 + 65)\n",
        "    else:\n",
        "      result += chr((ord(ch) + key-97) % 26 + 97)\n",
        "  return result\n",
        "\n",
        "# driver code:\n",
        "mes = input()\n",
        "key = int(input())\n",
        "\n",
        "decode(mes,key)\n"
      ]
    },
    {
      "cell_type": "code",
      "source": [
        "ord(\"A\")"
      ],
      "metadata": {
        "colab": {
          "base_uri": "https://localhost:8080/"
        },
        "id": "wep9-zWbMIx2",
        "outputId": "4739298b-8400-4cf7-884f-166559e8b3e9"
      },
      "execution_count": 9,
      "outputs": [
        {
          "output_type": "execute_result",
          "data": {
            "text/plain": [
              "65"
            ]
          },
          "metadata": {},
          "execution_count": 9
        }
      ]
    },
    {
      "cell_type": "code",
      "source": [],
      "metadata": {
        "id": "dByhEvLpNIhc"
      },
      "execution_count": null,
      "outputs": []
    }
  ]
}