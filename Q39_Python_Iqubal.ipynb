{
  "nbformat": 4,
  "nbformat_minor": 0,
  "metadata": {
    "colab": {
      "provenance": [],
      "collapsed_sections": []
    },
    "kernelspec": {
      "name": "python3",
      "display_name": "Python 3"
    },
    "language_info": {
      "name": "python"
    }
  },
  "cells": [
    {
      "cell_type": "code",
      "execution_count": 4,
      "metadata": {
        "colab": {
          "base_uri": "https://localhost:8080/"
        },
        "id": "oQX09ef5hhvn",
        "outputId": "1d58205d-c218-4f5a-afd2-e1635cb15c3d"
      },
      "outputs": [
        {
          "name": "stdout",
          "output_type": "stream",
          "text": [
            "8\n",
            "5 6 8 7 5 3 9 2\n",
            "3\n",
            "2\n"
          ]
        },
        {
          "output_type": "execute_result",
          "data": {
            "text/plain": [
              "33"
            ]
          },
          "metadata": {},
          "execution_count": 4
        }
      ],
      "source": [
        "def totalStudent(arr,S,I):\n",
        "  prefix = [0]\n",
        "  max_s = max_i = 0\n",
        "  sum = -1\n",
        "  for x in arr:\n",
        "      prefix.append(prefix[-1] + x)\n",
        "  \n",
        "  for x in range(S, len(prefix) - I):\n",
        "      max_s = max(max_s, prefix[x] - prefix[x - S])\n",
        "      sum = max(sum, max_s + prefix[x + I] - prefix[x])\n",
        "      \n",
        "\n",
        "  for x in range(I, len(prefix) - S):\n",
        "      max_i = max(max_i, prefix[x] - prefix[x - I])\n",
        "      sum = max(sum, max_i + prefix[x + S] - prefix[x])\n",
        "  \n",
        "  \n",
        "  #print(prefix)\n",
        "  return sum\n",
        "\n",
        "# Driver code:\n",
        "n = int(input())\n",
        "arr = list(map(int,input().strip().split()))[:n]\n",
        "s = int(input())\n",
        "i = int(input())\n",
        "\n",
        "# Call the function:\n",
        "totalStudent(arr,s,i)\n"
      ]
    },
    {
      "cell_type": "code",
      "source": [],
      "metadata": {
        "id": "FW5dE9Ubp9Pw"
      },
      "execution_count": null,
      "outputs": []
    }
  ]
}