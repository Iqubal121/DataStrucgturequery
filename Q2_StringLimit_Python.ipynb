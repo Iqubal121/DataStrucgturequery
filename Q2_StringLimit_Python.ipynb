{
  "nbformat": 4,
  "nbformat_minor": 0,
  "metadata": {
    "colab": {
      "provenance": []
    },
    "kernelspec": {
      "name": "python3",
      "display_name": "Python 3"
    },
    "language_info": {
      "name": "python"
    }
  },
  "cells": [
    {
      "cell_type": "code",
      "execution_count": 2,
      "metadata": {
        "colab": {
          "base_uri": "https://localhost:8080/"
        },
        "id": "rcRG8GsRFwJO",
        "outputId": "b673a6d1-3a5e-4ed1-c63a-892616e91470"
      },
      "outputs": [
        {
          "output_type": "stream",
          "name": "stdout",
          "text": [
            "bbbbddddddssssss\n",
            "3\n",
            "sssdsssddd\n"
          ]
        }
      ],
      "source": [
        "def largestString(string, k):\n",
        "    a = ord('a')\n",
        "    char_count = [0] * 26  # keep count of occurances of each character\n",
        "    s = \"\"\n",
        "    for char in string:\n",
        "        char_count[ord(char) - a] += 1\n",
        "\n",
        "    i = 25\n",
        "    count = 0  # to count number of reps of current element till k\n",
        "    alt = i - 1  # gives alternate element to add if count has reached limit k\n",
        "    while i >= 0:\n",
        "        if char_count[i] == 0:  # check if any more of the element left\n",
        "            count = 0\n",
        "            i -= 1  # go to next element\n",
        "            alt -= 1  # go to next alternate element\n",
        "        while char_count[i] > 0 and count < k:  # add current element till limit\n",
        "            s += chr(a + i)\n",
        "            count += 1\n",
        "            char_count[i] -= 1\n",
        "        if char_count[i] > 0:  # if there's still occurrences left,\n",
        "            while alt >= 0 and char_count[alt] == 0:  # find the alternate element\n",
        "                alt -= 1\n",
        "            if alt < 0:\n",
        "                return s\n",
        "            s += chr(a + alt)  # add alternate element to string, and reset counter\n",
        "            char_count[alt] -= 1\n",
        "            count = 0\n",
        "    return s\n",
        "\n",
        "# Driver code:\n",
        "string = input()\n",
        "num = int(input())\n",
        "\n",
        "print(largestString(string,num))"
      ]
    },
    {
      "cell_type": "code",
      "source": [],
      "metadata": {
        "id": "j32YQ0d2K2dL"
      },
      "execution_count": null,
      "outputs": []
    }
  ]
}