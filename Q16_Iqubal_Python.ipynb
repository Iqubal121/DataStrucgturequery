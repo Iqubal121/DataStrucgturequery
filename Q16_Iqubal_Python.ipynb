{
  "nbformat": 4,
  "nbformat_minor": 0,
  "metadata": {
    "colab": {
      "provenance": []
    },
    "kernelspec": {
      "name": "python3",
      "display_name": "Python 3"
    },
    "language_info": {
      "name": "python"
    }
  },
  "cells": [
    {
      "cell_type": "code",
      "execution_count": 1,
      "metadata": {
        "colab": {
          "base_uri": "https://localhost:8080/"
        },
        "id": "bpi4zPXp7g_f",
        "outputId": "55a5b9b5-9a1f-4dab-c77c-b2b6a0809313"
      },
      "outputs": [
        {
          "output_type": "stream",
          "name": "stdout",
          "text": [
            "Enter the string for perform operation: Imran is good tutor\n",
            "Imran-is-good-tutor\n"
          ]
        }
      ],
      "source": [
        "def split_join(string):\n",
        "  string = string.split(\" \") # split the string with the white space.\n",
        "  string = \"-\".join(string)\n",
        "  return string\n",
        "\n",
        "string = input(\"Enter the string for perform operation: \")\n",
        "result = split_join(string)\n",
        "print(result)\n"
      ]
    },
    {
      "cell_type": "code",
      "source": [],
      "metadata": {
        "id": "pwMF_xdq-gZh"
      },
      "execution_count": null,
      "outputs": []
    }
  ]
}