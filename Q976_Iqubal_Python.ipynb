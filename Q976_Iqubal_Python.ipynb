{
  "nbformat": 4,
  "nbformat_minor": 0,
  "metadata": {
    "colab": {
      "provenance": []
    },
    "kernelspec": {
      "name": "python3",
      "display_name": "Python 3"
    },
    "language_info": {
      "name": "python"
    }
  },
  "cells": [
    {
      "cell_type": "code",
      "execution_count": 4,
      "metadata": {
        "colab": {
          "base_uri": "https://localhost:8080/"
        },
        "id": "HrNGFMEPsjYS",
        "outputId": "46a2cf4a-dce2-4b94-9b0f-208771521dd2"
      },
      "outputs": [
        {
          "output_type": "execute_result",
          "data": {
            "text/plain": [
              "7"
            ]
          },
          "metadata": {},
          "execution_count": 4
        }
      ],
      "source": [
        "def fun(arr,i,j,k):\n",
        "  if k==1:\n",
        "    return\n",
        "  if i-1 >= 0:\n",
        "    if arr[i-1][j]==0 or arr[i-1][j] >=2 and arr[i-1][j] <= k-1:\n",
        "      arr[i-1][j]=k\n",
        "      fun(arr,i-1,j,k-1)\n",
        "\n",
        "  if i+1 < len(arr):\n",
        "    if arr[i+1][j] == 0  or arr[i+1][j] >=2 and arr[i+1][j] <= k-1:\n",
        "      arr[i+1][j]=k\n",
        "      fun(arr,i+1,j,k-1)\n",
        "\n",
        "  if j-1 >= 0:\n",
        "    if arr[i][j-1]== 0 or arr[i][j+1] >= 2 and arr[i][j-1] <= k-1:\n",
        "      arr[i][j-1]=k\n",
        "      fun(arr,i,j-1,k-1)\n",
        "\n",
        "  if j+1 < len(arr[0]):\n",
        "    if arr[i][j+1]== 0 or arr[i][j-1] >=2  and arr[i][j+1] <= k-1:\n",
        "      arr[i][j+1]=k\n",
        "      fun(arr,i,j+1,k-1)\n",
        "\n",
        "def solution(arr,K):\n",
        "  row = len(arr)\n",
        "  col = len(arr[0])\n",
        "  K += 1\n",
        "  for i in range(row):\n",
        "    for j in range(col):\n",
        "      if(arr[i][j]==1):\n",
        "        fun(arr,i,j,K)\n",
        "  \n",
        "  res = 0\n",
        "  for i in range(row):\n",
        "    for j in range(col):\n",
        "      if(arr[i][j]==0):\n",
        "        res += 1\n",
        "  return res\n",
        "\n",
        "arr = [[0,0,0,0],\n",
        "       [0,0,1,0],\n",
        "       [0,0,0,0]]\n",
        "K = 1\n",
        "solution(arr,K)"
      ]
    },
    {
      "cell_type": "code",
      "source": [],
      "metadata": {
        "colab": {
          "base_uri": "https://localhost:8080/"
        },
        "id": "JRZ3Deg7yOrP",
        "outputId": "a153d0e0-e9e6-472d-cc64-51ca6f4ca573"
      },
      "execution_count": 2,
      "outputs": [
        {
          "output_type": "execute_result",
          "data": {
            "text/plain": [
              "8"
            ]
          },
          "metadata": {},
          "execution_count": 2
        }
      ]
    },
    {
      "cell_type": "code",
      "source": [],
      "metadata": {
        "id": "b4IpORjDzJFc"
      },
      "execution_count": null,
      "outputs": []
    }
  ]
}