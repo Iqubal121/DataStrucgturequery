{
  "nbformat": 4,
  "nbformat_minor": 0,
  "metadata": {
    "colab": {
      "provenance": []
    },
    "kernelspec": {
      "name": "python3",
      "display_name": "Python 3"
    },
    "language_info": {
      "name": "python"
    }
  },
  "cells": [
    {
      "cell_type": "code",
      "execution_count": 6,
      "metadata": {
        "colab": {
          "base_uri": "https://localhost:8080/",
          "height": 36
        },
        "id": "3naunYc6N_5m",
        "outputId": "6cbf8279-7205-4415-9c60-5cac3173fb92"
      },
      "outputs": [
        {
          "output_type": "execute_result",
          "data": {
            "text/plain": [
              "'imakj@123.com'"
            ],
            "application/vnd.google.colaboratory.intrinsic+json": {
              "type": "string"
            }
          },
          "metadata": {},
          "execution_count": 6
        }
      ],
      "source": [
        "def display(cNum,cName,sender):\n",
        "  for i in range(len(cNum)):\n",
        "    if ((sender[0:3] ==  cNum[i][0:3]) and (sender[4:7] ==  cNum[i][4:7]) and (sender[8:11] == cNum[i][8:11])):\n",
        "      return cName[i]\n",
        "  return sender\n",
        "\n",
        "# Driver coder:\n",
        "cNum = [\"916-908-232\", \"imran@7.com\", \"897-090-787\"]\n",
        "cName = [\"Bobby\", \"Imran\", \"Michael\"] \n",
        "sender = \"imakj@123.com\"\n",
        "\n",
        "# call the function:\n",
        "display(cNum,cName,sender)"
      ]
    },
    {
      "cell_type": "code",
      "source": [],
      "metadata": {
        "id": "QXgUO4G1Ri8p"
      },
      "execution_count": null,
      "outputs": []
    }
  ]
}