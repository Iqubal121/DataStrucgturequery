{
  "nbformat": 4,
  "nbformat_minor": 0,
  "metadata": {
    "colab": {
      "provenance": []
    },
    "kernelspec": {
      "name": "python3",
      "display_name": "Python 3"
    },
    "language_info": {
      "name": "python"
    }
  },
  "cells": [
    {
      "cell_type": "code",
      "execution_count": 60,
      "metadata": {
        "id": "AY_BjiYaYQQs"
      },
      "outputs": [],
      "source": [
        "def inTime(code, keyboard):\n",
        "\n",
        "  # create the cell for each cordinate.\n",
        "  cell = [(i,j) for i in range(3) for j in range(3)]\n",
        "\n",
        "  # create a list for deinfe the distance.\n",
        "  distance = [[0]*9 for k in range(9)]\n",
        "\n",
        "  # convert the datatype as integer.\n",
        "  keyboard = list(map(int, keyboard))\n",
        "\n",
        "  for l in cell:\n",
        "    for m in cell:\n",
        "      num1 = keyboard[l[0]*3 + l[1]]\n",
        "      num2 = keyboard[m[0]*3 + m[1]]\n",
        "      distance[num1-1][num2-1] = max(abs(l[0]-m[0]),abs(l[1]-m[1]))\n",
        "      #print(distance)\n",
        "\n",
        "  # store the time into varaible result.\n",
        "  result = 0\n",
        "  for n in range(1,len(code)):\n",
        "    result += distance[int(code[n])-1][int(code[n-1])-1]\n",
        "  return result\n"
      ]
    },
    {
      "cell_type": "code",
      "source": [
        "inTime(\"12356\",\"987612354\")"
      ],
      "metadata": {
        "colab": {
          "base_uri": "https://localhost:8080/"
        },
        "id": "VCgVaANBZDag",
        "outputId": "0273cc20-d6b8-48b4-8348-d0b58e7cc0d2"
      },
      "execution_count": 61,
      "outputs": [
        {
          "output_type": "execute_result",
          "data": {
            "text/plain": [
              "5"
            ]
          },
          "metadata": {},
          "execution_count": 61
        }
      ]
    },
    {
      "cell_type": "code",
      "source": [
        "\n"
      ],
      "metadata": {
        "id": "zvReLS6iZFFa"
      },
      "execution_count": 55,
      "outputs": []
    },
    {
      "cell_type": "code",
      "source": [],
      "metadata": {
        "id": "F6yPGXJ5ZQ_W"
      },
      "execution_count": 55,
      "outputs": []
    },
    {
      "cell_type": "code",
      "source": [],
      "metadata": {
        "id": "hh-ui31jhcVS"
      },
      "execution_count": null,
      "outputs": []
    }
  ]
}